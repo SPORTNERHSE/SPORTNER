{
 "cells": [
  {
   "cell_type": "code",
   "execution_count": 1,
   "metadata": {},
   "outputs": [],
   "source": [
    "import pandas as pd\n",
    "from string import punctuation"
   ]
  },
  {
   "cell_type": "code",
   "execution_count": 2,
   "metadata": {},
   "outputs": [
    {
     "name": "stderr",
     "output_type": "stream",
     "text": [
      "b'Skipping line 37039: expected 12 fields, saw 15\\nSkipping line 45611: expected 12 fields, saw 15\\n'\n",
      "b'Skipping line 354339: expected 12 fields, saw 18\\nSkipping line 360804: expected 12 fields, saw 102\\nSkipping line 360819: expected 12 fields, saw 78\\nSkipping line 379126: expected 12 fields, saw 14\\nSkipping line 444446: expected 12 fields, saw 16\\nSkipping line 449079: expected 12 fields, saw 16\\nSkipping line 450250: expected 12 fields, saw 15\\n'\n",
      "b'Skipping line 481374: expected 12 fields, saw 18\\nSkipping line 510619: expected 12 fields, saw 20\\nSkipping line 512271: expected 12 fields, saw 14\\nSkipping line 514317: expected 12 fields, saw 15\\nSkipping line 519707: expected 12 fields, saw 40\\n'\n",
      "b'Skipping line 538495: expected 12 fields, saw 13\\n'\n",
      "b'Skipping line 765901: expected 12 fields, saw 56\\nSkipping line 773310: expected 12 fields, saw 43\\n'\n",
      "b'Skipping line 805899: expected 12 fields, saw 13\\nSkipping line 868492: expected 12 fields, saw 21\\nSkipping line 871801: expected 12 fields, saw 16\\n'\n",
      "b'Skipping line 903099: expected 12 fields, saw 13\\nSkipping line 903150: expected 12 fields, saw 13\\nSkipping line 903155: expected 12 fields, saw 13\\nSkipping line 926112: expected 12 fields, saw 13\\n'\n",
      "b'Skipping line 952511: expected 12 fields, saw 14\\nSkipping line 954085: expected 12 fields, saw 13\\nSkipping line 956504: expected 12 fields, saw 40\\nSkipping line 981135: expected 12 fields, saw 13\\nSkipping line 983460: expected 12 fields, saw 16\\nSkipping line 985000: expected 12 fields, saw 15\\nSkipping line 986754: expected 12 fields, saw 13\\nSkipping line 986828: expected 12 fields, saw 13\\n'\n",
      "b'Skipping line 1334533: expected 12 fields, saw 13\\nSkipping line 1337066: expected 12 fields, saw 16\\nSkipping line 1343528: expected 12 fields, saw 13\\nSkipping line 1351606: expected 12 fields, saw 14\\n'\n",
      "b'Skipping line 1376142: expected 12 fields, saw 16\\nSkipping line 1376408: expected 12 fields, saw 15\\nSkipping line 1389213: expected 12 fields, saw 59\\nSkipping line 1401635: expected 12 fields, saw 23\\n'\n",
      "b'Skipping line 1762082: expected 12 fields, saw 13\\nSkipping line 1763155: expected 12 fields, saw 16\\n'\n",
      "C:\\Users\\Sveta\\Anaconda3\\lib\\site-packages\\IPython\\core\\interactiveshell.py:3058: DtypeWarning: Columns (3) have mixed types. Specify dtype option on import or set low_memory=False.\n",
      "  interactivity=interactivity, compiler=compiler, result=result)\n"
     ]
    }
   ],
   "source": [
    "df = pd.read_csv('result.tar.gz', compression='gzip', sep='\\t', error_bad_lines=False)"
   ]
  },
  {
   "cell_type": "code",
   "execution_count": 3,
   "metadata": {},
   "outputs": [],
   "source": [
    "df = df.drop([\"url\", \"video_url\", \"source_name\", \"author_name\"], axis=1)"
   ]
  },
  {
   "cell_type": "code",
   "execution_count": 4,
   "metadata": {},
   "outputs": [],
   "source": [
    "df = df.dropna()\n",
    "df = df.drop_duplicates()"
   ]
  },
  {
   "cell_type": "code",
   "execution_count": 12,
   "metadata": {},
   "outputs": [
    {
     "data": {
      "text/html": [
       "<div>\n",
       "<style scoped>\n",
       "    .dataframe tbody tr th:only-of-type {\n",
       "        vertical-align: middle;\n",
       "    }\n",
       "\n",
       "    .dataframe tbody tr th {\n",
       "        vertical-align: top;\n",
       "    }\n",
       "\n",
       "    .dataframe thead th {\n",
       "        text-align: right;\n",
       "    }\n",
       "</style>\n",
       "<table border=\"1\" class=\"dataframe\">\n",
       "  <thead>\n",
       "    <tr style=\"text-align: right;\">\n",
       "      <th></th>\n",
       "      <th>result.tsv</th>\n",
       "      <th>odd</th>\n",
       "      <th>tip_name</th>\n",
       "      <th>bookmaker_name</th>\n",
       "      <th>match_date_time</th>\n",
       "      <th>league_name_in_russian</th>\n",
       "      <th>team_of_season_1_name_in_russian</th>\n",
       "      <th>team_of_season_2_name_in_russian</th>\n",
       "    </tr>\n",
       "  </thead>\n",
       "  <tbody>\n",
       "    <tr>\n",
       "      <th>12</th>\n",
       "      <td>Сборная Турции продолжает свою дорогу на Чемпи...</td>\n",
       "      <td>1.65</td>\n",
       "      <td>- 1,5</td>\n",
       "      <td>Олимп</td>\n",
       "      <td>2019-06-02 18:00:00</td>\n",
       "      <td>Международные товарищеские матчи</td>\n",
       "      <td>Турция</td>\n",
       "      <td>Узбекистан</td>\n",
       "    </tr>\n",
       "    <tr>\n",
       "      <th>13</th>\n",
       "      <td>Двадцать девятого числа состоится один весьма ...</td>\n",
       "      <td>1.52</td>\n",
       "      <td>– тотал меньше 2,5</td>\n",
       "      <td>Winline</td>\n",
       "      <td>2019-06-28 23:20:00</td>\n",
       "      <td>Кубок Америки</td>\n",
       "      <td>Колумбия</td>\n",
       "      <td>Чили</td>\n",
       "    </tr>\n",
       "    <tr>\n",
       "      <th>14</th>\n",
       "      <td>АЗ Алкмар В первом матче голландский клуб созд...</td>\n",
       "      <td>1.85</td>\n",
       "      <td>АЗ Алкмар забьет в обоих таймах</td>\n",
       "      <td>Лига Ставок</td>\n",
       "      <td>2019-08-15 18:30:00</td>\n",
       "      <td>Лига Европы УЕФА</td>\n",
       "      <td>АЗ Алкмаар</td>\n",
       "      <td>Мариуполь</td>\n",
       "    </tr>\n",
       "    <tr>\n",
       "      <th>15</th>\n",
       "      <td>«Сачхере» — «Абердин» И тот, и другой клуб оде...</td>\n",
       "      <td>1.45</td>\n",
       "      <td>Айнтрахт - 3 и более гола</td>\n",
       "      <td>Лига Ставок</td>\n",
       "      <td>2019-07-25 17:00:00</td>\n",
       "      <td>Лига Европы УЕФА</td>\n",
       "      <td>Флора</td>\n",
       "      <td>Айнтрахт Франкфурт</td>\n",
       "    </tr>\n",
       "    <tr>\n",
       "      <th>16</th>\n",
       "      <td>Я предполагаю ничью в этом матче с забитыми мя...</td>\n",
       "      <td>5</td>\n",
       "      <td>Арсенал забьет первым и не выиграет</td>\n",
       "      <td>1xСтавка</td>\n",
       "      <td>2019-05-09 19:00:00</td>\n",
       "      <td>Лига Европы УЕФА</td>\n",
       "      <td>Валенсия</td>\n",
       "      <td>Арсенал</td>\n",
       "    </tr>\n",
       "  </tbody>\n",
       "</table>\n",
       "</div>"
      ],
      "text/plain": [
       "                                           result.tsv   odd  \\\n",
       "12  Сборная Турции продолжает свою дорогу на Чемпи...  1.65   \n",
       "13  Двадцать девятого числа состоится один весьма ...  1.52   \n",
       "14  АЗ Алкмар В первом матче голландский клуб созд...  1.85   \n",
       "15  «Сачхере» — «Абердин» И тот, и другой клуб оде...  1.45   \n",
       "16  Я предполагаю ничью в этом матче с забитыми мя...     5   \n",
       "\n",
       "                               tip_name bookmaker_name      match_date_time  \\\n",
       "12                                - 1,5          Олимп  2019-06-02 18:00:00   \n",
       "13                   – тотал меньше 2,5        Winline  2019-06-28 23:20:00   \n",
       "14      АЗ Алкмар забьет в обоих таймах    Лига Ставок  2019-08-15 18:30:00   \n",
       "15            Айнтрахт - 3 и более гола    Лига Ставок  2019-07-25 17:00:00   \n",
       "16  Арсенал забьет первым и не выиграет       1xСтавка  2019-05-09 19:00:00   \n",
       "\n",
       "              league_name_in_russian team_of_season_1_name_in_russian  \\\n",
       "12  Международные товарищеские матчи                           Турция   \n",
       "13                     Кубок Америки                         Колумбия   \n",
       "14                  Лига Европы УЕФА                       АЗ Алкмаар   \n",
       "15                  Лига Европы УЕФА                            Флора   \n",
       "16                  Лига Европы УЕФА                         Валенсия   \n",
       "\n",
       "   team_of_season_2_name_in_russian  \n",
       "12                       Узбекистан  \n",
       "13                             Чили  \n",
       "14                        Мариуполь  \n",
       "15               Айнтрахт Франкфурт  \n",
       "16                          Арсенал  "
      ]
     },
     "execution_count": 12,
     "metadata": {},
     "output_type": "execute_result"
    }
   ],
   "source": [
    "df.head(5)"
   ]
  },
  {
   "cell_type": "code",
   "execution_count": 13,
   "metadata": {},
   "outputs": [
    {
     "data": {
      "text/plain": [
       "'Сборная Турции продолжает свою дорогу на Чемпионат Европы и перед очередными матчами отбора решила размяться в товарищеском матче. Узбекистан не преследует больших турнирных задач и просто сыграет два товарищеских матча за неделю. Турки стали самой слабой командой группы В2 Лиги наций, проиграв три игры из четырех. Тогда команда финишировала с тремя очками, семью пропущенными и четырьмя забитыми голами. В следующий раз Турция уже будет играть на один дивизион ниже, а пока старается выйти на Чемпионат Европы через отборочный этап. Там удалось добыть максимальное количество очков после двух матчей и команда делит первое место с Францией. Тем не менее, важные испытания только предстоят – уже на этой неделе команду ожидают встречи с Чемпионом Мира, а затем выезд в суровую Исландию. Хоть встреча с Францией и не предполагает ничего хорошего, турки наверняка постараются выжать максимум из этого матча. Поэтому с трудом верится, что с Узбекистаном выйдет играть безапелляционно основной состав и будет биться за каждый участок поля. В голове будут мысли о том, что нужно поберечь силы. Узбекистан – сильная по меркам Азии сборная, которая стабильно выходит в плей-офф континентального чемпионата. В этом году вновь удалось пробраться в 1/8 через второе место в группе, где с минимальным счетом выиграла сборная Австралии. Руководство ставит большие цели, к которым ведет команду Эктор Купер, тренировавший Египет на Чемпионате мира. К товарищеским матчам команда относится серьезно. Иногда она выбирает статусные сборные уровня сборной Уругвая, с которой провела свой предпоследний матч. Иногда тестирует себя на фоне конкурентов по Азии, как это было в Марте против Китая – тогда сборная Узбекистана одержала минимальную победу в гостях.  У меня четкое ощущение, что букмекеры переоценивают превосходство сборной Турции, а в частности – мотивацию команды на этот матч. Узбекистан очень хорошо организован и приучен к матчам высокого уровня. При этом Эктора Купера не сдерживает плотный календарь – напротив тренер предпочитает наигрывать костяк в товарищеских матчах и подбирать оптимальные сочетания. Будет большим сюрпризом, если турки сыграют в основном варианте и будут биться за победу. Поэтому я с подстраховкой возьму Ф2 (-1,5) за 1,65 в этой игре.'"
      ]
     },
     "execution_count": 13,
     "metadata": {},
     "output_type": "execute_result"
    }
   ],
   "source": [
    "df['result.tsv'][12]"
   ]
  },
  {
   "cell_type": "code",
   "execution_count": 5,
   "metadata": {},
   "outputs": [],
   "source": [
    "def normalize(text):\n",
    "    \n",
    "    normalized_text = [(word.strip(punctuation)) for word \\\n",
    "                                                            in text.lower().split()]\n",
    "    normalized_text = [word for word in normalized_text if word]\n",
    "    return normalized_text"
   ]
  },
  {
   "cell_type": "code",
   "execution_count": 16,
   "metadata": {},
   "outputs": [
    {
     "data": {
      "text/plain": [
       "702908"
      ]
     },
     "execution_count": 16,
     "metadata": {},
     "output_type": "execute_result"
    }
   ],
   "source": [
    "df['league_name_in_russian'].count()"
   ]
  },
  {
   "cell_type": "code",
   "execution_count": 6,
   "metadata": {},
   "outputs": [
    {
     "name": "stdout",
     "output_type": "stream",
     "text": [
      "283\n"
     ]
    }
   ],
   "source": [
    "leagues_dict = {}\n",
    "for league in df['league_name_in_russian']:\n",
    "    league = league.lower()\n",
    "    leagues_dict[league] = 'лига'\n",
    "\n",
    "print(len(leagues_dict))"
   ]
  },
  {
   "cell_type": "code",
   "execution_count": 7,
   "metadata": {},
   "outputs": [
    {
     "name": "stdout",
     "output_type": "stream",
     "text": [
      "4449\n"
     ]
    }
   ],
   "source": [
    "teams = []\n",
    "teams1 = []\n",
    "teams2 = []\n",
    "\n",
    "for team1 in df['team_of_season_1_name_in_russian']:\n",
    "    teams1.append(team1)\n",
    "for team2 in df['team_of_season_2_name_in_russian']:\n",
    "    teams2.append(team2)\n",
    "teams = teams1 + teams2 \n",
    "\n",
    "teams_dict = {}\n",
    "for team in teams:\n",
    "    team = team.lower()\n",
    "    teams_dict[team] = 'команда'\n",
    "    \n",
    "print(len(teams_dict))"
   ]
  },
  {
   "cell_type": "code",
   "execution_count": 8,
   "metadata": {},
   "outputs": [
    {
     "name": "stdout",
     "output_type": "stream",
     "text": [
      "34\n"
     ]
    }
   ],
   "source": [
    "bookmakers_dict = {}\n",
    "for bookmaker in df['bookmaker_name']:\n",
    "    bookmaker = bookmaker.lower()\n",
    "    bookmakers_dict[bookmaker] = 'букмекер'\n",
    "\n",
    "print(len(bookmakers_dict))"
   ]
  },
  {
   "cell_type": "code",
   "execution_count": 9,
   "metadata": {},
   "outputs": [
    {
     "name": "stdout",
     "output_type": "stream",
     "text": [
      "14967\n"
     ]
    }
   ],
   "source": [
    "tipnames_dict = {}\n",
    "for tipname in df['tip_name']:\n",
    "    tipname = tipname.lower()\n",
    "    tipnames_dict[tipname] = 'ставка'\n",
    "\n",
    "print(len(tipnames_dict))"
   ]
  },
  {
   "cell_type": "code",
   "execution_count": 10,
   "metadata": {},
   "outputs": [
    {
     "name": "stdout",
     "output_type": "stream",
     "text": [
      "1889\n"
     ]
    }
   ],
   "source": [
    "odds_dict = {}\n",
    "for odd in df['odd']:\n",
    "    odds_dict[odd] = 'коэффициент'\n",
    "\n",
    "print(len(odds_dict))"
   ]
  },
  {
   "cell_type": "code",
   "execution_count": 11,
   "metadata": {},
   "outputs": [
    {
     "name": "stdout",
     "output_type": "stream",
     "text": [
      "7128\n"
     ]
    }
   ],
   "source": [
    "dates_dict = {}\n",
    "for date in df['match_date_time']:\n",
    "    dates_dict[date] = 'дата'\n",
    "\n",
    "print(len(dates_dict))"
   ]
  },
  {
   "cell_type": "code",
   "execution_count": 13,
   "metadata": {},
   "outputs": [],
   "source": [
    "predict = {}\n",
    "teams = 0\n",
    "leagues = 0\n",
    "bookmakers =0\n",
    "tip =0\n",
    "odds = 0\n",
    "\n",
    "for sent in df['result.tsv'][:1000]:\n",
    "    sent = normalize(sent)\n",
    "    #print(sent)\n",
    "    for word in sent:\n",
    "        if word in teams_dict.keys():\n",
    "            predict[word] = 'команда'\n",
    "            teams += 1\n",
    "        elif word in leagues_dict.keys():\n",
    "            predict[word] = 'лига'\n",
    "            leagues += 1\n",
    "        elif word in bookmakers_dict.keys():\n",
    "            predict[word] = 'букмекер'\n",
    "            bookmakers += 1\n",
    "        elif word in tipnames_dict.keys():\n",
    "            predict[word] = 'ставка'\n",
    "            tip += 1\n",
    "        elif word in odds_dict.keys():\n",
    "            predict[word] = 'коэффициент'\n",
    "            odds += 1\n",
    "        elif word in dates_dict.keys():\n",
    "            predict[word] = 'дата'"
   ]
  },
  {
   "cell_type": "code",
   "execution_count": 20,
   "metadata": {},
   "outputs": [
    {
     "data": {
      "text/plain": [
       "0.3985165205664194"
      ]
     },
     "execution_count": 20,
     "metadata": {},
     "output_type": "execute_result"
    }
   ],
   "source": [
    "teams/len(teams_dict)"
   ]
  },
  {
   "cell_type": "code",
   "execution_count": 25,
   "metadata": {},
   "outputs": [
    {
     "data": {
      "text/plain": [
       "1.0848056537102473"
      ]
     },
     "execution_count": 25,
     "metadata": {},
     "output_type": "execute_result"
    }
   ],
   "source": [
    "leagues/len(leagues_dict)"
   ]
  },
  {
   "cell_type": "code",
   "execution_count": 22,
   "metadata": {},
   "outputs": [
    {
     "data": {
      "text/plain": [
       "0.14705882352941177"
      ]
     },
     "execution_count": 22,
     "metadata": {},
     "output_type": "execute_result"
    }
   ],
   "source": [
    "bookmakers/ len(bookmakers_dict)"
   ]
  },
  {
   "cell_type": "code",
   "execution_count": 23,
   "metadata": {},
   "outputs": [
    {
     "data": {
      "text/plain": [
       "1.934356802541027"
      ]
     },
     "execution_count": 23,
     "metadata": {},
     "output_type": "execute_result"
    }
   ],
   "source": [
    "odds/ len(odds_dict)"
   ]
  },
  {
   "cell_type": "code",
   "execution_count": 24,
   "metadata": {},
   "outputs": [
    {
     "data": {
      "text/plain": [
       "0.3215073160954099"
      ]
     },
     "execution_count": 24,
     "metadata": {},
     "output_type": "execute_result"
    }
   ],
   "source": [
    "tip/ len(tipnames_dict)"
   ]
  }
 ],
 "metadata": {
  "kernelspec": {
   "display_name": "Python 3",
   "language": "python",
   "name": "python3"
  },
  "language_info": {
   "codemirror_mode": {
    "name": "ipython",
    "version": 3
   },
   "file_extension": ".py",
   "mimetype": "text/x-python",
   "name": "python",
   "nbconvert_exporter": "python",
   "pygments_lexer": "ipython3",
   "version": "3.7.3"
  }
 },
 "nbformat": 4,
 "nbformat_minor": 2
}
