{
 "cells": [
  {
   "cell_type": "code",
   "execution_count": null,
   "metadata": {},
   "outputs": [],
   "source": [
    "import pandas as pd\n",
    "import re\n",
    "import numpy as np\n",
    "from tqdm import tqdm\n",
    "from nltk import word_tokenize\n",
    "from fuzzywuzzy import fuzz\n",
    "from collections import Counter\n",
    "from string import punctuation\n",
    "from string import digits\n",
    "from stop_words import get_stop_words\n",
    "from nltk.corpus import stopwords\n",
    "from fuzzywuzzy import process"
   ]
  },
  {
   "cell_type": "code",
   "execution_count": 23,
   "metadata": {},
   "outputs": [],
   "source": [
    "punct = punctuation+'©«»—…“”*№– ' + digits\n",
    "stop_words_list = get_stop_words('ru')\n",
    "stop_words_list2 = stopwords.words('russian')\n",
    "newlist = stop_words_list + stop_words_list2\n",
    "for word in [\"свой\"]:\n",
    "    newlist.append(word)\n",
    "newlist_set = set(newlist)"
   ]
  },
  {
   "cell_type": "code",
   "execution_count": null,
   "metadata": {},
   "outputs": [],
   "source": [
    "df = pd.read_csv('result_tar.gz', compression='gzip', sep='\\t', error_bad_lines=False)"
   ]
  },
  {
   "cell_type": "code",
   "execution_count": null,
   "metadata": {},
   "outputs": [],
   "source": [
    "df = df.drop([\"url\", \"video_url\", \"source_name\", \"author_name\"], axis=1)\n",
    "df = df.dropna()\n",
    "df = df.drop_duplicates()\n",
    "df = df.reset_index(drop=True)"
   ]
  },
  {
   "cell_type": "code",
   "execution_count": 7,
   "metadata": {},
   "outputs": [],
   "source": [
    "def which_language (text):\n",
    "    if bool(re.search('[\\u0400-\\u04FF]', text)) == True:\n",
    "        return 'russian'\n",
    "    else:\n",
    "        return 'english'\n",
    "    \n",
    "lang=[]\n",
    "for i,text in enumerate(df['result.tsv'].values): \n",
    "    lang.append(which_language(str(text)))\n",
    "    \n",
    "df['Language'] = lang\n",
    "grouped=df.groupby('Language')\n",
    "for name, group in grouped: \n",
    "    if name == 'english': \n",
    "        english = group.drop('Language',axis=1) \n",
    "    else: \n",
    "        russian = group.drop('Language',axis=1)\n"
   ]
  },
  {
   "cell_type": "code",
   "execution_count": 8,
   "metadata": {},
   "outputs": [
    {
     "data": {
      "text/plain": [
       "288"
      ]
     },
     "execution_count": 8,
     "metadata": {},
     "output_type": "execute_result"
    }
   ],
   "source": [
    "unique_leagues = russian['league_name_in_russian'].unique().tolist()\n",
    "len(unique_leagues)"
   ]
  },
  {
   "cell_type": "code",
   "execution_count": 9,
   "metadata": {},
   "outputs": [
    {
     "data": {
      "text/plain": [
       "3773"
      ]
     },
     "execution_count": 9,
     "metadata": {},
     "output_type": "execute_result"
    }
   ],
   "source": [
    "unique_teams1 = russian['team_of_season_1_name_in_russian'].unique().tolist()\n",
    "len(unique_teams1)"
   ]
  },
  {
   "cell_type": "code",
   "execution_count": 10,
   "metadata": {},
   "outputs": [
    {
     "data": {
      "text/plain": [
       "3730"
      ]
     },
     "execution_count": 10,
     "metadata": {},
     "output_type": "execute_result"
    }
   ],
   "source": [
    "unique_teams2 = russian['team_of_season_2_name_in_russian'].unique().tolist()\n",
    "len(unique_teams2)"
   ]
  },
  {
   "cell_type": "code",
   "execution_count": 11,
   "metadata": {},
   "outputs": [
    {
     "data": {
      "text/plain": [
       "4422"
      ]
     },
     "execution_count": 11,
     "metadata": {},
     "output_type": "execute_result"
    }
   ],
   "source": [
    "unique_teams = unique_teams1 + unique_teams2\n",
    "unique_teams_set = set(unique_teams)\n",
    "len(unique_teams_set)"
   ]
  },
  {
   "cell_type": "code",
   "execution_count": 13,
   "metadata": {},
   "outputs": [],
   "source": [
    "russian = pd.read_csv('russian_lists_and_directmatch.csv')"
   ]
  },
  {
   "cell_type": "code",
   "execution_count": 38,
   "metadata": {},
   "outputs": [],
   "source": [
    "russian = russian[russian['result.tsv'].map(len) > 30]"
   ]
  },
  {
   "cell_type": "code",
   "execution_count": 39,
   "metadata": {},
   "outputs": [],
   "source": [
    "russian = russian.reset_index(drop=True)"
   ]
  },
  {
   "cell_type": "code",
   "execution_count": 41,
   "metadata": {},
   "outputs": [
    {
     "data": {
      "text/plain": [
       "(524733, 10)"
      ]
     },
     "execution_count": 41,
     "metadata": {},
     "output_type": "execute_result"
    }
   ],
   "source": [
    "russian.shape"
   ]
  },
  {
   "cell_type": "code",
   "execution_count": 49,
   "metadata": {},
   "outputs": [
    {
     "data": {
      "text/html": [
       "<div>\n",
       "<style scoped>\n",
       "    .dataframe tbody tr th:only-of-type {\n",
       "        vertical-align: middle;\n",
       "    }\n",
       "\n",
       "    .dataframe tbody tr th {\n",
       "        vertical-align: top;\n",
       "    }\n",
       "\n",
       "    .dataframe thead th {\n",
       "        text-align: right;\n",
       "    }\n",
       "</style>\n",
       "<table border=\"1\" class=\"dataframe\">\n",
       "  <thead>\n",
       "    <tr style=\"text-align: right;\">\n",
       "      <th></th>\n",
       "      <th>result.tsv</th>\n",
       "      <th>odd</th>\n",
       "      <th>tip_name</th>\n",
       "      <th>bookmaker_name</th>\n",
       "      <th>match_date_time</th>\n",
       "      <th>league_name_in_russian</th>\n",
       "      <th>team_of_season_1_name_in_russian</th>\n",
       "      <th>team_of_season_2_name_in_russian</th>\n",
       "      <th>list_direct_match_for_teams1</th>\n",
       "      <th>list_direct_match_for_teams2</th>\n",
       "    </tr>\n",
       "  </thead>\n",
       "  <tbody>\n",
       "    <tr>\n",
       "      <td>0</td>\n",
       "      <td>Сборная Турции продолжает свою дорогу на Чемпи...</td>\n",
       "      <td>1.65</td>\n",
       "      <td>- 1,5</td>\n",
       "      <td>Олимп</td>\n",
       "      <td>2019-06-02 18:00:00</td>\n",
       "      <td>Международные товарищеские матчи</td>\n",
       "      <td>Турция</td>\n",
       "      <td>Узбекистан</td>\n",
       "      <td>0.0</td>\n",
       "      <td>1.0</td>\n",
       "    </tr>\n",
       "    <tr>\n",
       "      <td>1</td>\n",
       "      <td>Двадцать девятого числа состоится один весьма ...</td>\n",
       "      <td>1.52</td>\n",
       "      <td>– тотал меньше 2,5</td>\n",
       "      <td>Winline</td>\n",
       "      <td>2019-06-28 23:20:00</td>\n",
       "      <td>Кубок Америки</td>\n",
       "      <td>Колумбия</td>\n",
       "      <td>Чили</td>\n",
       "      <td>0.0</td>\n",
       "      <td>0.0</td>\n",
       "    </tr>\n",
       "    <tr>\n",
       "      <td>2</td>\n",
       "      <td>АЗ Алкмар В первом матче голландский клуб созд...</td>\n",
       "      <td>1.85</td>\n",
       "      <td>АЗ Алкмар забьет в обоих таймах</td>\n",
       "      <td>Лига Ставок</td>\n",
       "      <td>2019-08-15 18:30:00</td>\n",
       "      <td>Лига Европы УЕФА</td>\n",
       "      <td>АЗ Алкмаар</td>\n",
       "      <td>Мариуполь</td>\n",
       "      <td>0.0</td>\n",
       "      <td>0.0</td>\n",
       "    </tr>\n",
       "  </tbody>\n",
       "</table>\n",
       "</div>"
      ],
      "text/plain": [
       "                                          result.tsv   odd  \\\n",
       "0  Сборная Турции продолжает свою дорогу на Чемпи...  1.65   \n",
       "1  Двадцать девятого числа состоится один весьма ...  1.52   \n",
       "2  АЗ Алкмар В первом матче голландский клуб созд...  1.85   \n",
       "\n",
       "                          tip_name bookmaker_name      match_date_time  \\\n",
       "0                            - 1,5          Олимп  2019-06-02 18:00:00   \n",
       "1               – тотал меньше 2,5        Winline  2019-06-28 23:20:00   \n",
       "2  АЗ Алкмар забьет в обоих таймах    Лига Ставок  2019-08-15 18:30:00   \n",
       "\n",
       "             league_name_in_russian team_of_season_1_name_in_russian  \\\n",
       "0  Международные товарищеские матчи                           Турция   \n",
       "1                     Кубок Америки                         Колумбия   \n",
       "2                  Лига Европы УЕФА                       АЗ Алкмаар   \n",
       "\n",
       "  team_of_season_2_name_in_russian  list_direct_match_for_teams1  \\\n",
       "0                       Узбекистан                           0.0   \n",
       "1                             Чили                           0.0   \n",
       "2                        Мариуполь                           0.0   \n",
       "\n",
       "   list_direct_match_for_teams2  \n",
       "0                           1.0  \n",
       "1                           0.0  \n",
       "2                           0.0  "
      ]
     },
     "execution_count": 49,
     "metadata": {},
     "output_type": "execute_result"
    }
   ],
   "source": [
    "russian.head(3)"
   ]
  },
  {
   "cell_type": "code",
   "execution_count": 55,
   "metadata": {},
   "outputs": [
    {
     "data": {
      "text/html": [
       "<div>\n",
       "<style scoped>\n",
       "    .dataframe tbody tr th:only-of-type {\n",
       "        vertical-align: middle;\n",
       "    }\n",
       "\n",
       "    .dataframe tbody tr th {\n",
       "        vertical-align: top;\n",
       "    }\n",
       "\n",
       "    .dataframe thead th {\n",
       "        text-align: right;\n",
       "    }\n",
       "</style>\n",
       "<table border=\"1\" class=\"dataframe\">\n",
       "  <thead>\n",
       "    <tr style=\"text-align: right;\">\n",
       "      <th></th>\n",
       "      <th>result.tsv</th>\n",
       "      <th>odd</th>\n",
       "      <th>tip_name</th>\n",
       "      <th>bookmaker_name</th>\n",
       "      <th>match_date_time</th>\n",
       "      <th>league_name_in_russian</th>\n",
       "      <th>team_of_season_1_name_in_russian</th>\n",
       "      <th>team_of_season_2_name_in_russian</th>\n",
       "      <th>list_direct_match_for_teams1</th>\n",
       "      <th>list_direct_match_for_teams2</th>\n",
       "    </tr>\n",
       "  </thead>\n",
       "  <tbody>\n",
       "    <tr>\n",
       "      <td>75687</td>\n",
       "      <td>Для Реала этот матч - чистая формальность, для...</td>\n",
       "      <td>1.38</td>\n",
       "      <td>ИТБ 1 0.5</td>\n",
       "      <td>Марафон</td>\n",
       "      <td>2019-01-16 20:30:00</td>\n",
       "      <td>Кубок Испании</td>\n",
       "      <td>Леганес</td>\n",
       "      <td>Реал Мадрид</td>\n",
       "      <td>1.0</td>\n",
       "      <td>0.0</td>\n",
       "    </tr>\n",
       "    <tr>\n",
       "      <td>489754</td>\n",
       "      <td>Ну и вот такую х....ю поставим, авось залетит,...</td>\n",
       "      <td>3.40</td>\n",
       "      <td>ФОРА1 (-1)</td>\n",
       "      <td>1xСтавка</td>\n",
       "      <td>2019-08-29 17:15:00</td>\n",
       "      <td>Лига Европы УЕФА</td>\n",
       "      <td>Спартак</td>\n",
       "      <td>Брага</td>\n",
       "      <td>0.0</td>\n",
       "      <td>0.0</td>\n",
       "    </tr>\n",
       "    <tr>\n",
       "      <td>445084</td>\n",
       "      <td>Партизан встречается с голландским АЗ. Гости п...</td>\n",
       "      <td>2.04</td>\n",
       "      <td>Ф1 (0)</td>\n",
       "      <td>Леон</td>\n",
       "      <td>2019-09-19 19:00:00</td>\n",
       "      <td>Лига Европы УЕФА</td>\n",
       "      <td>Партизан</td>\n",
       "      <td>АЗ Алкмаар</td>\n",
       "      <td>0.0</td>\n",
       "      <td>0.0</td>\n",
       "    </tr>\n",
       "    <tr>\n",
       "      <td>108625</td>\n",
       "      <td>По расчетам там, процент вероятность на то что...</td>\n",
       "      <td>1.23</td>\n",
       "      <td>ИТМ 1 2.5</td>\n",
       "      <td>Winline</td>\n",
       "      <td>2019-08-10 16:00:00</td>\n",
       "      <td>Премьер-Лига</td>\n",
       "      <td>Краснодар</td>\n",
       "      <td>Рубин</td>\n",
       "      <td>0.0</td>\n",
       "      <td>0.0</td>\n",
       "    </tr>\n",
       "    <tr>\n",
       "      <td>230916</td>\n",
       "      <td>Футбольная суббота - множество матчей пройдут ...</td>\n",
       "      <td>2.17</td>\n",
       "      <td>П1</td>\n",
       "      <td>1xСтавка</td>\n",
       "      <td>2019-09-14 14:00:00</td>\n",
       "      <td>Премьер-лига</td>\n",
       "      <td>Брайтон</td>\n",
       "      <td>Бернли</td>\n",
       "      <td>1.0</td>\n",
       "      <td>1.0</td>\n",
       "    </tr>\n",
       "  </tbody>\n",
       "</table>\n",
       "</div>"
      ],
      "text/plain": [
       "                                               result.tsv   odd    tip_name  \\\n",
       "75687   Для Реала этот матч - чистая формальность, для...  1.38   ИТБ 1 0.5   \n",
       "489754  Ну и вот такую х....ю поставим, авось залетит,...  3.40  ФОРА1 (-1)   \n",
       "445084  Партизан встречается с голландским АЗ. Гости п...  2.04      Ф1 (0)   \n",
       "108625  По расчетам там, процент вероятность на то что...  1.23   ИТМ 1 2.5   \n",
       "230916  Футбольная суббота - множество матчей пройдут ...  2.17          П1   \n",
       "\n",
       "       bookmaker_name      match_date_time league_name_in_russian  \\\n",
       "75687         Марафон  2019-01-16 20:30:00          Кубок Испании   \n",
       "489754       1xСтавка  2019-08-29 17:15:00       Лига Европы УЕФА   \n",
       "445084           Леон  2019-09-19 19:00:00       Лига Европы УЕФА   \n",
       "108625        Winline  2019-08-10 16:00:00           Премьер-Лига   \n",
       "230916       1xСтавка  2019-09-14 14:00:00           Премьер-лига   \n",
       "\n",
       "       team_of_season_1_name_in_russian team_of_season_2_name_in_russian  \\\n",
       "75687                           Леганес                      Реал Мадрид   \n",
       "489754                          Спартак                            Брага   \n",
       "445084                         Партизан                       АЗ Алкмаар   \n",
       "108625                        Краснодар                            Рубин   \n",
       "230916                          Брайтон                           Бернли   \n",
       "\n",
       "        list_direct_match_for_teams1  list_direct_match_for_teams2  \n",
       "75687                            1.0                           0.0  \n",
       "489754                           0.0                           0.0  \n",
       "445084                           0.0                           0.0  \n",
       "108625                           0.0                           0.0  \n",
       "230916                           1.0                           1.0  "
      ]
     },
     "execution_count": 55,
     "metadata": {},
     "output_type": "execute_result"
    }
   ],
   "source": [
    "subset_russian = russian.sample(n=10000)\n",
    "subset_russian.head(5)\n"
   ]
  },
  {
   "cell_type": "code",
   "execution_count": 60,
   "metadata": {},
   "outputs": [
    {
     "data": {
      "text/html": [
       "<div>\n",
       "<style scoped>\n",
       "    .dataframe tbody tr th:only-of-type {\n",
       "        vertical-align: middle;\n",
       "    }\n",
       "\n",
       "    .dataframe tbody tr th {\n",
       "        vertical-align: top;\n",
       "    }\n",
       "\n",
       "    .dataframe thead th {\n",
       "        text-align: right;\n",
       "    }\n",
       "</style>\n",
       "<table border=\"1\" class=\"dataframe\">\n",
       "  <thead>\n",
       "    <tr style=\"text-align: right;\">\n",
       "      <th></th>\n",
       "      <th>result.tsv</th>\n",
       "      <th>odd</th>\n",
       "      <th>tip_name</th>\n",
       "      <th>bookmaker_name</th>\n",
       "      <th>match_date_time</th>\n",
       "      <th>league_name_in_russian</th>\n",
       "      <th>team_of_season_1_name_in_russian</th>\n",
       "      <th>team_of_season_2_name_in_russian</th>\n",
       "      <th>list_direct_match_for_teams1</th>\n",
       "      <th>list_direct_match_for_teams2</th>\n",
       "    </tr>\n",
       "  </thead>\n",
       "  <tbody>\n",
       "    <tr>\n",
       "      <td>0</td>\n",
       "      <td>Для Реала этот матч - чистая формальность, для...</td>\n",
       "      <td>1.38</td>\n",
       "      <td>ИТБ 1 0.5</td>\n",
       "      <td>Марафон</td>\n",
       "      <td>2019-01-16 20:30:00</td>\n",
       "      <td>Кубок Испании</td>\n",
       "      <td>Леганес</td>\n",
       "      <td>Реал Мадрид</td>\n",
       "      <td>1.0</td>\n",
       "      <td>0.0</td>\n",
       "    </tr>\n",
       "    <tr>\n",
       "      <td>1</td>\n",
       "      <td>Ну и вот такую х....ю поставим, авось залетит,...</td>\n",
       "      <td>3.40</td>\n",
       "      <td>ФОРА1 (-1)</td>\n",
       "      <td>1xСтавка</td>\n",
       "      <td>2019-08-29 17:15:00</td>\n",
       "      <td>Лига Европы УЕФА</td>\n",
       "      <td>Спартак</td>\n",
       "      <td>Брага</td>\n",
       "      <td>0.0</td>\n",
       "      <td>0.0</td>\n",
       "    </tr>\n",
       "    <tr>\n",
       "      <td>2</td>\n",
       "      <td>Партизан встречается с голландским АЗ. Гости п...</td>\n",
       "      <td>2.04</td>\n",
       "      <td>Ф1 (0)</td>\n",
       "      <td>Леон</td>\n",
       "      <td>2019-09-19 19:00:00</td>\n",
       "      <td>Лига Европы УЕФА</td>\n",
       "      <td>Партизан</td>\n",
       "      <td>АЗ Алкмаар</td>\n",
       "      <td>0.0</td>\n",
       "      <td>0.0</td>\n",
       "    </tr>\n",
       "    <tr>\n",
       "      <td>3</td>\n",
       "      <td>По расчетам там, процент вероятность на то что...</td>\n",
       "      <td>1.23</td>\n",
       "      <td>ИТМ 1 2.5</td>\n",
       "      <td>Winline</td>\n",
       "      <td>2019-08-10 16:00:00</td>\n",
       "      <td>Премьер-Лига</td>\n",
       "      <td>Краснодар</td>\n",
       "      <td>Рубин</td>\n",
       "      <td>0.0</td>\n",
       "      <td>0.0</td>\n",
       "    </tr>\n",
       "    <tr>\n",
       "      <td>4</td>\n",
       "      <td>Футбольная суббота - множество матчей пройдут ...</td>\n",
       "      <td>2.17</td>\n",
       "      <td>П1</td>\n",
       "      <td>1xСтавка</td>\n",
       "      <td>2019-09-14 14:00:00</td>\n",
       "      <td>Премьер-лига</td>\n",
       "      <td>Брайтон</td>\n",
       "      <td>Бернли</td>\n",
       "      <td>1.0</td>\n",
       "      <td>1.0</td>\n",
       "    </tr>\n",
       "  </tbody>\n",
       "</table>\n",
       "</div>"
      ],
      "text/plain": [
       "                                          result.tsv   odd    tip_name  \\\n",
       "0  Для Реала этот матч - чистая формальность, для...  1.38   ИТБ 1 0.5   \n",
       "1  Ну и вот такую х....ю поставим, авось залетит,...  3.40  ФОРА1 (-1)   \n",
       "2  Партизан встречается с голландским АЗ. Гости п...  2.04      Ф1 (0)   \n",
       "3  По расчетам там, процент вероятность на то что...  1.23   ИТМ 1 2.5   \n",
       "4  Футбольная суббота - множество матчей пройдут ...  2.17          П1   \n",
       "\n",
       "  bookmaker_name      match_date_time league_name_in_russian  \\\n",
       "0        Марафон  2019-01-16 20:30:00          Кубок Испании   \n",
       "1       1xСтавка  2019-08-29 17:15:00       Лига Европы УЕФА   \n",
       "2           Леон  2019-09-19 19:00:00       Лига Европы УЕФА   \n",
       "3        Winline  2019-08-10 16:00:00           Премьер-Лига   \n",
       "4       1xСтавка  2019-09-14 14:00:00           Премьер-лига   \n",
       "\n",
       "  team_of_season_1_name_in_russian team_of_season_2_name_in_russian  \\\n",
       "0                          Леганес                      Реал Мадрид   \n",
       "1                          Спартак                            Брага   \n",
       "2                         Партизан                       АЗ Алкмаар   \n",
       "3                        Краснодар                            Рубин   \n",
       "4                          Брайтон                           Бернли   \n",
       "\n",
       "   list_direct_match_for_teams1  list_direct_match_for_teams2  \n",
       "0                           1.0                           0.0  \n",
       "1                           0.0                           0.0  \n",
       "2                           0.0                           0.0  \n",
       "3                           0.0                           0.0  \n",
       "4                           1.0                           1.0  "
      ]
     },
     "execution_count": 60,
     "metadata": {},
     "output_type": "execute_result"
    }
   ],
   "source": [
    "subset_russian = subset_russian.reset_index(drop=True)\n",
    "subset_russian.head(5)"
   ]
  },
  {
   "cell_type": "markdown",
   "metadata": {},
   "source": [
    "### Команда 1"
   ]
  },
  {
   "cell_type": "code",
   "execution_count": null,
   "metadata": {},
   "outputs": [],
   "source": [
    "for i, text in tqdm(enumerate(subset_russian['result.tsv'].values)):\n",
    "    if subset_russian['list_direct_match_for_teams1'][i] == 1:\n",
    "        continue\n",
    "    else:\n",
    "        #print(i)\n",
    "        capital_words_ru = re.findall(r'([А-Я][а-я]+)', text)\n",
    "        quotes = re.findall(r'\\\"(.+?)\\\"', text)\n",
    "        quotes2 = re.findall(r'«(.+?)»', text)\n",
    "        quotes3 = re.findall(r'\\'(.+?)\\'', text)\n",
    "        search_words = capital_words_ru + quotes + quotes2 + quotes3\n",
    "        search_words = set(search_words)\n",
    "        good_words = [word for word in search_words if word.lower() not in newlist_set] \n",
    "        #print(good_words)\n",
    "    \n",
    "        for word in good_words:\n",
    "            for team in unique_teams:\n",
    "                if fuzz.ratio(word, team) > 75 and subset_russian['team_of_season_1_name_in_russian'][i] == word:\n",
    "                    #print(russian['team_of_season_2_name_in_russian'][i], word, team, fuzz.ratio(word, team))\n",
    "                    subset_russian['list_direct_match_for_teams1'][i] = 1\n",
    "\n",
    "                    break\n"
   ]
  },
  {
   "cell_type": "code",
   "execution_count": 65,
   "metadata": {},
   "outputs": [
    {
     "name": "stdout",
     "output_type": "stream",
     "text": [
      "4413\n",
      "10000\n",
      "0.4413\n"
     ]
    }
   ],
   "source": [
    "success = subset_russian[subset_russian['list_direct_match_for_teams1'] == 1].shape[0]\n",
    "print(success)\n",
    "all_vals = subset_russian['list_direct_match_for_teams1'].shape[0]\n",
    "print(all_vals)\n",
    "baseline_team1 = success / all_vals\n",
    "print(baseline_team1)"
   ]
  },
  {
   "cell_type": "markdown",
   "metadata": {},
   "source": [
    "### Команда 2 "
   ]
  },
  {
   "cell_type": "code",
   "execution_count": null,
   "metadata": {},
   "outputs": [],
   "source": [
    "for i, text in tqdm(enumerate(subset_russian['result.tsv'].values)):\n",
    "    if subset_russian['list_direct_match_for_teams2'][i] == 1:\n",
    "        continue\n",
    "    else:\n",
    "        #print(i)\n",
    "        capital_words_ru = re.findall(r'([А-Я][а-я]+)', text)\n",
    "        quotes = re.findall(r'\\\"(.+?)\\\"', text)\n",
    "        quotes2 = re.findall(r'«(.+?)»', text)\n",
    "        quotes3 = re.findall(r'\\'(.+?)\\'', text)\n",
    "        search_words = capital_words_ru + quotes + quotes2 + quotes3\n",
    "        search_words = set(search_words)\n",
    "        good_words = [word for word in search_words if word.lower() not in newlist_set] \n",
    "        #print(good_words)\n",
    "    \n",
    "        for word in good_words:\n",
    "            for team in unique_teams:\n",
    "                if fuzz.ratio(word, team) > 75 and subset_russian['team_of_season_2_name_in_russian'][i] == word:\n",
    "                    #print(russian['team_of_season_2_name_in_russian'][i], word, team, fuzz.ratio(word, team))\n",
    "                    subset_russian['list_direct_match_for_teams2'][i] = 1\n",
    "\n",
    "                    break\n"
   ]
  },
  {
   "cell_type": "code",
   "execution_count": 66,
   "metadata": {},
   "outputs": [
    {
     "name": "stdout",
     "output_type": "stream",
     "text": [
      "4144\n",
      "10000\n",
      "0.4144\n"
     ]
    }
   ],
   "source": [
    "success = subset_russian[subset_russian['list_direct_match_for_teams2'] == 1].shape[0]\n",
    "print(success)\n",
    "all_vals = subset_russian['list_direct_match_for_teams2'].shape[0]\n",
    "print(all_vals)\n",
    "baseline_team2 = success / all_vals\n",
    "print(baseline_team2)"
   ]
  },
  {
   "cell_type": "code",
   "execution_count": 64,
   "metadata": {},
   "outputs": [],
   "source": [
    "subset_russian.to_csv(r'C:\\Users\\User\\Desktop\\project\\fuzzylists0106.csv', index = False)"
   ]
  }
 ],
 "metadata": {
  "kernelspec": {
   "display_name": "Python 3",
   "language": "python",
   "name": "python3"
  },
  "language_info": {
   "codemirror_mode": {
    "name": "ipython",
    "version": 3
   },
   "file_extension": ".py",
   "mimetype": "text/x-python",
   "name": "python",
   "nbconvert_exporter": "python",
   "pygments_lexer": "ipython3",
   "version": "3.7.4"
  }
 },
 "nbformat": 4,
 "nbformat_minor": 2
}
