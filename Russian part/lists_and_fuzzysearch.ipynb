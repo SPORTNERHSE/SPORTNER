{
 "cells": [
  {
   "cell_type": "code",
   "execution_count": 134,
   "metadata": {},
   "outputs": [],
   "source": [
    "import pandas as pd\n",
    "import re\n",
    "import numpy as np\n",
    "from tqdm import tqdm\n",
    "from nltk import word_tokenize\n",
    "from fuzzywuzzy import fuzz\n",
    "from collections import Counter\n",
    "from string import punctuation\n",
    "from string import digits\n",
    "from stop_words import get_stop_words\n",
    "from nltk.corpus import stopwords\n",
    "from fuzzywuzzy import process"
   ]
  },
  {
   "cell_type": "code",
   "execution_count": 135,
   "metadata": {},
   "outputs": [],
   "source": [
    "punct = punctuation+'©«»—…“”*№– ' + digits\n",
    "stop_words_list = get_stop_words('ru')\n",
    "stop_words_list2 = stopwords.words('russian')\n",
    "newlist = stop_words_list + stop_words_list2\n",
    "for word in [\"свой\"]:\n",
    "    newlist.append(word)\n",
    "newlist_set = set(newlist)"
   ]
  },
  {
   "cell_type": "code",
   "execution_count": null,
   "metadata": {},
   "outputs": [],
   "source": [
    "df = pd.read_csv('result_tar.gz', compression='gzip', sep='\\t', error_bad_lines=False)"
   ]
  },
  {
   "cell_type": "code",
   "execution_count": 137,
   "metadata": {},
   "outputs": [],
   "source": [
    "df = df.drop([\"url\", \"video_url\", \"source_name\", \"author_name\"], axis=1)\n",
    "df = df.dropna()\n",
    "df = df.drop_duplicates()\n",
    "df = df.reset_index(drop=True)"
   ]
  },
  {
   "cell_type": "code",
   "execution_count": 138,
   "metadata": {},
   "outputs": [],
   "source": [
    "def which_language (text):\n",
    "    if bool(re.search('[\\u0400-\\u04FF]', text)) == True:\n",
    "        return 'russian'\n",
    "    else:\n",
    "        return 'english'\n",
    "    \n",
    "lang=[]\n",
    "for i,text in enumerate(df['result.tsv'].values): \n",
    "    lang.append(which_language(str(text)))\n",
    "    \n",
    "df['Language'] = lang\n",
    "grouped=df.groupby('Language')\n",
    "for name, group in grouped: \n",
    "    if name == 'english': \n",
    "        english = group.drop('Language',axis=1) \n",
    "    else: \n",
    "        russian = group.drop('Language',axis=1)\n"
   ]
  },
  {
   "cell_type": "code",
   "execution_count": 139,
   "metadata": {},
   "outputs": [
    {
     "data": {
      "text/plain": [
       "288"
      ]
     },
     "execution_count": 139,
     "metadata": {},
     "output_type": "execute_result"
    }
   ],
   "source": [
    "unique_leagues = russian['league_name_in_russian'].unique().tolist()\n",
    "len(unique_leagues)"
   ]
  },
  {
   "cell_type": "code",
   "execution_count": 140,
   "metadata": {},
   "outputs": [
    {
     "data": {
      "text/plain": [
       "3773"
      ]
     },
     "execution_count": 140,
     "metadata": {},
     "output_type": "execute_result"
    }
   ],
   "source": [
    "unique_teams1 = russian['team_of_season_1_name_in_russian'].unique().tolist()\n",
    "len(unique_teams1)"
   ]
  },
  {
   "cell_type": "code",
   "execution_count": 141,
   "metadata": {},
   "outputs": [
    {
     "data": {
      "text/plain": [
       "3730"
      ]
     },
     "execution_count": 141,
     "metadata": {},
     "output_type": "execute_result"
    }
   ],
   "source": [
    "unique_teams2 = russian['team_of_season_2_name_in_russian'].unique().tolist()\n",
    "len(unique_teams2)"
   ]
  },
  {
   "cell_type": "code",
   "execution_count": 142,
   "metadata": {},
   "outputs": [
    {
     "data": {
      "text/plain": [
       "4422"
      ]
     },
     "execution_count": 142,
     "metadata": {},
     "output_type": "execute_result"
    }
   ],
   "source": [
    "unique_teams = unique_teams1 + unique_teams2\n",
    "unique_teams_set = set(unique_teams)\n",
    "len(unique_teams_set)"
   ]
  },
  {
   "cell_type": "code",
   "execution_count": 143,
   "metadata": {},
   "outputs": [],
   "source": [
    "russian = pd.read_csv('russian_lists_and_directmatch.csv')"
   ]
  },
  {
   "cell_type": "code",
   "execution_count": 144,
   "metadata": {},
   "outputs": [],
   "source": [
    "russian = russian[russian['result.tsv'].map(len) > 30]"
   ]
  },
  {
   "cell_type": "code",
   "execution_count": 145,
   "metadata": {},
   "outputs": [],
   "source": [
    "russian = russian.reset_index(drop=True)"
   ]
  },
  {
   "cell_type": "code",
   "execution_count": 146,
   "metadata": {},
   "outputs": [
    {
     "data": {
      "text/plain": [
       "(524733, 10)"
      ]
     },
     "execution_count": 146,
     "metadata": {},
     "output_type": "execute_result"
    }
   ],
   "source": [
    "russian.shape"
   ]
  },
  {
   "cell_type": "code",
   "execution_count": 147,
   "metadata": {},
   "outputs": [
    {
     "data": {
      "text/html": [
       "<div>\n",
       "<style scoped>\n",
       "    .dataframe tbody tr th:only-of-type {\n",
       "        vertical-align: middle;\n",
       "    }\n",
       "\n",
       "    .dataframe tbody tr th {\n",
       "        vertical-align: top;\n",
       "    }\n",
       "\n",
       "    .dataframe thead th {\n",
       "        text-align: right;\n",
       "    }\n",
       "</style>\n",
       "<table border=\"1\" class=\"dataframe\">\n",
       "  <thead>\n",
       "    <tr style=\"text-align: right;\">\n",
       "      <th></th>\n",
       "      <th>result.tsv</th>\n",
       "      <th>odd</th>\n",
       "      <th>tip_name</th>\n",
       "      <th>bookmaker_name</th>\n",
       "      <th>match_date_time</th>\n",
       "      <th>league_name_in_russian</th>\n",
       "      <th>team_of_season_1_name_in_russian</th>\n",
       "      <th>team_of_season_2_name_in_russian</th>\n",
       "      <th>list_direct_match_for_teams1</th>\n",
       "      <th>list_direct_match_for_teams2</th>\n",
       "    </tr>\n",
       "  </thead>\n",
       "  <tbody>\n",
       "    <tr>\n",
       "      <td>0</td>\n",
       "      <td>Сборная Турции продолжает свою дорогу на Чемпи...</td>\n",
       "      <td>1.65</td>\n",
       "      <td>- 1,5</td>\n",
       "      <td>Олимп</td>\n",
       "      <td>2019-06-02 18:00:00</td>\n",
       "      <td>Международные товарищеские матчи</td>\n",
       "      <td>Турция</td>\n",
       "      <td>Узбекистан</td>\n",
       "      <td>0.0</td>\n",
       "      <td>1.0</td>\n",
       "    </tr>\n",
       "    <tr>\n",
       "      <td>1</td>\n",
       "      <td>Двадцать девятого числа состоится один весьма ...</td>\n",
       "      <td>1.52</td>\n",
       "      <td>– тотал меньше 2,5</td>\n",
       "      <td>Winline</td>\n",
       "      <td>2019-06-28 23:20:00</td>\n",
       "      <td>Кубок Америки</td>\n",
       "      <td>Колумбия</td>\n",
       "      <td>Чили</td>\n",
       "      <td>0.0</td>\n",
       "      <td>0.0</td>\n",
       "    </tr>\n",
       "    <tr>\n",
       "      <td>2</td>\n",
       "      <td>АЗ Алкмар В первом матче голландский клуб созд...</td>\n",
       "      <td>1.85</td>\n",
       "      <td>АЗ Алкмар забьет в обоих таймах</td>\n",
       "      <td>Лига Ставок</td>\n",
       "      <td>2019-08-15 18:30:00</td>\n",
       "      <td>Лига Европы УЕФА</td>\n",
       "      <td>АЗ Алкмаар</td>\n",
       "      <td>Мариуполь</td>\n",
       "      <td>0.0</td>\n",
       "      <td>0.0</td>\n",
       "    </tr>\n",
       "  </tbody>\n",
       "</table>\n",
       "</div>"
      ],
      "text/plain": [
       "                                          result.tsv   odd  \\\n",
       "0  Сборная Турции продолжает свою дорогу на Чемпи...  1.65   \n",
       "1  Двадцать девятого числа состоится один весьма ...  1.52   \n",
       "2  АЗ Алкмар В первом матче голландский клуб созд...  1.85   \n",
       "\n",
       "                          tip_name bookmaker_name      match_date_time  \\\n",
       "0                            - 1,5          Олимп  2019-06-02 18:00:00   \n",
       "1               – тотал меньше 2,5        Winline  2019-06-28 23:20:00   \n",
       "2  АЗ Алкмар забьет в обоих таймах    Лига Ставок  2019-08-15 18:30:00   \n",
       "\n",
       "             league_name_in_russian team_of_season_1_name_in_russian  \\\n",
       "0  Международные товарищеские матчи                           Турция   \n",
       "1                     Кубок Америки                         Колумбия   \n",
       "2                  Лига Европы УЕФА                       АЗ Алкмаар   \n",
       "\n",
       "  team_of_season_2_name_in_russian  list_direct_match_for_teams1  \\\n",
       "0                       Узбекистан                           0.0   \n",
       "1                             Чили                           0.0   \n",
       "2                        Мариуполь                           0.0   \n",
       "\n",
       "   list_direct_match_for_teams2  \n",
       "0                           1.0  \n",
       "1                           0.0  \n",
       "2                           0.0  "
      ]
     },
     "execution_count": 147,
     "metadata": {},
     "output_type": "execute_result"
    }
   ],
   "source": [
    "russian.head(3)"
   ]
  },
  {
   "cell_type": "code",
   "execution_count": 148,
   "metadata": {},
   "outputs": [
    {
     "data": {
      "text/html": [
       "<div>\n",
       "<style scoped>\n",
       "    .dataframe tbody tr th:only-of-type {\n",
       "        vertical-align: middle;\n",
       "    }\n",
       "\n",
       "    .dataframe tbody tr th {\n",
       "        vertical-align: top;\n",
       "    }\n",
       "\n",
       "    .dataframe thead th {\n",
       "        text-align: right;\n",
       "    }\n",
       "</style>\n",
       "<table border=\"1\" class=\"dataframe\">\n",
       "  <thead>\n",
       "    <tr style=\"text-align: right;\">\n",
       "      <th></th>\n",
       "      <th>result.tsv</th>\n",
       "      <th>odd</th>\n",
       "      <th>tip_name</th>\n",
       "      <th>bookmaker_name</th>\n",
       "      <th>match_date_time</th>\n",
       "      <th>league_name_in_russian</th>\n",
       "      <th>team_of_season_1_name_in_russian</th>\n",
       "      <th>team_of_season_2_name_in_russian</th>\n",
       "      <th>list_direct_match_for_teams1</th>\n",
       "      <th>list_direct_match_for_teams2</th>\n",
       "    </tr>\n",
       "  </thead>\n",
       "  <tbody>\n",
       "    <tr>\n",
       "      <td>8190</td>\n",
       "      <td>Леганес в этом сезоне неплохо умеет выжимать р...</td>\n",
       "      <td>2.340</td>\n",
       "      <td>1X</td>\n",
       "      <td>Леон</td>\n",
       "      <td>2019-04-15 19:00:00</td>\n",
       "      <td>Примера</td>\n",
       "      <td>Леганес</td>\n",
       "      <td>Реал Мадрид</td>\n",
       "      <td>1.0</td>\n",
       "      <td>0.0</td>\n",
       "    </tr>\n",
       "    <tr>\n",
       "      <td>440344</td>\n",
       "      <td>Сегодня состоится матч по Футболу, в 2 - Дивиз...</td>\n",
       "      <td>1.480</td>\n",
       "      <td>Ф1 (0)</td>\n",
       "      <td>1xСтавка</td>\n",
       "      <td>2019-04-20 16:00:00</td>\n",
       "      <td>Сегунда</td>\n",
       "      <td>Альбасете</td>\n",
       "      <td>Лас-Пальмас</td>\n",
       "      <td>0.0</td>\n",
       "      <td>0.0</td>\n",
       "    </tr>\n",
       "    <tr>\n",
       "      <td>291808</td>\n",
       "      <td>Квалификация Евро. Финляндия против Италии. Ду...</td>\n",
       "      <td>1.720</td>\n",
       "      <td>П2</td>\n",
       "      <td>1xСтавка</td>\n",
       "      <td>2019-09-08 18:45:00</td>\n",
       "      <td>Чемпионат Европы. Квалификация</td>\n",
       "      <td>Финляндия</td>\n",
       "      <td>Италия</td>\n",
       "      <td>0.0</td>\n",
       "      <td>0.0</td>\n",
       "    </tr>\n",
       "    <tr>\n",
       "      <td>234610</td>\n",
       "      <td>Арсенал дома, команда сильнее и увереннее</td>\n",
       "      <td>1.444</td>\n",
       "      <td>П1</td>\n",
       "      <td>Winline</td>\n",
       "      <td>2019-09-22 15:30:00</td>\n",
       "      <td>Премьер-лига</td>\n",
       "      <td>Арсенал</td>\n",
       "      <td>Астон Вилла</td>\n",
       "      <td>0.0</td>\n",
       "      <td>0.0</td>\n",
       "    </tr>\n",
       "    <tr>\n",
       "      <td>433349</td>\n",
       "      <td>барселона проиграла лигу чемпионов она шас буд...</td>\n",
       "      <td>4.100</td>\n",
       "      <td>Ф1 (-2)</td>\n",
       "      <td>Леон</td>\n",
       "      <td>2019-05-25 19:00:00</td>\n",
       "      <td>Кубок Испании</td>\n",
       "      <td>Барселона</td>\n",
       "      <td>Валенсия</td>\n",
       "      <td>0.0</td>\n",
       "      <td>0.0</td>\n",
       "    </tr>\n",
       "  </tbody>\n",
       "</table>\n",
       "</div>"
      ],
      "text/plain": [
       "                                               result.tsv    odd tip_name  \\\n",
       "8190    Леганес в этом сезоне неплохо умеет выжимать р...  2.340       1X   \n",
       "440344  Сегодня состоится матч по Футболу, в 2 - Дивиз...  1.480   Ф1 (0)   \n",
       "291808  Квалификация Евро. Финляндия против Италии. Ду...  1.720       П2   \n",
       "234610          Арсенал дома, команда сильнее и увереннее  1.444       П1   \n",
       "433349  барселона проиграла лигу чемпионов она шас буд...  4.100  Ф1 (-2)   \n",
       "\n",
       "       bookmaker_name      match_date_time          league_name_in_russian  \\\n",
       "8190             Леон  2019-04-15 19:00:00                         Примера   \n",
       "440344       1xСтавка  2019-04-20 16:00:00                         Сегунда   \n",
       "291808       1xСтавка  2019-09-08 18:45:00  Чемпионат Европы. Квалификация   \n",
       "234610        Winline  2019-09-22 15:30:00                    Премьер-лига   \n",
       "433349           Леон  2019-05-25 19:00:00                   Кубок Испании   \n",
       "\n",
       "       team_of_season_1_name_in_russian team_of_season_2_name_in_russian  \\\n",
       "8190                            Леганес                      Реал Мадрид   \n",
       "440344                        Альбасете                      Лас-Пальмас   \n",
       "291808                        Финляндия                           Италия   \n",
       "234610                          Арсенал                      Астон Вилла   \n",
       "433349                        Барселона                         Валенсия   \n",
       "\n",
       "        list_direct_match_for_teams1  list_direct_match_for_teams2  \n",
       "8190                             1.0                           0.0  \n",
       "440344                           0.0                           0.0  \n",
       "291808                           0.0                           0.0  \n",
       "234610                           0.0                           0.0  \n",
       "433349                           0.0                           0.0  "
      ]
     },
     "execution_count": 148,
     "metadata": {},
     "output_type": "execute_result"
    }
   ],
   "source": [
    "subset_russian = russian.sample(n=10000)\n",
    "subset_russian.head(5)\n"
   ]
  },
  {
   "cell_type": "code",
   "execution_count": 149,
   "metadata": {},
   "outputs": [
    {
     "data": {
      "text/html": [
       "<div>\n",
       "<style scoped>\n",
       "    .dataframe tbody tr th:only-of-type {\n",
       "        vertical-align: middle;\n",
       "    }\n",
       "\n",
       "    .dataframe tbody tr th {\n",
       "        vertical-align: top;\n",
       "    }\n",
       "\n",
       "    .dataframe thead th {\n",
       "        text-align: right;\n",
       "    }\n",
       "</style>\n",
       "<table border=\"1\" class=\"dataframe\">\n",
       "  <thead>\n",
       "    <tr style=\"text-align: right;\">\n",
       "      <th></th>\n",
       "      <th>result.tsv</th>\n",
       "      <th>odd</th>\n",
       "      <th>tip_name</th>\n",
       "      <th>bookmaker_name</th>\n",
       "      <th>match_date_time</th>\n",
       "      <th>league_name_in_russian</th>\n",
       "      <th>team_of_season_1_name_in_russian</th>\n",
       "      <th>team_of_season_2_name_in_russian</th>\n",
       "      <th>list_direct_match_for_teams1</th>\n",
       "      <th>list_direct_match_for_teams2</th>\n",
       "    </tr>\n",
       "  </thead>\n",
       "  <tbody>\n",
       "    <tr>\n",
       "      <td>0</td>\n",
       "      <td>Леганес в этом сезоне неплохо умеет выжимать р...</td>\n",
       "      <td>2.340</td>\n",
       "      <td>1X</td>\n",
       "      <td>Леон</td>\n",
       "      <td>2019-04-15 19:00:00</td>\n",
       "      <td>Примера</td>\n",
       "      <td>Леганес</td>\n",
       "      <td>Реал Мадрид</td>\n",
       "      <td>1.0</td>\n",
       "      <td>0.0</td>\n",
       "    </tr>\n",
       "    <tr>\n",
       "      <td>1</td>\n",
       "      <td>Сегодня состоится матч по Футболу, в 2 - Дивиз...</td>\n",
       "      <td>1.480</td>\n",
       "      <td>Ф1 (0)</td>\n",
       "      <td>1xСтавка</td>\n",
       "      <td>2019-04-20 16:00:00</td>\n",
       "      <td>Сегунда</td>\n",
       "      <td>Альбасете</td>\n",
       "      <td>Лас-Пальмас</td>\n",
       "      <td>0.0</td>\n",
       "      <td>0.0</td>\n",
       "    </tr>\n",
       "    <tr>\n",
       "      <td>2</td>\n",
       "      <td>Квалификация Евро. Финляндия против Италии. Ду...</td>\n",
       "      <td>1.720</td>\n",
       "      <td>П2</td>\n",
       "      <td>1xСтавка</td>\n",
       "      <td>2019-09-08 18:45:00</td>\n",
       "      <td>Чемпионат Европы. Квалификация</td>\n",
       "      <td>Финляндия</td>\n",
       "      <td>Италия</td>\n",
       "      <td>0.0</td>\n",
       "      <td>0.0</td>\n",
       "    </tr>\n",
       "    <tr>\n",
       "      <td>3</td>\n",
       "      <td>Арсенал дома, команда сильнее и увереннее</td>\n",
       "      <td>1.444</td>\n",
       "      <td>П1</td>\n",
       "      <td>Winline</td>\n",
       "      <td>2019-09-22 15:30:00</td>\n",
       "      <td>Премьер-лига</td>\n",
       "      <td>Арсенал</td>\n",
       "      <td>Астон Вилла</td>\n",
       "      <td>0.0</td>\n",
       "      <td>0.0</td>\n",
       "    </tr>\n",
       "    <tr>\n",
       "      <td>4</td>\n",
       "      <td>барселона проиграла лигу чемпионов она шас буд...</td>\n",
       "      <td>4.100</td>\n",
       "      <td>Ф1 (-2)</td>\n",
       "      <td>Леон</td>\n",
       "      <td>2019-05-25 19:00:00</td>\n",
       "      <td>Кубок Испании</td>\n",
       "      <td>Барселона</td>\n",
       "      <td>Валенсия</td>\n",
       "      <td>0.0</td>\n",
       "      <td>0.0</td>\n",
       "    </tr>\n",
       "  </tbody>\n",
       "</table>\n",
       "</div>"
      ],
      "text/plain": [
       "                                          result.tsv    odd tip_name  \\\n",
       "0  Леганес в этом сезоне неплохо умеет выжимать р...  2.340       1X   \n",
       "1  Сегодня состоится матч по Футболу, в 2 - Дивиз...  1.480   Ф1 (0)   \n",
       "2  Квалификация Евро. Финляндия против Италии. Ду...  1.720       П2   \n",
       "3          Арсенал дома, команда сильнее и увереннее  1.444       П1   \n",
       "4  барселона проиграла лигу чемпионов она шас буд...  4.100  Ф1 (-2)   \n",
       "\n",
       "  bookmaker_name      match_date_time          league_name_in_russian  \\\n",
       "0           Леон  2019-04-15 19:00:00                         Примера   \n",
       "1       1xСтавка  2019-04-20 16:00:00                         Сегунда   \n",
       "2       1xСтавка  2019-09-08 18:45:00  Чемпионат Европы. Квалификация   \n",
       "3        Winline  2019-09-22 15:30:00                    Премьер-лига   \n",
       "4           Леон  2019-05-25 19:00:00                   Кубок Испании   \n",
       "\n",
       "  team_of_season_1_name_in_russian team_of_season_2_name_in_russian  \\\n",
       "0                          Леганес                      Реал Мадрид   \n",
       "1                        Альбасете                      Лас-Пальмас   \n",
       "2                        Финляндия                           Италия   \n",
       "3                          Арсенал                      Астон Вилла   \n",
       "4                        Барселона                         Валенсия   \n",
       "\n",
       "   list_direct_match_for_teams1  list_direct_match_for_teams2  \n",
       "0                           1.0                           0.0  \n",
       "1                           0.0                           0.0  \n",
       "2                           0.0                           0.0  \n",
       "3                           0.0                           0.0  \n",
       "4                           0.0                           0.0  "
      ]
     },
     "execution_count": 149,
     "metadata": {},
     "output_type": "execute_result"
    }
   ],
   "source": [
    "subset_russian = subset_russian.reset_index(drop=True)\n",
    "subset_russian.head(5)"
   ]
  },
  {
   "cell_type": "markdown",
   "metadata": {},
   "source": [
    "### Команда 1"
   ]
  },
  {
   "cell_type": "code",
   "execution_count": null,
   "metadata": {},
   "outputs": [],
   "source": [
    "for i, text in tqdm(enumerate(subset_russian['result.tsv'].values)):\n",
    "    if subset_russian['list_direct_match_for_teams1'][i] == 1:\n",
    "        continue\n",
    "    else:\n",
    "        #print(i)\n",
    "        capital_words_ru = re.findall(r'([А-Я][а-я]+)', text)\n",
    "        quotes = re.findall(r'\\\"(.+?)\\\"', text)\n",
    "        quotes2 = re.findall(r'«(.+?)»', text)\n",
    "        quotes3 = re.findall(r'\\'(.+?)\\'', text)\n",
    "        search_words = capital_words_ru + quotes + quotes2 + quotes3\n",
    "        search_words = set(search_words)\n",
    "        good_words = [word for word in search_words if word.lower() not in newlist_set] \n",
    "        #print(good_words)\n",
    "    \n",
    "        for word in good_words:\n",
    "            for team in unique_teams:\n",
    "                if fuzz.ratio(word, team) > 85:\n",
    "                    #print(russian['team_of_season_2_name_in_russian'][i], word, team, fuzz.ratio(word, team))\n",
    "                    subset_russian['list_direct_match_for_teams1'][i] = 1\n",
    "\n",
    "                    break\n"
   ]
  },
  {
   "cell_type": "code",
   "execution_count": 65,
   "metadata": {},
   "outputs": [
    {
     "name": "stdout",
     "output_type": "stream",
     "text": [
      "4413\n",
      "10000\n",
      "0.4413\n"
     ]
    }
   ],
   "source": [
    "success = subset_russian[subset_russian['list_direct_match_for_teams1'] == 1].shape[0]\n",
    "print(success)\n",
    "all_vals = subset_russian['list_direct_match_for_teams1'].shape[0]\n",
    "print(all_vals)\n",
    "baseline_team1 = success / all_vals\n",
    "print(baseline_team1)"
   ]
  },
  {
   "cell_type": "code",
   "execution_count": null,
   "metadata": {},
   "outputs": [],
   "source": [
    "for i, text in tqdm(enumerate(subset_russian['result.tsv'].values)):\n",
    "    if subset_russian['list_direct_match_for_teams1'][i] == 1:\n",
    "        continue\n",
    "    else:\n",
    "        #print(i)\n",
    "        capital_words_ru = re.findall(r'([А-Я][а-я]+)', text)\n",
    "        quotes = re.findall(r'\\\"(.+?)\\\"', text)\n",
    "        quotes2 = re.findall(r'«(.+?)»', text)\n",
    "        quotes3 = re.findall(r'\\'(.+?)\\'', text)\n",
    "        search_words = capital_words_ru + quotes + quotes2 + quotes3\n",
    "        search_words = set(search_words)\n",
    "        good_words = [word for word in search_words if word.lower() not in newlist_set] \n",
    "#         print(i, good_words)\n",
    "#         print(subset_russian['team_of_season_1_name_in_russian'][i])\n",
    "        \n",
    "    \n",
    "        for word in good_words:\n",
    "            for team in unique_teams:\n",
    "                if fuzz.ratio(word, team) > 65 and fuzz.ratio(word, subset_russian['team_of_season_1_name_in_russian'][i]) > 65:\n",
    "#                     print(subset_russian['team_of_season_1_name_in_russian'][i], word, team, fuzz.ratio(word, team))\n",
    "                    subset_russian['list_direct_match_for_teams1'][i] = 1\n",
    "\n",
    "                    break"
   ]
  },
  {
   "cell_type": "code",
   "execution_count": 152,
   "metadata": {},
   "outputs": [
    {
     "name": "stdout",
     "output_type": "stream",
     "text": [
      "6457\n",
      "10000\n",
      "0.6457\n"
     ]
    }
   ],
   "source": [
    "success = subset_russian[subset_russian['list_direct_match_for_teams1'] == 1].shape[0]\n",
    "print(success)\n",
    "all_vals = subset_russian['list_direct_match_for_teams1'].shape[0]\n",
    "print(all_vals)\n",
    "baseline_team1 = success / all_vals\n",
    "print(baseline_team1)"
   ]
  },
  {
   "cell_type": "markdown",
   "metadata": {},
   "source": [
    "### Команда 2 "
   ]
  },
  {
   "cell_type": "code",
   "execution_count": null,
   "metadata": {},
   "outputs": [],
   "source": [
    "for i, text in tqdm(enumerate(subset_russian['result.tsv'].values)):\n",
    "    if subset_russian['list_direct_match_for_teams2'][i] == 1:\n",
    "        continue\n",
    "    else:\n",
    "        #print(i)\n",
    "        capital_words_ru = re.findall(r'([А-Я][а-я]+)', text)\n",
    "        quotes = re.findall(r'\\\"(.+?)\\\"', text)\n",
    "        quotes2 = re.findall(r'«(.+?)»', text)\n",
    "        quotes3 = re.findall(r'\\'(.+?)\\'', text)\n",
    "        search_words = capital_words_ru + quotes + quotes2 + quotes3\n",
    "        search_words = set(search_words)\n",
    "        good_words = [word for word in search_words if word.lower() not in newlist_set] \n",
    "        #print(good_words)\n",
    "    \n",
    "        for word in good_words:\n",
    "            for team in unique_teams:\n",
    "                if fuzz.ratio(word, team) > 85 and subset_russian['team_of_season_2_name_in_russian'][i] == word:\n",
    "                    #print(russian['team_of_season_2_name_in_russian'][i], word, team, fuzz.ratio(word, team))\n",
    "                    subset_russian['list_direct_match_for_teams2'][i] = 1\n",
    "\n",
    "                    break\n"
   ]
  },
  {
   "cell_type": "code",
   "execution_count": 66,
   "metadata": {},
   "outputs": [
    {
     "name": "stdout",
     "output_type": "stream",
     "text": [
      "4144\n",
      "10000\n",
      "0.4144\n"
     ]
    }
   ],
   "source": [
    "success = subset_russian[subset_russian['list_direct_match_for_teams2'] == 1].shape[0]\n",
    "print(success)\n",
    "all_vals = subset_russian['list_direct_match_for_teams2'].shape[0]\n",
    "print(all_vals)\n",
    "baseline_team2 = success / all_vals\n",
    "print(baseline_team2)"
   ]
  },
  {
   "cell_type": "code",
   "execution_count": null,
   "metadata": {},
   "outputs": [],
   "source": [
    "for i, text in tqdm(enumerate(subset_russian['result.tsv'].values)):\n",
    "    if subset_russian['list_direct_match_for_teams2'][i] == 1:\n",
    "        continue\n",
    "    else:\n",
    "        #print(i)\n",
    "        capital_words_ru = re.findall(r'([А-Я][а-я]+)', text)\n",
    "        quotes = re.findall(r'\\\"(.+?)\\\"', text)\n",
    "        quotes2 = re.findall(r'«(.+?)»', text)\n",
    "        quotes3 = re.findall(r'\\'(.+?)\\'', text)\n",
    "        search_words = capital_words_ru + quotes + quotes2 + quotes3\n",
    "        search_words = set(search_words)\n",
    "        good_words = [word for word in search_words if word.lower() not in newlist_set] \n",
    "        #print(good_words)\n",
    "    \n",
    "        for word in good_words:\n",
    "            for team in unique_teams:\n",
    "                if fuzz.ratio(word, team) > 65 and fuzz.ratio(word, subset_russian['team_of_season_2_name_in_russian'][i]) > 65:                    #print(russian['team_of_season_2_name_in_russian'][i], word, team, fuzz.ratio(word, team))\n",
    "                    subset_russian['list_direct_match_for_teams2'][i] = 1\n",
    "\n",
    "                    break"
   ]
  },
  {
   "cell_type": "code",
   "execution_count": 154,
   "metadata": {},
   "outputs": [
    {
     "name": "stdout",
     "output_type": "stream",
     "text": [
      "6209\n",
      "10000\n",
      "0.6209\n"
     ]
    }
   ],
   "source": [
    "success = subset_russian[subset_russian['list_direct_match_for_teams2'] == 1].shape[0]\n",
    "print(success)\n",
    "all_vals = subset_russian['list_direct_match_for_teams2'].shape[0]\n",
    "print(all_vals)\n",
    "baseline_team2 = success / all_vals\n",
    "print(baseline_team2)"
   ]
  },
  {
   "cell_type": "code",
   "execution_count": 155,
   "metadata": {},
   "outputs": [],
   "source": [
    "subset_russian.to_csv(r'C:\\Users\\User\\Desktop\\project\\fuzzylistsnew20106.csv', index = False)"
   ]
  },
  {
   "cell_type": "markdown",
   "metadata": {},
   "source": [
    "### Лига"
   ]
  },
  {
   "cell_type": "code",
   "execution_count": 83,
   "metadata": {},
   "outputs": [],
   "source": [
    "leagues_match = np.zeros(subset_russian.shape[0])"
   ]
  },
  {
   "cell_type": "code",
   "execution_count": null,
   "metadata": {},
   "outputs": [],
   "source": [
    "for i, text in tqdm(enumerate(subset_russian['result.tsv'].values)):\n",
    "    #print(i)\n",
    "    capital_words_ru = re.findall(r'([А-Я][а-я]+)', text)\n",
    "    quotes = re.findall(r'\\\"(.+?)\\\"', text)\n",
    "    quotes2 = re.findall(r'«(.+?)»', text)\n",
    "    quotes3 = re.findall(r'\\'(.+?)\\'', text)\n",
    "    search_words = capital_words_ru + quotes + quotes2 + quotes3\n",
    "    search_words = set(search_words)\n",
    "    good_words = [word for word in search_words if word.lower() not in newlist_set] \n",
    "    #print(good_words)\n",
    "    \n",
    "    for word in good_words:\n",
    "        for league in unique_leagues:\n",
    "            if fuzz.ratio(word, league) > 50 and fuzz.ratio(word, subset_russian['league_name_in_russian'][i]) > 50:\n",
    "                print(subset_russian['league_name_in_russian'][i], word, league, fuzz.ratio(word, league))\n",
    "                #print('yes')\n",
    "                leagues_match[i] = 1\n",
    "\n",
    "                break"
   ]
  },
  {
   "cell_type": "code",
   "execution_count": 85,
   "metadata": {},
   "outputs": [],
   "source": [
    "subset_russian['list_fuzzy_match_for_league'] = leagues_match"
   ]
  },
  {
   "cell_type": "code",
   "execution_count": 86,
   "metadata": {},
   "outputs": [
    {
     "name": "stdout",
     "output_type": "stream",
     "text": [
      "1642\n",
      "10000\n",
      "0.1642\n"
     ]
    }
   ],
   "source": [
    "success = subset_russian[subset_russian['list_fuzzy_match_for_league'] == 1].shape[0]\n",
    "print(success)\n",
    "all_vals = subset_russian['list_fuzzy_match_for_league'].shape[0]\n",
    "print(all_vals)\n",
    "baseline_league = success / all_vals\n",
    "print(baseline_league)"
   ]
  },
  {
   "cell_type": "code",
   "execution_count": 87,
   "metadata": {},
   "outputs": [],
   "source": [
    "subset_russian.to_csv(r'C:\\Users\\User\\Desktop\\project\\fuzzylists0306_withleagues.csv', index = False)"
   ]
  }
 ],
 "metadata": {
  "kernelspec": {
   "display_name": "Python 3",
   "language": "python",
   "name": "python3"
  },
  "language_info": {
   "codemirror_mode": {
    "name": "ipython",
    "version": 3
   },
   "file_extension": ".py",
   "mimetype": "text/x-python",
   "name": "python",
   "nbconvert_exporter": "python",
   "pygments_lexer": "ipython3",
   "version": "3.7.4"
  }
 },
 "nbformat": 4,
 "nbformat_minor": 2
}
