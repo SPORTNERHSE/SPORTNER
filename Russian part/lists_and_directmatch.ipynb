{
 "cells": [
  {
   "cell_type": "code",
   "execution_count": 1,
   "metadata": {},
   "outputs": [],
   "source": [
    "import pandas as pd\n",
    "import re\n",
    "import numpy as np\n",
    "from tqdm import tqdm\n",
    "from nltk import word_tokenize\n",
    "from collections import Counter\n",
    "from string import punctuation\n",
    "punct = punctuation+'©«»—…“”*№–'"
   ]
  },
  {
   "cell_type": "code",
   "execution_count": null,
   "metadata": {},
   "outputs": [],
   "source": [
    "df = pd.read_csv('result_tar.gz', compression='gzip', sep='\\t', error_bad_lines=False)"
   ]
  },
  {
   "cell_type": "code",
   "execution_count": 3,
   "metadata": {},
   "outputs": [],
   "source": [
    "df = df.drop([\"url\", \"video_url\", \"source_name\", \"author_name\"], axis=1)\n",
    "df = df.dropna()\n",
    "df = df.drop_duplicates()\n",
    "df = df.reset_index(drop=True)"
   ]
  },
  {
   "cell_type": "code",
   "execution_count": 4,
   "metadata": {},
   "outputs": [
    {
     "data": {
      "text/html": [
       "<div>\n",
       "<style scoped>\n",
       "    .dataframe tbody tr th:only-of-type {\n",
       "        vertical-align: middle;\n",
       "    }\n",
       "\n",
       "    .dataframe tbody tr th {\n",
       "        vertical-align: top;\n",
       "    }\n",
       "\n",
       "    .dataframe thead th {\n",
       "        text-align: right;\n",
       "    }\n",
       "</style>\n",
       "<table border=\"1\" class=\"dataframe\">\n",
       "  <thead>\n",
       "    <tr style=\"text-align: right;\">\n",
       "      <th></th>\n",
       "      <th>result.tsv</th>\n",
       "      <th>odd</th>\n",
       "      <th>tip_name</th>\n",
       "      <th>bookmaker_name</th>\n",
       "      <th>match_date_time</th>\n",
       "      <th>league_name_in_russian</th>\n",
       "      <th>team_of_season_1_name_in_russian</th>\n",
       "      <th>team_of_season_2_name_in_russian</th>\n",
       "    </tr>\n",
       "  </thead>\n",
       "  <tbody>\n",
       "    <tr>\n",
       "      <td>0</td>\n",
       "      <td>Сборная Турции продолжает свою дорогу на Чемпи...</td>\n",
       "      <td>1.65</td>\n",
       "      <td>- 1,5</td>\n",
       "      <td>Олимп</td>\n",
       "      <td>2019-06-02 18:00:00</td>\n",
       "      <td>Международные товарищеские матчи</td>\n",
       "      <td>Турция</td>\n",
       "      <td>Узбекистан</td>\n",
       "    </tr>\n",
       "    <tr>\n",
       "      <td>1</td>\n",
       "      <td>Двадцать девятого числа состоится один весьма ...</td>\n",
       "      <td>1.52</td>\n",
       "      <td>– тотал меньше 2,5</td>\n",
       "      <td>Winline</td>\n",
       "      <td>2019-06-28 23:20:00</td>\n",
       "      <td>Кубок Америки</td>\n",
       "      <td>Колумбия</td>\n",
       "      <td>Чили</td>\n",
       "    </tr>\n",
       "    <tr>\n",
       "      <td>2</td>\n",
       "      <td>АЗ Алкмар В первом матче голландский клуб созд...</td>\n",
       "      <td>1.85</td>\n",
       "      <td>АЗ Алкмар забьет в обоих таймах</td>\n",
       "      <td>Лига Ставок</td>\n",
       "      <td>2019-08-15 18:30:00</td>\n",
       "      <td>Лига Европы УЕФА</td>\n",
       "      <td>АЗ Алкмаар</td>\n",
       "      <td>Мариуполь</td>\n",
       "    </tr>\n",
       "    <tr>\n",
       "      <td>3</td>\n",
       "      <td>«Сачхере» — «Абердин» И тот, и другой клуб оде...</td>\n",
       "      <td>1.45</td>\n",
       "      <td>Айнтрахт - 3 и более гола</td>\n",
       "      <td>Лига Ставок</td>\n",
       "      <td>2019-07-25 17:00:00</td>\n",
       "      <td>Лига Европы УЕФА</td>\n",
       "      <td>Флора</td>\n",
       "      <td>Айнтрахт Франкфурт</td>\n",
       "    </tr>\n",
       "    <tr>\n",
       "      <td>4</td>\n",
       "      <td>Я предполагаю ничью в этом матче с забитыми мя...</td>\n",
       "      <td>5</td>\n",
       "      <td>Арсенал забьет первым и не выиграет</td>\n",
       "      <td>1xСтавка</td>\n",
       "      <td>2019-05-09 19:00:00</td>\n",
       "      <td>Лига Европы УЕФА</td>\n",
       "      <td>Валенсия</td>\n",
       "      <td>Арсенал</td>\n",
       "    </tr>\n",
       "    <tr>\n",
       "      <td>5</td>\n",
       "      <td>Июль подходит к концу. Скоро мадридское дерби ...</td>\n",
       "      <td>1.62</td>\n",
       "      <td>Атлетико забьет 1 или 2 гола: да</td>\n",
       "      <td>Фонбет</td>\n",
       "      <td>2019-07-27 00:06:00</td>\n",
       "      <td>Международный Кубок чемпионов</td>\n",
       "      <td>Реал Мадрид</td>\n",
       "      <td>Атлетико Мадрид</td>\n",
       "    </tr>\n",
       "    <tr>\n",
       "      <td>6</td>\n",
       "      <td>«Ахмат», который доставил много проблем команд...</td>\n",
       "      <td>1.71</td>\n",
       "      <td>Ахмат забьет 1 или 2 гола: да</td>\n",
       "      <td>Пари-Матч</td>\n",
       "      <td>2019-07-14 18:30:00</td>\n",
       "      <td>Премьер-Лига</td>\n",
       "      <td>Ахмат</td>\n",
       "      <td>Краснодар</td>\n",
       "    </tr>\n",
       "    <tr>\n",
       "      <td>7</td>\n",
       "      <td>Никто толком не представляет, в каких составах...</td>\n",
       "      <td>2.45</td>\n",
       "      <td>Бавария забьет в обоих таймах</td>\n",
       "      <td>Лига Ставок</td>\n",
       "      <td>2019-07-18 03:00:00</td>\n",
       "      <td>Международный Кубок чемпионов</td>\n",
       "      <td>Арсенал</td>\n",
       "      <td>Бавария</td>\n",
       "    </tr>\n",
       "    <tr>\n",
       "      <td>8</td>\n",
       "      <td>Матч вроде бы товарищеский, но - это и репутац...</td>\n",
       "      <td>3.25</td>\n",
       "      <td>Барселона забьет в каждом тайме</td>\n",
       "      <td>Лига Ставок</td>\n",
       "      <td>2019-07-23 10:30:00</td>\n",
       "      <td>Клубные товарищеские матчи</td>\n",
       "      <td>Барселона</td>\n",
       "      <td>Челси</td>\n",
       "    </tr>\n",
       "    <tr>\n",
       "      <td>9</td>\n",
       "      <td>Беларусь – Эстония: прогноз и ставка на матч 1...</td>\n",
       "      <td>1.9</td>\n",
       "      <td>Беларусь индивидуальный тотал больше 1,5</td>\n",
       "      <td>Пари-Матч</td>\n",
       "      <td>2019-10-10 16:00:00</td>\n",
       "      <td>Чемпионат Европы. Квалификация</td>\n",
       "      <td>Беларусь</td>\n",
       "      <td>Эстония</td>\n",
       "    </tr>\n",
       "  </tbody>\n",
       "</table>\n",
       "</div>"
      ],
      "text/plain": [
       "                                          result.tsv   odd  \\\n",
       "0  Сборная Турции продолжает свою дорогу на Чемпи...  1.65   \n",
       "1  Двадцать девятого числа состоится один весьма ...  1.52   \n",
       "2  АЗ Алкмар В первом матче голландский клуб созд...  1.85   \n",
       "3  «Сачхере» — «Абердин» И тот, и другой клуб оде...  1.45   \n",
       "4  Я предполагаю ничью в этом матче с забитыми мя...     5   \n",
       "5  Июль подходит к концу. Скоро мадридское дерби ...  1.62   \n",
       "6  «Ахмат», который доставил много проблем команд...  1.71   \n",
       "7  Никто толком не представляет, в каких составах...  2.45   \n",
       "8  Матч вроде бы товарищеский, но - это и репутац...  3.25   \n",
       "9  Беларусь – Эстония: прогноз и ставка на матч 1...   1.9   \n",
       "\n",
       "                                   tip_name bookmaker_name  \\\n",
       "0                                     - 1,5          Олимп   \n",
       "1                        – тотал меньше 2,5        Winline   \n",
       "2           АЗ Алкмар забьет в обоих таймах    Лига Ставок   \n",
       "3                 Айнтрахт - 3 и более гола    Лига Ставок   \n",
       "4       Арсенал забьет первым и не выиграет       1xСтавка   \n",
       "5          Атлетико забьет 1 или 2 гола: да         Фонбет   \n",
       "6             Ахмат забьет 1 или 2 гола: да      Пари-Матч   \n",
       "7             Бавария забьет в обоих таймах    Лига Ставок   \n",
       "8           Барселона забьет в каждом тайме    Лига Ставок   \n",
       "9  Беларусь индивидуальный тотал больше 1,5      Пари-Матч   \n",
       "\n",
       "       match_date_time            league_name_in_russian  \\\n",
       "0  2019-06-02 18:00:00  Международные товарищеские матчи   \n",
       "1  2019-06-28 23:20:00                     Кубок Америки   \n",
       "2  2019-08-15 18:30:00                  Лига Европы УЕФА   \n",
       "3  2019-07-25 17:00:00                  Лига Европы УЕФА   \n",
       "4  2019-05-09 19:00:00                  Лига Европы УЕФА   \n",
       "5  2019-07-27 00:06:00     Международный Кубок чемпионов   \n",
       "6  2019-07-14 18:30:00                      Премьер-Лига   \n",
       "7  2019-07-18 03:00:00     Международный Кубок чемпионов   \n",
       "8  2019-07-23 10:30:00        Клубные товарищеские матчи   \n",
       "9  2019-10-10 16:00:00    Чемпионат Европы. Квалификация   \n",
       "\n",
       "  team_of_season_1_name_in_russian team_of_season_2_name_in_russian  \n",
       "0                           Турция                       Узбекистан  \n",
       "1                         Колумбия                             Чили  \n",
       "2                       АЗ Алкмаар                        Мариуполь  \n",
       "3                            Флора               Айнтрахт Франкфурт  \n",
       "4                         Валенсия                          Арсенал  \n",
       "5                      Реал Мадрид                  Атлетико Мадрид  \n",
       "6                            Ахмат                        Краснодар  \n",
       "7                          Арсенал                          Бавария  \n",
       "8                        Барселона                            Челси  \n",
       "9                         Беларусь                          Эстония  "
      ]
     },
     "execution_count": 4,
     "metadata": {},
     "output_type": "execute_result"
    }
   ],
   "source": [
    "df.head(10)"
   ]
  },
  {
   "cell_type": "code",
   "execution_count": 5,
   "metadata": {},
   "outputs": [
    {
     "data": {
      "text/html": [
       "<div>\n",
       "<style scoped>\n",
       "    .dataframe tbody tr th:only-of-type {\n",
       "        vertical-align: middle;\n",
       "    }\n",
       "\n",
       "    .dataframe tbody tr th {\n",
       "        vertical-align: top;\n",
       "    }\n",
       "\n",
       "    .dataframe thead th {\n",
       "        text-align: right;\n",
       "    }\n",
       "</style>\n",
       "<table border=\"1\" class=\"dataframe\">\n",
       "  <thead>\n",
       "    <tr style=\"text-align: right;\">\n",
       "      <th></th>\n",
       "      <th>result.tsv</th>\n",
       "      <th>odd</th>\n",
       "      <th>tip_name</th>\n",
       "      <th>bookmaker_name</th>\n",
       "      <th>match_date_time</th>\n",
       "      <th>league_name_in_russian</th>\n",
       "      <th>team_of_season_1_name_in_russian</th>\n",
       "      <th>team_of_season_2_name_in_russian</th>\n",
       "    </tr>\n",
       "  </thead>\n",
       "  <tbody>\n",
       "    <tr>\n",
       "      <td>0</td>\n",
       "      <td>Сборная Турции продолжает свою дорогу на Чемпи...</td>\n",
       "      <td>1.65</td>\n",
       "      <td>- 1,5</td>\n",
       "      <td>Олимп</td>\n",
       "      <td>2019-06-02 18:00:00</td>\n",
       "      <td>Международные товарищеские матчи</td>\n",
       "      <td>Турция</td>\n",
       "      <td>Узбекистан</td>\n",
       "    </tr>\n",
       "    <tr>\n",
       "      <td>1</td>\n",
       "      <td>Двадцать девятого числа состоится один весьма ...</td>\n",
       "      <td>1.52</td>\n",
       "      <td>– тотал меньше 2,5</td>\n",
       "      <td>Winline</td>\n",
       "      <td>2019-06-28 23:20:00</td>\n",
       "      <td>Кубок Америки</td>\n",
       "      <td>Колумбия</td>\n",
       "      <td>Чили</td>\n",
       "    </tr>\n",
       "    <tr>\n",
       "      <td>2</td>\n",
       "      <td>АЗ Алкмар В первом матче голландский клуб созд...</td>\n",
       "      <td>1.85</td>\n",
       "      <td>АЗ Алкмар забьет в обоих таймах</td>\n",
       "      <td>Лига Ставок</td>\n",
       "      <td>2019-08-15 18:30:00</td>\n",
       "      <td>Лига Европы УЕФА</td>\n",
       "      <td>АЗ Алкмаар</td>\n",
       "      <td>Мариуполь</td>\n",
       "    </tr>\n",
       "  </tbody>\n",
       "</table>\n",
       "</div>"
      ],
      "text/plain": [
       "                                          result.tsv   odd  \\\n",
       "0  Сборная Турции продолжает свою дорогу на Чемпи...  1.65   \n",
       "1  Двадцать девятого числа состоится один весьма ...  1.52   \n",
       "2  АЗ Алкмар В первом матче голландский клуб созд...  1.85   \n",
       "\n",
       "                          tip_name bookmaker_name      match_date_time  \\\n",
       "0                            - 1,5          Олимп  2019-06-02 18:00:00   \n",
       "1               – тотал меньше 2,5        Winline  2019-06-28 23:20:00   \n",
       "2  АЗ Алкмар забьет в обоих таймах    Лига Ставок  2019-08-15 18:30:00   \n",
       "\n",
       "             league_name_in_russian team_of_season_1_name_in_russian  \\\n",
       "0  Международные товарищеские матчи                           Турция   \n",
       "1                     Кубок Америки                         Колумбия   \n",
       "2                  Лига Европы УЕФА                       АЗ Алкмаар   \n",
       "\n",
       "  team_of_season_2_name_in_russian  \n",
       "0                       Узбекистан  \n",
       "1                             Чили  \n",
       "2                        Мариуполь  "
      ]
     },
     "execution_count": 5,
     "metadata": {},
     "output_type": "execute_result"
    }
   ],
   "source": [
    "def which_language (text):\n",
    "    if bool(re.search('[\\u0400-\\u04FF]', text)) == True:\n",
    "        return 'russian'\n",
    "    else:\n",
    "        return 'english'\n",
    "    \n",
    "lang=[]\n",
    "for i,text in enumerate(df['result.tsv'].values): \n",
    "    lang.append(which_language(str(text)))\n",
    "    \n",
    "df['Language'] = lang\n",
    "grouped=df.groupby('Language')\n",
    "for name, group in grouped: \n",
    "    if name == 'english': \n",
    "        english = group.drop('Language',axis=1) \n",
    "    else: \n",
    "        russian = group.drop('Language',axis=1)\n",
    "\n",
    "russian.head(3)"
   ]
  },
  {
   "cell_type": "code",
   "execution_count": 6,
   "metadata": {},
   "outputs": [
    {
     "data": {
      "text/plain": [
       "288"
      ]
     },
     "execution_count": 6,
     "metadata": {},
     "output_type": "execute_result"
    }
   ],
   "source": [
    "unique_leagues = russian['league_name_in_russian'].unique().tolist()\n",
    "len(unique_leagues)"
   ]
  },
  {
   "cell_type": "code",
   "execution_count": 7,
   "metadata": {},
   "outputs": [
    {
     "data": {
      "text/plain": [
       "3773"
      ]
     },
     "execution_count": 7,
     "metadata": {},
     "output_type": "execute_result"
    }
   ],
   "source": [
    "unique_teams1 = russian['team_of_season_1_name_in_russian'].unique().tolist()\n",
    "len(unique_teams1)"
   ]
  },
  {
   "cell_type": "code",
   "execution_count": 8,
   "metadata": {},
   "outputs": [
    {
     "data": {
      "text/plain": [
       "3730"
      ]
     },
     "execution_count": 8,
     "metadata": {},
     "output_type": "execute_result"
    }
   ],
   "source": [
    "unique_teams2 = russian['team_of_season_2_name_in_russian'].unique().tolist()\n",
    "len(unique_teams2)"
   ]
  },
  {
   "cell_type": "code",
   "execution_count": 9,
   "metadata": {},
   "outputs": [
    {
     "data": {
      "text/plain": [
       "4422"
      ]
     },
     "execution_count": 9,
     "metadata": {},
     "output_type": "execute_result"
    }
   ],
   "source": [
    "unique_teams = unique_teams1 + unique_teams2\n",
    "len(set(unique_teams))"
   ]
  },
  {
   "cell_type": "code",
   "execution_count": 10,
   "metadata": {},
   "outputs": [
    {
     "data": {
      "text/plain": [
       "'Швейцария - Англия Совершенно бестолковый матч. Команды без особой мотивации должны мучиться на жаре днем. Ну раз уж приехали в Португалию, чего бы не сыграть, по сути, товарищеский матч. Думаю, у Швейцарии преимущество должно быть. Англия играла на день позже, ей пришлось еще и овертайм провести. Плюс результат ударил по амбициям команды Саутгейта. Она упустила победу в основное время. Ее гол отменили из-за микроскопического офсайда. Ну и сами игроки наошибались от души. Швейцария проиграла тоже обидно. Но было больше времени, чтобы все это переварить. Ну и день отдыха лишний. К тому же, как мне кажется, для Швейцарии престижнее занять третье место в первой Лиге наций. Британцы же максималисты. Да и по качеству футбола Швейцария понравилась больше. Ей бы еще решить вопрос с мотивацией. Думаю, пока британцы будут разбираться со своим настроем, под шумок швейцарцы могут забить. Тем более в обороне англичан наверняка будет много перестановок. Нет смысла нагружать основных ребят, конец сезона уже. Да и Стоунс сейчас точно не в лучшем расположении духа. Здесь мне нравится гол Швейцарии в первом тайме, в том числе и из-за коэффициента. Португалия - Нидерланды Роналду затащил Португалию за уши финал. Команда Сантуша будет играть при своих болельщиках, но по качеству футбола не очень нравится португальская сборная. Без Роналду она даже интереснее. С ним на поле остальные игроки теряют в креативе. И Португалия становится более предсказуемой. Если голландцы смогут перекрыть Криштиану, у них все шансы. Куман выстроил игру, и \"оранжевые\" нравятся все больше. Кстати, команды играли год назад между собой в контрольной встрече, и тогда голландцы разгромили португальцев 3:0. Это стало неожиданностью, голландцы же не вышли на ЧМ, а тут так лихо себя проявили. Но в тот момент Куман уже начал строительство, и у него кое-что получилось. Португалия фаворит, но я бы сыграл от голландцев. Они мне кажутся более классной командой. Может, таких суперярких звезды нет, зато игроки лучше понимают, что им нужно делать. Мой вариант \"Нидерланды не проиграют и тотал меньше 3,5 мяча\".'"
      ]
     },
     "execution_count": 10,
     "metadata": {},
     "output_type": "execute_result"
    }
   ],
   "source": [
    "russian['result.tsv'][5133]"
   ]
  },
  {
   "cell_type": "code",
   "execution_count": 12,
   "metadata": {},
   "outputs": [],
   "source": [
    "russian = russian.reset_index(drop=True)"
   ]
  },
  {
   "cell_type": "markdown",
   "metadata": {},
   "source": [
    "### Команда 1 и 2 (список + прямой мэтч)"
   ]
  },
  {
   "cell_type": "code",
   "execution_count": 20,
   "metadata": {},
   "outputs": [],
   "source": [
    "teams1_match = np.zeros(df.shape[0])\n",
    "teams2_match = np.zeros(df.shape[0])"
   ]
  },
  {
   "cell_type": "markdown",
   "metadata": {},
   "source": [
    "https://stackoverflow.com/questions/15852436/how-to-find-the-2nd-max-of-a-counter-python"
   ]
  },
  {
   "cell_type": "code",
   "execution_count": 22,
   "metadata": {},
   "outputs": [
    {
     "name": "stderr",
     "output_type": "stream",
     "text": [
      "702908it [5:24:59, 36.05it/s] \n"
     ]
    }
   ],
   "source": [
    "for i, text in tqdm(enumerate(df['result.tsv'].values)):\n",
    "    txt_tokens = []\n",
    "    txt_tokens.append(word_tokenize(text))\n",
    "    for txt in txt_tokens:\n",
    "        count_tokens = []\n",
    "        for token in txt:\n",
    "            token = token.strip(punct)\n",
    "            #print(token)\n",
    "            if token in unique_teams:\n",
    "                count_tokens.append(token)\n",
    "        #print(count_tokens)\n",
    "        c = Counter(count_tokens)\n",
    "        #if count_tokens == 2\n",
    "        #print(df['team_of_season_1_name_in_russian'][i], df['team_of_season_2_name_in_russian'][i])\n",
    "        #print(c)\n",
    "        #print(max(c))\n",
    "        #print(c.most_common()[0:2])\n",
    "        #print(text)\n",
    "        try:\n",
    "            max_w1 = sorted(c, key=c.get)[-1]\n",
    "            #print(max_w1)\n",
    "        except:\n",
    "            continue\n",
    "        try:\n",
    "            max_w2 = sorted(c, key=c.get)[-2]\n",
    "            #print(max_w2)\n",
    "        except:\n",
    "            continue\n",
    "        \n",
    "        #print('мэтч команды 1')\n",
    "        if df['team_of_season_1_name_in_russian'][i] == max_w1 or df['team_of_season_1_name_in_russian'][i] == max_w2:\n",
    "            teams1_match[i] = 1\n",
    "            #print(df['team_of_season_1_name_in_russian'][i], max_w1)\n",
    "            #print(df['team_of_season_1_name_in_russian'][i], max_w2)\n",
    "        \n",
    "        #print('мэтч команды 2')\n",
    "        if df['team_of_season_2_name_in_russian'][i] == max_w1 or df['team_of_season_2_name_in_russian'][i] == max_w2:\n",
    "            teams2_match[i] = 1\n",
    "            #print(df['team_of_season_2_name_in_russian'][i], max_w1)\n",
    "            #print(df['team_of_season_2_name_in_russian'][i], max_w2)\n",
    "        \n",
    "        "
   ]
  },
  {
   "cell_type": "code",
   "execution_count": 25,
   "metadata": {},
   "outputs": [],
   "source": [
    "df['list_direct_match_for_teams1'] = teams1_match"
   ]
  },
  {
   "cell_type": "code",
   "execution_count": 26,
   "metadata": {},
   "outputs": [],
   "source": [
    "df['list_direct_match_for_teams2'] = teams2_match"
   ]
  },
  {
   "cell_type": "code",
   "execution_count": 27,
   "metadata": {},
   "outputs": [],
   "source": [
    "success1 = df[df['list_direct_match_for_teams1'] == 1].shape[0]\n",
    "success2 = df[df['list_direct_match_for_teams2'] == 1].shape[0]"
   ]
  },
  {
   "cell_type": "code",
   "execution_count": 29,
   "metadata": {},
   "outputs": [],
   "source": [
    "all_vals = df['list_direct_match_for_teams1'].shape[0]"
   ]
  },
  {
   "cell_type": "code",
   "execution_count": 30,
   "metadata": {},
   "outputs": [
    {
     "name": "stdout",
     "output_type": "stream",
     "text": [
      "0.20481058687623416\n"
     ]
    }
   ],
   "source": [
    "result_team1 = success1 / all_vals\n",
    "print(result_team1)"
   ]
  },
  {
   "cell_type": "code",
   "execution_count": 31,
   "metadata": {},
   "outputs": [
    {
     "name": "stdout",
     "output_type": "stream",
     "text": [
      "0.2051363763109824\n"
     ]
    }
   ],
   "source": [
    "result_team2 = success2 / all_vals\n",
    "print(result_team2)"
   ]
  },
  {
   "cell_type": "markdown",
   "metadata": {},
   "source": [
    "### Лиги"
   ]
  },
  {
   "cell_type": "code",
   "execution_count": 33,
   "metadata": {},
   "outputs": [],
   "source": [
    "leagues_match = np.zeros(df.shape[0])"
   ]
  },
  {
   "cell_type": "code",
   "execution_count": null,
   "metadata": {},
   "outputs": [],
   "source": [
    "%%time \n",
    "for i, text in tqdm(enumerate(df['result.tsv'].values)):\n",
    "    n_words_league = len(word_tokenize(df['league_name_in_russian'][i]))\n",
    "    N = n_words_league\n",
    "    words = word_tokenize(text)\n",
    "    words = [word.lower() for word in words if word not in punct ]\n",
    "    grams = [words[i:i+N] for i in range(len(words)-N+1)]\n",
    "\n",
    "    for gram in grams: \n",
    "        count_tokens = []\n",
    "        str1 = \" \"\n",
    "        joined_gram = str1.join(gram)\n",
    "        #print(joined_gram)\n",
    "        if joined_gram in unique_leagues:\n",
    "            count_tokens.append(joined_gram)\n",
    "    \n",
    "    c = Counter(count_tokens)\n",
    "    \n",
    "    try:\n",
    "        max_w1 = sorted(c, key=c.get)[-1]\n",
    "        #print(max_w1)\n",
    "        if df['league_name_in_russian'][i].lower() == max_w1:\n",
    "            leagues_match[i] = 1\n",
    "            #print(df['league_name_in_russian'][i].lower(), max_w1)\n",
    "        \n",
    "    except:\n",
    "        continue"
   ]
  },
  {
   "cell_type": "code",
   "execution_count": 35,
   "metadata": {},
   "outputs": [],
   "source": [
    "df['list_direct_match_for_leagues'] = leagues_match"
   ]
  },
  {
   "cell_type": "code",
   "execution_count": 36,
   "metadata": {},
   "outputs": [],
   "source": [
    "success = df[df['list_direct_match_for_leagues'] == 1].shape[0]"
   ]
  },
  {
   "cell_type": "code",
   "execution_count": 37,
   "metadata": {},
   "outputs": [],
   "source": [
    "all_vals = df['list_direct_match_for_leagues'].shape[0]"
   ]
  },
  {
   "cell_type": "code",
   "execution_count": 38,
   "metadata": {},
   "outputs": [
    {
     "name": "stdout",
     "output_type": "stream",
     "text": [
      "0.0\n"
     ]
    }
   ],
   "source": [
    "result_leagues = success / all_vals\n",
    "print(result_leagues)"
   ]
  },
  {
   "cell_type": "markdown",
   "metadata": {},
   "source": [
    "### русский"
   ]
  },
  {
   "cell_type": "code",
   "execution_count": 26,
   "metadata": {},
   "outputs": [],
   "source": [
    "teams1_match = np.zeros(russian.shape[0])\n",
    "teams2_match = np.zeros(russian.shape[0])"
   ]
  },
  {
   "cell_type": "code",
   "execution_count": 27,
   "metadata": {},
   "outputs": [],
   "source": [
    "for i, text in enumerate(russian['result.tsv'].values):\n",
    "    txt_tokens = []\n",
    "    txt_tokens.append(word_tokenize(text))\n",
    "    for txt in txt_tokens:\n",
    "        count_tokens = []\n",
    "        for token in txt:\n",
    "            token = token.strip(punct)\n",
    "            #print(token)\n",
    "            if token in unique_teams:\n",
    "                count_tokens.append(token)\n",
    "        #print(count_tokens)\n",
    "        c = Counter(count_tokens)\n",
    "        #if count_tokens == 2\n",
    "        #print(df['team_of_season_1_name_in_russian'][i], df['team_of_season_2_name_in_russian'][i])\n",
    "        #print(c)\n",
    "        #print(max(c))\n",
    "        #print(c.most_common()[0:2])\n",
    "        #print(text)\n",
    "        \n",
    "        try: \n",
    "            max_w1 = sorted(c, key=c.get)[-1]\n",
    "            #print(max_w1)\n",
    "        except:\n",
    "            continue\n",
    "        \n",
    "        try:\n",
    "            max_w2 = sorted(c, key=c.get)[-2]\n",
    "            #print(max_w2)\n",
    "        except:\n",
    "            continue\n",
    "        \n",
    "        \n",
    "#         print('мэтч команды 1')\n",
    "        \n",
    "        if russian['team_of_season_1_name_in_russian'][i] == max_w1 or russian['team_of_season_1_name_in_russian'][i] == max_w2:\n",
    "            teams1_match[i] = 1\n",
    "#             print(russian['team_of_season_1_name_in_russian'][i], max_w1)\n",
    "#             print(russian['team_of_season_1_name_in_russian'][i], max_w2)\n",
    "        \n",
    "#         print('мэтч команды 2')\n",
    "        \n",
    "        if russian['team_of_season_2_name_in_russian'][i] == max_w1 or russian['team_of_season_2_name_in_russian'][i] == max_w2:\n",
    "            teams2_match[i] = 1\n",
    "#             print(russian['team_of_season_2_name_in_russian'][i], max_w1)\n",
    "#             print(russian['team_of_season_2_name_in_russian'][i], max_w2)\n"
   ]
  },
  {
   "cell_type": "code",
   "execution_count": 28,
   "metadata": {},
   "outputs": [],
   "source": [
    "russian['list_direct_match_for_teams1'] = teams1_match\n",
    "russian['list_direct_match_for_teams2'] = teams2_match"
   ]
  },
  {
   "cell_type": "code",
   "execution_count": 29,
   "metadata": {},
   "outputs": [
    {
     "name": "stdout",
     "output_type": "stream",
     "text": [
      "0.24154306454941932\n",
      "0.2419223030854243\n"
     ]
    }
   ],
   "source": [
    "success1 = russian[russian['list_direct_match_for_teams1'] == 1].shape[0]\n",
    "success2 = russian[russian['list_direct_match_for_teams2'] == 1].shape[0]\n",
    "\n",
    "all_vals = russian['list_direct_match_for_teams1'].shape[0]\n",
    "\n",
    "result_team1 = success1 / all_vals\n",
    "print(result_team1)\n",
    "\n",
    "result_team2 = success2 / all_vals\n",
    "print(result_team2)"
   ]
  },
  {
   "cell_type": "code",
   "execution_count": 30,
   "metadata": {},
   "outputs": [],
   "source": [
    "russian.to_csv(r'C:\\Users\\User\\Desktop\\project\\russian_lists_and_directmatch.csv', index = False)"
   ]
  },
  {
   "cell_type": "code",
   "execution_count": 31,
   "metadata": {},
   "outputs": [
    {
     "data": {
      "text/plain": [
       "['Международные товарищеские матчи',\n",
       " 'Кубок Америки',\n",
       " 'Лига Европы УЕФА',\n",
       " 'Международный Кубок чемпионов',\n",
       " 'Премьер-Лига',\n",
       " 'Клубные товарищеские матчи',\n",
       " 'Чемпионат Европы. Квалификация',\n",
       " 'Эредивизи',\n",
       " 'Чемпионшип',\n",
       " 'Премьер-лига']"
      ]
     },
     "execution_count": 31,
     "metadata": {},
     "output_type": "execute_result"
    }
   ],
   "source": [
    "unique_leagues[:10]"
   ]
  },
  {
   "cell_type": "code",
   "execution_count": 32,
   "metadata": {},
   "outputs": [],
   "source": [
    "leagues_match = np.zeros(russian.shape[0])"
   ]
  },
  {
   "cell_type": "code",
   "execution_count": null,
   "metadata": {},
   "outputs": [],
   "source": [
    "%%time \n",
    "for i, text in tqdm(enumerate(russian['result.tsv'].values)):\n",
    "    try:\n",
    "        n_words_league = len(word_tokenize(russian['league_name_in_russian'][i]))\n",
    "        N = n_words_league\n",
    "        words = word_tokenize(text)\n",
    "        words = [word.lower() for word in words if word not in punct ]\n",
    "        grams = [words[i:i+N] for i in range(len(words)-N+1)]\n",
    "        #print(grams)\n",
    "    \n",
    "        for gram in grams: \n",
    "            count_tokens = []\n",
    "            str1 = \" \"\n",
    "            joined_gram = str1.join(gram)\n",
    "            #print(joined_gram)\n",
    "            if joined_gram in unique_leagues:\n",
    "                count_tokens.append(joined_gram)\n",
    "    \n",
    "        c = Counter(count_tokens)\n",
    "        #print(c)\n",
    "    \n",
    "        try:\n",
    "            max_w1 = sorted(c, key=c.get)[-1]\n",
    "            #print(max_w1)\n",
    "            #print(russian['league_name_in_russian'][i].lower(), max_w1)\n",
    "\n",
    "            if russian['league_name_in_russian'][i].lower() == max_w1:\n",
    "                leagues_match[i] = 1\n",
    "                #print(russian['league_name_in_russian'][i].lower(), max_w1)\n",
    "        \n",
    "        except:\n",
    "            continue\n",
    "    except:\n",
    "        continue"
   ]
  },
  {
   "cell_type": "code",
   "execution_count": 40,
   "metadata": {},
   "outputs": [
    {
     "name": "stdout",
     "output_type": "stream",
     "text": [
      "0.0\n"
     ]
    }
   ],
   "source": [
    "russian['list_direct_match_for_leagues'] = leagues_match\n",
    "success1 = russian[russian['list_direct_match_for_leagues'] == 1].shape[0]\n",
    "all_vals = russian['list_direct_match_for_leagues'].shape[0]\n",
    "\n",
    "result_league = success1 / all_vals\n",
    "print(result_league)\n"
   ]
  },
  {
   "cell_type": "code",
   "execution_count": 41,
   "metadata": {},
   "outputs": [],
   "source": [
    "russian.to_csv(r'C:\\Users\\User\\Desktop\\project\\russian_lists_and_directmatch_with_leagues.csv', index = False)"
   ]
  }
 ],
 "metadata": {
  "kernelspec": {
   "display_name": "Python 3",
   "language": "python",
   "name": "python3"
  },
  "language_info": {
   "codemirror_mode": {
    "name": "ipython",
    "version": 3
   },
   "file_extension": ".py",
   "mimetype": "text/x-python",
   "name": "python",
   "nbconvert_exporter": "python",
   "pygments_lexer": "ipython3",
   "version": "3.7.4"
  }
 },
 "nbformat": 4,
 "nbformat_minor": 2
}
