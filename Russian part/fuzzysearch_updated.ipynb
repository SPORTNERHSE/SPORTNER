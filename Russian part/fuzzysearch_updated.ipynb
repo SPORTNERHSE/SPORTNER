{
 "cells": [
  {
   "cell_type": "code",
   "execution_count": null,
   "metadata": {},
   "outputs": [],
   "source": [
    "import pandas as pd\n",
    "import numpy as np\n",
    "from string import punctuation\n",
    "from fuzzywuzzy import fuzz\n",
    "from nltk import word_tokenize\n",
    "from stop_words import get_stop_words\n",
    "from nltk.corpus import stopwords\n",
    "from string import punctuation \n",
    "from tqdm import tqdm "
   ]
  },
  {
   "cell_type": "code",
   "execution_count": null,
   "metadata": {},
   "outputs": [],
   "source": [
    "df = pd.read_csv('result_tar.gz', compression='gzip', sep='\\t', error_bad_lines=False)"
   ]
  },
  {
   "cell_type": "code",
   "execution_count": 5,
   "metadata": {},
   "outputs": [],
   "source": [
    "df = df.drop([\"url\", \"video_url\", \"source_name\", \"author_name\"], axis=1)"
   ]
  },
  {
   "cell_type": "code",
   "execution_count": 6,
   "metadata": {},
   "outputs": [],
   "source": [
    "df = df.dropna()"
   ]
  },
  {
   "cell_type": "code",
   "execution_count": 7,
   "metadata": {},
   "outputs": [],
   "source": [
    "df = df.drop_duplicates()"
   ]
  },
  {
   "cell_type": "code",
   "execution_count": 8,
   "metadata": {},
   "outputs": [],
   "source": [
    "df = df.reset_index(drop=True)"
   ]
  },
  {
   "cell_type": "code",
   "execution_count": 9,
   "metadata": {},
   "outputs": [
    {
     "data": {
      "text/html": [
       "<div>\n",
       "<style scoped>\n",
       "    .dataframe tbody tr th:only-of-type {\n",
       "        vertical-align: middle;\n",
       "    }\n",
       "\n",
       "    .dataframe tbody tr th {\n",
       "        vertical-align: top;\n",
       "    }\n",
       "\n",
       "    .dataframe thead th {\n",
       "        text-align: right;\n",
       "    }\n",
       "</style>\n",
       "<table border=\"1\" class=\"dataframe\">\n",
       "  <thead>\n",
       "    <tr style=\"text-align: right;\">\n",
       "      <th></th>\n",
       "      <th>result.tsv</th>\n",
       "      <th>odd</th>\n",
       "      <th>tip_name</th>\n",
       "      <th>bookmaker_name</th>\n",
       "      <th>match_date_time</th>\n",
       "      <th>league_name_in_russian</th>\n",
       "      <th>team_of_season_1_name_in_russian</th>\n",
       "      <th>team_of_season_2_name_in_russian</th>\n",
       "    </tr>\n",
       "  </thead>\n",
       "  <tbody>\n",
       "    <tr>\n",
       "      <td>0</td>\n",
       "      <td>Сборная Турции продолжает свою дорогу на Чемпи...</td>\n",
       "      <td>1.65</td>\n",
       "      <td>- 1,5</td>\n",
       "      <td>Олимп</td>\n",
       "      <td>2019-06-02 18:00:00</td>\n",
       "      <td>Международные товарищеские матчи</td>\n",
       "      <td>Турция</td>\n",
       "      <td>Узбекистан</td>\n",
       "    </tr>\n",
       "    <tr>\n",
       "      <td>1</td>\n",
       "      <td>Двадцать девятого числа состоится один весьма ...</td>\n",
       "      <td>1.52</td>\n",
       "      <td>– тотал меньше 2,5</td>\n",
       "      <td>Winline</td>\n",
       "      <td>2019-06-28 23:20:00</td>\n",
       "      <td>Кубок Америки</td>\n",
       "      <td>Колумбия</td>\n",
       "      <td>Чили</td>\n",
       "    </tr>\n",
       "    <tr>\n",
       "      <td>2</td>\n",
       "      <td>АЗ Алкмар В первом матче голландский клуб созд...</td>\n",
       "      <td>1.85</td>\n",
       "      <td>АЗ Алкмар забьет в обоих таймах</td>\n",
       "      <td>Лига Ставок</td>\n",
       "      <td>2019-08-15 18:30:00</td>\n",
       "      <td>Лига Европы УЕФА</td>\n",
       "      <td>АЗ Алкмаар</td>\n",
       "      <td>Мариуполь</td>\n",
       "    </tr>\n",
       "    <tr>\n",
       "      <td>3</td>\n",
       "      <td>«Сачхере» — «Абердин» И тот, и другой клуб оде...</td>\n",
       "      <td>1.45</td>\n",
       "      <td>Айнтрахт - 3 и более гола</td>\n",
       "      <td>Лига Ставок</td>\n",
       "      <td>2019-07-25 17:00:00</td>\n",
       "      <td>Лига Европы УЕФА</td>\n",
       "      <td>Флора</td>\n",
       "      <td>Айнтрахт Франкфурт</td>\n",
       "    </tr>\n",
       "    <tr>\n",
       "      <td>4</td>\n",
       "      <td>Я предполагаю ничью в этом матче с забитыми мя...</td>\n",
       "      <td>5</td>\n",
       "      <td>Арсенал забьет первым и не выиграет</td>\n",
       "      <td>1xСтавка</td>\n",
       "      <td>2019-05-09 19:00:00</td>\n",
       "      <td>Лига Европы УЕФА</td>\n",
       "      <td>Валенсия</td>\n",
       "      <td>Арсенал</td>\n",
       "    </tr>\n",
       "    <tr>\n",
       "      <td>5</td>\n",
       "      <td>Июль подходит к концу. Скоро мадридское дерби ...</td>\n",
       "      <td>1.62</td>\n",
       "      <td>Атлетико забьет 1 или 2 гола: да</td>\n",
       "      <td>Фонбет</td>\n",
       "      <td>2019-07-27 00:06:00</td>\n",
       "      <td>Международный Кубок чемпионов</td>\n",
       "      <td>Реал Мадрид</td>\n",
       "      <td>Атлетико Мадрид</td>\n",
       "    </tr>\n",
       "    <tr>\n",
       "      <td>6</td>\n",
       "      <td>«Ахмат», который доставил много проблем команд...</td>\n",
       "      <td>1.71</td>\n",
       "      <td>Ахмат забьет 1 или 2 гола: да</td>\n",
       "      <td>Пари-Матч</td>\n",
       "      <td>2019-07-14 18:30:00</td>\n",
       "      <td>Премьер-Лига</td>\n",
       "      <td>Ахмат</td>\n",
       "      <td>Краснодар</td>\n",
       "    </tr>\n",
       "    <tr>\n",
       "      <td>7</td>\n",
       "      <td>Никто толком не представляет, в каких составах...</td>\n",
       "      <td>2.45</td>\n",
       "      <td>Бавария забьет в обоих таймах</td>\n",
       "      <td>Лига Ставок</td>\n",
       "      <td>2019-07-18 03:00:00</td>\n",
       "      <td>Международный Кубок чемпионов</td>\n",
       "      <td>Арсенал</td>\n",
       "      <td>Бавария</td>\n",
       "    </tr>\n",
       "    <tr>\n",
       "      <td>8</td>\n",
       "      <td>Матч вроде бы товарищеский, но - это и репутац...</td>\n",
       "      <td>3.25</td>\n",
       "      <td>Барселона забьет в каждом тайме</td>\n",
       "      <td>Лига Ставок</td>\n",
       "      <td>2019-07-23 10:30:00</td>\n",
       "      <td>Клубные товарищеские матчи</td>\n",
       "      <td>Барселона</td>\n",
       "      <td>Челси</td>\n",
       "    </tr>\n",
       "    <tr>\n",
       "      <td>9</td>\n",
       "      <td>Беларусь – Эстония: прогноз и ставка на матч 1...</td>\n",
       "      <td>1.9</td>\n",
       "      <td>Беларусь индивидуальный тотал больше 1,5</td>\n",
       "      <td>Пари-Матч</td>\n",
       "      <td>2019-10-10 16:00:00</td>\n",
       "      <td>Чемпионат Европы. Квалификация</td>\n",
       "      <td>Беларусь</td>\n",
       "      <td>Эстония</td>\n",
       "    </tr>\n",
       "  </tbody>\n",
       "</table>\n",
       "</div>"
      ],
      "text/plain": [
       "                                          result.tsv   odd  \\\n",
       "0  Сборная Турции продолжает свою дорогу на Чемпи...  1.65   \n",
       "1  Двадцать девятого числа состоится один весьма ...  1.52   \n",
       "2  АЗ Алкмар В первом матче голландский клуб созд...  1.85   \n",
       "3  «Сачхере» — «Абердин» И тот, и другой клуб оде...  1.45   \n",
       "4  Я предполагаю ничью в этом матче с забитыми мя...     5   \n",
       "5  Июль подходит к концу. Скоро мадридское дерби ...  1.62   \n",
       "6  «Ахмат», который доставил много проблем команд...  1.71   \n",
       "7  Никто толком не представляет, в каких составах...  2.45   \n",
       "8  Матч вроде бы товарищеский, но - это и репутац...  3.25   \n",
       "9  Беларусь – Эстония: прогноз и ставка на матч 1...   1.9   \n",
       "\n",
       "                                   tip_name bookmaker_name  \\\n",
       "0                                     - 1,5          Олимп   \n",
       "1                        – тотал меньше 2,5        Winline   \n",
       "2           АЗ Алкмар забьет в обоих таймах    Лига Ставок   \n",
       "3                 Айнтрахт - 3 и более гола    Лига Ставок   \n",
       "4       Арсенал забьет первым и не выиграет       1xСтавка   \n",
       "5          Атлетико забьет 1 или 2 гола: да         Фонбет   \n",
       "6             Ахмат забьет 1 или 2 гола: да      Пари-Матч   \n",
       "7             Бавария забьет в обоих таймах    Лига Ставок   \n",
       "8           Барселона забьет в каждом тайме    Лига Ставок   \n",
       "9  Беларусь индивидуальный тотал больше 1,5      Пари-Матч   \n",
       "\n",
       "       match_date_time            league_name_in_russian  \\\n",
       "0  2019-06-02 18:00:00  Международные товарищеские матчи   \n",
       "1  2019-06-28 23:20:00                     Кубок Америки   \n",
       "2  2019-08-15 18:30:00                  Лига Европы УЕФА   \n",
       "3  2019-07-25 17:00:00                  Лига Европы УЕФА   \n",
       "4  2019-05-09 19:00:00                  Лига Европы УЕФА   \n",
       "5  2019-07-27 00:06:00     Международный Кубок чемпионов   \n",
       "6  2019-07-14 18:30:00                      Премьер-Лига   \n",
       "7  2019-07-18 03:00:00     Международный Кубок чемпионов   \n",
       "8  2019-07-23 10:30:00        Клубные товарищеские матчи   \n",
       "9  2019-10-10 16:00:00    Чемпионат Европы. Квалификация   \n",
       "\n",
       "  team_of_season_1_name_in_russian team_of_season_2_name_in_russian  \n",
       "0                           Турция                       Узбекистан  \n",
       "1                         Колумбия                             Чили  \n",
       "2                       АЗ Алкмаар                        Мариуполь  \n",
       "3                            Флора               Айнтрахт Франкфурт  \n",
       "4                         Валенсия                          Арсенал  \n",
       "5                      Реал Мадрид                  Атлетико Мадрид  \n",
       "6                            Ахмат                        Краснодар  \n",
       "7                          Арсенал                          Бавария  \n",
       "8                        Барселона                            Челси  \n",
       "9                         Беларусь                          Эстония  "
      ]
     },
     "execution_count": 9,
     "metadata": {},
     "output_type": "execute_result"
    }
   ],
   "source": [
    "df.head(10)"
   ]
  },
  {
   "cell_type": "code",
   "execution_count": 8,
   "metadata": {},
   "outputs": [],
   "source": [
    "stop_words_list = get_stop_words('ru')\n",
    "stop_words_list2 = stopwords.words('russian')\n",
    "full_stops = set(stop_words_list + stop_words_list2)"
   ]
  },
  {
   "cell_type": "markdown",
   "metadata": {},
   "source": [
    "### Весь датасет"
   ]
  },
  {
   "cell_type": "markdown",
   "metadata": {},
   "source": [
    "### Нечеткий поиск по командам 1"
   ]
  },
  {
   "cell_type": "code",
   "execution_count": 8,
   "metadata": {},
   "outputs": [
    {
     "name": "stdout",
     "output_type": "stream",
     "text": [
      "Wall time: 2h 35min 19s\n"
     ]
    }
   ],
   "source": [
    "%%time\n",
    "tokens = []\n",
    "teams1_match = np.zeros(df.shape[0])\n",
    "for i, text in enumerate(df['result.tsv'].values):\n",
    "    txt_tokens = []\n",
    "    txt_tokens.append(word_tokenize(text))\n",
    "    for text in txt_tokens:\n",
    "        for t in text:\n",
    "            if fuzz.ratio(df['team_of_season_1_name_in_russian'][i], t) > 70:\n",
    "                teams1_match[i] = 1"
   ]
  },
  {
   "cell_type": "code",
   "execution_count": 9,
   "metadata": {},
   "outputs": [],
   "source": [
    "df['fuzzy_match_for_teams1'] = teams1_match"
   ]
  },
  {
   "cell_type": "code",
   "execution_count": 10,
   "metadata": {},
   "outputs": [
    {
     "name": "stdout",
     "output_type": "stream",
     "text": [
      "702908\n"
     ]
    }
   ],
   "source": [
    "all_vals = df['fuzzy_match_for_teams1'].shape[0]\n",
    "print(all_vals)"
   ]
  },
  {
   "cell_type": "code",
   "execution_count": 11,
   "metadata": {},
   "outputs": [
    {
     "name": "stdout",
     "output_type": "stream",
     "text": [
      "330689\n"
     ]
    }
   ],
   "source": [
    "success = df[df['fuzzy_match_for_teams1'] == 1].shape[0]\n",
    "print(success)"
   ]
  },
  {
   "cell_type": "code",
   "execution_count": 12,
   "metadata": {},
   "outputs": [
    {
     "name": "stdout",
     "output_type": "stream",
     "text": [
      "0.47045843837315837\n"
     ]
    }
   ],
   "source": [
    "fuzzyline_team1 = success / all_vals\n",
    "print(fuzzyline_team1)"
   ]
  },
  {
   "cell_type": "markdown",
   "metadata": {},
   "source": [
    "### Нечеткий поиск по командам 2"
   ]
  },
  {
   "cell_type": "code",
   "execution_count": 13,
   "metadata": {},
   "outputs": [
    {
     "name": "stdout",
     "output_type": "stream",
     "text": [
      "Wall time: 2h 30min 34s\n"
     ]
    }
   ],
   "source": [
    "%%time\n",
    "tokens = []\n",
    "teams2_match = np.zeros(df.shape[0])\n",
    "for i, text in enumerate(df['result.tsv'].values):\n",
    "    txt_tokens = []\n",
    "    txt_tokens.append(word_tokenize(text))\n",
    "    for text in txt_tokens:\n",
    "        for t in text:\n",
    "            if fuzz.ratio(df['team_of_season_2_name_in_russian'][i], t) > 70:\n",
    "                teams2_match[i] = 1"
   ]
  },
  {
   "cell_type": "code",
   "execution_count": 14,
   "metadata": {},
   "outputs": [],
   "source": [
    "df['fuzzy_match_for_teams2'] = teams2_match"
   ]
  },
  {
   "cell_type": "code",
   "execution_count": 27,
   "metadata": {},
   "outputs": [
    {
     "name": "stdout",
     "output_type": "stream",
     "text": [
      "702908\n"
     ]
    }
   ],
   "source": [
    "all_vals = df['fuzzy_match_for_teams2'].shape[0]\n",
    "print(all_vals)"
   ]
  },
  {
   "cell_type": "code",
   "execution_count": 28,
   "metadata": {},
   "outputs": [
    {
     "name": "stdout",
     "output_type": "stream",
     "text": [
      "321167\n"
     ]
    }
   ],
   "source": [
    "success = df[df['fuzzy_match_for_teams2'] == 1].shape[0]\n",
    "print(success)"
   ]
  },
  {
   "cell_type": "code",
   "execution_count": 29,
   "metadata": {},
   "outputs": [],
   "source": [
    "fuzzyline_team2 = success / all_vals"
   ]
  },
  {
   "cell_type": "code",
   "execution_count": 30,
   "metadata": {},
   "outputs": [
    {
     "name": "stdout",
     "output_type": "stream",
     "text": [
      "0.4569118575972958\n"
     ]
    }
   ],
   "source": [
    "print(fuzzyline_team2)"
   ]
  },
  {
   "cell_type": "markdown",
   "metadata": {},
   "source": [
    "### Нечеткий поиск по лигам"
   ]
  },
  {
   "cell_type": "markdown",
   "metadata": {},
   "source": [
    "Без нграммов (попробовать снова)"
   ]
  },
  {
   "cell_type": "code",
   "execution_count": 9,
   "metadata": {},
   "outputs": [
    {
     "name": "stdout",
     "output_type": "stream",
     "text": [
      "Wall time: 2h 20min 43s\n"
     ]
    }
   ],
   "source": [
    "%%time\n",
    "tokens = []\n",
    "leagues_match = np.zeros(df.shape[0])\n",
    "for i, text in enumerate(df['result.tsv'].values):\n",
    "    txt_tokens = []\n",
    "    txt_tokens.append(word_tokenize(text))\n",
    "    for text in txt_tokens:\n",
    "        for t in text:\n",
    "            if t not in full_stops:\n",
    "                if fuzz.ratio(df['league_name_in_russian'][i], t) > 60:\n",
    "                    leagues_match[i] = 1"
   ]
  },
  {
   "cell_type": "code",
   "execution_count": 10,
   "metadata": {},
   "outputs": [],
   "source": [
    "df['fuzzy_match_for_leagues'] = leagues_match"
   ]
  },
  {
   "cell_type": "code",
   "execution_count": 11,
   "metadata": {},
   "outputs": [
    {
     "name": "stdout",
     "output_type": "stream",
     "text": [
      "702908\n",
      "88254\n",
      "0.1255555492326165\n"
     ]
    }
   ],
   "source": [
    "all_vals = df['fuzzy_match_for_leagues'].shape[0]\n",
    "print(all_vals)\n",
    "success = df[df['fuzzy_match_for_leagues'] == 1].shape[0]\n",
    "print(success)\n",
    "fuzzyline_leagues = success / all_vals\n",
    "print(fuzzyline_leagues)"
   ]
  },
  {
   "cell_type": "markdown",
   "metadata": {},
   "source": [
    "С использованием нграммов"
   ]
  },
  {
   "cell_type": "code",
   "execution_count": 34,
   "metadata": {},
   "outputs": [
    {
     "name": "stderr",
     "output_type": "stream",
     "text": [
      "702908it [3:36:13, 54.18it/s] \n"
     ]
    },
    {
     "name": "stdout",
     "output_type": "stream",
     "text": [
      "Wall time: 3h 36min 13s\n"
     ]
    }
   ],
   "source": [
    "%%time \n",
    "leagues_match = np.zeros(df.shape[0])\n",
    "for i, text in tqdm(enumerate(df['result.tsv'].values)):\n",
    "    n_words_league = len(word_tokenize(df['league_name_in_russian'][i]))\n",
    "    #print(n_words_league)\n",
    "    N = n_words_league\n",
    "    words = word_tokenize(text)\n",
    "    grams = [words[i:i+N] for i in range(len(words)-N+1)]\n",
    "    #print(i)\n",
    "    #print(grams)\n",
    "    for gram in grams: \n",
    "        str1 = \" \"\n",
    "        joined_gram = str1.join(gram)\n",
    "        #print(joined_gram)\n",
    "        if fuzz.ratio(df['league_name_in_russian'][i], joined_gram) > 60:\n",
    "            #print(df['league_name_in_russian'][i], joined_gram)\n",
    "            leagues_match[i] = 1\n"
   ]
  },
  {
   "cell_type": "code",
   "execution_count": 35,
   "metadata": {},
   "outputs": [],
   "source": [
    "df['fuzzy_match_for_leagues'] = leagues_match"
   ]
  },
  {
   "cell_type": "code",
   "execution_count": 36,
   "metadata": {},
   "outputs": [
    {
     "name": "stdout",
     "output_type": "stream",
     "text": [
      "702908\n",
      "128578\n",
      "0.18292294297404496\n"
     ]
    }
   ],
   "source": [
    "all_vals = df['fuzzy_match_for_leagues'].shape[0]\n",
    "print(all_vals)\n",
    "success = df[df['fuzzy_match_for_leagues'] == 1].shape[0]\n",
    "print(success)\n",
    "fuzzyline_leagues = success / all_vals\n",
    "print(fuzzyline_leagues)"
   ]
  },
  {
   "cell_type": "markdown",
   "metadata": {},
   "source": [
    "### Нечеткий поиск по букмекерам"
   ]
  },
  {
   "cell_type": "markdown",
   "metadata": {},
   "source": [
    "Вариант без нграммов"
   ]
  },
  {
   "cell_type": "code",
   "execution_count": 31,
   "metadata": {},
   "outputs": [
    {
     "name": "stdout",
     "output_type": "stream",
     "text": [
      "Wall time: 2h 24min 46s\n"
     ]
    }
   ],
   "source": [
    "%%time\n",
    "tokens = []\n",
    "bookmaker_match = np.zeros(df.shape[0])\n",
    "for i, text in enumerate(df['result.tsv'].values):\n",
    "    txt_tokens = []\n",
    "    txt_tokens.append(word_tokenize(text))\n",
    "    for text in txt_tokens:\n",
    "        for t in text:\n",
    "            if fuzz.ratio(df['bookmaker_name'][i], t) > 70:\n",
    "                bookmaker_match[i] = 1"
   ]
  },
  {
   "cell_type": "code",
   "execution_count": 32,
   "metadata": {},
   "outputs": [],
   "source": [
    "df['fuzzy_match_for_bookmakers1'] = bookmaker_match"
   ]
  },
  {
   "cell_type": "code",
   "execution_count": 23,
   "metadata": {},
   "outputs": [
    {
     "name": "stdout",
     "output_type": "stream",
     "text": [
      "702908\n",
      "1596\n",
      "0.002270567414227751\n"
     ]
    }
   ],
   "source": [
    "all_vals = df['fuzzy_match_for_bookmakers1'].shape[0]\n",
    "print(all_vals)\n",
    "success = df[df['fuzzy_match_for_bookmakers1'] == 1].shape[0]\n",
    "print(success)\n",
    "fuzzyline_bookmakers = success / all_vals\n",
    "print(fuzzyline_bookmakers)"
   ]
  },
  {
   "cell_type": "markdown",
   "metadata": {},
   "source": [
    "Вариант с нграммами"
   ]
  },
  {
   "cell_type": "code",
   "execution_count": 37,
   "metadata": {},
   "outputs": [
    {
     "name": "stderr",
     "output_type": "stream",
     "text": [
      "702908it [2:42:52, 71.92it/s] \n"
     ]
    },
    {
     "name": "stdout",
     "output_type": "stream",
     "text": [
      "Wall time: 2h 42min 52s\n"
     ]
    }
   ],
   "source": [
    "%%time \n",
    "bookmaker_match = np.zeros(df.shape[0])\n",
    "for i, text in tqdm(enumerate(df['result.tsv'].values)):\n",
    "    n_words_bookmaker = len(word_tokenize(df['bookmaker_name'][i]))\n",
    "    #print(n_words_league)\n",
    "    N = n_words_bookmaker\n",
    "    words = word_tokenize(text)\n",
    "    grams = [words[i:i+N] for i in range(len(words)-N+1)]\n",
    "    #print(i)\n",
    "    #print(grams)\n",
    "    for gram in grams: \n",
    "        str1 = \" \"\n",
    "        joined_gram = str1.join(gram)\n",
    "        #print(joined_gram)\n",
    "        if fuzz.ratio(df['bookmaker_name'][i], joined_gram) > 60:\n",
    "            #print(df['league_name_in_russian'][i], joined_gram)\n",
    "            bookmaker_match[i] = 1\n"
   ]
  },
  {
   "cell_type": "code",
   "execution_count": 38,
   "metadata": {},
   "outputs": [],
   "source": [
    "df['fuzzy_match_for_bookmakers2'] = bookmaker_match"
   ]
  },
  {
   "cell_type": "code",
   "execution_count": 39,
   "metadata": {},
   "outputs": [
    {
     "name": "stdout",
     "output_type": "stream",
     "text": [
      "702908\n",
      "60190\n",
      "0.0856299828711581\n"
     ]
    }
   ],
   "source": [
    "all_vals = df['fuzzy_match_for_bookmakers2'].shape[0]\n",
    "print(all_vals)\n",
    "success = df[df['fuzzy_match_for_bookmakers2'] == 1].shape[0]\n",
    "print(success)\n",
    "fuzzyline_bookmakers = success / all_vals\n",
    "print(fuzzyline_bookmakers)"
   ]
  },
  {
   "cell_type": "markdown",
   "metadata": {},
   "source": [
    "### Нечеткий поиск по tip_name"
   ]
  },
  {
   "cell_type": "markdown",
   "metadata": {},
   "source": [
    "C нграммами"
   ]
  },
  {
   "cell_type": "code",
   "execution_count": 40,
   "metadata": {},
   "outputs": [
    {
     "name": "stderr",
     "output_type": "stream",
     "text": [
      "702908it [3:29:25, 55.94it/s] \n"
     ]
    },
    {
     "name": "stdout",
     "output_type": "stream",
     "text": [
      "Wall time: 3h 29min 25s\n"
     ]
    }
   ],
   "source": [
    "%%time \n",
    "tipname_match = np.zeros(df.shape[0])\n",
    "for i, text in tqdm(enumerate(df['result.tsv'].values)):\n",
    "    n_words_tipname = len(word_tokenize(df['tip_name'][i]))\n",
    "    #print(n_words_league)\n",
    "    N = n_words_tipname\n",
    "    words = word_tokenize(text)\n",
    "    grams = [words[i:i+N] for i in range(len(words)-N+1)]\n",
    "    #print(i)\n",
    "    #print(grams)\n",
    "    for gram in grams: \n",
    "        str1 = \" \"\n",
    "        joined_gram = str1.join(gram)\n",
    "        #print(joined_gram)\n",
    "        if fuzz.ratio(df['tip_name'][i], joined_gram) > 60:\n",
    "            #print(df['league_name_in_russian'][i], joined_gram)\n",
    "            tipname_match[i] = 1\n",
    "                    "
   ]
  },
  {
   "cell_type": "code",
   "execution_count": 41,
   "metadata": {},
   "outputs": [],
   "source": [
    "df['fuzzy_match_for_tipname'] = tipname_match"
   ]
  },
  {
   "cell_type": "code",
   "execution_count": 42,
   "metadata": {},
   "outputs": [
    {
     "name": "stdout",
     "output_type": "stream",
     "text": [
      "702908\n",
      "55231\n",
      "0.07857500554837903\n"
     ]
    }
   ],
   "source": [
    "all_vals = df['fuzzy_match_for_tipname'].shape[0]\n",
    "print(all_vals)\n",
    "success = df[df['fuzzy_match_for_tipname'] == 1].shape[0]\n",
    "print(success)\n",
    "fuzzyline_tipname = success / all_vals\n",
    "print(fuzzyline_tipname)"
   ]
  },
  {
   "cell_type": "markdown",
   "metadata": {},
   "source": [
    "### Нечеткий поиск по match_date_time"
   ]
  },
  {
   "cell_type": "markdown",
   "metadata": {},
   "source": [
    "Без нграммов"
   ]
  },
  {
   "cell_type": "code",
   "execution_count": 46,
   "metadata": {},
   "outputs": [
    {
     "name": "stdout",
     "output_type": "stream",
     "text": [
      "2019-07-19 19:00:00 2019-07-19\n",
      "2019-07-07 22:30:00 2019-07-07\n",
      "2019-07-07 22:30:00 2019-07-07\n",
      "2019-07-07 22:30:00 2019-07-07\n",
      "2019-07-07 22:30:00 2019-07-07\n",
      "2019-07-07 22:30:00 2019-07-07\n",
      "2019-07-07 22:30:00 2019-07-07\n",
      "2019-07-07 22:30:00 2019-07-07\n",
      "2019-07-07 22:30:00 2019-07-07\n",
      "2019-07-07 22:30:00 2019-07-09\n",
      "2019-07-07 22:30:00 2019-07-07\n",
      "2019-07-07 22:30:00 2019-07-07\n",
      "2019-03-14 17:55:00 2019-03-14\n",
      "2019-03-14 17:55:00 2019-03-14\n",
      "2019-03-14 17:55:00 2019-03-14\n",
      "2019-03-14 17:55:00 2019-03-14\n",
      "2019-03-07 20:00:00 2019-03-07\n",
      "2019-04-07 12:00:00 2019-04-07\n",
      "2019-04-07 12:00:00 2019-04-07\n",
      "2019-04-07 12:00:00 2019-04-07\n",
      "2019-04-07 12:00:00 2019-04-07\n",
      "2019-04-07 12:00:00 2019-04-07\n",
      "2019-04-07 12:00:00 2019-04-07\n",
      "2019-04-07 12:00:00 2019-04-07\n",
      "2019-04-07 12:00:00 2019-04-07\n",
      "2019-04-07 12:00:00 2019-04-07\n",
      "2019-04-07 12:00:00 2019-04-07\n",
      "2019-04-07 12:00:00 2019-04-07\n",
      "2019-04-07 12:00:00 2019-04-07\n",
      "2019-04-07 12:00:00 2019-04-07\n",
      "2019-04-07 12:00:00 2019-04-07\n",
      "2019-09-05 18:45:00 2019-09-05\n",
      "2019-05-28 16:30:00 2019-05-28\n",
      "2019-10-01 19:00:00 2019-10-01\n",
      "2019-06-06 23:00:00 2019-06-02\n",
      "2019-06-06 23:00:00 2019-06-02\n",
      "2019-06-06 23:00:00 2019-06-04\n",
      "2019-06-06 23:00:00 2019-06-03\n",
      "2019-06-06 23:00:00 2019-06-03\n",
      "2019-06-06 23:00:00 2019-06-04\n",
      "2019-06-06 23:00:00 2019-06-06\n",
      "2019-06-06 23:00:00 2019-06-04\n",
      "2019-06-06 23:00:00 2019-06-07\n",
      "2019-06-06 23:00:00 2019-06-06\n",
      "2019-06-06 23:00:00 2019-06-06\n",
      "2019-06-06 23:00:00 2019-06-06\n",
      "2019-06-06 23:00:00 2019-06-06\n",
      "2019-06-06 23:00:00 2019-06-08\n",
      "2019-06-06 23:00:00 2019-06-07\n",
      "2019-04-06 16:00:00 2019-04-06\n",
      "2019-04-06 16:00:00 2019-04-06\n",
      "2019-04-06 16:00:00 2019-04-06\n",
      "2019-04-06 16:00:00 2019-04-06\n",
      "2019-04-06 16:00:00 2019-04-07\n",
      "2019-04-06 16:00:00 2019-04-07\n",
      "2019-04-06 16:00:00 2019-04-07\n",
      "2019-04-06 16:00:00 2019-04-07\n",
      "2019-04-06 16:00:00 2019-04-06\n",
      "2019-04-06 16:00:00 2019-04-06\n",
      "2019-04-06 16:00:00 2019-04-06\n",
      "2019-04-06 16:00:00 2019-04-06\n",
      "2019-04-06 16:00:00 2019-04-06\n",
      "2019-04-06 16:00:00 2019-04-06\n",
      "2019-04-06 16:00:00 2019-04-06\n",
      "2019-04-06 16:00:00 2019-04-06\n",
      "2019-04-06 16:00:00 2019-04-06\n",
      "2019-04-06 16:00:00 2019-04-06\n",
      "2019-04-06 16:00:00 2019-04-06\n",
      "2019-04-06 16:00:00 2019-04-06\n",
      "2019-04-06 16:00:00 2019-04-06\n",
      "2019-04-06 16:00:00 2019-04-06\n",
      "2019-04-06 16:00:00 2019-04-06\n",
      "2019-04-06 16:00:00 2019-04-06\n",
      "2019-04-06 16:00:00 2019-04-06\n",
      "2019-04-06 16:00:00 2019-04-06\n",
      "2019-04-06 16:00:00 2019-04-06\n",
      "2019-04-06 16:00:00 2019-04-06\n",
      "2019-02-08 19:30:00 2019-02-08\n",
      "2019-02-24 16:00:00 2019-02-24\n",
      "2019-02-24 16:00:00 2019-02-24\n",
      "2019-02-24 16:00:00 2019-02-24\n",
      "2019-02-24 16:00:00 2019-02-24\n",
      "2019-02-24 16:00:00 2019-02-24\n",
      "2019-02-24 16:00:00 2019-02-24\n",
      "2019-02-24 16:00:00 2019-02-24\n",
      "2019-02-24 16:00:00 2019-02-24\n",
      "2019-02-24 16:00:00 2019-02-24\n",
      "2019-02-24 16:00:00 2019-02-24\n",
      "2019-02-24 16:00:00 2019-02-24\n",
      "2019-02-24 16:00:00 2019-02-24\n",
      "2019-02-24 16:00:00 2019-02-24\n",
      "2019-02-24 16:00:00 2019-02-24\n",
      "2019-02-24 16:00:00 2019-02-24\n",
      "2019-02-24 16:00:00 2019-02-24\n",
      "2019-02-24 16:00:00 2019-02-24\n",
      "2019-02-24 16:00:00 2019-02-24\n",
      "2019-02-24 16:00:00 2019-02-24\n",
      "2019-02-24 16:00:00 2019-02-24\n",
      "2019-02-24 16:00:00 2019-02-24\n",
      "2019-02-24 16:00:00 2019-02-24\n",
      "2019-02-24 16:00:00 2019-02-24\n",
      "2019-02-24 16:00:00 2019-02-24\n",
      "2019-02-24 16:00:00 2019-02-24\n",
      "2019-02-24 16:00:00 2019-02-24\n",
      "2019-02-24 16:00:00 2019-02-24\n",
      "2019-02-24 16:00:00 2019-02-24\n",
      "2019-02-24 16:00:00 2019-02-24\n",
      "2019-02-24 16:00:00 2019-02-24\n",
      "2019-02-24 16:00:00 2019-02-24\n",
      "2019-02-24 16:00:00 2019-02-24\n",
      "2019-02-24 16:00:00 2019-02-24\n",
      "2019-02-24 16:00:00 2019-02-24\n",
      "2019-02-24 16:00:00 2019-02-24\n",
      "2019-02-24 16:00:00 2019-02-24\n",
      "2019-02-24 16:00:00 2019-02-24\n",
      "2019-02-24 16:00:00 2019-02-24\n",
      "2019-02-24 16:00:00 2019-02-24\n",
      "2019-02-24 16:00:00 2019-02-24\n",
      "2019-02-24 16:00:00 2019-02-24\n",
      "2019-02-24 16:00:00 2019-02-24\n",
      "2019-02-24 16:00:00 2019-02-24\n",
      "2019-02-24 16:00:00 2019-02-24\n",
      "2019-02-24 16:00:00 2019-02-24\n",
      "2019-02-24 16:00:00 2019-02-24\n",
      "2019-02-24 16:00:00 2019-02-24\n",
      "2019-02-24 16:00:00 2019-02-24\n",
      "2019-02-24 16:00:00 2019-02-24\n",
      "2019-02-24 16:00:00 2019-02-24\n",
      "2019-02-24 16:00:00 2019-02-24\n",
      "2019-02-24 16:00:00 2019-02-24\n",
      "2019-02-24 16:00:00 2019-02-24\n",
      "2019-02-24 16:00:00 2019-02-24\n",
      "2019-02-24 16:00:00 2019-02-24\n",
      "2019-02-24 16:00:00 2019-02-24\n",
      "2019-02-24 16:00:00 2019-02-24\n",
      "2019-02-24 16:00:00 2019-02-24\n",
      "2019-02-24 16:00:00 2019-02-24\n",
      "2019-02-24 16:00:00 2019-02-24\n",
      "2019-02-24 16:00:00 2019-02-24\n",
      "2019-02-24 16:00:00 2019-02-24\n",
      "2019-02-24 16:00:00 2019-02-24\n",
      "2019-02-24 16:00:00 2019-02-24\n",
      "2019-02-24 16:00:00 2019-02-24\n",
      "2019-02-24 16:00:00 2019-02-24\n",
      "2019-02-24 16:00:00 2019-02-24\n",
      "2019-02-24 16:00:00 2019-02-24\n",
      "2019-02-24 16:00:00 2019-02-24\n",
      "2019-02-24 16:00:00 2019-02-24\n",
      "2019-02-24 16:00:00 2019-02-24\n",
      "2019-02-24 16:00:00 2019-02-24\n",
      "2019-02-24 16:00:00 2019-02-24\n",
      "2019-02-24 16:00:00 2019-02-24\n",
      "2019-02-24 16:00:00 2019-02-24\n",
      "2019-02-24 16:00:00 2019-02-24\n",
      "2019-02-24 16:00:00 2019-02-24\n",
      "2019-02-24 16:00:00 2019-02-24\n",
      "2019-02-24 16:00:00 2019-02-24\n",
      "2019-02-24 16:00:00 2019-02-24\n",
      "2019-02-24 16:00:00 2019-02-24\n",
      "2019-03-07 17:55:00 2019-03-07\n",
      "2019-03-07 17:55:00 2019-03-07\n",
      "2019-09-07 13:00:00 2019-09-07\n",
      "2019-04-14 18:45:00 2019-04-13\n",
      "2019-04-14 18:45:00 2019-04-13\n",
      "2019-04-14 18:45:00 2019-04-14\n",
      "2019-04-14 18:45:00 2019-04-14\n",
      "2019-04-14 18:45:00 2019-04-14\n",
      "2019-04-14 18:45:00 2019-04-14\n",
      "2019-04-14 18:45:00 2019-04-14\n",
      "2019-04-14 18:45:00 2019-04-14\n",
      "2019-09-08 19:00:00 2019-09-01\n",
      "2019-09-08 19:00:00 2019-09-01\n",
      "2019-09-08 19:00:00 2019-09-01\n",
      "2019-09-08 19:00:00 2019-09-01\n",
      "2019-09-08 19:00:00 2019-09-01\n",
      "2019-09-08 19:00:00 2019-09-01\n",
      "2019-09-08 19:00:00 2019-09-01\n",
      "2019-09-08 19:00:00 2019-09-02\n",
      "2019-09-08 19:00:00 2019-09-02\n",
      "2019-09-08 19:00:00 2019-09-04\n",
      "2019-09-08 19:00:00 2019-09-04\n",
      "2019-09-08 19:00:00 2019-09-05\n",
      "2019-09-08 19:00:00 2019-09-05\n",
      "2019-09-08 19:00:00 2019-09-06\n",
      "2019-09-08 19:00:00 2019-09-06\n",
      "2019-09-08 19:00:00 2019-09-06\n",
      "2019-09-08 19:00:00 2019-09-06\n",
      "2019-09-08 19:00:00 2019-09-06\n",
      "2019-09-08 19:00:00 2019-09-08\n",
      "2019-09-08 19:00:00 2019-09-07\n",
      "2019-09-08 19:00:00 2019-09-08\n",
      "2019-09-08 19:00:00 2019-09-08\n",
      "2019-09-08 19:00:00 2019-09-08\n",
      "2019-09-08 19:00:00 2019-09-08\n",
      "2019-09-08 19:00:00 2019-09-08\n",
      "2019-07-09 17:30:00 2019-07-07\n",
      "2019-07-09 17:30:00 2019-07-07\n",
      "2019-07-09 17:30:00 2019-07-07\n",
      "2019-07-09 17:30:00 2019-07-07\n",
      "2019-07-09 17:30:00 2019-07-07\n",
      "2019-07-09 17:30:00 2019-07-07\n",
      "2019-07-09 17:30:00 2019-07-07\n",
      "2019-07-09 17:30:00 2019-07-07\n",
      "2019-07-09 17:30:00 2019-07-07\n",
      "2019-07-09 17:30:00 2019-07-07\n",
      "2019-07-09 17:30:00 2019-07-07\n",
      "2019-07-09 17:30:00 2019-07-07\n",
      "2019-07-09 17:30:00 2019-07-09\n",
      "2019-07-09 17:30:00 2019-07-07\n",
      "2019-07-09 17:30:00 2019-07-07\n",
      "2019-07-09 17:30:00 2019-07-07\n",
      "2019-07-09 17:30:00 2019-07-07\n",
      "2019-07-09 17:30:00 2019-07-07\n",
      "2019-07-09 17:30:00 2019-07-07\n",
      "2019-07-09 17:30:00 2019-07-07\n",
      "2019-07-09 17:30:00 2019-07-07\n",
      "2019-07-09 17:30:00 2019-07-07\n",
      "2019-07-09 17:30:00 2019-07-07\n",
      "2019-07-09 17:30:00 2019-07-07\n",
      "2019-07-09 17:30:00 2019-07-07\n",
      "2019-07-09 17:30:00 2019-07-07\n",
      "2019-07-09 17:30:00 2019-07-07\n",
      "2019-07-09 17:30:00 2019-07-07\n",
      "2019-07-09 17:30:00 2019-07-07\n",
      "2019-07-09 17:30:00 2019-07-09\n",
      "2019-07-09 17:30:00 2019-07-10\n",
      "2019-07-09 17:30:00 2019-07-08\n",
      "2019-07-09 17:30:00 2019-07-08\n",
      "2019-07-09 17:30:00 2019-07-09\n",
      "2019-07-09 17:30:00 2019-07-09\n",
      "2019-07-09 17:30:00 2019-07-09\n",
      "2019-07-09 17:30:00 2019-07-09\n",
      "2019-07-09 17:30:00 2019-07-09\n",
      "2019-07-09 17:30:00 2019-07-09\n",
      "2019-07-09 17:30:00 2019-07-09\n",
      "2019-07-09 17:30:00 2019-07-09\n",
      "2019-07-09 17:30:00 2019-07-09\n",
      "2019-07-09 17:30:00 2019-07-09\n",
      "2019-07-09 17:30:00 2019-07-10\n",
      "2019-07-09 17:30:00 2019-07-09\n",
      "2019-07-09 17:30:00 2019-07-09\n",
      "2019-07-09 17:30:00 2019-07-09\n",
      "2019-07-09 17:30:00 2019-07-09\n",
      "2019-06-29 21:00:00 2019-06-26\n",
      "2019-06-29 21:00:00 2019-06-26\n",
      "2019-06-29 21:00:00 2019-06-26\n",
      "2019-06-29 21:00:00 2019-06-26\n",
      "2019-06-29 21:00:00 2019-06-26\n",
      "2019-06-29 21:00:00 2019-06-26\n",
      "2019-06-29 21:00:00 2019-06-26\n",
      "2019-06-29 21:00:00 2019-06-26\n",
      "2019-06-29 21:00:00 2019-06-26\n",
      "2019-06-29 21:00:00 2019-06-27\n",
      "2019-06-29 21:00:00 2019-06-27\n",
      "2019-06-29 21:00:00 2019-06-28\n",
      "2019-06-29 21:00:00 2019-06-27\n",
      "2019-06-29 21:00:00 2019-06-28\n",
      "2019-06-29 21:00:00 2019-06-27\n",
      "2019-06-29 21:00:00 2019-06-27\n",
      "2019-06-29 21:00:00 2019-06-27\n",
      "2019-06-29 21:00:00 2019-06-27\n",
      "2019-06-29 21:00:00 2019-06-28\n",
      "2019-06-29 21:00:00 2019-06-28\n",
      "2019-06-29 21:00:00 2019-06-28\n",
      "2019-09-03 11:30:00 2019-09-03\n",
      "2019-09-03 11:30:00 2019-09-02\n",
      "2019-09-03 11:30:00 2019-09-02\n",
      "2019-09-03 11:30:00 2019-09-03\n",
      "2019-09-03 11:30:00 2019-09-03\n",
      "2019-09-03 11:30:00 2019-09-02\n",
      "2019-09-03 11:30:00 2019-09-02\n",
      "2019-09-03 11:30:00 2019-09-02\n",
      "2019-07-13 18:30:00 2019-07-11\n",
      "2019-07-13 18:30:00 2019-07-11\n",
      "2019-07-13 18:30:00 2019-07-11\n",
      "2019-07-13 18:30:00 2019-07-11\n",
      "2019-07-13 18:30:00 2019-07-11\n",
      "2019-07-13 18:30:00 2019-07-11\n",
      "2019-07-13 18:30:00 2019-07-11\n",
      "2019-07-13 18:30:00 2019-07-11\n",
      "2019-07-13 18:30:00 2019-07-12\n",
      "2019-07-13 18:30:00 2019-07-11\n",
      "2019-07-13 18:30:00 2019-07-11\n",
      "2019-07-13 18:30:00 2019-07-11\n",
      "2019-07-13 18:30:00 2019-07-11\n",
      "2019-07-13 18:30:00 2019-07-11\n",
      "2019-07-13 18:30:00 2019-07-11\n",
      "2019-07-13 18:30:00 2019-07-11\n",
      "2019-07-13 18:30:00 2019-07-11\n",
      "2019-07-13 18:30:00 2019-07-11\n",
      "2019-07-13 18:30:00 2019-07-11\n",
      "2019-07-13 18:30:00 2019-07-11\n",
      "2019-07-13 18:30:00 2019-07-11\n",
      "2019-07-13 18:30:00 2019-07-11\n",
      "2019-07-13 18:30:00 2019-07-11\n",
      "2019-07-13 18:30:00 2019-07-11\n",
      "2019-07-13 18:30:00 2019-07-11\n",
      "2019-07-13 18:30:00 2019-07-11\n",
      "2019-07-13 18:30:00 2019-07-12\n",
      "2019-07-13 18:30:00 2019-07-11\n",
      "2019-07-13 18:30:00 2019-07-12\n",
      "2019-07-13 18:30:00 2019-07-11\n",
      "2019-07-13 18:30:00 2019-07-11\n",
      "2019-07-13 18:30:00 2019-07-11\n",
      "2019-07-13 18:30:00 2019-07-11\n",
      "2019-07-13 18:30:00 2019-07-11\n",
      "2019-07-13 18:30:00 2019-07-12\n",
      "2019-07-13 18:30:00 2019-07-11\n",
      "2019-07-13 18:30:00 2019-07-11\n",
      "2019-07-13 18:30:00 2019-07-11\n",
      "2019-07-13 18:30:00 2019-07-11\n",
      "2019-07-13 18:30:00 2019-07-11\n",
      "2019-07-13 18:30:00 2019-07-11\n",
      "2019-07-13 18:30:00 2019-07-11\n",
      "2019-07-13 18:30:00 2019-07-11\n",
      "2019-07-13 18:30:00 2019-07-11\n",
      "2019-07-13 18:30:00 2019-07-12\n",
      "2019-07-13 18:30:00 2019-07-12\n",
      "2019-07-13 18:30:00 2019-07-12\n",
      "2019-07-13 18:30:00 2019-07-13\n",
      "2019-07-13 18:30:00 2019-07-14\n",
      "2019-07-13 18:30:00 2019-07-14\n",
      "2019-07-13 18:30:00 2019-07-14\n",
      "2019-07-13 18:30:00 2019-07-12\n",
      "2019-07-13 18:30:00 2019-07-13\n",
      "2019-10-04 19:00:00 2019-10-04\n",
      "2019-10-04 19:00:00 2019-10-04\n",
      "2019-07-06 19:00:00 2019-07-06\n",
      "2019-07-06 19:00:00 2019-07-06\n",
      "2019-07-06 19:00:00 2019-07-06\n",
      "2019-07-06 19:00:00 2019-07-06\n",
      "2019-07-06 19:00:00 2019-07-06\n",
      "2019-09-01 13:00:00 2019-09-01\n",
      "2019-09-01 13:00:00 2019-09-01\n",
      "2019-09-01 13:00:00 2019-09-01\n",
      "2019-09-01 13:00:00 2019-09-01\n",
      "2019-09-01 13:00:00 2019-09-01\n",
      "Wall time: 2h 45min 38s\n"
     ]
    }
   ],
   "source": [
    "%%time\n",
    "tokens = []\n",
    "date_match = np.zeros(df.shape[0])\n",
    "for i, text in enumerate(df['result.tsv'].values):\n",
    "    txt_tokens = []\n",
    "    txt_tokens.append(word_tokenize(text))\n",
    "    for text in txt_tokens:\n",
    "        for t in text:\n",
    "            if fuzz.ratio(df['match_date_time'][i], t) > 60:\n",
    "                date_match[i] = 1\n",
    "                print(df['match_date_time'][i], t)"
   ]
  },
  {
   "cell_type": "code",
   "execution_count": 47,
   "metadata": {},
   "outputs": [],
   "source": [
    "df['fuzzy_match_for_date'] = date_match"
   ]
  },
  {
   "cell_type": "code",
   "execution_count": 48,
   "metadata": {},
   "outputs": [
    {
     "name": "stdout",
     "output_type": "stream",
     "text": [
      "702908\n",
      "23\n",
      "3.272120960353275e-05\n"
     ]
    }
   ],
   "source": [
    "all_vals = df['fuzzy_match_for_date'].shape[0]\n",
    "print(all_vals)\n",
    "success = df[df['fuzzy_match_for_date'] == 1].shape[0]\n",
    "print(success)\n",
    "fuzzyline_date = success / all_vals\n",
    "print(fuzzyline_date)"
   ]
  },
  {
   "cell_type": "markdown",
   "metadata": {},
   "source": [
    "### Нечеткий поиск по коэффициентам"
   ]
  },
  {
   "cell_type": "markdown",
   "metadata": {},
   "source": [
    "Без нграммов"
   ]
  },
  {
   "cell_type": "code",
   "execution_count": null,
   "metadata": {},
   "outputs": [],
   "source": [
    "%%time\n",
    "tokens = []\n",
    "coef_match = np.zeros(df.shape[0])\n",
    "for i, text in enumerate(df['result.tsv'].values):\n",
    "    txt_tokens = []\n",
    "    txt_tokens.append(word_tokenize(text))\n",
    "    for text in txt_tokens:\n",
    "        for t in text:\n",
    "            if fuzz.ratio(df['odd'][i], t) > 60:\n",
    "                coef_match[i] = 1\n",
    "                #print(df['match_date_time'][i], t)"
   ]
  },
  {
   "cell_type": "code",
   "execution_count": 50,
   "metadata": {},
   "outputs": [],
   "source": [
    "df['fuzzy_match_for_odd'] = coef_match"
   ]
  },
  {
   "cell_type": "code",
   "execution_count": 51,
   "metadata": {},
   "outputs": [
    {
     "name": "stdout",
     "output_type": "stream",
     "text": [
      "702908\n",
      "3837\n",
      "0.005458751358641529\n"
     ]
    }
   ],
   "source": [
    "all_vals = df['fuzzy_match_for_odd'].shape[0]\n",
    "print(all_vals)\n",
    "success = df[df['fuzzy_match_for_odd'] == 1].shape[0]\n",
    "print(success)\n",
    "fuzzyline_odd = success / all_vals\n",
    "print(fuzzyline_odd)"
   ]
  },
  {
   "cell_type": "markdown",
   "metadata": {},
   "source": [
    "# Русский "
   ]
  },
  {
   "cell_type": "code",
   "execution_count": 10,
   "metadata": {},
   "outputs": [],
   "source": [
    "import re\n",
    "def which_language (text):\n",
    "    if bool(re.search('[\\u0400-\\u04FF]', text)) == True:\n",
    "        return 'russian'\n",
    "    else:\n",
    "        return 'english'"
   ]
  },
  {
   "cell_type": "code",
   "execution_count": 11,
   "metadata": {},
   "outputs": [],
   "source": [
    "lang=[]\n",
    "for i,text in enumerate(df['result.tsv'].values): \n",
    "    lang.append(which_language(str(text)))"
   ]
  },
  {
   "cell_type": "code",
   "execution_count": 12,
   "metadata": {},
   "outputs": [],
   "source": [
    "df['Language'] = lang"
   ]
  },
  {
   "cell_type": "code",
   "execution_count": 13,
   "metadata": {},
   "outputs": [],
   "source": [
    "grouped=df.groupby('Language')"
   ]
  },
  {
   "cell_type": "code",
   "execution_count": 14,
   "metadata": {},
   "outputs": [],
   "source": [
    "for name, group in grouped: \n",
    "    if name == 'english': \n",
    "        english = group.drop('Language',axis=1) \n",
    "    else: \n",
    "        russian = group.drop('Language',axis=1)"
   ]
  },
  {
   "cell_type": "markdown",
   "metadata": {},
   "source": [
    "### команда 1"
   ]
  },
  {
   "cell_type": "code",
   "execution_count": 22,
   "metadata": {},
   "outputs": [
    {
     "data": {
      "text/plain": [
       "'Стабильности «Сетубала» можно позавидовать. Команда из года в год занимает место с 12-го по 15-е и не вылетает из высшей лиги Португалии. Количество очков тоже всегда примерно одинаковое, 30-40.\\xa0 В новом сезоне «Витория» набрала один балл после двух туров и расположилась в строчке от вылета. Команда сыграла 0:0 дома с «Тонделой» и была разгромлена «Порту» (0:4).\\xa0 В прошлом сезоне команда сумела сделать качественный рывок. Если раньше «Морейренсе» был соседом «Сетубала» по турнирной таблице, то в сезоне 2018/19 команда сумела подняться на шестую строчку.\\xa0 Это, конечно, стало поводом заработать на продаже лидеров. За 3.5 миллиона евро в «Бенфику» перешел атакующий полузащитник Шикинью, который поучаствовал почти в половине голов команды в прошлом сезоне. Футболистом интересовались и в чемпионате России.\\xa0  В новом чемпионате «Морейренсе» стартовал с поражения от «Браги» (1:3) и разгромной победы над «Жил Висенте» (3:0).\\xa0 Искрометного футбола в матче «Витория Сетубал» - «Морейренсе» 23 августа ждать не приходится. Хозяева в этом чемпионате еще не забивали, а «Морейренсе» едва ли пойдет в атаку с первых минут.\\xa0 В качестве ставки интересен вариант «хотя бы одна команда не забьет и ТМ (2.5)» с коэффициентом 2.07 в букмекерской компании «Фонбет».'"
      ]
     },
     "execution_count": 22,
     "metadata": {},
     "output_type": "execute_result"
    }
   ],
   "source": [
    "russian['result.tsv'][29]"
   ]
  },
  {
   "cell_type": "code",
   "execution_count": 41,
   "metadata": {},
   "outputs": [
    {
     "name": "stdout",
     "output_type": "stream",
     "text": [
      "Wall time: 2h 42min 6s\n"
     ]
    }
   ],
   "source": [
    "%%time\n",
    "tokens = []\n",
    "teams1_match = np.zeros(russian.shape[0])\n",
    "for i, text in enumerate(russian['result.tsv']):\n",
    "    txt_tokens = []\n",
    "    txt_tokens.append(word_tokenize(text))\n",
    "    for text in txt_tokens:\n",
    "        for t in text:\n",
    "            #print(t)\n",
    "            try:\n",
    "                if fuzz.ratio(russian['team_of_season_1_name_in_russian'][i], t) > 65:\n",
    "#                     print(t, russian['team_of_season_1_name_in_russian'][i])\n",
    "                    teams1_match[i] = 1\n",
    "            except:\n",
    "                continue"
   ]
  },
  {
   "cell_type": "code",
   "execution_count": 42,
   "metadata": {},
   "outputs": [],
   "source": [
    "russian['fuzzy_match_for_teams1'] = teams1_match"
   ]
  },
  {
   "cell_type": "code",
   "execution_count": 43,
   "metadata": {},
   "outputs": [
    {
     "name": "stdout",
     "output_type": "stream",
     "text": [
      "595931\n"
     ]
    }
   ],
   "source": [
    "all_vals = russian['fuzzy_match_for_teams1'].shape[0]\n",
    "print(all_vals)"
   ]
  },
  {
   "cell_type": "code",
   "execution_count": 44,
   "metadata": {},
   "outputs": [
    {
     "name": "stdout",
     "output_type": "stream",
     "text": [
      "13066\n"
     ]
    }
   ],
   "source": [
    "success = russian[russian['fuzzy_match_for_teams1'] == 1].shape[0]\n",
    "print(success)"
   ]
  },
  {
   "cell_type": "code",
   "execution_count": 45,
   "metadata": {},
   "outputs": [
    {
     "name": "stdout",
     "output_type": "stream",
     "text": [
      "0.021925357130271793\n"
     ]
    }
   ],
   "source": [
    "fuzzyline_team1 = success / all_vals\n",
    "print(fuzzyline_team1)"
   ]
  },
  {
   "cell_type": "markdown",
   "metadata": {},
   "source": [
    "### команда 2"
   ]
  },
  {
   "cell_type": "code",
   "execution_count": 46,
   "metadata": {},
   "outputs": [
    {
     "name": "stdout",
     "output_type": "stream",
     "text": [
      "Wall time: 2h 12min 42s\n"
     ]
    }
   ],
   "source": [
    "%%time\n",
    "tokens = []\n",
    "teams2_match = np.zeros(russian.shape[0])\n",
    "for i, text in enumerate(russian['result.tsv']):\n",
    "    txt_tokens = []\n",
    "    txt_tokens.append(word_tokenize(text))\n",
    "    for text in txt_tokens:\n",
    "        for t in text:\n",
    "            try:\n",
    "                if fuzz.ratio(russian['team_of_season_2_name_in_russian'][i], t) > 65:\n",
    "                    teams2_match[i] = 1\n",
    "            except:\n",
    "                continue"
   ]
  },
  {
   "cell_type": "code",
   "execution_count": 47,
   "metadata": {},
   "outputs": [],
   "source": [
    "russian['fuzzy_match_for_teams2'] = teams2_match"
   ]
  },
  {
   "cell_type": "code",
   "execution_count": 48,
   "metadata": {},
   "outputs": [
    {
     "name": "stdout",
     "output_type": "stream",
     "text": [
      "595931\n",
      "13617\n",
      "0.022849960817611436\n"
     ]
    }
   ],
   "source": [
    "all_vals = russian['fuzzy_match_for_teams2'].shape[0]\n",
    "print(all_vals)\n",
    "success = russian[russian['fuzzy_match_for_teams2'] == 1].shape[0]\n",
    "print(success)\n",
    "fuzzyline_team2 = success / all_vals\n",
    "print(fuzzyline_team2)"
   ]
  },
  {
   "cell_type": "markdown",
   "metadata": {},
   "source": [
    "### Лиги"
   ]
  },
  {
   "cell_type": "code",
   "execution_count": 49,
   "metadata": {},
   "outputs": [
    {
     "name": "stderr",
     "output_type": "stream",
     "text": [
      "595931it [2:44:17, 60.45it/s] \n"
     ]
    },
    {
     "name": "stdout",
     "output_type": "stream",
     "text": [
      "Wall time: 2h 44min 17s\n"
     ]
    }
   ],
   "source": [
    "%%time \n",
    "leagues_match = np.zeros(russian.shape[0])\n",
    "for i, text in tqdm(enumerate(russian['result.tsv'])):\n",
    "    try:\n",
    "        n_words_league = len(word_tokenize(russian['league_name_in_russian'][i]))\n",
    "        #print(n_words_league)\n",
    "        N = n_words_league\n",
    "        words = word_tokenize(text)\n",
    "        grams = [words[i:i+N] for i in range(len(words)-N+1)]\n",
    "        #print(i)\n",
    "        #print(grams)\n",
    "        for gram in grams: \n",
    "            str1 = \" \"\n",
    "            joined_gram = str1.join(gram)\n",
    "            #print(joined_gram)\n",
    "            if fuzz.ratio(russian['league_name_in_russian'][i], joined_gram) > 50:\n",
    "                #print(df['league_name_in_russian'][i], joined_gram)\n",
    "                #print(russian['league_name_in_russian'][i], joined_gram)\n",
    "                leagues_match[i] = 1\n",
    "    except:\n",
    "        continue"
   ]
  },
  {
   "cell_type": "code",
   "execution_count": 50,
   "metadata": {},
   "outputs": [],
   "source": [
    "russian['fuzzy_match_for_league'] = leagues_match"
   ]
  },
  {
   "cell_type": "code",
   "execution_count": 51,
   "metadata": {},
   "outputs": [
    {
     "name": "stdout",
     "output_type": "stream",
     "text": [
      "595931\n",
      "64736\n",
      "0.1086300259593812\n"
     ]
    }
   ],
   "source": [
    "all_vals = russian['fuzzy_match_for_league'].shape[0]\n",
    "print(all_vals)\n",
    "success = russian[russian['fuzzy_match_for_league'] == 1].shape[0]\n",
    "print(success)\n",
    "fuzzyline_league = success / all_vals\n",
    "print(fuzzyline_league)"
   ]
  },
  {
   "cell_type": "code",
   "execution_count": 52,
   "metadata": {},
   "outputs": [],
   "source": [
    "russian.to_csv(r'C:\\Users\\User\\Desktop\\project\\russian_fuzzy.csv', index = False)"
   ]
  }
 ],
 "metadata": {
  "kernelspec": {
   "display_name": "Python 3",
   "language": "python",
   "name": "python3"
  },
  "language_info": {
   "codemirror_mode": {
    "name": "ipython",
    "version": 3
   },
   "file_extension": ".py",
   "mimetype": "text/x-python",
   "name": "python",
   "nbconvert_exporter": "python",
   "pygments_lexer": "ipython3",
   "version": "3.7.4"
  }
 },
 "nbformat": 4,
 "nbformat_minor": 2
}
