{
 "cells": [
  {
   "cell_type": "code",
   "execution_count": 1,
   "metadata": {},
   "outputs": [],
   "source": [
    "import gensim\n",
    "import pandas as pd\n",
    "import re\n",
    "from tqdm import tqdm\n",
    "import numpy as np\n",
    "import nltk\n",
    "from multiprocessing import cpu_count"
   ]
  },
  {
   "cell_type": "code",
   "execution_count": 2,
   "metadata": {},
   "outputs": [],
   "source": [
    "from string import punctuation"
   ]
  },
  {
   "cell_type": "code",
   "execution_count": 3,
   "metadata": {},
   "outputs": [],
   "source": [
    "punct = '!\"#$%&\\'()*+,-./:;<=>?@[\\\\]^_`{|}~»—«–'"
   ]
  },
  {
   "cell_type": "code",
   "execution_count": 4,
   "metadata": {},
   "outputs": [],
   "source": [
    "from nltk.corpus import stopwords \n",
    "stops = stopwords.words('russian') + list(punctuation) + ['»', '—', '«', '–']"
   ]
  },
  {
   "cell_type": "code",
   "execution_count": 5,
   "metadata": {},
   "outputs": [
    {
     "name": "stderr",
     "output_type": "stream",
     "text": [
      "b'Skipping line 37039: expected 12 fields, saw 15\\nSkipping line 45611: expected 12 fields, saw 15\\n'\n",
      "b'Skipping line 354339: expected 12 fields, saw 18\\nSkipping line 360804: expected 12 fields, saw 102\\nSkipping line 360819: expected 12 fields, saw 78\\nSkipping line 379126: expected 12 fields, saw 14\\nSkipping line 444446: expected 12 fields, saw 16\\nSkipping line 449079: expected 12 fields, saw 16\\nSkipping line 450250: expected 12 fields, saw 15\\n'\n",
      "b'Skipping line 481374: expected 12 fields, saw 18\\nSkipping line 510619: expected 12 fields, saw 20\\nSkipping line 512271: expected 12 fields, saw 14\\nSkipping line 514317: expected 12 fields, saw 15\\nSkipping line 519707: expected 12 fields, saw 40\\n'\n",
      "b'Skipping line 538495: expected 12 fields, saw 13\\n'\n",
      "b'Skipping line 765901: expected 12 fields, saw 56\\nSkipping line 773310: expected 12 fields, saw 43\\n'\n",
      "b'Skipping line 805899: expected 12 fields, saw 13\\nSkipping line 868492: expected 12 fields, saw 21\\nSkipping line 871801: expected 12 fields, saw 16\\n'\n",
      "b'Skipping line 903099: expected 12 fields, saw 13\\nSkipping line 903150: expected 12 fields, saw 13\\nSkipping line 903155: expected 12 fields, saw 13\\nSkipping line 926112: expected 12 fields, saw 13\\n'\n",
      "b'Skipping line 952511: expected 12 fields, saw 14\\nSkipping line 954085: expected 12 fields, saw 13\\nSkipping line 956504: expected 12 fields, saw 40\\nSkipping line 981135: expected 12 fields, saw 13\\nSkipping line 983460: expected 12 fields, saw 16\\nSkipping line 985000: expected 12 fields, saw 15\\nSkipping line 986754: expected 12 fields, saw 13\\nSkipping line 986828: expected 12 fields, saw 13\\n'\n",
      "b'Skipping line 1334533: expected 12 fields, saw 13\\nSkipping line 1337066: expected 12 fields, saw 16\\nSkipping line 1343528: expected 12 fields, saw 13\\nSkipping line 1351606: expected 12 fields, saw 14\\n'\n",
      "b'Skipping line 1376142: expected 12 fields, saw 16\\nSkipping line 1376408: expected 12 fields, saw 15\\nSkipping line 1389213: expected 12 fields, saw 59\\nSkipping line 1401635: expected 12 fields, saw 23\\n'\n",
      "b'Skipping line 1762082: expected 12 fields, saw 13\\nSkipping line 1763155: expected 12 fields, saw 16\\n'\n",
      "C:\\Users\\User\\Anaconda3\\lib\\site-packages\\IPython\\core\\interactiveshell.py:3058: DtypeWarning: Columns (3) have mixed types. Specify dtype option on import or set low_memory=False.\n",
      "  interactivity=interactivity, compiler=compiler, result=result)\n"
     ]
    }
   ],
   "source": [
    "df = pd.read_csv('result_tar.gz', compression='gzip', sep='\\t', error_bad_lines=False)"
   ]
  },
  {
   "cell_type": "code",
   "execution_count": 6,
   "metadata": {},
   "outputs": [],
   "source": [
    "df = df.drop([\"url\", \"video_url\", \"source_name\", \"author_name\"], axis=1)\n",
    "df = df.dropna()\n",
    "df = df.drop_duplicates()\n",
    "df = df.reset_index(drop=True)"
   ]
  },
  {
   "cell_type": "code",
   "execution_count": 7,
   "metadata": {},
   "outputs": [],
   "source": [
    "def which_language (text):\n",
    "    if bool(re.search('[\\u0400-\\u04FF]', text)) == True:\n",
    "        return 'russian'\n",
    "    else:\n",
    "        return 'english'"
   ]
  },
  {
   "cell_type": "code",
   "execution_count": 8,
   "metadata": {},
   "outputs": [],
   "source": [
    "lang=[]\n",
    "for i,text in enumerate(df['result.tsv'].values): \n",
    "    lang.append(which_language(str(text)))"
   ]
  },
  {
   "cell_type": "code",
   "execution_count": 9,
   "metadata": {},
   "outputs": [],
   "source": [
    "df['Language'] = lang\n",
    "grouped=df.groupby('Language')\n",
    "for name, group in grouped: \n",
    "    if name == 'english': \n",
    "        english = group.drop('Language',axis=1) \n",
    "    else: \n",
    "        russian = group.drop('Language',axis=1)"
   ]
  },
  {
   "cell_type": "code",
   "execution_count": 10,
   "metadata": {},
   "outputs": [
    {
     "data": {
      "text/plain": [
       "(595931, 8)"
      ]
     },
     "execution_count": 10,
     "metadata": {},
     "output_type": "execute_result"
    }
   ],
   "source": [
    "russian.shape"
   ]
  },
  {
   "cell_type": "code",
   "execution_count": 11,
   "metadata": {},
   "outputs": [
    {
     "data": {
      "text/html": [
       "<div>\n",
       "<style scoped>\n",
       "    .dataframe tbody tr th:only-of-type {\n",
       "        vertical-align: middle;\n",
       "    }\n",
       "\n",
       "    .dataframe tbody tr th {\n",
       "        vertical-align: top;\n",
       "    }\n",
       "\n",
       "    .dataframe thead th {\n",
       "        text-align: right;\n",
       "    }\n",
       "</style>\n",
       "<table border=\"1\" class=\"dataframe\">\n",
       "  <thead>\n",
       "    <tr style=\"text-align: right;\">\n",
       "      <th></th>\n",
       "      <th>result.tsv</th>\n",
       "      <th>odd</th>\n",
       "      <th>tip_name</th>\n",
       "      <th>bookmaker_name</th>\n",
       "      <th>match_date_time</th>\n",
       "      <th>league_name_in_russian</th>\n",
       "      <th>team_of_season_1_name_in_russian</th>\n",
       "      <th>team_of_season_2_name_in_russian</th>\n",
       "    </tr>\n",
       "  </thead>\n",
       "  <tbody>\n",
       "    <tr>\n",
       "      <td>0</td>\n",
       "      <td>Сборная Турции продолжает свою дорогу на Чемпи...</td>\n",
       "      <td>1.65</td>\n",
       "      <td>- 1,5</td>\n",
       "      <td>Олимп</td>\n",
       "      <td>2019-06-02 18:00:00</td>\n",
       "      <td>Международные товарищеские матчи</td>\n",
       "      <td>Турция</td>\n",
       "      <td>Узбекистан</td>\n",
       "    </tr>\n",
       "    <tr>\n",
       "      <td>1</td>\n",
       "      <td>Двадцать девятого числа состоится один весьма ...</td>\n",
       "      <td>1.52</td>\n",
       "      <td>– тотал меньше 2,5</td>\n",
       "      <td>Winline</td>\n",
       "      <td>2019-06-28 23:20:00</td>\n",
       "      <td>Кубок Америки</td>\n",
       "      <td>Колумбия</td>\n",
       "      <td>Чили</td>\n",
       "    </tr>\n",
       "    <tr>\n",
       "      <td>2</td>\n",
       "      <td>АЗ Алкмар В первом матче голландский клуб созд...</td>\n",
       "      <td>1.85</td>\n",
       "      <td>АЗ Алкмар забьет в обоих таймах</td>\n",
       "      <td>Лига Ставок</td>\n",
       "      <td>2019-08-15 18:30:00</td>\n",
       "      <td>Лига Европы УЕФА</td>\n",
       "      <td>АЗ Алкмаар</td>\n",
       "      <td>Мариуполь</td>\n",
       "    </tr>\n",
       "  </tbody>\n",
       "</table>\n",
       "</div>"
      ],
      "text/plain": [
       "                                          result.tsv   odd  \\\n",
       "0  Сборная Турции продолжает свою дорогу на Чемпи...  1.65   \n",
       "1  Двадцать девятого числа состоится один весьма ...  1.52   \n",
       "2  АЗ Алкмар В первом матче голландский клуб созд...  1.85   \n",
       "\n",
       "                          tip_name bookmaker_name      match_date_time  \\\n",
       "0                            - 1,5          Олимп  2019-06-02 18:00:00   \n",
       "1               – тотал меньше 2,5        Winline  2019-06-28 23:20:00   \n",
       "2  АЗ Алкмар забьет в обоих таймах    Лига Ставок  2019-08-15 18:30:00   \n",
       "\n",
       "             league_name_in_russian team_of_season_1_name_in_russian  \\\n",
       "0  Международные товарищеские матчи                           Турция   \n",
       "1                     Кубок Америки                         Колумбия   \n",
       "2                  Лига Европы УЕФА                       АЗ Алкмаар   \n",
       "\n",
       "  team_of_season_2_name_in_russian  \n",
       "0                       Узбекистан  \n",
       "1                             Чили  \n",
       "2                        Мариуполь  "
      ]
     },
     "execution_count": 11,
     "metadata": {},
     "output_type": "execute_result"
    }
   ],
   "source": [
    "russian.head(3)"
   ]
  },
  {
   "cell_type": "code",
   "execution_count": 12,
   "metadata": {},
   "outputs": [],
   "source": [
    "teams1_match = np.zeros(russian.shape[0])\n",
    "for i, team1 in enumerate(russian['team_of_season_1_name_in_russian']):\n",
    "    if team1 in russian['result.tsv'].values[i] :\n",
    "        teams1_match[i] = 1 \n",
    "    else: \n",
    "        teams1_match[i] = 0\n",
    "russian['direct_match_for_teams1'] = teams1_match"
   ]
  },
  {
   "cell_type": "code",
   "execution_count": 13,
   "metadata": {},
   "outputs": [],
   "source": [
    "teams2_match = np.zeros(russian.shape[0])\n",
    "for i, team2 in enumerate(russian['team_of_season_2_name_in_russian']):\n",
    "    if team2 in russian['result.tsv'].values[i] :\n",
    "        teams2_match[i] = 1 \n",
    "    else: \n",
    "        teams2_match[i] = 0\n",
    "russian['direct_match_for_teams2'] = teams2_match"
   ]
  },
  {
   "cell_type": "code",
   "execution_count": 14,
   "metadata": {},
   "outputs": [],
   "source": [
    "leagues_match = np.zeros(russian.shape[0])\n",
    "for i, leagues in enumerate(russian['league_name_in_russian']):\n",
    "    if leagues in russian['result.tsv'].values[i] :\n",
    "        leagues_match[i] = 1 \n",
    "    else: \n",
    "        leagues_match[i] = 0\n",
    "russian['direct_match_for_leagues'] = leagues_match"
   ]
  },
  {
   "cell_type": "code",
   "execution_count": 15,
   "metadata": {},
   "outputs": [],
   "source": [
    "def normalize(text):\n",
    "    \n",
    "    words = [word.strip(punct) for word in text.lower().split()]\n",
    "    words = [word for word in words if word and word not in stops]\n",
    "\n",
    "    return words"
   ]
  },
  {
   "cell_type": "code",
   "execution_count": 16,
   "metadata": {},
   "outputs": [
    {
     "name": "stdout",
     "output_type": "stream",
     "text": [
      "Wall time: 6min 24s\n"
     ]
    }
   ],
   "source": [
    "%%time \n",
    "russian['content_norm'] = russian['result.tsv'].apply(normalize)"
   ]
  },
  {
   "cell_type": "code",
   "execution_count": 17,
   "metadata": {},
   "outputs": [
    {
     "data": {
      "text/html": [
       "<div>\n",
       "<style scoped>\n",
       "    .dataframe tbody tr th:only-of-type {\n",
       "        vertical-align: middle;\n",
       "    }\n",
       "\n",
       "    .dataframe tbody tr th {\n",
       "        vertical-align: top;\n",
       "    }\n",
       "\n",
       "    .dataframe thead th {\n",
       "        text-align: right;\n",
       "    }\n",
       "</style>\n",
       "<table border=\"1\" class=\"dataframe\">\n",
       "  <thead>\n",
       "    <tr style=\"text-align: right;\">\n",
       "      <th></th>\n",
       "      <th>result.tsv</th>\n",
       "      <th>odd</th>\n",
       "      <th>tip_name</th>\n",
       "      <th>bookmaker_name</th>\n",
       "      <th>match_date_time</th>\n",
       "      <th>league_name_in_russian</th>\n",
       "      <th>team_of_season_1_name_in_russian</th>\n",
       "      <th>team_of_season_2_name_in_russian</th>\n",
       "      <th>direct_match_for_teams1</th>\n",
       "      <th>direct_match_for_teams2</th>\n",
       "      <th>direct_match_for_leagues</th>\n",
       "      <th>content_norm</th>\n",
       "    </tr>\n",
       "  </thead>\n",
       "  <tbody>\n",
       "    <tr>\n",
       "      <td>0</td>\n",
       "      <td>Сборная Турции продолжает свою дорогу на Чемпи...</td>\n",
       "      <td>1.65</td>\n",
       "      <td>- 1,5</td>\n",
       "      <td>Олимп</td>\n",
       "      <td>2019-06-02 18:00:00</td>\n",
       "      <td>Международные товарищеские матчи</td>\n",
       "      <td>Турция</td>\n",
       "      <td>Узбекистан</td>\n",
       "      <td>1.0</td>\n",
       "      <td>1.0</td>\n",
       "      <td>0.0</td>\n",
       "      <td>[сборная, турции, продолжает, дорогу, чемпиона...</td>\n",
       "    </tr>\n",
       "    <tr>\n",
       "      <td>1</td>\n",
       "      <td>Двадцать девятого числа состоится один весьма ...</td>\n",
       "      <td>1.52</td>\n",
       "      <td>– тотал меньше 2,5</td>\n",
       "      <td>Winline</td>\n",
       "      <td>2019-06-28 23:20:00</td>\n",
       "      <td>Кубок Америки</td>\n",
       "      <td>Колумбия</td>\n",
       "      <td>Чили</td>\n",
       "      <td>1.0</td>\n",
       "      <td>1.0</td>\n",
       "      <td>0.0</td>\n",
       "      <td>[двадцать, девятого, числа, состоится, весьма,...</td>\n",
       "    </tr>\n",
       "    <tr>\n",
       "      <td>2</td>\n",
       "      <td>АЗ Алкмар В первом матче голландский клуб созд...</td>\n",
       "      <td>1.85</td>\n",
       "      <td>АЗ Алкмар забьет в обоих таймах</td>\n",
       "      <td>Лига Ставок</td>\n",
       "      <td>2019-08-15 18:30:00</td>\n",
       "      <td>Лига Европы УЕФА</td>\n",
       "      <td>АЗ Алкмаар</td>\n",
       "      <td>Мариуполь</td>\n",
       "      <td>0.0</td>\n",
       "      <td>1.0</td>\n",
       "      <td>0.0</td>\n",
       "      <td>[аз, алкмар, первом, матче, голландский, клуб,...</td>\n",
       "    </tr>\n",
       "  </tbody>\n",
       "</table>\n",
       "</div>"
      ],
      "text/plain": [
       "                                          result.tsv   odd  \\\n",
       "0  Сборная Турции продолжает свою дорогу на Чемпи...  1.65   \n",
       "1  Двадцать девятого числа состоится один весьма ...  1.52   \n",
       "2  АЗ Алкмар В первом матче голландский клуб созд...  1.85   \n",
       "\n",
       "                          tip_name bookmaker_name      match_date_time  \\\n",
       "0                            - 1,5          Олимп  2019-06-02 18:00:00   \n",
       "1               – тотал меньше 2,5        Winline  2019-06-28 23:20:00   \n",
       "2  АЗ Алкмар забьет в обоих таймах    Лига Ставок  2019-08-15 18:30:00   \n",
       "\n",
       "             league_name_in_russian team_of_season_1_name_in_russian  \\\n",
       "0  Международные товарищеские матчи                           Турция   \n",
       "1                     Кубок Америки                         Колумбия   \n",
       "2                  Лига Европы УЕФА                       АЗ Алкмаар   \n",
       "\n",
       "  team_of_season_2_name_in_russian  direct_match_for_teams1  \\\n",
       "0                       Узбекистан                      1.0   \n",
       "1                             Чили                      1.0   \n",
       "2                        Мариуполь                      0.0   \n",
       "\n",
       "   direct_match_for_teams2  direct_match_for_leagues  \\\n",
       "0                      1.0                       0.0   \n",
       "1                      1.0                       0.0   \n",
       "2                      1.0                       0.0   \n",
       "\n",
       "                                        content_norm  \n",
       "0  [сборная, турции, продолжает, дорогу, чемпиона...  \n",
       "1  [двадцать, девятого, числа, состоится, весьма,...  \n",
       "2  [аз, алкмар, первом, матче, голландский, клуб,...  "
      ]
     },
     "execution_count": 17,
     "metadata": {},
     "output_type": "execute_result"
    }
   ],
   "source": [
    "russian.head(3)"
   ]
  },
  {
   "cell_type": "code",
   "execution_count": 20,
   "metadata": {},
   "outputs": [
    {
     "name": "stderr",
     "output_type": "stream",
     "text": [
      "100%|██████████████████████████████████████████████████████████████████████| 595931/595931 [00:00<00:00, 627567.29it/s]\n"
     ]
    }
   ],
   "source": [
    "w2v_model = gensim.models.Word2Vec([text for text in tqdm(russian['content_norm'])], size = 300, workers=cpu_count())"
   ]
  },
  {
   "cell_type": "code",
   "execution_count": 28,
   "metadata": {},
   "outputs": [],
   "source": [
    "w2v_model.save('w2v_sport_model.model')"
   ]
  },
  {
   "cell_type": "code",
   "execution_count": 21,
   "metadata": {},
   "outputs": [
    {
     "name": "stderr",
     "output_type": "stream",
     "text": [
      "100%|██████████████████████████████████████████████████████████████████████| 595931/595931 [00:00<00:00, 792364.37it/s]\n"
     ]
    }
   ],
   "source": [
    "fasttxt_model = gensim.models.FastText([text for text in tqdm(russian['content_norm'])], size = 300, workers=cpu_count())"
   ]
  },
  {
   "cell_type": "code",
   "execution_count": 30,
   "metadata": {},
   "outputs": [],
   "source": [
    "fasttxt_model.save('fasttext_sport_model.model')"
   ]
  },
  {
   "cell_type": "code",
   "execution_count": 22,
   "metadata": {},
   "outputs": [],
   "source": [
    "from nltk import word_tokenize"
   ]
  },
  {
   "cell_type": "code",
   "execution_count": 28,
   "metadata": {},
   "outputs": [
    {
     "name": "stderr",
     "output_type": "stream",
     "text": [
      "C:\\Users\\User\\Anaconda3\\lib\\site-packages\\ipykernel_launcher.py:7: DeprecationWarning: Call to deprecated `similarity` (Method will be removed in 4.0.0, use self.wv.similarity() instead).\n",
      "  import sys\n"
     ]
    },
    {
     "name": "stdout",
     "output_type": "stream",
     "text": [
      "филипс узбекистан\n"
     ]
    },
    {
     "name": "stderr",
     "output_type": "stream",
     "text": [
      "C:\\Users\\User\\Anaconda3\\lib\\site-packages\\ipykernel_launcher.py:9: DeprecationWarning: Call to deprecated `similarity` (Method will be removed in 4.0.0, use self.wv.similarity() instead).\n",
      "  if __name__ == '__main__':\n"
     ]
    },
    {
     "name": "stdout",
     "output_type": "stream",
     "text": [
      "0.44604123\n",
      "фейеноорд айнтрахт франкфурт\n",
      "0.43834028\n",
      "зволле айнтрахт франкфурт\n",
      "0.43804717\n",
      "фейеноорд айнтрахт франкфурт\n",
      "0.43834028\n",
      "цска краснодар\n",
      "0.6780505\n",
      "байера краснодар\n",
      "0.40357396\n",
      "армейцы краснодар\n",
      "0.46718252\n",
      "лудогорца краснодар\n",
      "0.4809531\n",
      "цска краснодар\n",
      "0.6780505\n",
      "болгарский краснодар\n",
      "0.4002518\n",
      "дортмунд бавария\n",
      "0.690273\n",
      "германия бавария\n",
      "0.62242275\n",
      "боруссия бавария\n",
      "0.74700695\n",
      "барселону бавария\n",
      "0.48215353\n",
      "шмелей бавария\n",
      "0.4445119\n",
      "барселоны бавария\n",
      "0.46646658\n",
      "боруссия бавария\n",
      "0.74700695\n",
      "бундес-лиге бавария\n",
      "0.45489377\n",
      "немецкого бавария\n",
      "0.4046752\n",
      "лейпцига бавария\n",
      "0.60683316\n",
      "бенфика бавария\n",
      "0.5863577\n",
      "порту бавария\n",
      "0.46518242\n",
      "бенфика бавария\n",
      "0.5863577\n",
      "апл челси\n",
      "0.525126\n",
      "ливерпуль челси\n",
      "0.67570496\n",
      "апл челси\n",
      "0.525126\n",
      "норвич челси\n",
      "0.6380881\n",
      "ливерпуль челси\n",
      "0.67570496\n",
      "апл челси\n",
      "0.525126\n",
      "норвич челси\n",
      "0.6380881\n",
      "энфилде?я челси\n",
      "0.55790734\n",
      "ливер челси\n",
      "0.636581\n",
      "англичане эстония\n",
      "0.43274766\n"
     ]
    }
   ],
   "source": [
    "for i, text in enumerate(russian['content_norm'][10:20].values):\n",
    "  # print(i, text)\n",
    "    for word in text:\n",
    "    # print(word)\n",
    "        word2 = russian['team_of_season_2_name_in_russian'][i]\n",
    "        word2 = word2.lower()\n",
    "        if model_fast.similarity(word, word2) > 0.4:\n",
    "            print(word, word2)\n",
    "            print(model_fast.similarity(word, word2))"
   ]
  },
  {
   "cell_type": "code",
   "execution_count": 38,
   "metadata": {},
   "outputs": [
    {
     "name": "stderr",
     "output_type": "stream",
     "text": [
      "C:\\Users\\User\\Anaconda3\\lib\\site-packages\\ipykernel_launcher.py:1: DeprecationWarning: Call to deprecated `most_similar` (Method will be removed in 4.0.0, use self.wv.most_similar() instead).\n",
      "  \"\"\"Entry point for launching an IPython kernel.\n"
     ]
    },
    {
     "name": "stdout",
     "output_type": "stream",
     "text": [
      "[('бернли', 0.6764350533485413), ('брайтон', 0.6657365560531616), ('бёрнли', 0.6609916090965271), ('чемпионшипа', 0.6573724150657654), ('уотфорд', 0.6481508612632751), ('саутгемптон', 0.644432783126831), ('фулхэм', 0.6414387226104736), ('чемпионшип', 0.632818341255188), ('лестер', 0.631027340888977), ('чемпионшипе', 0.6297529935836792)]\n"
     ]
    }
   ],
   "source": [
    "print(model_w2v.most_similar('апл'))"
   ]
  },
  {
   "cell_type": "markdown",
   "metadata": {},
   "source": [
    "# FastText"
   ]
  },
  {
   "cell_type": "markdown",
   "metadata": {},
   "source": [
    "### Команда 1 "
   ]
  },
  {
   "cell_type": "code",
   "execution_count": 18,
   "metadata": {},
   "outputs": [],
   "source": [
    "model2 = 'fasttext_sport_model.model'\n",
    "model_fast = gensim.models.FastText.load(model2)"
   ]
  },
  {
   "cell_type": "code",
   "execution_count": 19,
   "metadata": {},
   "outputs": [],
   "source": [
    "teams1_vector_match = np.zeros(russian.shape[0])"
   ]
  },
  {
   "cell_type": "code",
   "execution_count": 23,
   "metadata": {},
   "outputs": [
    {
     "name": "stderr",
     "output_type": "stream",
     "text": [
      "C:\\Users\\User\\Anaconda3\\lib\\site-packages\\ipykernel_launcher.py:7: DeprecationWarning: Call to deprecated `similarity` (Method will be removed in 4.0.0, use self.wv.similarity() instead).\n",
      "  import sys\n"
     ]
    }
   ],
   "source": [
    "for i, text in enumerate(russian['content_norm'].values):\n",
    "    for word in text:\n",
    "        try:\n",
    "            word2 = russian['team_of_season_1_name_in_russian'][i]\n",
    "            word2 = word2.lower()\n",
    "            #print(word2)\n",
    "            if model_fast.similarity(word, word2) > 0.7:\n",
    "                teams1_vector_match[i] = 1\n",
    "        except:\n",
    "            continue"
   ]
  },
  {
   "cell_type": "code",
   "execution_count": 24,
   "metadata": {},
   "outputs": [],
   "source": [
    "russian['ft_vector_match_team1'] = teams1_vector_match"
   ]
  },
  {
   "cell_type": "code",
   "execution_count": 25,
   "metadata": {},
   "outputs": [
    {
     "name": "stdout",
     "output_type": "stream",
     "text": [
      "595931\n"
     ]
    }
   ],
   "source": [
    "all_vals = russian['ft_vector_match_team1'].shape[0]\n",
    "print(all_vals)"
   ]
  },
  {
   "cell_type": "code",
   "execution_count": 26,
   "metadata": {},
   "outputs": [
    {
     "name": "stdout",
     "output_type": "stream",
     "text": [
      "18644\n"
     ]
    }
   ],
   "source": [
    "success = russian[russian['ft_vector_match_team1'] == 1].shape[0]\n",
    "print(success)"
   ]
  },
  {
   "cell_type": "code",
   "execution_count": 27,
   "metadata": {},
   "outputs": [
    {
     "name": "stdout",
     "output_type": "stream",
     "text": [
      "0.03128550117379361\n"
     ]
    }
   ],
   "source": [
    "vectorline_team1 = success / all_vals\n",
    "print(vectorline_team1)"
   ]
  },
  {
   "cell_type": "markdown",
   "metadata": {},
   "source": [
    "### Команда 2 "
   ]
  },
  {
   "cell_type": "code",
   "execution_count": 28,
   "metadata": {},
   "outputs": [],
   "source": [
    "teams2_vector_match = np.zeros(russian.shape[0])"
   ]
  },
  {
   "cell_type": "code",
   "execution_count": 29,
   "metadata": {},
   "outputs": [
    {
     "name": "stderr",
     "output_type": "stream",
     "text": [
      "C:\\Users\\User\\Anaconda3\\lib\\site-packages\\ipykernel_launcher.py:6: DeprecationWarning: Call to deprecated `similarity` (Method will be removed in 4.0.0, use self.wv.similarity() instead).\n",
      "  \n"
     ]
    }
   ],
   "source": [
    "for i, text in enumerate(russian['content_norm'].values):\n",
    "    for word in text:\n",
    "        try:\n",
    "            word2 = russian['team_of_season_2_name_in_russian'][i]\n",
    "            word2 = word2.lower()\n",
    "            if model_fast.similarity(word, word2) > 0.7:\n",
    "                teams2_vector_match[i] = 1\n",
    "        except:\n",
    "            continue"
   ]
  },
  {
   "cell_type": "code",
   "execution_count": 30,
   "metadata": {},
   "outputs": [],
   "source": [
    "russian['ft_vector_match_team2'] = teams2_vector_match"
   ]
  },
  {
   "cell_type": "code",
   "execution_count": 31,
   "metadata": {},
   "outputs": [
    {
     "name": "stdout",
     "output_type": "stream",
     "text": [
      "595931\n"
     ]
    }
   ],
   "source": [
    "all_vals2 = russian['ft_vector_match_team2'].shape[0]\n",
    "print(all_vals2)"
   ]
  },
  {
   "cell_type": "code",
   "execution_count": 32,
   "metadata": {},
   "outputs": [
    {
     "name": "stdout",
     "output_type": "stream",
     "text": [
      "18416\n"
     ]
    }
   ],
   "source": [
    "success2 = russian[russian['ft_vector_match_team2'] == 1].shape[0]\n",
    "print(success2)"
   ]
  },
  {
   "cell_type": "code",
   "execution_count": 33,
   "metadata": {},
   "outputs": [
    {
     "name": "stdout",
     "output_type": "stream",
     "text": [
      "0.03090290654454962\n"
     ]
    }
   ],
   "source": [
    "vectorline_team2 = success2 / all_vals2\n",
    "print(vectorline_team2)"
   ]
  },
  {
   "cell_type": "markdown",
   "metadata": {},
   "source": [
    "### Лига"
   ]
  },
  {
   "cell_type": "code",
   "execution_count": 34,
   "metadata": {},
   "outputs": [],
   "source": [
    "league_vector_match = np.zeros(russian.shape[0])"
   ]
  },
  {
   "cell_type": "code",
   "execution_count": 35,
   "metadata": {},
   "outputs": [
    {
     "name": "stderr",
     "output_type": "stream",
     "text": [
      "C:\\Users\\User\\Anaconda3\\lib\\site-packages\\ipykernel_launcher.py:6: DeprecationWarning: Call to deprecated `similarity` (Method will be removed in 4.0.0, use self.wv.similarity() instead).\n",
      "  \n"
     ]
    }
   ],
   "source": [
    "for i, text in enumerate(russian['content_norm'].values):\n",
    "    for word in text:\n",
    "        try:\n",
    "            word2 = russian['league_name_in_russian'][i]\n",
    "            word2 = word2.lower()\n",
    "            if model_fast.similarity(word, word2) > 0.7:\n",
    "                league_vector_match[i] = 1\n",
    "        except:\n",
    "            continue"
   ]
  },
  {
   "cell_type": "code",
   "execution_count": 36,
   "metadata": {},
   "outputs": [],
   "source": [
    "russian['ft_vector_match_league'] = league_vector_match"
   ]
  },
  {
   "cell_type": "code",
   "execution_count": 37,
   "metadata": {},
   "outputs": [
    {
     "name": "stdout",
     "output_type": "stream",
     "text": [
      "595931\n"
     ]
    }
   ],
   "source": [
    "all_vals3 = russian['ft_vector_match_league'].shape[0]\n",
    "print(all_vals3)"
   ]
  },
  {
   "cell_type": "code",
   "execution_count": 38,
   "metadata": {},
   "outputs": [
    {
     "name": "stdout",
     "output_type": "stream",
     "text": [
      "18074\n"
     ]
    }
   ],
   "source": [
    "success3 = russian[russian['ft_vector_match_league'] == 1].shape[0]\n",
    "print(success3)"
   ]
  },
  {
   "cell_type": "code",
   "execution_count": 39,
   "metadata": {},
   "outputs": [
    {
     "name": "stdout",
     "output_type": "stream",
     "text": [
      "0.030329014600683636\n"
     ]
    }
   ],
   "source": [
    "vectorline_league = success3 / all_vals3\n",
    "print(vectorline_league)"
   ]
  },
  {
   "cell_type": "code",
   "execution_count": 40,
   "metadata": {},
   "outputs": [],
   "source": [
    "russian.to_csv(r'C:\\Users\\User\\Desktop\\project\\russian_vectormodels.csv', index = False)"
   ]
  },
  {
   "cell_type": "markdown",
   "metadata": {},
   "source": [
    "# W2V"
   ]
  },
  {
   "cell_type": "code",
   "execution_count": 56,
   "metadata": {},
   "outputs": [],
   "source": [
    "model1 = 'w2v_sport_model.model'\n",
    "model_w2v = gensim.models.Word2Vec.load(model1)"
   ]
  },
  {
   "cell_type": "code",
   "execution_count": 57,
   "metadata": {},
   "outputs": [],
   "source": [
    "teams1_vector_match_w2v = np.zeros(russian.shape[0])"
   ]
  },
  {
   "cell_type": "code",
   "execution_count": 62,
   "metadata": {},
   "outputs": [
    {
     "name": "stderr",
     "output_type": "stream",
     "text": [
      "C:\\Users\\User\\Anaconda3\\lib\\site-packages\\ipykernel_launcher.py:6: DeprecationWarning: Call to deprecated `similarity` (Method will be removed in 4.0.0, use self.wv.similarity() instead).\n",
      "  \n"
     ]
    },
    {
     "name": "stdout",
     "output_type": "stream",
     "text": [
      "сборная турция\n"
     ]
    },
    {
     "name": "stderr",
     "output_type": "stream",
     "text": [
      "C:\\Users\\User\\Anaconda3\\lib\\site-packages\\ipykernel_launcher.py:8: DeprecationWarning: Call to deprecated `similarity` (Method will be removed in 4.0.0, use self.wv.similarity() instead).\n",
      "  \n"
     ]
    },
    {
     "name": "stdout",
     "output_type": "stream",
     "text": [
      "0.5222218\n",
      "турции турция\n",
      "0.6121782\n",
      "узбекистан турция\n",
      "0.50324047\n",
      "турки турция\n",
      "0.56477135\n",
      "турция турция\n",
      "0.99999994\n",
      "францией турция\n",
      "0.59041035\n",
      "исландию турция\n",
      "0.6758712\n",
      "францией турция\n",
      "0.59041035\n",
      "турки турция\n",
      "0.56477135\n",
      "узбекистан турция\n",
      "0.50324047\n",
      "сборная турция\n",
      "0.5222218\n",
      "сборная турция\n",
      "0.5222218\n",
      "сборная турция\n",
      "0.5222218\n",
      "турции турция\n",
      "0.6121782\n",
      "узбекистан турция\n",
      "0.50324047\n",
      "турки турция\n",
      "0.56477135\n",
      "америки колумбия\n",
      "0.5210236\n",
      "колумбия колумбия\n",
      "1.0\n",
      "чили колумбия\n",
      "0.7665932\n",
      "кофейщики колумбия\n",
      "0.5159029\n",
      "парагвая колумбия\n",
      "0.5880945\n",
      "аргентина колумбия\n",
      "0.862471\n",
      "кофейщики колумбия\n",
      "0.5159029\n",
      "уругвая колумбия\n",
      "0.6390867\n",
      "чилийцам колумбия\n",
      "0.50081825\n",
      "абердин флора\n",
      "0.5144291\n",
      "флора флора\n",
      "1.0\n",
      "флора флора\n",
      "1.0\n",
      "хеккен флора\n",
      "0.51407427\n",
      "хеккен флора\n",
      "0.51407427\n",
      "валенсия валенсия\n",
      "1.0\n",
      "валенсия валенсия\n",
      "1.0\n",
      "валенсия валенсия\n",
      "1.0\n",
      "ахмат ахмат\n",
      "1.0\n",
      "краснодар ахмат\n",
      "0.7594689\n",
      "рпл ахмат\n",
      "0.5679152\n",
      "ахмат ахмат\n",
      "1.0\n",
      "цска ахмат\n",
      "0.7137059\n",
      "ахмат ахмат\n",
      "1.0\n",
      "краснодар ахмат\n",
      "0.7594689\n",
      "рубина ахмат\n",
      "0.6412567\n",
      "краснодар ахмат\n",
      "0.7594689\n",
      "ахмат ахмат\n",
      "1.0\n",
      "краснодар ахмат\n",
      "0.7594689\n",
      "ахмат ахмат\n",
      "1.0\n",
      "краснодара ахмат\n",
      "0.59407854\n",
      "ахмат ахмат\n",
      "1.0\n",
      "ахмат ахмат\n",
      "1.0\n",
      "арсенал арсенал\n",
      "0.99999994\n",
      "арсенал арсенал\n",
      "0.99999994\n",
      "арсенал арсенал\n",
      "0.99999994\n",
      "барселону барселона\n",
      "0.60430527\n",
      "барселона барселона\n",
      "1.0\n",
      "беларусь беларусь\n",
      "1.0\n",
      "эстония беларусь\n",
      "0.8195026\n",
      "беларусь беларусь\n",
      "1.0\n",
      "беларуси беларусь\n",
      "0.53388363\n",
      "эстонии беларусь\n",
      "0.7004588\n",
      "беларуси беларусь\n",
      "0.53388363\n",
      "эстонцев беларусь\n",
      "0.54359823\n",
      "австрия беларусь\n",
      "0.68247086\n",
      "эстонии беларусь\n",
      "0.7004588\n",
      "беларуси беларусь\n",
      "0.53388363\n",
      "беларуси беларусь\n",
      "0.53388363\n",
      "беларуси беларусь\n",
      "0.53388363\n",
      "эстонии беларусь\n",
      "0.7004588\n",
      "беларуси беларусь\n",
      "0.53388363\n",
      "эстонцы беларусь\n",
      "0.57874197\n",
      "эстонцев беларусь\n",
      "0.54359823\n",
      "эстонии беларусь\n",
      "0.7004588\n",
      "эстонии беларусь\n",
      "0.7004588\n",
      "эстония беларусь\n",
      "0.8195026\n",
      "беларуси беларусь\n",
      "0.53388363\n",
      "беларуси беларусь\n",
      "0.53388363\n",
      "эстонии беларусь\n",
      "0.7004588\n",
      "эстония беларусь\n",
      "0.8195026\n",
      "беларуси беларусь\n",
      "0.53388363\n",
      "эстонии беларусь\n",
      "0.7004588\n",
      "беларуси беларусь\n",
      "0.53388363\n",
      "беларуси беларусь\n",
      "0.53388363\n",
      "эстонии беларусь\n",
      "0.7004588\n",
      "беларуси беларусь\n",
      "0.53388363\n",
      "эстонии беларусь\n",
      "0.7004588\n",
      "эстонцы беларусь\n",
      "0.57874197\n",
      "беларуси беларусь\n",
      "0.53388363\n",
      "фейеноорд витесс\n",
      "0.7023168\n",
      "псв витесс\n",
      "0.7184674\n",
      "аякс витесс\n",
      "0.66234744\n",
      "леонида витесс\n",
      "0.54184353\n",
      "слуцкого витесс\n",
      "0.6051726\n",
      "витесс витесс\n",
      "1.0\n",
      "псв витесс\n",
      "0.7184674\n",
      "твенте витесс\n",
      "0.73095906\n",
      "витессу витесс\n",
      "0.5575428\n",
      "вулверхэмптон вулверхэмптон\n",
      "0.99999994\n",
      "волки вулверхэмптон\n",
      "0.5858278\n",
      "вулверхэмптон вулверхэмптон\n",
      "0.99999994\n",
      "манчестер вулверхэмптон\n",
      "0.5367824\n",
      "сити вулверхэмптон\n",
      "0.5565169\n",
      "вулверхэмптон вулверхэмптон\n",
      "0.99999994\n",
      "волки вулверхэмптон\n",
      "0.5858278\n",
      "фейеноорд фейеноорд\n",
      "0.99999994\n",
      "фейеноорда фейеноорд\n",
      "0.572109\n",
      "зволле фейеноорд\n",
      "0.7092867\n",
      "аякс фейеноорд\n",
      "0.5574802\n",
      "фейеноорда фейеноорд\n",
      "0.572109\n",
      "спарта фейеноорд\n",
      "0.5339679\n",
      "фейеноорда фейеноорд\n",
      "0.572109\n",
      "фейеноорд фейеноорд\n",
      "0.99999994\n",
      "карпаты карпаты\n",
      "1.0\n",
      "карпаты карпаты\n",
      "1.0\n",
      "динамо карпаты\n",
      "0.5353607\n",
      "киев карпаты\n",
      "0.57512426\n",
      "киевляне карпаты\n",
      "0.60049653\n",
      "шахтер карпаты\n",
      "0.5576916\n",
      "динамо карпаты\n",
      "0.5353607\n",
      "карпатам карпаты\n",
      "0.55501866\n",
      "динамо карпаты\n",
      "0.5353607\n",
      "динамовцы карпаты\n",
      "0.5797027\n",
      "зари заря\n",
      "0.5635715\n",
      "киев заря\n",
      "0.51136404\n",
      "зари заря\n",
      "0.5635715\n",
      "зари заря\n",
      "0.5635715\n",
      "зари заря\n",
      "0.5635715\n",
      "лион лион\n",
      "1.0\n",
      "франции лион\n",
      "0.5122913\n",
      "зенит лион\n",
      "0.6016218\n"
     ]
    },
    {
     "ename": "KeyError",
     "evalue": "18",
     "output_type": "error",
     "traceback": [
      "\u001b[1;31m---------------------------------------------------------------------------\u001b[0m",
      "\u001b[1;31mKeyError\u001b[0m                                  Traceback (most recent call last)",
      "\u001b[1;32m<ipython-input-62-9f133984fcff>\u001b[0m in \u001b[0;36m<module>\u001b[1;34m\u001b[0m\n\u001b[0;32m      1\u001b[0m \u001b[1;32mfor\u001b[0m \u001b[0mi\u001b[0m\u001b[1;33m,\u001b[0m \u001b[0mtext\u001b[0m \u001b[1;32min\u001b[0m \u001b[0menumerate\u001b[0m\u001b[1;33m(\u001b[0m\u001b[0mrussian\u001b[0m\u001b[1;33m[\u001b[0m\u001b[1;34m'content_norm'\u001b[0m\u001b[1;33m]\u001b[0m\u001b[1;33m[\u001b[0m\u001b[1;33m:\u001b[0m\u001b[1;36m50\u001b[0m\u001b[1;33m]\u001b[0m\u001b[1;33m.\u001b[0m\u001b[0mvalues\u001b[0m\u001b[1;33m)\u001b[0m\u001b[1;33m:\u001b[0m\u001b[1;33m\u001b[0m\u001b[1;33m\u001b[0m\u001b[0m\n\u001b[0;32m      2\u001b[0m     \u001b[1;32mfor\u001b[0m \u001b[0mword\u001b[0m \u001b[1;32min\u001b[0m \u001b[0mtext\u001b[0m\u001b[1;33m:\u001b[0m\u001b[1;33m\u001b[0m\u001b[1;33m\u001b[0m\u001b[0m\n\u001b[1;32m----> 3\u001b[1;33m         \u001b[0mword2\u001b[0m \u001b[1;33m=\u001b[0m \u001b[0mrussian\u001b[0m\u001b[1;33m[\u001b[0m\u001b[1;34m'team_of_season_1_name_in_russian'\u001b[0m\u001b[1;33m]\u001b[0m\u001b[1;33m[\u001b[0m\u001b[0mi\u001b[0m\u001b[1;33m]\u001b[0m\u001b[1;33m\u001b[0m\u001b[1;33m\u001b[0m\u001b[0m\n\u001b[0m\u001b[0;32m      4\u001b[0m         \u001b[0mword2\u001b[0m \u001b[1;33m=\u001b[0m \u001b[0mword2\u001b[0m\u001b[1;33m.\u001b[0m\u001b[0mlower\u001b[0m\u001b[1;33m(\u001b[0m\u001b[1;33m)\u001b[0m\u001b[1;33m\u001b[0m\u001b[1;33m\u001b[0m\u001b[0m\n\u001b[0;32m      5\u001b[0m         \u001b[1;32mtry\u001b[0m\u001b[1;33m:\u001b[0m\u001b[1;33m\u001b[0m\u001b[1;33m\u001b[0m\u001b[0m\n",
      "\u001b[1;32m~\\Anaconda3\\lib\\site-packages\\pandas\\core\\series.py\u001b[0m in \u001b[0;36m__getitem__\u001b[1;34m(self, key)\u001b[0m\n\u001b[0;32m   1066\u001b[0m         \u001b[0mkey\u001b[0m \u001b[1;33m=\u001b[0m \u001b[0mcom\u001b[0m\u001b[1;33m.\u001b[0m\u001b[0mapply_if_callable\u001b[0m\u001b[1;33m(\u001b[0m\u001b[0mkey\u001b[0m\u001b[1;33m,\u001b[0m \u001b[0mself\u001b[0m\u001b[1;33m)\u001b[0m\u001b[1;33m\u001b[0m\u001b[1;33m\u001b[0m\u001b[0m\n\u001b[0;32m   1067\u001b[0m         \u001b[1;32mtry\u001b[0m\u001b[1;33m:\u001b[0m\u001b[1;33m\u001b[0m\u001b[1;33m\u001b[0m\u001b[0m\n\u001b[1;32m-> 1068\u001b[1;33m             \u001b[0mresult\u001b[0m \u001b[1;33m=\u001b[0m \u001b[0mself\u001b[0m\u001b[1;33m.\u001b[0m\u001b[0mindex\u001b[0m\u001b[1;33m.\u001b[0m\u001b[0mget_value\u001b[0m\u001b[1;33m(\u001b[0m\u001b[0mself\u001b[0m\u001b[1;33m,\u001b[0m \u001b[0mkey\u001b[0m\u001b[1;33m)\u001b[0m\u001b[1;33m\u001b[0m\u001b[1;33m\u001b[0m\u001b[0m\n\u001b[0m\u001b[0;32m   1069\u001b[0m \u001b[1;33m\u001b[0m\u001b[0m\n\u001b[0;32m   1070\u001b[0m             \u001b[1;32mif\u001b[0m \u001b[1;32mnot\u001b[0m \u001b[0mis_scalar\u001b[0m\u001b[1;33m(\u001b[0m\u001b[0mresult\u001b[0m\u001b[1;33m)\u001b[0m\u001b[1;33m:\u001b[0m\u001b[1;33m\u001b[0m\u001b[1;33m\u001b[0m\u001b[0m\n",
      "\u001b[1;32m~\\Anaconda3\\lib\\site-packages\\pandas\\core\\indexes\\base.py\u001b[0m in \u001b[0;36mget_value\u001b[1;34m(self, series, key)\u001b[0m\n\u001b[0;32m   4728\u001b[0m         \u001b[0mk\u001b[0m \u001b[1;33m=\u001b[0m \u001b[0mself\u001b[0m\u001b[1;33m.\u001b[0m\u001b[0m_convert_scalar_indexer\u001b[0m\u001b[1;33m(\u001b[0m\u001b[0mk\u001b[0m\u001b[1;33m,\u001b[0m \u001b[0mkind\u001b[0m\u001b[1;33m=\u001b[0m\u001b[1;34m\"getitem\"\u001b[0m\u001b[1;33m)\u001b[0m\u001b[1;33m\u001b[0m\u001b[1;33m\u001b[0m\u001b[0m\n\u001b[0;32m   4729\u001b[0m         \u001b[1;32mtry\u001b[0m\u001b[1;33m:\u001b[0m\u001b[1;33m\u001b[0m\u001b[1;33m\u001b[0m\u001b[0m\n\u001b[1;32m-> 4730\u001b[1;33m             \u001b[1;32mreturn\u001b[0m \u001b[0mself\u001b[0m\u001b[1;33m.\u001b[0m\u001b[0m_engine\u001b[0m\u001b[1;33m.\u001b[0m\u001b[0mget_value\u001b[0m\u001b[1;33m(\u001b[0m\u001b[0ms\u001b[0m\u001b[1;33m,\u001b[0m \u001b[0mk\u001b[0m\u001b[1;33m,\u001b[0m \u001b[0mtz\u001b[0m\u001b[1;33m=\u001b[0m\u001b[0mgetattr\u001b[0m\u001b[1;33m(\u001b[0m\u001b[0mseries\u001b[0m\u001b[1;33m.\u001b[0m\u001b[0mdtype\u001b[0m\u001b[1;33m,\u001b[0m \u001b[1;34m\"tz\"\u001b[0m\u001b[1;33m,\u001b[0m \u001b[1;32mNone\u001b[0m\u001b[1;33m)\u001b[0m\u001b[1;33m)\u001b[0m\u001b[1;33m\u001b[0m\u001b[1;33m\u001b[0m\u001b[0m\n\u001b[0m\u001b[0;32m   4731\u001b[0m         \u001b[1;32mexcept\u001b[0m \u001b[0mKeyError\u001b[0m \u001b[1;32mas\u001b[0m \u001b[0me1\u001b[0m\u001b[1;33m:\u001b[0m\u001b[1;33m\u001b[0m\u001b[1;33m\u001b[0m\u001b[0m\n\u001b[0;32m   4732\u001b[0m             \u001b[1;32mif\u001b[0m \u001b[0mlen\u001b[0m\u001b[1;33m(\u001b[0m\u001b[0mself\u001b[0m\u001b[1;33m)\u001b[0m \u001b[1;33m>\u001b[0m \u001b[1;36m0\u001b[0m \u001b[1;32mand\u001b[0m \u001b[1;33m(\u001b[0m\u001b[0mself\u001b[0m\u001b[1;33m.\u001b[0m\u001b[0mholds_integer\u001b[0m\u001b[1;33m(\u001b[0m\u001b[1;33m)\u001b[0m \u001b[1;32mor\u001b[0m \u001b[0mself\u001b[0m\u001b[1;33m.\u001b[0m\u001b[0mis_boolean\u001b[0m\u001b[1;33m(\u001b[0m\u001b[1;33m)\u001b[0m\u001b[1;33m)\u001b[0m\u001b[1;33m:\u001b[0m\u001b[1;33m\u001b[0m\u001b[1;33m\u001b[0m\u001b[0m\n",
      "\u001b[1;32mpandas\\_libs\\index.pyx\u001b[0m in \u001b[0;36mpandas._libs.index.IndexEngine.get_value\u001b[1;34m()\u001b[0m\n",
      "\u001b[1;32mpandas\\_libs\\index.pyx\u001b[0m in \u001b[0;36mpandas._libs.index.IndexEngine.get_value\u001b[1;34m()\u001b[0m\n",
      "\u001b[1;32mpandas\\_libs\\index.pyx\u001b[0m in \u001b[0;36mpandas._libs.index.IndexEngine.get_loc\u001b[1;34m()\u001b[0m\n",
      "\u001b[1;32mpandas\\_libs\\hashtable_class_helper.pxi\u001b[0m in \u001b[0;36mpandas._libs.hashtable.Int64HashTable.get_item\u001b[1;34m()\u001b[0m\n",
      "\u001b[1;32mpandas\\_libs\\hashtable_class_helper.pxi\u001b[0m in \u001b[0;36mpandas._libs.hashtable.Int64HashTable.get_item\u001b[1;34m()\u001b[0m\n",
      "\u001b[1;31mKeyError\u001b[0m: 18"
     ]
    }
   ],
   "source": [
    "for i, text in enumerate(russian['content_norm'][:50].values):\n",
    "    for word in text:\n",
    "        word2 = russian['team_of_season_1_name_in_russian'][i]\n",
    "        word2 = word2.lower()\n",
    "        try:\n",
    "            if model_w2v.similarity(word, word2) > 0.5:\n",
    "                print(word, word2)\n",
    "                print(model_w2v.similarity(word, word2))\n",
    "        except:\n",
    "            continue"
   ]
  },
  {
   "cell_type": "code",
   "execution_count": 54,
   "metadata": {},
   "outputs": [],
   "source": [
    "for i, text in enumerate(russian['content_norm'][:20].values):\n",
    "    for word in text:\n",
    "        try:\n",
    "            word2 = russian['team_of_season_1_name_in_russian'][i]\n",
    "            word2 = word2.lower()\n",
    "            #print(word2)\n",
    "            if model_w2v.similarity(word, word2) > 0.4:\n",
    "                teams1_vector_match_w2v[i] = 1\n",
    "                print(word, word2)\n",
    "        except:\n",
    "            continue"
   ]
  },
  {
   "cell_type": "code",
   "execution_count": 47,
   "metadata": {},
   "outputs": [],
   "source": [
    "russian['w2v_vector_match_team1'] = teams1_vector_match_w2v"
   ]
  },
  {
   "cell_type": "code",
   "execution_count": 48,
   "metadata": {},
   "outputs": [
    {
     "name": "stdout",
     "output_type": "stream",
     "text": [
      "595931\n",
      "0\n",
      "0.0\n"
     ]
    }
   ],
   "source": [
    "all_vals4 = russian['w2v_vector_match_team1'].shape[0]\n",
    "print(all_vals4)\n",
    "success4 = russian[russian['w2v_vector_match_team1'] == 1].shape[0]\n",
    "print(success4)\n",
    "vectorline_league = success4 / all_vals4\n",
    "print(vectorline_league)"
   ]
  },
  {
   "cell_type": "code",
   "execution_count": 43,
   "metadata": {},
   "outputs": [],
   "source": [
    "teams2_vector_match_w2v = np.zeros(russian.shape[0])"
   ]
  },
  {
   "cell_type": "code",
   "execution_count": 44,
   "metadata": {},
   "outputs": [],
   "source": [
    "for i, text in enumerate(russian['content_norm'].values):\n",
    "    for word in text:\n",
    "        try:\n",
    "            word2 = russian['team_of_season_2_name_in_russian'][i]\n",
    "            word2 = word2.lower()\n",
    "            #print(word2)\n",
    "            if model_w2v.similarity(word, word2) > 0.7:\n",
    "                teams2_vector_match_w2v[i] = 1\n",
    "        except:\n",
    "            continue"
   ]
  },
  {
   "cell_type": "code",
   "execution_count": 49,
   "metadata": {},
   "outputs": [],
   "source": [
    "russian['w2v_vector_match_team2'] = teams2_vector_match_w2v"
   ]
  },
  {
   "cell_type": "code",
   "execution_count": 50,
   "metadata": {},
   "outputs": [
    {
     "name": "stdout",
     "output_type": "stream",
     "text": [
      "595931\n",
      "0\n",
      "0.0\n"
     ]
    }
   ],
   "source": [
    "all_vals5 = russian['w2v_vector_match_team2'].shape[0]\n",
    "print(all_vals5)\n",
    "success5 = russian[russian['w2v_vector_match_team2'] == 1].shape[0]\n",
    "print(success5)\n",
    "vectorline_league = success5 / all_vals5\n",
    "print(vectorline_league)"
   ]
  },
  {
   "cell_type": "code",
   "execution_count": 45,
   "metadata": {},
   "outputs": [],
   "source": [
    "league_vector_match_w2v = np.zeros(russian.shape[0])"
   ]
  },
  {
   "cell_type": "code",
   "execution_count": 46,
   "metadata": {},
   "outputs": [],
   "source": [
    "for i, text in enumerate(russian['content_norm'].values):\n",
    "    for word in text:\n",
    "        try:\n",
    "            word2 = russian['league_name_in_russian'][i]\n",
    "            word2 = word2.lower()\n",
    "            if model_w2v.similarity(word, word2) > 0.7:\n",
    "                league_vector_match_w2v[i] = 1\n",
    "        except:\n",
    "            continue"
   ]
  },
  {
   "cell_type": "code",
   "execution_count": 51,
   "metadata": {},
   "outputs": [],
   "source": [
    "russian['w2v_vector_match_league'] = league_vector_match_w2v"
   ]
  },
  {
   "cell_type": "code",
   "execution_count": 52,
   "metadata": {},
   "outputs": [
    {
     "name": "stdout",
     "output_type": "stream",
     "text": [
      "595931\n",
      "0\n",
      "0.0\n"
     ]
    }
   ],
   "source": [
    "all_vals6 = russian['w2v_vector_match_league'].shape[0]\n",
    "print(all_vals6)\n",
    "success6 = russian[russian['w2v_vector_match_league'] == 1].shape[0]\n",
    "print(success6)\n",
    "vectorline_league = success6 / all_vals6\n",
    "print(vectorline_league)"
   ]
  },
  {
   "cell_type": "code",
   "execution_count": null,
   "metadata": {},
   "outputs": [],
   "source": []
  }
 ],
 "metadata": {
  "kernelspec": {
   "display_name": "Python 3",
   "language": "python",
   "name": "python3"
  },
  "language_info": {
   "codemirror_mode": {
    "name": "ipython",
    "version": 3
   },
   "file_extension": ".py",
   "mimetype": "text/x-python",
   "name": "python",
   "nbconvert_exporter": "python",
   "pygments_lexer": "ipython3",
   "version": "3.7.4"
  }
 },
 "nbformat": 4,
 "nbformat_minor": 2
}
