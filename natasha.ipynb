{
 "cells": [
  {
   "cell_type": "markdown",
   "metadata": {},
   "source": [
    "# Natasha"
   ]
  },
  {
   "cell_type": "markdown",
   "metadata": {},
   "source": [
    "Natasha — библиотека для поиска и извлечения именованных сущностей (Named-entity recognition) из текстов на русском языке. В библиотеке собраны грамматики и словари для парсера Yargy."
   ]
  },
  {
   "cell_type": "code",
   "execution_count": 1,
   "metadata": {},
   "outputs": [],
   "source": [
    "import pandas as pd\n",
    "from string import punctuation"
   ]
  },
  {
   "cell_type": "code",
   "execution_count": 85,
   "metadata": {},
   "outputs": [],
   "source": [
    "from natasha import (NamesExtractor, SimpleNamesExtractor, PersonExtractor, LocationExtractor, AddressExtractor, \n",
    "                     OrganisationExtractor, DatesExtractor, MoneyExtractor, MoneyRateExtractor, MoneyRangeExtractor)\n"
   ]
  },
  {
   "cell_type": "code",
   "execution_count": 2,
   "metadata": {
    "collapsed": true
   },
   "outputs": [
    {
     "name": "stderr",
     "output_type": "stream",
     "text": [
      "b'Skipping line 37039: expected 12 fields, saw 15\\nSkipping line 45611: expected 12 fields, saw 15\\n'\n",
      "b'Skipping line 354339: expected 12 fields, saw 18\\nSkipping line 360804: expected 12 fields, saw 102\\nSkipping line 360819: expected 12 fields, saw 78\\nSkipping line 379126: expected 12 fields, saw 14\\nSkipping line 444446: expected 12 fields, saw 16\\nSkipping line 449079: expected 12 fields, saw 16\\nSkipping line 450250: expected 12 fields, saw 15\\n'\n",
      "b'Skipping line 481374: expected 12 fields, saw 18\\nSkipping line 510619: expected 12 fields, saw 20\\nSkipping line 512271: expected 12 fields, saw 14\\nSkipping line 514317: expected 12 fields, saw 15\\nSkipping line 519707: expected 12 fields, saw 40\\n'\n",
      "b'Skipping line 538495: expected 12 fields, saw 13\\n'\n",
      "b'Skipping line 765901: expected 12 fields, saw 56\\nSkipping line 773310: expected 12 fields, saw 43\\n'\n",
      "b'Skipping line 805899: expected 12 fields, saw 13\\nSkipping line 868492: expected 12 fields, saw 21\\nSkipping line 871801: expected 12 fields, saw 16\\n'\n",
      "b'Skipping line 903099: expected 12 fields, saw 13\\nSkipping line 903150: expected 12 fields, saw 13\\nSkipping line 903155: expected 12 fields, saw 13\\nSkipping line 926112: expected 12 fields, saw 13\\n'\n",
      "b'Skipping line 952511: expected 12 fields, saw 14\\nSkipping line 954085: expected 12 fields, saw 13\\nSkipping line 956504: expected 12 fields, saw 40\\nSkipping line 981135: expected 12 fields, saw 13\\nSkipping line 983460: expected 12 fields, saw 16\\nSkipping line 985000: expected 12 fields, saw 15\\nSkipping line 986754: expected 12 fields, saw 13\\nSkipping line 986828: expected 12 fields, saw 13\\n'\n",
      "b'Skipping line 1334533: expected 12 fields, saw 13\\nSkipping line 1337066: expected 12 fields, saw 16\\nSkipping line 1343528: expected 12 fields, saw 13\\nSkipping line 1351606: expected 12 fields, saw 14\\n'\n",
      "b'Skipping line 1376142: expected 12 fields, saw 16\\nSkipping line 1376408: expected 12 fields, saw 15\\nSkipping line 1389213: expected 12 fields, saw 59\\nSkipping line 1401635: expected 12 fields, saw 23\\n'\n",
      "b'Skipping line 1762082: expected 12 fields, saw 13\\nSkipping line 1763155: expected 12 fields, saw 16\\n'\n",
      "D:\\Anaconda\\lib\\site-packages\\IPython\\core\\interactiveshell.py:2785: DtypeWarning: Columns (3) have mixed types. Specify dtype option on import or set low_memory=False.\n",
      "  interactivity=interactivity, compiler=compiler, result=result)\n"
     ]
    }
   ],
   "source": [
    "df = pd.read_csv('result.tar.gz', compression='gzip', sep='\\t', error_bad_lines=False)"
   ]
  },
  {
   "cell_type": "code",
   "execution_count": 3,
   "metadata": {},
   "outputs": [],
   "source": [
    "df = df.drop([\"url\", \"video_url\", \"source_name\", \"author_name\"], axis=1)\n",
    "df = df.dropna()\n",
    "df = df.drop_duplicates()"
   ]
  },
  {
   "cell_type": "markdown",
   "metadata": {},
   "source": [
    "## NamesExtractor"
   ]
  },
  {
   "cell_type": "code",
   "execution_count": 58,
   "metadata": {},
   "outputs": [],
   "source": [
    "name = NamesExtractor()"
   ]
  },
  {
   "cell_type": "code",
   "execution_count": 94,
   "metadata": {},
   "outputs": [
    {
     "name": "stdout",
     "output_type": "stream",
     "text": [
      "Купер\n",
      "Купера\n",
      "Карлуша\n",
      "Кейруша\n",
      "Рустам Худжамов\n",
      "Идрисси\n",
      "Боаду\n",
      "Игорь Тищенко\n",
      "Атлетико\n",
      "Симионе\n",
      "Лунин\n",
      "Грозный\n",
      "Рахимова\n",
      "Хольштейн Киель\n",
      "Дунайська\n",
      "Грозный\n",
      "Глушакова\n",
      "Ахмат\n",
      "Михаил\n",
      "Мархеля\n",
      "Нехайчик\n",
      "Гордейчук\n",
      "Илья Шкурин\n",
      "Клавана\n",
      "Дмитриев\n",
      "Рагнара\n",
      "Клавана\n"
     ]
    }
   ],
   "source": [
    "for text in df['result.tsv'][:10]:\n",
    "    matches = name(text)\n",
    "    for match in matches:\n",
    "        start, stop = match.span\n",
    "        print(text[start:stop])"
   ]
  },
  {
   "cell_type": "markdown",
   "metadata": {},
   "source": [
    "## SimpleNamesExtractor"
   ]
  },
  {
   "cell_type": "code",
   "execution_count": 86,
   "metadata": {},
   "outputs": [],
   "source": [
    "s_name= SimpleNamesExtractor()"
   ]
  },
  {
   "cell_type": "code",
   "execution_count": 97,
   "metadata": {},
   "outputs": [
    {
     "name": "stdout",
     "output_type": "stream",
     "text": [
      "свою\n",
      "и\n",
      "очередными\n",
      "в\n",
      "не\n",
      "больших\n",
      "и\n",
      "просто\n",
      "неделю\n",
      "Турки\n",
      "стали\n",
      "самой\n",
      "слабой\n",
      "В\n",
      "Лиги\n",
      "три\n",
      "из\n",
      "с\n",
      "очками\n",
      "и\n",
      "забитыми\n",
      "голами\n",
      "В\n",
      "уже\n",
      "один\n",
      "ниже\n",
      "а\n",
      "максимальное\n",
      "очков\n",
      "после\n",
      "и\n",
      "делит\n",
      "первое\n",
      "с\n",
      "Францией\n",
      "Тем\n",
      "не\n",
      "уже\n",
      "неделе\n",
      "с\n",
      "Чемпионом\n",
      "Мира\n",
      "а\n",
      "выезд\n",
      "в\n",
      "суровую\n",
      "с\n",
      "Францией\n",
      "и\n",
      "не\n",
      "хорошего\n",
      "турки\n",
      "максимум\n",
      "из\n",
      "с\n",
      "трудом\n",
      "с\n",
      "основной\n",
      "и\n",
      "биться\n",
      "поля\n",
      "В\n",
      "голове\n",
      "о\n",
      "том\n",
      "нужно\n",
      "сильная\n",
      "по\n",
      "меркам\n",
      "в плей\n",
      "офф\n",
      "В\n",
      "в\n",
      "второе\n",
      "в\n",
      "с\n",
      "Австралии\n",
      "ставит\n",
      "большие\n",
      "цели\n",
      "к\n",
      "ведет\n",
      "Купер\n",
      "мира\n",
      "К\n",
      "серьезно\n",
      "Иногда\n",
      "Уругвая\n",
      "с\n",
      "свой\n",
      "Иногда\n",
      "фоне\n",
      "по\n",
      "было\n",
      "в Марте\n",
      "Китая\n",
      "победу\n",
      "в\n",
      "У\n",
      "четкое\n",
      "букмекеры\n",
      "а\n",
      "в\n",
      "хорошо\n",
      "и\n",
      "к\n",
      "высокого\n",
      "При\n",
      "Купера\n",
      "не\n",
      "плотный\n",
      "календарь\n",
      "тренер\n",
      "костяк\n",
      "в\n",
      "и\n",
      "большим\n",
      "турки\n",
      "в\n",
      "основном\n",
      "и\n",
      "биться\n",
      "победу\n",
      "с\n",
      "Ф\n",
      "в\n"
     ]
    }
   ],
   "source": [
    "for text in df['result.tsv'][:1]:\n",
    "    matches = s_name(text)\n",
    "    for match in matches:\n",
    "        start, stop = match.span\n",
    "        print(text[start:stop])"
   ]
  },
  {
   "cell_type": "markdown",
   "metadata": {},
   "source": [
    "## PersonExtractor"
   ]
  },
  {
   "cell_type": "code",
   "execution_count": 88,
   "metadata": {},
   "outputs": [],
   "source": [
    "person = PersonExtractor()"
   ]
  },
  {
   "cell_type": "code",
   "execution_count": 93,
   "metadata": {},
   "outputs": [
    {
     "name": "stdout",
     "output_type": "stream",
     "text": [
      "после двух матчей и\n",
      "Купер\n",
      "Купера\n",
      "Карлуша\n",
      "Кейруша\n",
      "После такой заявки стало\n",
      "После трех туров\n",
      "Рустам Худжамов\n",
      "Идрисси\n",
      "Боаду\n",
      "Игорь Тищенко\n",
      "футболисты готовы\n",
      "Атлетико\n",
      "футболиста и\n",
      "Симионе\n",
      "Лунин\n",
      "Грозный\n",
      "Рахимова\n",
      "Хольштейн Киель\n",
      "Дунайська\n",
      "Грозный\n",
      "футболиста Глушакова\n",
      "Ахмат\n",
      "Михаил\n",
      "Мархеля\n",
      "После победного матча в\n",
      "футболистов в\n",
      "Нехайчик\n",
      "Гордейчук\n",
      "Илья Шкурин\n",
      "Клавана\n",
      "Дмитриев\n",
      "футболисты выше\n",
      "Рагнара\n",
      "Клавана\n"
     ]
    }
   ],
   "source": [
    "for text in df['result.tsv'][:10]:\n",
    "    matches = person(text)\n",
    "    for match in matches:\n",
    "        start, stop = match.span\n",
    "        print(text[start:stop])"
   ]
  },
  {
   "cell_type": "markdown",
   "metadata": {},
   "source": [
    "## LocationExtractor"
   ]
  },
  {
   "cell_type": "code",
   "execution_count": 98,
   "metadata": {},
   "outputs": [],
   "source": [
    "loc = LocationExtractor()"
   ]
  },
  {
   "cell_type": "code",
   "execution_count": 100,
   "metadata": {},
   "outputs": [
    {
     "name": "stdout",
     "output_type": "stream",
     "text": [
      "Турции\n",
      "Европы\n",
      "Узбекистан\n",
      "Турция\n",
      "Европы\n",
      "Францией\n",
      "суровую Исландию\n",
      "Францией\n",
      "Узбекистаном\n",
      "Узбекистан\n",
      "Азии\n",
      "Австралии\n",
      "Египет\n",
      "Уругвая\n",
      "Азии\n",
      "Китая\n",
      "Узбекистана\n",
      "сборной Турции\n",
      "Узбекистан\n",
      "Америки\n",
      "Колумбия\n",
      "Чили\n",
      "Парагвая\n",
      "Аргентина\n",
      "стартовом туре\n",
      "тура\n",
      "Красные\n",
      "Уругвая\n",
      "Роха\n",
      "Кавани\n",
      "Алкмар\n",
      "Мариуполя\n",
      "Мариуполь\n",
      "Мариуполь\n",
      "Алкмар\n",
      "Одессе\n",
      "Мариуполя\n",
      "Сачхере\n",
      "Абердин\n",
      "шотландский\n",
      "шотландского\n",
      "Шотландии\n",
      "Грузии\n",
      "Абердину\n",
      "Европы\n",
      "эстонским\n",
      "Алкмар\n",
      "Европы\n",
      "Алкмара\n",
      "Швеции\n",
      "Алкмару\n",
      "Валенсия\n",
      "этой паре\n",
      "Валенсия\n",
      "Валенсия\n",
      "России\n"
     ]
    }
   ],
   "source": [
    "for text in df['result.tsv'][:5]:\n",
    "    matches = loc(text)\n",
    "    for match in matches:\n",
    "        start, stop = match.span\n",
    "        print(text[start:stop])"
   ]
  },
  {
   "cell_type": "markdown",
   "metadata": {},
   "source": [
    "##  AddressExtractor"
   ]
  },
  {
   "cell_type": "code",
   "execution_count": 101,
   "metadata": {},
   "outputs": [],
   "source": [
    "address = AddressExtractor()"
   ]
  },
  {
   "cell_type": "code",
   "execution_count": 105,
   "metadata": {},
   "outputs": [],
   "source": [
    "for text in df['result.tsv'][:100]:\n",
    "    matches = address(text)\n",
    "    for match in matches:\n",
    "        start, stop = match.span\n",
    "        print(text[start:stop])"
   ]
  },
  {
   "cell_type": "markdown",
   "metadata": {},
   "source": [
    "## OrganisationExtractor"
   ]
  },
  {
   "cell_type": "code",
   "execution_count": 106,
   "metadata": {},
   "outputs": [],
   "source": [
    "org = OrganisationExtractor()"
   ]
  },
  {
   "cell_type": "code",
   "execution_count": 109,
   "metadata": {},
   "outputs": [
    {
     "name": "stdout",
     "output_type": "stream",
     "text": [
      "Айнтрахт\n",
      "Айнтрахт\n",
      "Челси\n",
      "Айнтрахт\n",
      "Бензема\n",
      "Бензема\n",
      "ЦСКА\n",
      "Стреда\n",
      "Марибор\n",
      "Челси\n",
      "группе «С»\n",
      "группе «С»\n",
      "Окжетпеса\n",
      "Хераклеса\n",
      "Аякса\n",
      "Гармаша в\n",
      "ЦСКА\n",
      "ЦСКА\n",
      "Челси\n",
      "ЦСКА в квалификации Лиги чемпионов\n",
      "букмекерской компании «Фонбет»\n",
      "букмекерской компании «Фонбет»\n",
      "букмекерских компаний\n",
      "букмекерской компании «Фонбет»\n",
      "букмекерской компании «Фонбет»\n"
     ]
    }
   ],
   "source": [
    "for text in df['result.tsv'][:30]:\n",
    "    matches = org(text)\n",
    "    for match in matches:\n",
    "        start, stop = match.span\n",
    "        print(text[start:stop])"
   ]
  },
  {
   "cell_type": "markdown",
   "metadata": {},
   "source": [
    "## DatesExtractor"
   ]
  },
  {
   "cell_type": "code",
   "execution_count": 110,
   "metadata": {},
   "outputs": [],
   "source": [
    "date = DatesExtractor()"
   ]
  },
  {
   "cell_type": "code",
   "execution_count": 111,
   "metadata": {},
   "outputs": [
    {
     "name": "stdout",
     "output_type": "stream",
     "text": [
      "2016 года\n",
      "10 октября 2019 года\n",
      "6 сентября\n",
      "09 Октября\n",
      "10 Октября\n",
      "марте 2019 года\n",
      "феврале 2018 года\n",
      "23 августа\n"
     ]
    }
   ],
   "source": [
    "for text in df['result.tsv'][:30]:\n",
    "    matches = date(text)\n",
    "    for match in matches:\n",
    "        start, stop = match.span\n",
    "        print(text[start:stop])"
   ]
  },
  {
   "cell_type": "markdown",
   "metadata": {},
   "source": [
    "## MoneyExtractor"
   ]
  },
  {
   "cell_type": "code",
   "execution_count": 112,
   "metadata": {},
   "outputs": [],
   "source": [
    "money = MoneyExtractor()"
   ]
  },
  {
   "cell_type": "code",
   "execution_count": 113,
   "metadata": {},
   "outputs": [
    {
     "name": "stdout",
     "output_type": "stream",
     "text": [
      "1000 руб\n",
      "10000 руб\n",
      "9 млн €\n",
      "3.5 миллиона евро\n"
     ]
    }
   ],
   "source": [
    "for text in df['result.tsv'][:30]:\n",
    "    matches = money(text)\n",
    "    for match in matches:\n",
    "        start, stop = match.span\n",
    "        print(text[start:stop])"
   ]
  },
  {
   "cell_type": "markdown",
   "metadata": {},
   "source": [
    "## MoneyRateExtractor"
   ]
  },
  {
   "cell_type": "code",
   "execution_count": 114,
   "metadata": {},
   "outputs": [],
   "source": [
    "rate = MoneyRateExtractor()"
   ]
  },
  {
   "cell_type": "code",
   "execution_count": 115,
   "metadata": {},
   "outputs": [],
   "source": [
    "for text in df['result.tsv'][:30]:\n",
    "    matches = rate(text)\n",
    "    for match in matches:\n",
    "        start, stop = match.span\n",
    "        print(text[start:stop])"
   ]
  },
  {
   "cell_type": "markdown",
   "metadata": {},
   "source": [
    "## MoneyRangeExtractor"
   ]
  },
  {
   "cell_type": "code",
   "execution_count": 116,
   "metadata": {},
   "outputs": [],
   "source": [
    "money_r = MoneyRangeExtractor()"
   ]
  },
  {
   "cell_type": "code",
   "execution_count": 118,
   "metadata": {},
   "outputs": [
    {
     "name": "stdout",
     "output_type": "stream",
     "text": [
      "4-3\n",
      "2-1\n",
      "4-3\n",
      "2-7\n",
      "4-4\n",
      "4-4\n",
      "5-6\n",
      "339-257\n",
      "1.72-1.3\n",
      "1-2\n",
      "10 (2017/2018\n",
      "10 (2018/2019\n",
      "8-7\n",
      "1-2\n",
      "3-10\n",
      "1-2\n",
      "1,66 1000 руб\n",
      "1,85 10000 руб\n",
      "1-0\n",
      "0-4\n",
      "1-0\n",
      "2015 — 1\n",
      "18-0\n",
      "53-73\n",
      "1-3\n",
      "1.6-1.63\n",
      "1 до 38\n",
      "30-40\n"
     ]
    }
   ],
   "source": [
    "for text in df['result.tsv'][:30]:\n",
    "    matches = money_r(text)\n",
    "    for match in matches:\n",
    "        start, stop = match.span\n",
    "        print(text[start:stop])"
   ]
  }
 ],
 "metadata": {
  "kernelspec": {
   "display_name": "Python 3",
   "language": "python",
   "name": "python3"
  },
  "language_info": {
   "codemirror_mode": {
    "name": "ipython",
    "version": 3
   },
   "file_extension": ".py",
   "mimetype": "text/x-python",
   "name": "python",
   "nbconvert_exporter": "python",
   "pygments_lexer": "ipython3",
   "version": "3.6.5"
  }
 },
 "nbformat": 4,
 "nbformat_minor": 2
}
