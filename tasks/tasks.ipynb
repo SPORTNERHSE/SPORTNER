{
 "cells": [
  {
   "cell_type": "markdown",
   "metadata": {},
   "source": [
    "# Sport NER"
   ]
  },
  {
   "cell_type": "code",
   "execution_count": 1,
   "metadata": {},
   "outputs": [],
   "source": [
    "import pandas as pd\n",
    "import re"
   ]
  },
  {
   "cell_type": "code",
   "execution_count": 2,
   "metadata": {},
   "outputs": [
    {
     "name": "stderr",
     "output_type": "stream",
     "text": [
      "b'Skipping line 37039: expected 12 fields, saw 15\\nSkipping line 45611: expected 12 fields, saw 15\\n'\n",
      "b'Skipping line 354339: expected 12 fields, saw 18\\nSkipping line 360804: expected 12 fields, saw 102\\nSkipping line 360819: expected 12 fields, saw 78\\nSkipping line 379126: expected 12 fields, saw 14\\nSkipping line 444446: expected 12 fields, saw 16\\nSkipping line 449079: expected 12 fields, saw 16\\nSkipping line 450250: expected 12 fields, saw 15\\n'\n",
      "b'Skipping line 481374: expected 12 fields, saw 18\\nSkipping line 510619: expected 12 fields, saw 20\\nSkipping line 512271: expected 12 fields, saw 14\\nSkipping line 514317: expected 12 fields, saw 15\\nSkipping line 519707: expected 12 fields, saw 40\\n'\n",
      "b'Skipping line 538495: expected 12 fields, saw 13\\n'\n",
      "b'Skipping line 765901: expected 12 fields, saw 56\\nSkipping line 773310: expected 12 fields, saw 43\\n'\n",
      "b'Skipping line 805899: expected 12 fields, saw 13\\nSkipping line 868492: expected 12 fields, saw 21\\nSkipping line 871801: expected 12 fields, saw 16\\n'\n",
      "b'Skipping line 903099: expected 12 fields, saw 13\\nSkipping line 903150: expected 12 fields, saw 13\\nSkipping line 903155: expected 12 fields, saw 13\\nSkipping line 926112: expected 12 fields, saw 13\\n'\n",
      "b'Skipping line 952511: expected 12 fields, saw 14\\nSkipping line 954085: expected 12 fields, saw 13\\nSkipping line 956504: expected 12 fields, saw 40\\nSkipping line 981135: expected 12 fields, saw 13\\nSkipping line 983460: expected 12 fields, saw 16\\nSkipping line 985000: expected 12 fields, saw 15\\nSkipping line 986754: expected 12 fields, saw 13\\nSkipping line 986828: expected 12 fields, saw 13\\n'\n",
      "b'Skipping line 1334533: expected 12 fields, saw 13\\nSkipping line 1337066: expected 12 fields, saw 16\\nSkipping line 1343528: expected 12 fields, saw 13\\nSkipping line 1351606: expected 12 fields, saw 14\\n'\n",
      "b'Skipping line 1376142: expected 12 fields, saw 16\\nSkipping line 1376408: expected 12 fields, saw 15\\nSkipping line 1389213: expected 12 fields, saw 59\\nSkipping line 1401635: expected 12 fields, saw 23\\n'\n",
      "b'Skipping line 1762082: expected 12 fields, saw 13\\nSkipping line 1763155: expected 12 fields, saw 16\\n'\n",
      "D:\\Anaconda\\lib\\site-packages\\IPython\\core\\interactiveshell.py:2785: DtypeWarning: Columns (3) have mixed types. Specify dtype option on import or set low_memory=False.\n",
      "  interactivity=interactivity, compiler=compiler, result=result)\n"
     ]
    }
   ],
   "source": [
    "df = pd.read_csv('result.tar.gz', compression='gzip', sep='\\t', error_bad_lines=False)"
   ]
  },
  {
   "cell_type": "code",
   "execution_count": 3,
   "metadata": {},
   "outputs": [],
   "source": [
    "df = df.drop([\"url\", \"video_url\", \"source_name\", \"author_name\"], axis=1)"
   ]
  },
  {
   "cell_type": "markdown",
   "metadata": {},
   "source": [
    "### Датасет"
   ]
  },
  {
   "cell_type": "markdown",
   "metadata": {},
   "source": [
    "1. result.tsv - текст прогноза\n",
    "2. odd - коэффициент\n",
    "3. tip_name - текст ставки (в прогнозе может быть перефразирована) \n",
    "4. match_date_time - дата матча\n",
    "5. league_name_in_russian - лига\n",
    "6. team_of_season_1_name_in_russian - команда 1 \n",
    "7. team_of_season_2_name_in_russian - команда 2 "
   ]
  },
  {
   "cell_type": "code",
   "execution_count": 5,
   "metadata": {},
   "outputs": [
    {
     "data": {
      "text/html": [
       "<div>\n",
       "<style scoped>\n",
       "    .dataframe tbody tr th:only-of-type {\n",
       "        vertical-align: middle;\n",
       "    }\n",
       "\n",
       "    .dataframe tbody tr th {\n",
       "        vertical-align: top;\n",
       "    }\n",
       "\n",
       "    .dataframe thead th {\n",
       "        text-align: right;\n",
       "    }\n",
       "</style>\n",
       "<table border=\"1\" class=\"dataframe\">\n",
       "  <thead>\n",
       "    <tr style=\"text-align: right;\">\n",
       "      <th></th>\n",
       "      <th>result.tsv</th>\n",
       "      <th>odd</th>\n",
       "      <th>tip_name</th>\n",
       "      <th>bookmaker_name</th>\n",
       "      <th>match_date_time</th>\n",
       "      <th>league_name_in_russian</th>\n",
       "      <th>team_of_season_1_name_in_russian</th>\n",
       "      <th>team_of_season_2_name_in_russian</th>\n",
       "    </tr>\n",
       "  </thead>\n",
       "  <tbody>\n",
       "    <tr>\n",
       "      <th>0</th>\n",
       "      <td>Болгария. София принимает Витошу. Ну здесь вро...</td>\n",
       "      <td>4.8</td>\n",
       "      <td>NaN</td>\n",
       "      <td>1xСтавка</td>\n",
       "      <td>2019-02-25 15:30:00</td>\n",
       "      <td>Первая лига</td>\n",
       "      <td>Септември София</td>\n",
       "      <td>Витоша Бистрица</td>\n",
       "    </tr>\n",
       "    <tr>\n",
       "      <th>1</th>\n",
       "      <td>Тридцатого марта ожидается внушительная порция...</td>\n",
       "      <td>1.76</td>\n",
       "      <td>NaN</td>\n",
       "      <td>Winline</td>\n",
       "      <td>2019-03-30 17:30:00</td>\n",
       "      <td>Бундеслига</td>\n",
       "      <td>Лейпциг</td>\n",
       "      <td>Герта</td>\n",
       "    </tr>\n",
       "    <tr>\n",
       "      <th>2</th>\n",
       "      <td>Встречаются лидеры второй лиги и одна из лучши...</td>\n",
       "      <td>0</td>\n",
       "      <td>NaN</td>\n",
       "      <td>1xСтавка</td>\n",
       "      <td>2019-04-02 16:30:00</td>\n",
       "      <td>Кубок</td>\n",
       "      <td>Падерборн</td>\n",
       "      <td>Гамбург</td>\n",
       "    </tr>\n",
       "    <tr>\n",
       "      <th>3</th>\n",
       "      <td>Матч, который будет иметь большое значение для...</td>\n",
       "      <td>0</td>\n",
       "      <td>NaN</td>\n",
       "      <td>Лига Ставок</td>\n",
       "      <td>2019-04-14 15:30:00</td>\n",
       "      <td>Премьер-лига</td>\n",
       "      <td>Ливерпуль</td>\n",
       "      <td>Челси</td>\n",
       "    </tr>\n",
       "    <tr>\n",
       "      <th>4</th>\n",
       "      <td>Здесь, пожалуй, все ясно. \"Ливерпуль\" победил ...</td>\n",
       "      <td>0</td>\n",
       "      <td>NaN</td>\n",
       "      <td>Winline</td>\n",
       "      <td>2019-04-17 19:00:00</td>\n",
       "      <td>Лига чемпионов УЕФА</td>\n",
       "      <td>Порту</td>\n",
       "      <td>Ливерпуль</td>\n",
       "    </tr>\n",
       "  </tbody>\n",
       "</table>\n",
       "</div>"
      ],
      "text/plain": [
       "                                          result.tsv   odd tip_name  \\\n",
       "0  Болгария. София принимает Витошу. Ну здесь вро...   4.8      NaN   \n",
       "1  Тридцатого марта ожидается внушительная порция...  1.76      NaN   \n",
       "2  Встречаются лидеры второй лиги и одна из лучши...     0      NaN   \n",
       "3  Матч, который будет иметь большое значение для...     0      NaN   \n",
       "4  Здесь, пожалуй, все ясно. \"Ливерпуль\" победил ...     0      NaN   \n",
       "\n",
       "  bookmaker_name      match_date_time league_name_in_russian  \\\n",
       "0       1xСтавка  2019-02-25 15:30:00            Первая лига   \n",
       "1        Winline  2019-03-30 17:30:00             Бундеслига   \n",
       "2       1xСтавка  2019-04-02 16:30:00                  Кубок   \n",
       "3    Лига Ставок  2019-04-14 15:30:00           Премьер-лига   \n",
       "4        Winline  2019-04-17 19:00:00    Лига чемпионов УЕФА   \n",
       "\n",
       "  team_of_season_1_name_in_russian team_of_season_2_name_in_russian  \n",
       "0                  Септември София                  Витоша Бистрица  \n",
       "1                          Лейпциг                            Герта  \n",
       "2                        Падерборн                          Гамбург  \n",
       "3                        Ливерпуль                            Челси  \n",
       "4                            Порту                        Ливерпуль  "
      ]
     },
     "execution_count": 5,
     "metadata": {},
     "output_type": "execute_result"
    }
   ],
   "source": [
    "df.head(5)"
   ]
  },
  {
   "cell_type": "code",
   "execution_count": 6,
   "metadata": {},
   "outputs": [
    {
     "data": {
      "text/plain": [
       "'Болгария. София принимает Витошу. Ну здесь вроде обе команды выписали себе путевки в группу понижения и игра имеет чисто номинальный характер. Но хозяева на своем поле все-же способны выиграть .Вот только игрвют они не особо результативно . И первый период в ничью с играть могут , а во втором способны и победу вырвать.Хотя все это риторика. Пока не могу нащупать ниточку и серьезно относится не стоит . Много пропустил, и пока не понятно , что будет.'"
      ]
     },
     "execution_count": 6,
     "metadata": {},
     "output_type": "execute_result"
    }
   ],
   "source": [
    "df['result.tsv'][0]"
   ]
  },
  {
   "cell_type": "markdown",
   "metadata": {},
   "source": [
    "### Задание 1 - NAs"
   ]
  },
  {
   "cell_type": "markdown",
   "metadata": {},
   "source": [
    "Нужно посчитать количество NA по всем колонкам в датасете. "
   ]
  },
  {
   "cell_type": "code",
   "execution_count": null,
   "metadata": {},
   "outputs": [],
   "source": []
  },
  {
   "cell_type": "markdown",
   "metadata": {},
   "source": [
    "### Задание 2 - mean и max количество прогнозов на матч"
   ]
  },
  {
   "cell_type": "markdown",
   "metadata": {},
   "source": [
    "Нужно посчитать сколько в среднем прогнозов на каждый матч. Также можно посмотреть сколько максимум прогнозов на один матч. Чтобы найти одинаковые прогнозы, вы можете использовать данные из колонки match_date_time."
   ]
  },
  {
   "cell_type": "code",
   "execution_count": null,
   "metadata": {},
   "outputs": [],
   "source": []
  },
  {
   "cell_type": "markdown",
   "metadata": {},
   "source": [
    "### Задание 3 - изменение прямого мэтча"
   ]
  },
  {
   "cell_type": "markdown",
   "metadata": {},
   "source": [
    "Необходимо проверить наличие лейблов колонок odd, tip_name, bookmaker_name, match_date_time, league_name_in_russian, team_of_season_1_name_in_russian и team_of_season_2_name_in_russian в текстах прогнозов. Создать новые колонки для каждого лейбла и поместить в них 1 или 0 в зависимости от того есть данный лейбл в тексте прогноза или нет. "
   ]
  },
  {
   "cell_type": "code",
   "execution_count": 7,
   "metadata": {},
   "outputs": [],
   "source": [
    "df2 = df.dropna()\n",
    "df2 = df.drop_duplicates()"
   ]
  },
  {
   "cell_type": "markdown",
   "metadata": {},
   "source": [
    "Лучше это делать в датасете без NA и повторений. "
   ]
  },
  {
   "cell_type": "code",
   "execution_count": null,
   "metadata": {},
   "outputs": [],
   "source": []
  },
  {
   "cell_type": "markdown",
   "metadata": {},
   "source": [
    "### Задание 4 - кавычки"
   ]
  },
  {
   "cell_type": "markdown",
   "metadata": {},
   "source": [
    "Попробовать находить все в кавычках в текстах прогнозов или использовать другие регулярные/грамматические/синтаксические подходы. "
   ]
  },
  {
   "cell_type": "code",
   "execution_count": null,
   "metadata": {},
   "outputs": [],
   "source": []
  },
  {
   "cell_type": "markdown",
   "metadata": {},
   "source": [
    "### Задание 5 - маски в tip_name"
   ]
  },
  {
   "cell_type": "markdown",
   "metadata": {},
   "source": [
    "Проанализировать колонку tip_name на наличие шаблонов в текстах ставок. Если такие шаблоны есть, то можно попробовать их повытаскивать."
   ]
  },
  {
   "cell_type": "code",
   "execution_count": null,
   "metadata": {},
   "outputs": [],
   "source": []
  },
  {
   "cell_type": "markdown",
   "metadata": {},
   "source": [
    "### Задание 6 - разметка "
   ]
  },
  {
   "cell_type": "markdown",
   "metadata": {},
   "source": [
    "Необходимо разметить 3 документа train, test и valid. \n",
    "\n",
    "Метки:\n",
    "1. команды (B-TEAM , I-TEAM)\n",
    "2. лиги (B-LEAGUE, I-LEAGUE) \n",
    "3. ставки (B-TIP, I-TIP)\n",
    "4. коэффициенты (B-ODD, I-ODD)"
   ]
  }
 ],
 "metadata": {
  "kernelspec": {
   "display_name": "Python 3",
   "language": "python",
   "name": "python3"
  },
  "language_info": {
   "codemirror_mode": {
    "name": "ipython",
    "version": 3
   },
   "file_extension": ".py",
   "mimetype": "text/x-python",
   "name": "python",
   "nbconvert_exporter": "python",
   "pygments_lexer": "ipython3",
   "version": "3.6.5"
  }
 },
 "nbformat": 4,
 "nbformat_minor": 2
}
