{
 "cells": [
  {
   "cell_type": "code",
   "execution_count": 2,
   "metadata": {},
   "outputs": [],
   "source": [
    "import gensim\n",
    "import pandas as pd\n",
    "import nltk\n",
    "import re\n",
    "from collections import defaultdict"
   ]
  },
  {
   "cell_type": "code",
   "execution_count": 3,
   "metadata": {},
   "outputs": [],
   "source": [
    "model = gensim.models.KeyedVectors.load(\"araneum_none_fasttextcbow_300_5_2018.model\")"
   ]
  },
  {
   "cell_type": "code",
   "execution_count": 4,
   "metadata": {},
   "outputs": [
    {
     "name": "stderr",
     "output_type": "stream",
     "text": [
      "b'Skipping line 37039: expected 12 fields, saw 15\\nSkipping line 45611: expected 12 fields, saw 15\\n'\n",
      "b'Skipping line 354339: expected 12 fields, saw 18\\nSkipping line 360804: expected 12 fields, saw 102\\nSkipping line 360819: expected 12 fields, saw 78\\nSkipping line 379126: expected 12 fields, saw 14\\nSkipping line 444446: expected 12 fields, saw 16\\nSkipping line 449079: expected 12 fields, saw 16\\nSkipping line 450250: expected 12 fields, saw 15\\n'\n",
      "b'Skipping line 481374: expected 12 fields, saw 18\\nSkipping line 510619: expected 12 fields, saw 20\\nSkipping line 512271: expected 12 fields, saw 14\\nSkipping line 514317: expected 12 fields, saw 15\\nSkipping line 519707: expected 12 fields, saw 40\\n'\n",
      "b'Skipping line 538495: expected 12 fields, saw 13\\n'\n",
      "b'Skipping line 765901: expected 12 fields, saw 56\\nSkipping line 773310: expected 12 fields, saw 43\\n'\n",
      "b'Skipping line 805899: expected 12 fields, saw 13\\nSkipping line 868492: expected 12 fields, saw 21\\nSkipping line 871801: expected 12 fields, saw 16\\n'\n",
      "b'Skipping line 903099: expected 12 fields, saw 13\\nSkipping line 903150: expected 12 fields, saw 13\\nSkipping line 903155: expected 12 fields, saw 13\\nSkipping line 926112: expected 12 fields, saw 13\\n'\n",
      "b'Skipping line 952511: expected 12 fields, saw 14\\nSkipping line 954085: expected 12 fields, saw 13\\nSkipping line 956504: expected 12 fields, saw 40\\nSkipping line 981135: expected 12 fields, saw 13\\nSkipping line 983460: expected 12 fields, saw 16\\nSkipping line 985000: expected 12 fields, saw 15\\nSkipping line 986754: expected 12 fields, saw 13\\nSkipping line 986828: expected 12 fields, saw 13\\n'\n",
      "b'Skipping line 1334533: expected 12 fields, saw 13\\nSkipping line 1337066: expected 12 fields, saw 16\\nSkipping line 1343528: expected 12 fields, saw 13\\nSkipping line 1351606: expected 12 fields, saw 14\\n'\n",
      "b'Skipping line 1376142: expected 12 fields, saw 16\\nSkipping line 1376408: expected 12 fields, saw 15\\nSkipping line 1389213: expected 12 fields, saw 59\\nSkipping line 1401635: expected 12 fields, saw 23\\n'\n",
      "b'Skipping line 1762082: expected 12 fields, saw 13\\nSkipping line 1763155: expected 12 fields, saw 16\\n'\n",
      "/home/neant/anaconda3/lib/python3.7/site-packages/IPython/core/interactiveshell.py:3057: DtypeWarning: Columns (3) have mixed types. Specify dtype option on import or set low_memory=False.\n",
      "  interactivity=interactivity, compiler=compiler, result=result)\n"
     ]
    }
   ],
   "source": [
    "df = pd.read_csv('result.tar.gz', compression='gzip', sep='\\t', error_bad_lines=False)"
   ]
  },
  {
   "cell_type": "code",
   "execution_count": 5,
   "metadata": {},
   "outputs": [],
   "source": [
    "df.dropna(inplace=True)"
   ]
  },
  {
   "cell_type": "code",
   "execution_count": 6,
   "metadata": {},
   "outputs": [],
   "source": [
    "df.drop_duplicates(inplace=True)"
   ]
  },
  {
   "cell_type": "markdown",
   "metadata": {},
   "source": [
    "Задание 3 - изменение прямого мэтча\n",
    "Необходимо проверить наличие лейблов колонок odd, tip_name, bookmaker_name, match_date_time, league_name_in_russian, team_of_season_1_name_in_russian и team_of_season_2_name_in_russian в текстах прогнозов. Создать новые колонки для каждого лейбла и поместить в них 1 или 0 в зависимости от того есть данный лейбл в тексте прогноза или нет."
   ]
  },
  {
   "cell_type": "code",
   "execution_count": 7,
   "metadata": {},
   "outputs": [],
   "source": [
    "df.rename(columns={'result.tsv': 'text'}, inplace=True)"
   ]
  },
  {
   "cell_type": "code",
   "execution_count": 8,
   "metadata": {},
   "outputs": [],
   "source": [
    "df = df[['text', 'odd', 'tip_name', 'bookmaker_name', 'match_date_time', 'league_name_in_russian',\n",
    "    'team_of_season_1_name_in_russian', 'team_of_season_2_name_in_russian']]"
   ]
  },
  {
   "cell_type": "code",
   "execution_count": 9,
   "metadata": {},
   "outputs": [],
   "source": [
    "def tokenize(text):\n",
    "    text = text.replace('\\xa0', '')\n",
    "    text = text.replace('«', '')\n",
    "    text = text.replace('»', '')\n",
    "    text = re.findall(r'[А-Яа-яA-Za-z0-9]+', text)\n",
    "    text = [word.lower() for word in text]\n",
    "    return text\n",
    "\n",
    "def ngram_range(text, min_gram=1, max_gram=3):\n",
    "    text = tokenize(text)\n",
    "    if len(text) == 1 or len(text) == 0:\n",
    "        return text\n",
    "    grams = nltk.everygrams(text, min_gram, max_gram)    \n",
    "    grams = [' '.join(gram) for gram in grams]\n",
    "    grams = set(grams)\n",
    "    return grams\n"
   ]
  },
  {
   "cell_type": "code",
   "execution_count": 10,
   "metadata": {},
   "outputs": [],
   "source": [
    "df['grams'] = df.text.apply(ngram_range)"
   ]
  },
  {
   "cell_type": "markdown",
   "metadata": {},
   "source": [
    "Вообще так делать неправильно, но некогда было разбираться как сделать правильно"
   ]
  },
  {
   "cell_type": "code",
   "execution_count": 11,
   "metadata": {},
   "outputs": [],
   "source": [
    "def direct_match(df, gram_col, col_to_compare):\n",
    "    result = []\n",
    "    for x, y in zip(df[gram_col], df[col_to_compare]):\n",
    "        inter = x.intersection(ngram_range(y)) # частичное совпадение\n",
    "        #inter = y.lower() in x # полное совпадение\n",
    "        result.append(bool(inter))\n",
    "        new_col = col_to_compare + '_found'\n",
    "    df[new_col] = result"
   ]
  },
  {
   "cell_type": "code",
   "execution_count": 12,
   "metadata": {},
   "outputs": [],
   "source": [
    "direct_match(df, 'grams', 'team_of_season_1_name_in_russian')"
   ]
  },
  {
   "cell_type": "code",
   "execution_count": 13,
   "metadata": {},
   "outputs": [],
   "source": [
    "direct_match(df, 'grams', 'team_of_season_2_name_in_russian')"
   ]
  },
  {
   "cell_type": "code",
   "execution_count": 14,
   "metadata": {},
   "outputs": [
    {
     "data": {
      "text/html": [
       "<div>\n",
       "<style scoped>\n",
       "    .dataframe tbody tr th:only-of-type {\n",
       "        vertical-align: middle;\n",
       "    }\n",
       "\n",
       "    .dataframe tbody tr th {\n",
       "        vertical-align: top;\n",
       "    }\n",
       "\n",
       "    .dataframe thead th {\n",
       "        text-align: right;\n",
       "    }\n",
       "</style>\n",
       "<table border=\"1\" class=\"dataframe\">\n",
       "  <thead>\n",
       "    <tr style=\"text-align: right;\">\n",
       "      <th></th>\n",
       "      <th>text</th>\n",
       "      <th>odd</th>\n",
       "      <th>tip_name</th>\n",
       "      <th>bookmaker_name</th>\n",
       "      <th>match_date_time</th>\n",
       "      <th>league_name_in_russian</th>\n",
       "      <th>team_of_season_1_name_in_russian</th>\n",
       "      <th>team_of_season_2_name_in_russian</th>\n",
       "      <th>grams</th>\n",
       "      <th>team_of_season_1_name_in_russian_found</th>\n",
       "      <th>team_of_season_2_name_in_russian_found</th>\n",
       "    </tr>\n",
       "  </thead>\n",
       "  <tbody>\n",
       "    <tr>\n",
       "      <th>3199</th>\n",
       "      <td>Играет Парагвай с Катаром. На мой взгляд тут П...</td>\n",
       "      <td>1.85</td>\n",
       "      <td>1 тайм - Парагвай забьёт</td>\n",
       "      <td>Фонбет</td>\n",
       "      <td>2019-06-16 19:00:00</td>\n",
       "      <td>Кубок Америки</td>\n",
       "      <td>Парагвай</td>\n",
       "      <td>Катар</td>\n",
       "      <td>{первом тайме не, исключительно, катаром на мо...</td>\n",
       "      <td>True</td>\n",
       "      <td>False</td>\n",
       "    </tr>\n",
       "    <tr>\n",
       "      <th>3204</th>\n",
       "      <td>Играет Парагвай с Катаром. На мой взгляд тут П...</td>\n",
       "      <td>2.47</td>\n",
       "      <td>1 тайм больше 1</td>\n",
       "      <td>BETCITY</td>\n",
       "      <td>2019-06-16 19:00:00</td>\n",
       "      <td>Кубок Америки</td>\n",
       "      <td>Парагвай</td>\n",
       "      <td>Катар</td>\n",
       "      <td>{первом тайме не, исключительно, катаром на мо...</td>\n",
       "      <td>True</td>\n",
       "      <td>False</td>\n",
       "    </tr>\n",
       "    <tr>\n",
       "      <th>5378</th>\n",
       "      <td>«Торпедо» сейчас в полном порядке. Команда воз...</td>\n",
       "      <td>2</td>\n",
       "      <td>1-й тайм - Х</td>\n",
       "      <td>Лига Ставок</td>\n",
       "      <td>2019-09-25 16:30:00</td>\n",
       "      <td>Кубок</td>\n",
       "      <td>Торпедо Москва</td>\n",
       "      <td>Крылья Советов</td>\n",
       "      <td>{не будет, с обороной тоже, что будет, с крыль...</td>\n",
       "      <td>True</td>\n",
       "      <td>False</td>\n",
       "    </tr>\n",
       "    <tr>\n",
       "      <th>11111</th>\n",
       "      <td>Тур посреди недели всегда является сложным исп...</td>\n",
       "      <td>2.25</td>\n",
       "      <td>1X</td>\n",
       "      <td>Леон</td>\n",
       "      <td>2019-04-02 19:30:00</td>\n",
       "      <td>Примера</td>\n",
       "      <td>Вильярреал</td>\n",
       "      <td>Барселона</td>\n",
       "      <td>{на вильярреал не, не ко двору, двору для барс...</td>\n",
       "      <td>True</td>\n",
       "      <td>False</td>\n",
       "    </tr>\n",
       "    <tr>\n",
       "      <th>15718</th>\n",
       "      <td>Так уж сложилось, что матчи за третье место вс...</td>\n",
       "      <td>1.8</td>\n",
       "      <td>1X</td>\n",
       "      <td>Леон</td>\n",
       "      <td>2019-06-09 13:00:00</td>\n",
       "      <td>Лига Наций УЕФА</td>\n",
       "      <td>Швейцария</td>\n",
       "      <td>Англия</td>\n",
       "      <td>{победа они уже, англии была в, втором смотрел...</td>\n",
       "      <td>True</td>\n",
       "      <td>False</td>\n",
       "    </tr>\n",
       "  </tbody>\n",
       "</table>\n",
       "</div>"
      ],
      "text/plain": [
       "                                                    text   odd  \\\n",
       "3199   Играет Парагвай с Катаром. На мой взгляд тут П...  1.85   \n",
       "3204   Играет Парагвай с Катаром. На мой взгляд тут П...  2.47   \n",
       "5378   «Торпедо» сейчас в полном порядке. Команда воз...     2   \n",
       "11111  Тур посреди недели всегда является сложным исп...  2.25   \n",
       "15718  Так уж сложилось, что матчи за третье место вс...   1.8   \n",
       "\n",
       "                       tip_name bookmaker_name      match_date_time  \\\n",
       "3199   1 тайм - Парагвай забьёт         Фонбет  2019-06-16 19:00:00   \n",
       "3204            1 тайм больше 1        BETCITY  2019-06-16 19:00:00   \n",
       "5378               1-й тайм - Х    Лига Ставок  2019-09-25 16:30:00   \n",
       "11111                        1X           Леон  2019-04-02 19:30:00   \n",
       "15718                        1X           Леон  2019-06-09 13:00:00   \n",
       "\n",
       "      league_name_in_russian team_of_season_1_name_in_russian  \\\n",
       "3199           Кубок Америки                         Парагвай   \n",
       "3204           Кубок Америки                         Парагвай   \n",
       "5378                   Кубок                   Торпедо Москва   \n",
       "11111                Примера                       Вильярреал   \n",
       "15718        Лига Наций УЕФА                        Швейцария   \n",
       "\n",
       "      team_of_season_2_name_in_russian  \\\n",
       "3199                             Катар   \n",
       "3204                             Катар   \n",
       "5378                    Крылья Советов   \n",
       "11111                        Барселона   \n",
       "15718                           Англия   \n",
       "\n",
       "                                                   grams  \\\n",
       "3199   {первом тайме не, исключительно, катаром на мо...   \n",
       "3204   {первом тайме не, исключительно, катаром на мо...   \n",
       "5378   {не будет, с обороной тоже, что будет, с крыль...   \n",
       "11111  {на вильярреал не, не ко двору, двору для барс...   \n",
       "15718  {победа они уже, англии была в, втором смотрел...   \n",
       "\n",
       "       team_of_season_1_name_in_russian_found  \\\n",
       "3199                                     True   \n",
       "3204                                     True   \n",
       "5378                                     True   \n",
       "11111                                    True   \n",
       "15718                                    True   \n",
       "\n",
       "       team_of_season_2_name_in_russian_found  \n",
       "3199                                    False  \n",
       "3204                                    False  \n",
       "5378                                    False  \n",
       "11111                                   False  \n",
       "15718                                   False  "
      ]
     },
     "execution_count": 14,
     "metadata": {},
     "output_type": "execute_result"
    }
   ],
   "source": [
    "df.loc[~df['team_of_season_2_name_in_russian_found']].head()"
   ]
  },
  {
   "cell_type": "code",
   "execution_count": 15,
   "metadata": {},
   "outputs": [],
   "source": [
    "df['model'] = df.tip_name.apply(lambda x: model[x])"
   ]
  },
  {
   "cell_type": "markdown",
   "metadata": {},
   "source": [
    "Можно использовать что-то такое, чтобы найти похожие."
   ]
  },
  {
   "cell_type": "code",
   "execution_count": 17,
   "metadata": {},
   "outputs": [],
   "source": [
    "import numpy as np"
   ]
  },
  {
   "cell_type": "code",
   "execution_count": 19,
   "metadata": {},
   "outputs": [],
   "source": [
    "from itertools import combinations"
   ]
  },
  {
   "cell_type": "code",
   "execution_count": 24,
   "metadata": {},
   "outputs": [],
   "source": [
    "from scipy.spatial.distance import cosine"
   ]
  },
  {
   "cell_type": "code",
   "execution_count": 39,
   "metadata": {},
   "outputs": [],
   "source": [
    "result = {}\n",
    "for i, j in combinations(df.sample(100).index.values, 2):\n",
    "    result[(i, j)] = cosine(df.model[i].reshape(-1, 1), df.model[j].reshape(-1, 1))"
   ]
  },
  {
   "cell_type": "code",
   "execution_count": 40,
   "metadata": {},
   "outputs": [],
   "source": [
    "import operator"
   ]
  },
  {
   "cell_type": "code",
   "execution_count": 55,
   "metadata": {},
   "outputs": [
    {
     "data": {
      "text/plain": [
       "[((494670, 481915), 0.0),\n",
       " ((494670, 491097), 0.0),\n",
       " ((494670, 493995), 0.0),\n",
       " ((294516, 296312), 0.0),\n",
       " ((294516, 305983), 0.0),\n",
       " ((294516, 306415), 0.0),\n",
       " ((294516, 304519), 0.0),\n",
       " ((294516, 308303), 0.0),\n",
       " ((294516, 305163), 0.0),\n",
       " ((294516, 292828), 0.0),\n",
       " ((294516, 309652), 0.0),\n",
       " ((294516, 304408), 0.0),\n",
       " ((358693, 396489), 0.0),\n",
       " ((358693, 413955), 0.0),\n",
       " ((358693, 379545), 0.0),\n",
       " ((358693, 381780), 0.0),\n",
       " ((358693, 429436), 0.0),\n",
       " ((358693, 430003), 0.0),\n",
       " ((358693, 357505), 0.0),\n",
       " ((358693, 406447), 0.0)]"
      ]
     },
     "execution_count": 55,
     "metadata": {},
     "output_type": "execute_result"
    }
   ],
   "source": [
    "sorted(result.items(), key=operator.itemgetter(1))[:20]"
   ]
  },
  {
   "cell_type": "code",
   "execution_count": 54,
   "metadata": {},
   "outputs": [
    {
     "data": {
      "text/plain": [
       "'Х2 и обе забьют'"
      ]
     },
     "execution_count": 54,
     "metadata": {},
     "output_type": "execute_result"
    }
   ],
   "source": [
    "df.tip_name[868315]"
   ]
  },
  {
   "cell_type": "code",
   "execution_count": 53,
   "metadata": {},
   "outputs": [
    {
     "data": {
      "text/plain": [
       "'Обе забьют'"
      ]
     },
     "execution_count": 53,
     "metadata": {},
     "output_type": "execute_result"
    }
   ],
   "source": [
    "df.tip_name[242994]"
   ]
  },
  {
   "cell_type": "code",
   "execution_count": null,
   "metadata": {},
   "outputs": [],
   "source": []
  }
 ],
 "metadata": {
  "kernelspec": {
   "display_name": "Python 3",
   "language": "python",
   "name": "python3"
  },
  "language_info": {
   "codemirror_mode": {
    "name": "ipython",
    "version": 3
   },
   "file_extension": ".py",
   "mimetype": "text/x-python",
   "name": "python",
   "nbconvert_exporter": "python",
   "pygments_lexer": "ipython3",
   "version": "3.7.3"
  }
 },
 "nbformat": 4,
 "nbformat_minor": 2
}
