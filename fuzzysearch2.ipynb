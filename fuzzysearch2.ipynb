{
 "cells": [
  {
   "cell_type": "code",
   "execution_count": 1,
   "metadata": {},
   "outputs": [
    {
     "name": "stderr",
     "output_type": "stream",
     "text": [
      "C:\\Users\\User\\Anaconda3\\lib\\site-packages\\fuzzywuzzy\\fuzz.py:11: UserWarning: Using slow pure-python SequenceMatcher. Install python-Levenshtein to remove this warning\n",
      "  warnings.warn('Using slow pure-python SequenceMatcher. Install python-Levenshtein to remove this warning')\n"
     ]
    }
   ],
   "source": [
    "import pandas as pd\n",
    "import numpy as np\n",
    "from string import punctuation\n",
    "from fuzzywuzzy import fuzz\n",
    "from nltk import word_tokenize"
   ]
  },
  {
   "cell_type": "code",
   "execution_count": 2,
   "metadata": {},
   "outputs": [
    {
     "name": "stderr",
     "output_type": "stream",
     "text": [
      "b'Skipping line 37039: expected 12 fields, saw 15\\nSkipping line 45611: expected 12 fields, saw 15\\n'\n",
      "b'Skipping line 354339: expected 12 fields, saw 18\\nSkipping line 360804: expected 12 fields, saw 102\\nSkipping line 360819: expected 12 fields, saw 78\\nSkipping line 379126: expected 12 fields, saw 14\\nSkipping line 444446: expected 12 fields, saw 16\\nSkipping line 449079: expected 12 fields, saw 16\\nSkipping line 450250: expected 12 fields, saw 15\\n'\n",
      "b'Skipping line 481374: expected 12 fields, saw 18\\nSkipping line 510619: expected 12 fields, saw 20\\nSkipping line 512271: expected 12 fields, saw 14\\nSkipping line 514317: expected 12 fields, saw 15\\nSkipping line 519707: expected 12 fields, saw 40\\n'\n",
      "b'Skipping line 538495: expected 12 fields, saw 13\\n'\n",
      "b'Skipping line 765901: expected 12 fields, saw 56\\nSkipping line 773310: expected 12 fields, saw 43\\n'\n",
      "b'Skipping line 805899: expected 12 fields, saw 13\\nSkipping line 868492: expected 12 fields, saw 21\\nSkipping line 871801: expected 12 fields, saw 16\\n'\n",
      "b'Skipping line 903099: expected 12 fields, saw 13\\nSkipping line 903150: expected 12 fields, saw 13\\nSkipping line 903155: expected 12 fields, saw 13\\nSkipping line 926112: expected 12 fields, saw 13\\n'\n",
      "b'Skipping line 952511: expected 12 fields, saw 14\\nSkipping line 954085: expected 12 fields, saw 13\\nSkipping line 956504: expected 12 fields, saw 40\\nSkipping line 981135: expected 12 fields, saw 13\\nSkipping line 983460: expected 12 fields, saw 16\\nSkipping line 985000: expected 12 fields, saw 15\\nSkipping line 986754: expected 12 fields, saw 13\\nSkipping line 986828: expected 12 fields, saw 13\\n'\n",
      "b'Skipping line 1334533: expected 12 fields, saw 13\\nSkipping line 1337066: expected 12 fields, saw 16\\nSkipping line 1343528: expected 12 fields, saw 13\\nSkipping line 1351606: expected 12 fields, saw 14\\n'\n",
      "b'Skipping line 1376142: expected 12 fields, saw 16\\nSkipping line 1376408: expected 12 fields, saw 15\\nSkipping line 1389213: expected 12 fields, saw 59\\nSkipping line 1401635: expected 12 fields, saw 23\\n'\n",
      "b'Skipping line 1762082: expected 12 fields, saw 13\\nSkipping line 1763155: expected 12 fields, saw 16\\n'\n",
      "C:\\Users\\User\\Anaconda3\\lib\\site-packages\\IPython\\core\\interactiveshell.py:3058: DtypeWarning: Columns (3) have mixed types. Specify dtype option on import or set low_memory=False.\n",
      "  interactivity=interactivity, compiler=compiler, result=result)\n"
     ]
    }
   ],
   "source": [
    "df = pd.read_csv('result_tar.gz', compression='gzip', sep='\\t', error_bad_lines=False)"
   ]
  },
  {
   "cell_type": "code",
   "execution_count": 3,
   "metadata": {},
   "outputs": [],
   "source": [
    "df = df.drop([\"url\", \"video_url\", \"source_name\", \"author_name\"], axis=1)"
   ]
  },
  {
   "cell_type": "code",
   "execution_count": 4,
   "metadata": {},
   "outputs": [],
   "source": [
    "df = df.dropna()"
   ]
  },
  {
   "cell_type": "code",
   "execution_count": 5,
   "metadata": {},
   "outputs": [],
   "source": [
    "df = df.drop_duplicates()"
   ]
  },
  {
   "cell_type": "code",
   "execution_count": 6,
   "metadata": {},
   "outputs": [],
   "source": [
    "df = df.reset_index(drop=True)"
   ]
  },
  {
   "cell_type": "code",
   "execution_count": 7,
   "metadata": {},
   "outputs": [
    {
     "data": {
      "text/html": [
       "<div>\n",
       "<style scoped>\n",
       "    .dataframe tbody tr th:only-of-type {\n",
       "        vertical-align: middle;\n",
       "    }\n",
       "\n",
       "    .dataframe tbody tr th {\n",
       "        vertical-align: top;\n",
       "    }\n",
       "\n",
       "    .dataframe thead th {\n",
       "        text-align: right;\n",
       "    }\n",
       "</style>\n",
       "<table border=\"1\" class=\"dataframe\">\n",
       "  <thead>\n",
       "    <tr style=\"text-align: right;\">\n",
       "      <th></th>\n",
       "      <th>result.tsv</th>\n",
       "      <th>odd</th>\n",
       "      <th>tip_name</th>\n",
       "      <th>bookmaker_name</th>\n",
       "      <th>match_date_time</th>\n",
       "      <th>league_name_in_russian</th>\n",
       "      <th>team_of_season_1_name_in_russian</th>\n",
       "      <th>team_of_season_2_name_in_russian</th>\n",
       "    </tr>\n",
       "  </thead>\n",
       "  <tbody>\n",
       "    <tr>\n",
       "      <td>0</td>\n",
       "      <td>Сборная Турции продолжает свою дорогу на Чемпи...</td>\n",
       "      <td>1.65</td>\n",
       "      <td>- 1,5</td>\n",
       "      <td>Олимп</td>\n",
       "      <td>2019-06-02 18:00:00</td>\n",
       "      <td>Международные товарищеские матчи</td>\n",
       "      <td>Турция</td>\n",
       "      <td>Узбекистан</td>\n",
       "    </tr>\n",
       "    <tr>\n",
       "      <td>1</td>\n",
       "      <td>Двадцать девятого числа состоится один весьма ...</td>\n",
       "      <td>1.52</td>\n",
       "      <td>– тотал меньше 2,5</td>\n",
       "      <td>Winline</td>\n",
       "      <td>2019-06-28 23:20:00</td>\n",
       "      <td>Кубок Америки</td>\n",
       "      <td>Колумбия</td>\n",
       "      <td>Чили</td>\n",
       "    </tr>\n",
       "    <tr>\n",
       "      <td>2</td>\n",
       "      <td>АЗ Алкмар В первом матче голландский клуб созд...</td>\n",
       "      <td>1.85</td>\n",
       "      <td>АЗ Алкмар забьет в обоих таймах</td>\n",
       "      <td>Лига Ставок</td>\n",
       "      <td>2019-08-15 18:30:00</td>\n",
       "      <td>Лига Европы УЕФА</td>\n",
       "      <td>АЗ Алкмаар</td>\n",
       "      <td>Мариуполь</td>\n",
       "    </tr>\n",
       "    <tr>\n",
       "      <td>3</td>\n",
       "      <td>«Сачхере» — «Абердин» И тот, и другой клуб оде...</td>\n",
       "      <td>1.45</td>\n",
       "      <td>Айнтрахт - 3 и более гола</td>\n",
       "      <td>Лига Ставок</td>\n",
       "      <td>2019-07-25 17:00:00</td>\n",
       "      <td>Лига Европы УЕФА</td>\n",
       "      <td>Флора</td>\n",
       "      <td>Айнтрахт Франкфурт</td>\n",
       "    </tr>\n",
       "    <tr>\n",
       "      <td>4</td>\n",
       "      <td>Я предполагаю ничью в этом матче с забитыми мя...</td>\n",
       "      <td>5</td>\n",
       "      <td>Арсенал забьет первым и не выиграет</td>\n",
       "      <td>1xСтавка</td>\n",
       "      <td>2019-05-09 19:00:00</td>\n",
       "      <td>Лига Европы УЕФА</td>\n",
       "      <td>Валенсия</td>\n",
       "      <td>Арсенал</td>\n",
       "    </tr>\n",
       "  </tbody>\n",
       "</table>\n",
       "</div>"
      ],
      "text/plain": [
       "                                          result.tsv   odd  \\\n",
       "0  Сборная Турции продолжает свою дорогу на Чемпи...  1.65   \n",
       "1  Двадцать девятого числа состоится один весьма ...  1.52   \n",
       "2  АЗ Алкмар В первом матче голландский клуб созд...  1.85   \n",
       "3  «Сачхере» — «Абердин» И тот, и другой клуб оде...  1.45   \n",
       "4  Я предполагаю ничью в этом матче с забитыми мя...     5   \n",
       "\n",
       "                              tip_name bookmaker_name      match_date_time  \\\n",
       "0                                - 1,5          Олимп  2019-06-02 18:00:00   \n",
       "1                   – тотал меньше 2,5        Winline  2019-06-28 23:20:00   \n",
       "2      АЗ Алкмар забьет в обоих таймах    Лига Ставок  2019-08-15 18:30:00   \n",
       "3            Айнтрахт - 3 и более гола    Лига Ставок  2019-07-25 17:00:00   \n",
       "4  Арсенал забьет первым и не выиграет       1xСтавка  2019-05-09 19:00:00   \n",
       "\n",
       "             league_name_in_russian team_of_season_1_name_in_russian  \\\n",
       "0  Международные товарищеские матчи                           Турция   \n",
       "1                     Кубок Америки                         Колумбия   \n",
       "2                  Лига Европы УЕФА                       АЗ Алкмаар   \n",
       "3                  Лига Европы УЕФА                            Флора   \n",
       "4                  Лига Европы УЕФА                         Валенсия   \n",
       "\n",
       "  team_of_season_2_name_in_russian  \n",
       "0                       Узбекистан  \n",
       "1                             Чили  \n",
       "2                        Мариуполь  \n",
       "3               Айнтрахт Франкфурт  \n",
       "4                          Арсенал  "
      ]
     },
     "execution_count": 7,
     "metadata": {},
     "output_type": "execute_result"
    }
   ],
   "source": [
    "df.head(5)"
   ]
  },
  {
   "cell_type": "markdown",
   "metadata": {},
   "source": [
    "### Нечеткий поиск по командам 1"
   ]
  },
  {
   "cell_type": "code",
   "execution_count": 8,
   "metadata": {},
   "outputs": [
    {
     "name": "stdout",
     "output_type": "stream",
     "text": [
      "Wall time: 2h 35min 19s\n"
     ]
    }
   ],
   "source": [
    "%%time\n",
    "tokens = []\n",
    "teams1_match = np.zeros(df.shape[0])\n",
    "for i, text in enumerate(df['result.tsv'].values):\n",
    "    txt_tokens = []\n",
    "    txt_tokens.append(word_tokenize(text))\n",
    "    for text in txt_tokens:\n",
    "        for t in text:\n",
    "            if fuzz.ratio(df['team_of_season_1_name_in_russian'][i], t) > 70:\n",
    "                teams1_match[i] = 1"
   ]
  },
  {
   "cell_type": "code",
   "execution_count": 9,
   "metadata": {},
   "outputs": [],
   "source": [
    "df['fuzzy_match_for_teams1'] = teams1_match"
   ]
  },
  {
   "cell_type": "code",
   "execution_count": 10,
   "metadata": {},
   "outputs": [
    {
     "name": "stdout",
     "output_type": "stream",
     "text": [
      "702908\n"
     ]
    }
   ],
   "source": [
    "all_vals = df['fuzzy_match_for_teams1'].shape[0]\n",
    "print(all_vals)"
   ]
  },
  {
   "cell_type": "code",
   "execution_count": 11,
   "metadata": {},
   "outputs": [
    {
     "name": "stdout",
     "output_type": "stream",
     "text": [
      "330689\n"
     ]
    }
   ],
   "source": [
    "success = df[df['fuzzy_match_for_teams1'] == 1].shape[0]\n",
    "print(success)"
   ]
  },
  {
   "cell_type": "code",
   "execution_count": 12,
   "metadata": {},
   "outputs": [
    {
     "name": "stdout",
     "output_type": "stream",
     "text": [
      "0.47045843837315837\n"
     ]
    }
   ],
   "source": [
    "fuzzyline_team1 = success / all_vals\n",
    "print(fuzzyline_team1)"
   ]
  },
  {
   "cell_type": "markdown",
   "metadata": {},
   "source": [
    "### Нечеткий поиск по командам 2"
   ]
  },
  {
   "cell_type": "code",
   "execution_count": 13,
   "metadata": {},
   "outputs": [
    {
     "name": "stdout",
     "output_type": "stream",
     "text": [
      "Wall time: 2h 30min 34s\n"
     ]
    }
   ],
   "source": [
    "%%time\n",
    "tokens = []\n",
    "teams2_match = np.zeros(df.shape[0])\n",
    "for i, text in enumerate(df['result.tsv'].values):\n",
    "    txt_tokens = []\n",
    "    txt_tokens.append(word_tokenize(text))\n",
    "    for text in txt_tokens:\n",
    "        for t in text:\n",
    "            if fuzz.ratio(df['team_of_season_2_name_in_russian'][i], t) > 70:\n",
    "                teams2_match[i] = 1"
   ]
  },
  {
   "cell_type": "code",
   "execution_count": 14,
   "metadata": {},
   "outputs": [],
   "source": [
    "df['fuzzy_match_for_teams2'] = teams2_match"
   ]
  },
  {
   "cell_type": "code",
   "execution_count": 27,
   "metadata": {},
   "outputs": [
    {
     "name": "stdout",
     "output_type": "stream",
     "text": [
      "702908\n"
     ]
    }
   ],
   "source": [
    "all_vals = df['fuzzy_match_for_teams2'].shape[0]\n",
    "print(all_vals)"
   ]
  },
  {
   "cell_type": "code",
   "execution_count": 28,
   "metadata": {},
   "outputs": [
    {
     "name": "stdout",
     "output_type": "stream",
     "text": [
      "321167\n"
     ]
    }
   ],
   "source": [
    "success = df[df['fuzzy_match_for_teams2'] == 1].shape[0]\n",
    "print(success)"
   ]
  },
  {
   "cell_type": "code",
   "execution_count": 29,
   "metadata": {},
   "outputs": [],
   "source": [
    "fuzzyline_team2 = success / all_vals"
   ]
  },
  {
   "cell_type": "code",
   "execution_count": 30,
   "metadata": {},
   "outputs": [
    {
     "name": "stdout",
     "output_type": "stream",
     "text": [
      "0.4569118575972958\n"
     ]
    }
   ],
   "source": [
    "print(fuzzyline_team2)"
   ]
  },
  {
   "cell_type": "markdown",
   "metadata": {},
   "source": [
    "### Нечеткий поиск по лигам"
   ]
  },
  {
   "cell_type": "markdown",
   "metadata": {},
   "source": [
    "С использованием триграммов"
   ]
  },
  {
   "cell_type": "code",
   "execution_count": 18,
   "metadata": {},
   "outputs": [
    {
     "name": "stdout",
     "output_type": "stream",
     "text": [
      "Wall time: 1.19 s\n"
     ]
    }
   ],
   "source": [
    "%%time \n",
    "leagues_match = np.zeros(df.shape[0])\n",
    "for i, text in enumerate(df['result.tsv'][:10].values):\n",
    "    #print(i, text)\n",
    "    words = word_tokenize(text)\n",
    "    N = 3\n",
    "    grams = [words[i:i+N] for i in range(len(words)-N+1)]\n",
    "    #print(grams)\n",
    "    for gram in grams: \n",
    "        str1 = \" \"\n",
    "        joined_gram = str1.join(gram)\n",
    "        #print(joined_gram)\n",
    "        if fuzz.ratio(df['league_name_in_russian'][i], joined_gram) > 60: #можно регулировать score \n",
    "            #print(df['league_name_in_russian'][i], joined_gram)\n",
    "            leagues_match[i] = 1"
   ]
  },
  {
   "cell_type": "code",
   "execution_count": 26,
   "metadata": {},
   "outputs": [
    {
     "data": {
      "text/plain": [
       "array([1., 1., 0., 1., 0., 1., 1., 0., 1., 1., 0., 0., 0., 0., 0.])"
      ]
     },
     "execution_count": 26,
     "metadata": {},
     "output_type": "execute_result"
    }
   ],
   "source": [
    "leagues_match[:15]"
   ]
  },
  {
   "cell_type": "code",
   "execution_count": 19,
   "metadata": {},
   "outputs": [],
   "source": [
    "df['fuzzy_match_for_leagues'] = leagues_match"
   ]
  },
  {
   "cell_type": "code",
   "execution_count": 20,
   "metadata": {},
   "outputs": [
    {
     "name": "stdout",
     "output_type": "stream",
     "text": [
      "702908\n",
      "7\n",
      "9.958629009770838e-06\n"
     ]
    }
   ],
   "source": [
    "all_vals = df['fuzzy_match_for_leagues'].shape[0]\n",
    "print(all_vals)\n",
    "success = df[df['fuzzy_match_for_leagues'] == 1].shape[0]\n",
    "print(success)\n",
    "fuzzyline_leagues = success / all_vals\n",
    "print(fuzzyline_leagues)"
   ]
  },
  {
   "cell_type": "markdown",
   "metadata": {},
   "source": [
    "### Нечеткий поиск по букмекерам"
   ]
  },
  {
   "cell_type": "markdown",
   "metadata": {},
   "source": [
    "Вариант без нграммов"
   ]
  },
  {
   "cell_type": "code",
   "execution_count": 31,
   "metadata": {},
   "outputs": [
    {
     "name": "stdout",
     "output_type": "stream",
     "text": [
      "Wall time: 2h 24min 46s\n"
     ]
    }
   ],
   "source": [
    "%%time\n",
    "tokens = []\n",
    "bookmaker_match = np.zeros(df.shape[0])\n",
    "for i, text in enumerate(df['result.tsv'].values):\n",
    "    txt_tokens = []\n",
    "    txt_tokens.append(word_tokenize(text))\n",
    "    for text in txt_tokens:\n",
    "        for t in text:\n",
    "            if fuzz.ratio(df['bookmaker_name'][i], t) > 70:\n",
    "                bookmaker_match[i] = 1"
   ]
  },
  {
   "cell_type": "code",
   "execution_count": 32,
   "metadata": {},
   "outputs": [],
   "source": [
    "df['fuzzy_match_for_bookmakers1'] = bookmaker_match"
   ]
  },
  {
   "cell_type": "code",
   "execution_count": 23,
   "metadata": {},
   "outputs": [
    {
     "name": "stdout",
     "output_type": "stream",
     "text": [
      "702908\n",
      "1596\n",
      "0.002270567414227751\n"
     ]
    }
   ],
   "source": [
    "all_vals = df['fuzzy_match_for_bookmakers1'].shape[0]\n",
    "print(all_vals)\n",
    "success = df[df['fuzzy_match_for_bookmakers1'] == 1].shape[0]\n",
    "print(success)\n",
    "fuzzyline_bookmakers = success / all_vals\n",
    "print(fuzzyline_bookmakers)"
   ]
  },
  {
   "cell_type": "markdown",
   "metadata": {},
   "source": [
    "Вариант с биграммами"
   ]
  },
  {
   "cell_type": "code",
   "execution_count": 33,
   "metadata": {},
   "outputs": [
    {
     "name": "stdout",
     "output_type": "stream",
     "text": [
      "Wall time: 761 ms\n"
     ]
    }
   ],
   "source": [
    "%%time \n",
    "bookmaker_match = np.zeros(df.shape[0])\n",
    "for i, text in enumerate(df['result.tsv'][:10].values):\n",
    "    #print(i, text)\n",
    "    words = word_tokenize(text)\n",
    "    N = 2 \n",
    "    grams = [words[i:i+N] for i in range(len(words)-N+1)]\n",
    "    #print(grams)\n",
    "    for gram in grams: \n",
    "        str1 = \" \"\n",
    "        joined_gram = str1.join(gram)\n",
    "        #print(joined_gram)\n",
    "        if fuzz.ratio(df['bookmaker_name'][i], joined_gram) > 70: #можно регулировать score \n",
    "            #print(df['bookmaker_name'][i], joined_gram)\n",
    "            bookmaker_match[i] = 1"
   ]
  },
  {
   "cell_type": "code",
   "execution_count": 34,
   "metadata": {},
   "outputs": [],
   "source": [
    "df['fuzzy_match_for_bookmakers2'] = bookmaker_match"
   ]
  },
  {
   "cell_type": "code",
   "execution_count": 35,
   "metadata": {},
   "outputs": [
    {
     "name": "stdout",
     "output_type": "stream",
     "text": [
      "702908\n",
      "0\n",
      "0.0\n"
     ]
    }
   ],
   "source": [
    "all_vals = df['fuzzy_match_for_bookmakers2'].shape[0]\n",
    "print(all_vals)\n",
    "success = df[df['fuzzy_match_for_bookmakers2'] == 1].shape[0]\n",
    "print(success)\n",
    "fuzzyline_bookmakers = success / all_vals\n",
    "print(fuzzyline_bookmakers)"
   ]
  }
 ],
 "metadata": {
  "kernelspec": {
   "display_name": "Python 3",
   "language": "python",
   "name": "python3"
  },
  "language_info": {
   "codemirror_mode": {
    "name": "ipython",
    "version": 3
   },
   "file_extension": ".py",
   "mimetype": "text/x-python",
   "name": "python",
   "nbconvert_exporter": "python",
   "pygments_lexer": "ipython3",
   "version": "3.7.4"
  }
 },
 "nbformat": 4,
 "nbformat_minor": 2
}
