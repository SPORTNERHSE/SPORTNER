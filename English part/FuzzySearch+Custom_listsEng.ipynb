{
  "nbformat": 4,
  "nbformat_minor": 0,
  "metadata": {
    "colab": {
      "name": "**FuzzySearch+Custom_listsEn.ipynb",
      "provenance": []
    },
    "kernelspec": {
      "display_name": "Python 3",
      "language": "python",
      "name": "python3"
    },
    "language_info": {
      "codemirror_mode": {
        "name": "ipython",
        "version": 3
      },
      "file_extension": ".py",
      "mimetype": "text/x-python",
      "name": "python",
      "nbconvert_exporter": "python",
      "pygments_lexer": "ipython3",
      "version": "3.6.7"
    }
  },
  "cells": [
    {
      "cell_type": "code",
      "metadata": {
        "colab_type": "code",
        "id": "znP0Nm7CljrK",
        "outputId": "dfe24785-a5ca-4c6b-faaa-e84ad8ed67e8",
        "colab": {
          "base_uri": "https://localhost:8080/",
          "height": 156
        }
      },
      "source": [
        "!pip install fuzzywuzzy\n",
        "!pip install langdetect\n",
        "!pip install stop_words\n",
        "import pandas as pd\n",
        "import numpy as np\n",
        "from tqdm import tqdm\n",
        "from nltk import word_tokenize\n",
        "from collections import Counter\n",
        "from string import punctuation\n",
        "punct = punctuation+'©«»—…“”*№–'\n",
        "import nltk\n",
        "nltk.download('punkt')\n",
        "nltk.download('stopwords')\n",
        "import urllib.request\n",
        "from bs4 import BeautifulSoup\n",
        "import re\n",
        "from tqdm import tqdm\n",
        "from fuzzywuzzy import fuzz\n",
        "from string import digits\n",
        "from stop_words import get_stop_words\n",
        "from nltk.corpus import stopwords\n",
        "from fuzzywuzzy import process"
      ],
      "execution_count": 7,
      "outputs": [
        {
          "output_type": "stream",
          "text": [
            "Requirement already satisfied: fuzzywuzzy in /usr/local/lib/python3.6/dist-packages (0.18.0)\n",
            "Requirement already satisfied: langdetect in /usr/local/lib/python3.6/dist-packages (1.0.8)\n",
            "Requirement already satisfied: six in /usr/local/lib/python3.6/dist-packages (from langdetect) (1.12.0)\n",
            "Requirement already satisfied: stop_words in /usr/local/lib/python3.6/dist-packages (2018.7.23)\n",
            "[nltk_data] Downloading package punkt to /root/nltk_data...\n",
            "[nltk_data]   Package punkt is already up-to-date!\n",
            "[nltk_data] Downloading package stopwords to /root/nltk_data...\n",
            "[nltk_data]   Package stopwords is already up-to-date!\n"
          ],
          "name": "stdout"
        }
      ]
    },
    {
      "cell_type": "code",
      "metadata": {
        "colab_type": "code",
        "id": "I7Yy6DnqcHl1",
        "colab": {}
      },
      "source": [
        "punct = punctuation+'©«»—…“”*№– ' + digits\n",
        "stop_words_list = get_stop_words('en')\n",
        "stop_words_list2 = stopwords.words('english')\n",
        "newlist = stop_words_list + stop_words_list2\n",
        "for word in [\"свой\"]:\n",
        "    newlist.append(word)\n",
        "newlist_set = set(newlist)"
      ],
      "execution_count": 0,
      "outputs": []
    },
    {
      "cell_type": "code",
      "metadata": {
        "colab_type": "code",
        "id": "TBcxI4187zJ0",
        "colab": {}
      },
      "source": [
        "def which_language (text):\n",
        "  import re\n",
        "  if bool(re.search('[\\u0400-\\u04FF]', text)) == True:\n",
        "    return 'russian'\n",
        "  else:\n",
        "    return 'english'"
      ],
      "execution_count": 0,
      "outputs": []
    },
    {
      "cell_type": "code",
      "metadata": {
        "colab_type": "code",
        "id": "za58s9W9D8j3",
        "colab": {}
      },
      "source": [
        "teams_names_in_russian_and_english_df = pd.read_csv(\"teams names in russian and english.csv\")\n",
        "leagues_names_in_russian_and_english_df = pd.read_csv(\"leagues names in russian and english.csv\")"
      ],
      "execution_count": 0,
      "outputs": []
    },
    {
      "cell_type": "code",
      "metadata": {
        "colab_type": "code",
        "id": "toZ24JbG714i",
        "outputId": "2b03fa9b-5a00-4a6a-9bbc-c79452cce693",
        "colab": {
          "base_uri": "https://localhost:8080/",
          "height": 263
        }
      },
      "source": [
        "df = pd.read_csv('result.tar.gz', sep='\\t', error_bad_lines=False)"
      ],
      "execution_count": 11,
      "outputs": [
        {
          "output_type": "stream",
          "text": [
            "b'Skipping line 37039: expected 12 fields, saw 15\\nSkipping line 45611: expected 12 fields, saw 15\\n'\n",
            "b'Skipping line 354339: expected 12 fields, saw 18\\nSkipping line 360804: expected 12 fields, saw 102\\nSkipping line 360819: expected 12 fields, saw 78\\nSkipping line 379126: expected 12 fields, saw 14\\nSkipping line 444446: expected 12 fields, saw 16\\nSkipping line 449079: expected 12 fields, saw 16\\nSkipping line 450250: expected 12 fields, saw 15\\n'\n",
            "b'Skipping line 481374: expected 12 fields, saw 18\\nSkipping line 510619: expected 12 fields, saw 20\\nSkipping line 512271: expected 12 fields, saw 14\\nSkipping line 514317: expected 12 fields, saw 15\\nSkipping line 519707: expected 12 fields, saw 40\\n'\n",
            "b'Skipping line 538495: expected 12 fields, saw 13\\n'\n",
            "b'Skipping line 765901: expected 12 fields, saw 56\\nSkipping line 773310: expected 12 fields, saw 43\\n'\n",
            "b'Skipping line 805899: expected 12 fields, saw 13\\nSkipping line 868492: expected 12 fields, saw 21\\nSkipping line 871801: expected 12 fields, saw 16\\n'\n",
            "b'Skipping line 903099: expected 12 fields, saw 13\\nSkipping line 903150: expected 12 fields, saw 13\\nSkipping line 903155: expected 12 fields, saw 13\\nSkipping line 926112: expected 12 fields, saw 13\\n'\n",
            "b'Skipping line 952511: expected 12 fields, saw 14\\nSkipping line 954085: expected 12 fields, saw 13\\nSkipping line 956504: expected 12 fields, saw 40\\nSkipping line 981135: expected 12 fields, saw 13\\nSkipping line 983460: expected 12 fields, saw 16\\nSkipping line 985000: expected 12 fields, saw 15\\nSkipping line 986754: expected 12 fields, saw 13\\nSkipping line 986828: expected 12 fields, saw 13\\n'\n",
            "b'Skipping line 1334533: expected 12 fields, saw 13\\nSkipping line 1337066: expected 12 fields, saw 16\\nSkipping line 1343528: expected 12 fields, saw 13\\nSkipping line 1351606: expected 12 fields, saw 14\\n'\n",
            "b'Skipping line 1376142: expected 12 fields, saw 16\\nSkipping line 1376408: expected 12 fields, saw 15\\nSkipping line 1389213: expected 12 fields, saw 59\\nSkipping line 1401635: expected 12 fields, saw 23\\n'\n",
            "b'Skipping line 1762082: expected 12 fields, saw 13\\nSkipping line 1763155: expected 12 fields, saw 16\\n'\n",
            "/usr/local/lib/python3.6/dist-packages/IPython/core/interactiveshell.py:2718: DtypeWarning: Columns (3) have mixed types.Specify dtype option on import or set low_memory=False.\n",
            "  interactivity=interactivity, compiler=compiler, result=result)\n"
          ],
          "name": "stderr"
        }
      ]
    },
    {
      "cell_type": "code",
      "metadata": {
        "colab_type": "code",
        "id": "t3MM827m8BwJ",
        "colab": {}
      },
      "source": [
        "df = df.drop([\"url\", \"video_url\", \"source_name\", \"author_name\"], axis=1)"
      ],
      "execution_count": 0,
      "outputs": []
    },
    {
      "cell_type": "code",
      "metadata": {
        "colab_type": "code",
        "id": "x6xSEBzhD8ky",
        "colab": {}
      },
      "source": [
        "df['result.tsv'] = df['result.tsv'].replace(r'http\\S+', '', regex=True).replace(r'www\\S+', '', regex=True).replace(r'https\\S+', '', regex=True)\n",
        "df = df.replace('', np.NaN)\n",
        "df = df.replace('\\xa0', np.NaN)\n",
        "df = df.dropna()\n",
        "df =  df[df['result.tsv'].str.contains('[A-Za-z]')]\n",
        "df = df[df['result.tsv'].str.split().str.len().gt(1)]"
      ],
      "execution_count": 0,
      "outputs": []
    },
    {
      "cell_type": "code",
      "metadata": {
        "colab_type": "code",
        "id": "IIyWCBEq8EkD",
        "colab": {}
      },
      "source": [
        "df = df.dropna()"
      ],
      "execution_count": 0,
      "outputs": []
    },
    {
      "cell_type": "code",
      "metadata": {
        "colab_type": "code",
        "id": "xTXkiOcW8IKy",
        "colab": {}
      },
      "source": [
        "df = df.drop_duplicates()"
      ],
      "execution_count": 0,
      "outputs": []
    },
    {
      "cell_type": "code",
      "metadata": {
        "colab_type": "code",
        "id": "_jzYJuKp8LCk",
        "colab": {}
      },
      "source": [
        "df = df.reset_index(drop=True)"
      ],
      "execution_count": 0,
      "outputs": []
    },
    {
      "cell_type": "code",
      "metadata": {
        "colab_type": "code",
        "id": "O4URIes58NsG",
        "outputId": "512451f0-d5fd-4146-bc5d-5218bc750d60",
        "colab": {
          "base_uri": "https://localhost:8080/",
          "height": 626
        }
      },
      "source": [
        "df.head(5)"
      ],
      "execution_count": 17,
      "outputs": [
        {
          "output_type": "execute_result",
          "data": {
            "text/html": [
              "<div>\n",
              "<style scoped>\n",
              "    .dataframe tbody tr th:only-of-type {\n",
              "        vertical-align: middle;\n",
              "    }\n",
              "\n",
              "    .dataframe tbody tr th {\n",
              "        vertical-align: top;\n",
              "    }\n",
              "\n",
              "    .dataframe thead th {\n",
              "        text-align: right;\n",
              "    }\n",
              "</style>\n",
              "<table border=\"1\" class=\"dataframe\">\n",
              "  <thead>\n",
              "    <tr style=\"text-align: right;\">\n",
              "      <th></th>\n",
              "      <th>result.tsv</th>\n",
              "      <th>odd</th>\n",
              "      <th>tip_name</th>\n",
              "      <th>bookmaker_name</th>\n",
              "      <th>match_date_time</th>\n",
              "      <th>league_name_in_russian</th>\n",
              "      <th>team_of_season_1_name_in_russian</th>\n",
              "      <th>team_of_season_2_name_in_russian</th>\n",
              "    </tr>\n",
              "  </thead>\n",
              "  <tbody>\n",
              "    <tr>\n",
              "      <th>0</th>\n",
              "      <td>Я предполагаю ничью в этом матче с забитыми мя...</td>\n",
              "      <td>5</td>\n",
              "      <td>Арсенал забьет первым и не выиграет</td>\n",
              "      <td>1xСтавка</td>\n",
              "      <td>2019-05-09 19:00:00</td>\n",
              "      <td>Лига Европы УЕФА</td>\n",
              "      <td>Валенсия</td>\n",
              "      <td>Арсенал</td>\n",
              "    </tr>\n",
              "    <tr>\n",
              "      <th>1</th>\n",
              "      <td>Беларусь – Эстония: прогноз и ставка на матч 1...</td>\n",
              "      <td>1.9</td>\n",
              "      <td>Беларусь индивидуальный тотал больше 1,5</td>\n",
              "      <td>Пари-Матч</td>\n",
              "      <td>2019-10-10 16:00:00</td>\n",
              "      <td>Чемпионат Европы. Квалификация</td>\n",
              "      <td>Беларусь</td>\n",
              "      <td>Эстония</td>\n",
              "    </tr>\n",
              "    <tr>\n",
              "      <th>2</th>\n",
              "      <td>Украинская команда имеет отличный шанс выйти в...</td>\n",
              "      <td>1.55</td>\n",
              "      <td>Заря забьет 1 или 2 гола: да</td>\n",
              "      <td>1xСтавка</td>\n",
              "      <td>2019-08-15 17:00:00</td>\n",
              "      <td>Лига Европы УЕФА</td>\n",
              "      <td>Заря</td>\n",
              "      <td>ЦСКА София</td>\n",
              "    </tr>\n",
              "    <tr>\n",
              "      <th>3</th>\n",
              "      <td>«Сент-Миррен» в родных стенах встретится с «Аб...</td>\n",
              "      <td>2.55</td>\n",
              "      <td>«Абердин» фора (-1)</td>\n",
              "      <td>BETCITY</td>\n",
              "      <td>2019-08-11 14:00:00</td>\n",
              "      <td>Премьершип</td>\n",
              "      <td>Сент-Миррен</td>\n",
              "      <td>Абердин</td>\n",
              "    </tr>\n",
              "    <tr>\n",
              "      <th>4</th>\n",
              "      <td>На стадионе «Айброкс» состоится встреча между ...</td>\n",
              "      <td>1.97</td>\n",
              "      <td>«Абердин» фора (+1,5)</td>\n",
              "      <td>Марафон</td>\n",
              "      <td>2019-09-28 14:00:00</td>\n",
              "      <td>Премьершип</td>\n",
              "      <td>Глазго Рейнджерс</td>\n",
              "      <td>Абердин</td>\n",
              "    </tr>\n",
              "  </tbody>\n",
              "</table>\n",
              "</div>"
            ],
            "text/plain": [
              "                                          result.tsv  ... team_of_season_2_name_in_russian\n",
              "0  Я предполагаю ничью в этом матче с забитыми мя...  ...                          Арсенал\n",
              "1  Беларусь – Эстония: прогноз и ставка на матч 1...  ...                          Эстония\n",
              "2  Украинская команда имеет отличный шанс выйти в...  ...                       ЦСКА София\n",
              "3  «Сент-Миррен» в родных стенах встретится с «Аб...  ...                          Абердин\n",
              "4  На стадионе «Айброкс» состоится встреча между ...  ...                          Абердин\n",
              "\n",
              "[5 rows x 8 columns]"
            ]
          },
          "metadata": {
            "tags": []
          },
          "execution_count": 17
        }
      ]
    },
    {
      "cell_type": "code",
      "metadata": {
        "colab_type": "code",
        "id": "-4WsVXPh8VBy",
        "colab": {}
      },
      "source": [
        "lang=[]\n",
        "for i,text in enumerate(df['result.tsv'].values): \n",
        "  lang.append(which_language(str(text)))"
      ],
      "execution_count": 0,
      "outputs": []
    },
    {
      "cell_type": "code",
      "metadata": {
        "colab_type": "code",
        "id": "qQf_zDj98jTz",
        "colab": {}
      },
      "source": [
        "df['Language'] = lang"
      ],
      "execution_count": 0,
      "outputs": []
    },
    {
      "cell_type": "code",
      "metadata": {
        "colab_type": "code",
        "id": "3qQE6vL88pJs",
        "colab": {}
      },
      "source": [
        "grouped=df.groupby('Language')"
      ],
      "execution_count": 0,
      "outputs": []
    },
    {
      "cell_type": "code",
      "metadata": {
        "colab_type": "code",
        "id": "qY-1sd5S8zJ-",
        "colab": {}
      },
      "source": [
        "for name, group in grouped: \n",
        "  if name == 'english': \n",
        "    english = group.drop('Language',axis=1) \n",
        "  else: \n",
        "    russian = group.drop('Language',axis=1)"
      ],
      "execution_count": 0,
      "outputs": []
    },
    {
      "cell_type": "code",
      "metadata": {
        "colab_type": "code",
        "id": "vthWgwW-mkt8",
        "colab": {}
      },
      "source": [
        "english = pd.merge(english, teams_names_in_russian_and_english_df,  how='left', left_on=['team_of_season_1_name_in_russian'], right_on = ['team name in Russian'])\n",
        "english.rename({'English': 'team_of_season_1_name_in_english'}, axis=1, inplace=True)\n",
        "\n",
        "english = pd.merge(english, teams_names_in_russian_and_english_df,  how='left', left_on=['team_of_season_2_name_in_russian'], right_on = ['team name in Russian'])\n",
        "english.rename({'English': 'team_of_season_2_name_in_english'}, axis=1, inplace=True)\n",
        "\n",
        "english = pd.merge(english, leagues_names_in_russian_and_english_df,  how='left', left_on=['league_name_in_russian'], right_on = ['leagues name in Russian'])\n",
        "english.rename({'unique_leagues_in_english': 'league_name_in_english'}, axis=1, inplace=True)\n"
      ],
      "execution_count": 0,
      "outputs": []
    },
    {
      "cell_type": "code",
      "metadata": {
        "colab_type": "code",
        "id": "BaSDZIwnmkuQ",
        "colab": {}
      },
      "source": [
        "english.drop(['team name in Russian_x' , 'team name in Russian_y' , 'leagues name in Russian' ] , axis=1 , inplace=True)"
      ],
      "execution_count": 0,
      "outputs": []
    },
    {
      "cell_type": "code",
      "metadata": {
        "colab_type": "code",
        "id": "ereYqA_Amkug",
        "colab": {}
      },
      "source": [
        "# Here we are just re-naming the columns so one check that what's in it and interpret the information easily \n",
        "english.rename({'team name in English_x': 'team_of_season_1_name_in_english'}, axis=1, inplace=True)\n",
        "english.rename({'team name in English_y': 'team_of_season_2_name_in_english'}, axis=1, inplace=True)\n",
        "english.rename({'leagues names in English': 'league_name_in_english'}, axis=1, inplace=True)"
      ],
      "execution_count": 0,
      "outputs": []
    },
    {
      "cell_type": "code",
      "metadata": {
        "colab_type": "code",
        "id": "32-kii7Kmku1",
        "colab": {}
      },
      "source": [
        "# Here we are just setting the correct data type that english names should be string\n",
        "english['team_of_season_1_name_in_english']=english['team_of_season_1_name_in_english'].astype(str)\n",
        "english['team_of_season_2_name_in_english']=english['team_of_season_2_name_in_english'].astype(str)\n",
        "english['league_name_in_english']=english['league_name_in_english'].astype(str)"
      ],
      "execution_count": 0,
      "outputs": []
    },
    {
      "cell_type": "code",
      "metadata": {
        "colab_type": "code",
        "id": "lZkKHDbID8pH",
        "outputId": "abc93c80-2f32-4b54-95e7-8ad01d890faa",
        "colab": {
          "base_uri": "https://localhost:8080/",
          "height": 236
        }
      },
      "source": [
        "english.head(2)"
      ],
      "execution_count": 26,
      "outputs": [
        {
          "output_type": "execute_result",
          "data": {
            "text/html": [
              "<div>\n",
              "<style scoped>\n",
              "    .dataframe tbody tr th:only-of-type {\n",
              "        vertical-align: middle;\n",
              "    }\n",
              "\n",
              "    .dataframe tbody tr th {\n",
              "        vertical-align: top;\n",
              "    }\n",
              "\n",
              "    .dataframe thead th {\n",
              "        text-align: right;\n",
              "    }\n",
              "</style>\n",
              "<table border=\"1\" class=\"dataframe\">\n",
              "  <thead>\n",
              "    <tr style=\"text-align: right;\">\n",
              "      <th></th>\n",
              "      <th>result.tsv</th>\n",
              "      <th>odd</th>\n",
              "      <th>tip_name</th>\n",
              "      <th>bookmaker_name</th>\n",
              "      <th>match_date_time</th>\n",
              "      <th>league_name_in_russian</th>\n",
              "      <th>team_of_season_1_name_in_russian</th>\n",
              "      <th>team_of_season_2_name_in_russian</th>\n",
              "      <th>team_of_season_1_name_in_english</th>\n",
              "      <th>team_of_season_2_name_in_english</th>\n",
              "      <th>league_name_in_english</th>\n",
              "    </tr>\n",
              "  </thead>\n",
              "  <tbody>\n",
              "    <tr>\n",
              "      <th>0</th>\n",
              "      <td>Middlesbrough have woken to good times in thei...</td>\n",
              "      <td>7</td>\n",
              "      <td>0-0</td>\n",
              "      <td>bet365</td>\n",
              "      <td>2019-04-19 14:00:00</td>\n",
              "      <td>Чемпионшип</td>\n",
              "      <td>Мидлсбро</td>\n",
              "      <td>Сток Сити</td>\n",
              "      <td>Middlesbrough</td>\n",
              "      <td>Stoke City</td>\n",
              "      <td>Championship</td>\n",
              "    </tr>\n",
              "    <tr>\n",
              "      <th>1</th>\n",
              "      <td>Wolves prefer to attack with pace on the count...</td>\n",
              "      <td>7.5</td>\n",
              "      <td>0-0</td>\n",
              "      <td>bet365</td>\n",
              "      <td>2019-04-20 14:00:00</td>\n",
              "      <td>Премьер-лига</td>\n",
              "      <td>Вулверхэмптон</td>\n",
              "      <td>Брайтон</td>\n",
              "      <td>Wolverhampton</td>\n",
              "      <td>Brighton</td>\n",
              "      <td>Premier League</td>\n",
              "    </tr>\n",
              "  </tbody>\n",
              "</table>\n",
              "</div>"
            ],
            "text/plain": [
              "                                          result.tsv  ... league_name_in_english\n",
              "0  Middlesbrough have woken to good times in thei...  ...           Championship\n",
              "1  Wolves prefer to attack with pace on the count...  ...         Premier League\n",
              "\n",
              "[2 rows x 11 columns]"
            ]
          },
          "metadata": {
            "tags": []
          },
          "execution_count": 26
        }
      ]
    },
    {
      "cell_type": "code",
      "metadata": {
        "colab_type": "code",
        "id": "T9vCZg8Tf2qT",
        "outputId": "44b7f3b8-99c3-4fc3-d0c0-16e98ed33705",
        "colab": {
          "base_uri": "https://localhost:8080/",
          "height": 34
        }
      },
      "source": [
        "unique_leagues = english['league_name_in_russian'].unique().tolist()\n",
        "len(unique_leagues)"
      ],
      "execution_count": 27,
      "outputs": [
        {
          "output_type": "execute_result",
          "data": {
            "text/plain": [
              "86"
            ]
          },
          "metadata": {
            "tags": []
          },
          "execution_count": 27
        }
      ]
    },
    {
      "cell_type": "code",
      "metadata": {
        "colab_type": "code",
        "id": "mkYWQb3of8wS",
        "outputId": "f84d16fd-61bf-4966-a8be-4eb0540de5b7",
        "colab": {
          "base_uri": "https://localhost:8080/",
          "height": 34
        }
      },
      "source": [
        "unique_teams1 = english['team_of_season_1_name_in_russian'].unique().tolist()\n",
        "len(unique_teams1)"
      ],
      "execution_count": 28,
      "outputs": [
        {
          "output_type": "execute_result",
          "data": {
            "text/plain": [
              "1261"
            ]
          },
          "metadata": {
            "tags": []
          },
          "execution_count": 28
        }
      ]
    },
    {
      "cell_type": "code",
      "metadata": {
        "colab_type": "code",
        "id": "8Qny2n3DgCAL",
        "outputId": "2d3f5801-4ed1-49a3-d7ed-e163f825e3c8",
        "colab": {
          "base_uri": "https://localhost:8080/",
          "height": 34
        }
      },
      "source": [
        "unique_teams2 = english['team_of_season_2_name_in_russian'].unique().tolist()\n",
        "len(unique_teams2)"
      ],
      "execution_count": 29,
      "outputs": [
        {
          "output_type": "execute_result",
          "data": {
            "text/plain": [
              "1290"
            ]
          },
          "metadata": {
            "tags": []
          },
          "execution_count": 29
        }
      ]
    },
    {
      "cell_type": "code",
      "metadata": {
        "colab_type": "code",
        "id": "s4cojP_EgH5i",
        "outputId": "16a51577-8012-40f0-b9dc-608cb362460f",
        "colab": {
          "base_uri": "https://localhost:8080/",
          "height": 34
        }
      },
      "source": [
        "unique_teams = unique_teams1 + unique_teams2\n",
        "unique_teams_set = set(unique_teams)\n",
        "len(unique_teams_set)"
      ],
      "execution_count": 30,
      "outputs": [
        {
          "output_type": "execute_result",
          "data": {
            "text/plain": [
              "1400"
            ]
          },
          "metadata": {
            "tags": []
          },
          "execution_count": 30
        }
      ]
    },
    {
      "cell_type": "code",
      "metadata": {
        "colab_type": "code",
        "id": "URm9W3hygMQY",
        "colab": {}
      },
      "source": [
        "english = pd.read_csv('english_custom_lists_and_directmatch.csv')"
      ],
      "execution_count": 0,
      "outputs": []
    },
    {
      "cell_type": "code",
      "metadata": {
        "colab_type": "code",
        "id": "WPlX8obhgVL4",
        "colab": {}
      },
      "source": [
        "english = english[english['result.tsv'].map(len) > 30]"
      ],
      "execution_count": 0,
      "outputs": []
    },
    {
      "cell_type": "code",
      "metadata": {
        "colab_type": "code",
        "id": "ukw7DqongeK9",
        "colab": {}
      },
      "source": [
        "english = english.reset_index(drop=True)"
      ],
      "execution_count": 0,
      "outputs": []
    },
    {
      "cell_type": "code",
      "metadata": {
        "colab_type": "code",
        "id": "iCTnmpG2gkgi",
        "colab": {
          "base_uri": "https://localhost:8080/",
          "height": 34
        },
        "outputId": "19c598b4-76e5-40b3-ab34-e291064d49f5"
      },
      "source": [
        "english.shape"
      ],
      "execution_count": 34,
      "outputs": [
        {
          "output_type": "execute_result",
          "data": {
            "text/plain": [
              "(87756, 13)"
            ]
          },
          "metadata": {
            "tags": []
          },
          "execution_count": 34
        }
      ]
    },
    {
      "cell_type": "code",
      "metadata": {
        "colab_type": "code",
        "id": "JqGiY9Jtgo3Z",
        "colab": {
          "base_uri": "https://localhost:8080/",
          "height": 320
        },
        "outputId": "73e82525-33f4-4d8f-fa54-6899cdc7b6ce"
      },
      "source": [
        "english.head(3)"
      ],
      "execution_count": 35,
      "outputs": [
        {
          "output_type": "execute_result",
          "data": {
            "text/html": [
              "<div>\n",
              "<style scoped>\n",
              "    .dataframe tbody tr th:only-of-type {\n",
              "        vertical-align: middle;\n",
              "    }\n",
              "\n",
              "    .dataframe tbody tr th {\n",
              "        vertical-align: top;\n",
              "    }\n",
              "\n",
              "    .dataframe thead th {\n",
              "        text-align: right;\n",
              "    }\n",
              "</style>\n",
              "<table border=\"1\" class=\"dataframe\">\n",
              "  <thead>\n",
              "    <tr style=\"text-align: right;\">\n",
              "      <th></th>\n",
              "      <th>result.tsv</th>\n",
              "      <th>odd</th>\n",
              "      <th>tip_name</th>\n",
              "      <th>bookmaker_name</th>\n",
              "      <th>match_date_time</th>\n",
              "      <th>league_name_in_russian</th>\n",
              "      <th>team_of_season_1_name_in_russian</th>\n",
              "      <th>team_of_season_2_name_in_russian</th>\n",
              "      <th>team_of_season_1_name_in_english</th>\n",
              "      <th>team_of_season_2_name_in_english</th>\n",
              "      <th>league_name_in_english</th>\n",
              "      <th>list_direct_match_for_teams1</th>\n",
              "      <th>list_direct_match_for_teams2</th>\n",
              "    </tr>\n",
              "  </thead>\n",
              "  <tbody>\n",
              "    <tr>\n",
              "      <th>0</th>\n",
              "      <td>Middlesbrough have woken to good times in thei...</td>\n",
              "      <td>7.0</td>\n",
              "      <td>0-0</td>\n",
              "      <td>bet365</td>\n",
              "      <td>2019-04-19 14:00:00</td>\n",
              "      <td>Чемпионшип</td>\n",
              "      <td>Мидлсбро</td>\n",
              "      <td>Сток Сити</td>\n",
              "      <td>Middlesbrough</td>\n",
              "      <td>Stoke City</td>\n",
              "      <td>Championship</td>\n",
              "      <td>0.0</td>\n",
              "      <td>0.0</td>\n",
              "    </tr>\n",
              "    <tr>\n",
              "      <th>1</th>\n",
              "      <td>Wolves prefer to attack with pace on the count...</td>\n",
              "      <td>7.5</td>\n",
              "      <td>0-0</td>\n",
              "      <td>bet365</td>\n",
              "      <td>2019-04-20 14:00:00</td>\n",
              "      <td>Премьер-лига</td>\n",
              "      <td>Вулверхэмптон</td>\n",
              "      <td>Брайтон</td>\n",
              "      <td>Wolverhampton</td>\n",
              "      <td>Brighton</td>\n",
              "      <td>Premier League</td>\n",
              "      <td>0.0</td>\n",
              "      <td>0.0</td>\n",
              "    </tr>\n",
              "    <tr>\n",
              "      <th>2</th>\n",
              "      <td>In my opinion a 0-0 draw is quite likely betwe...</td>\n",
              "      <td>13.0</td>\n",
              "      <td>0-0</td>\n",
              "      <td>bet365</td>\n",
              "      <td>2019-04-18 19:00:00</td>\n",
              "      <td>Лига Европы УЕФА</td>\n",
              "      <td>Валенсия</td>\n",
              "      <td>Вильярреал</td>\n",
              "      <td>Valencia</td>\n",
              "      <td>Villarreal</td>\n",
              "      <td>UEFA Europa League</td>\n",
              "      <td>0.0</td>\n",
              "      <td>0.0</td>\n",
              "    </tr>\n",
              "  </tbody>\n",
              "</table>\n",
              "</div>"
            ],
            "text/plain": [
              "                                          result.tsv  ...  list_direct_match_for_teams2\n",
              "0  Middlesbrough have woken to good times in thei...  ...                           0.0\n",
              "1  Wolves prefer to attack with pace on the count...  ...                           0.0\n",
              "2  In my opinion a 0-0 draw is quite likely betwe...  ...                           0.0\n",
              "\n",
              "[3 rows x 13 columns]"
            ]
          },
          "metadata": {
            "tags": []
          },
          "execution_count": 35
        }
      ]
    },
    {
      "cell_type": "code",
      "metadata": {
        "colab_type": "code",
        "id": "AA4xNwOlgunp",
        "colab": {
          "base_uri": "https://localhost:8080/",
          "height": 608
        },
        "outputId": "18caf0fa-4415-466a-f063-c3632f027fb6"
      },
      "source": [
        "subset_english = english.sample(n=10000)\n",
        "subset_english.head(5)"
      ],
      "execution_count": 36,
      "outputs": [
        {
          "output_type": "execute_result",
          "data": {
            "text/html": [
              "<div>\n",
              "<style scoped>\n",
              "    .dataframe tbody tr th:only-of-type {\n",
              "        vertical-align: middle;\n",
              "    }\n",
              "\n",
              "    .dataframe tbody tr th {\n",
              "        vertical-align: top;\n",
              "    }\n",
              "\n",
              "    .dataframe thead th {\n",
              "        text-align: right;\n",
              "    }\n",
              "</style>\n",
              "<table border=\"1\" class=\"dataframe\">\n",
              "  <thead>\n",
              "    <tr style=\"text-align: right;\">\n",
              "      <th></th>\n",
              "      <th>result.tsv</th>\n",
              "      <th>odd</th>\n",
              "      <th>tip_name</th>\n",
              "      <th>bookmaker_name</th>\n",
              "      <th>match_date_time</th>\n",
              "      <th>league_name_in_russian</th>\n",
              "      <th>team_of_season_1_name_in_russian</th>\n",
              "      <th>team_of_season_2_name_in_russian</th>\n",
              "      <th>team_of_season_1_name_in_english</th>\n",
              "      <th>team_of_season_2_name_in_english</th>\n",
              "      <th>league_name_in_english</th>\n",
              "      <th>list_direct_match_for_teams1</th>\n",
              "      <th>list_direct_match_for_teams2</th>\n",
              "    </tr>\n",
              "  </thead>\n",
              "  <tbody>\n",
              "    <tr>\n",
              "      <th>55698</th>\n",
              "      <td>Morecambe scored twice in last home match and ...</td>\n",
              "      <td>3.16</td>\n",
              "      <td>W1</td>\n",
              "      <td>bet365</td>\n",
              "      <td>2019-09-07 14:00:00</td>\n",
              "      <td>Вторая Лига</td>\n",
              "      <td>Моркам</td>\n",
              "      <td>Салфорд Сити</td>\n",
              "      <td>Morecambe</td>\n",
              "      <td>Salford City</td>\n",
              "      <td>League Two</td>\n",
              "      <td>0.0</td>\n",
              "      <td>0.0</td>\n",
              "    </tr>\n",
              "    <tr>\n",
              "      <th>74744</th>\n",
              "      <td>Napoli made a great start to their Champions L...</td>\n",
              "      <td>1.44</td>\n",
              "      <td>W2</td>\n",
              "      <td>bet365</td>\n",
              "      <td>2019-10-02 16:55:00</td>\n",
              "      <td>Лига чемпионов УЕФА</td>\n",
              "      <td>Генк</td>\n",
              "      <td>Наполи</td>\n",
              "      <td>Genk</td>\n",
              "      <td>Napoli</td>\n",
              "      <td>UEFA Champions League</td>\n",
              "      <td>0.0</td>\n",
              "      <td>0.0</td>\n",
              "    </tr>\n",
              "    <tr>\n",
              "      <th>4588</th>\n",
              "      <td>Fantastic game between two very attacking team...</td>\n",
              "      <td>22.00</td>\n",
              "      <td>2-3</td>\n",
              "      <td>bet365</td>\n",
              "      <td>2019-04-28 19:30:00</td>\n",
              "      <td>МЛС</td>\n",
              "      <td>Сиэтл Саундерз</td>\n",
              "      <td>ФК Лос-Анджелес</td>\n",
              "      <td>Seattle Saunders</td>\n",
              "      <td>FC Los Angeles</td>\n",
              "      <td>MLS</td>\n",
              "      <td>0.0</td>\n",
              "      <td>0.0</td>\n",
              "    </tr>\n",
              "    <tr>\n",
              "      <th>67987</th>\n",
              "      <td>Mjondalen have won two and drawn two recently ...</td>\n",
              "      <td>2.90</td>\n",
              "      <td>W2</td>\n",
              "      <td>bet365</td>\n",
              "      <td>2019-06-30 16:00:00</td>\n",
              "      <td>Элитсерия</td>\n",
              "      <td>ФК Мьёндален</td>\n",
              "      <td>ФК Викинг</td>\n",
              "      <td>FC mjøndalen if</td>\n",
              "      <td>Viking FK</td>\n",
              "      <td>Elitserien</td>\n",
              "      <td>0.0</td>\n",
              "      <td>0.0</td>\n",
              "    </tr>\n",
              "    <tr>\n",
              "      <th>15142</th>\n",
              "      <td>I. Perisic - two scored goals in last four mat...</td>\n",
              "      <td>6.00</td>\n",
              "      <td>First Goalscorer: Ivan Perisic</td>\n",
              "      <td>bet365</td>\n",
              "      <td>2019-09-09 16:00:00</td>\n",
              "      <td>Чемпионат Европы. Квалификация</td>\n",
              "      <td>Азербайджан</td>\n",
              "      <td>Хорватия</td>\n",
              "      <td>Azerbaijan</td>\n",
              "      <td>Croatia</td>\n",
              "      <td>Europe championship. Qualification</td>\n",
              "      <td>0.0</td>\n",
              "      <td>0.0</td>\n",
              "    </tr>\n",
              "  </tbody>\n",
              "</table>\n",
              "</div>"
            ],
            "text/plain": [
              "                                              result.tsv  ...  list_direct_match_for_teams2\n",
              "55698  Morecambe scored twice in last home match and ...  ...                           0.0\n",
              "74744  Napoli made a great start to their Champions L...  ...                           0.0\n",
              "4588   Fantastic game between two very attacking team...  ...                           0.0\n",
              "67987  Mjondalen have won two and drawn two recently ...  ...                           0.0\n",
              "15142  I. Perisic - two scored goals in last four mat...  ...                           0.0\n",
              "\n",
              "[5 rows x 13 columns]"
            ]
          },
          "metadata": {
            "tags": []
          },
          "execution_count": 36
        }
      ]
    },
    {
      "cell_type": "code",
      "metadata": {
        "colab_type": "code",
        "id": "vnRVbhX2g_PE",
        "colab": {
          "base_uri": "https://localhost:8080/",
          "height": 608
        },
        "outputId": "04413788-cbce-48b5-b4cf-5b689ba0f5a7"
      },
      "source": [
        "subset_english = subset_english.reset_index(drop=True)\n",
        "subset_english.head(5)"
      ],
      "execution_count": 37,
      "outputs": [
        {
          "output_type": "execute_result",
          "data": {
            "text/html": [
              "<div>\n",
              "<style scoped>\n",
              "    .dataframe tbody tr th:only-of-type {\n",
              "        vertical-align: middle;\n",
              "    }\n",
              "\n",
              "    .dataframe tbody tr th {\n",
              "        vertical-align: top;\n",
              "    }\n",
              "\n",
              "    .dataframe thead th {\n",
              "        text-align: right;\n",
              "    }\n",
              "</style>\n",
              "<table border=\"1\" class=\"dataframe\">\n",
              "  <thead>\n",
              "    <tr style=\"text-align: right;\">\n",
              "      <th></th>\n",
              "      <th>result.tsv</th>\n",
              "      <th>odd</th>\n",
              "      <th>tip_name</th>\n",
              "      <th>bookmaker_name</th>\n",
              "      <th>match_date_time</th>\n",
              "      <th>league_name_in_russian</th>\n",
              "      <th>team_of_season_1_name_in_russian</th>\n",
              "      <th>team_of_season_2_name_in_russian</th>\n",
              "      <th>team_of_season_1_name_in_english</th>\n",
              "      <th>team_of_season_2_name_in_english</th>\n",
              "      <th>league_name_in_english</th>\n",
              "      <th>list_direct_match_for_teams1</th>\n",
              "      <th>list_direct_match_for_teams2</th>\n",
              "    </tr>\n",
              "  </thead>\n",
              "  <tbody>\n",
              "    <tr>\n",
              "      <th>0</th>\n",
              "      <td>Morecambe scored twice in last home match and ...</td>\n",
              "      <td>3.16</td>\n",
              "      <td>W1</td>\n",
              "      <td>bet365</td>\n",
              "      <td>2019-09-07 14:00:00</td>\n",
              "      <td>Вторая Лига</td>\n",
              "      <td>Моркам</td>\n",
              "      <td>Салфорд Сити</td>\n",
              "      <td>Morecambe</td>\n",
              "      <td>Salford City</td>\n",
              "      <td>League Two</td>\n",
              "      <td>0.0</td>\n",
              "      <td>0.0</td>\n",
              "    </tr>\n",
              "    <tr>\n",
              "      <th>1</th>\n",
              "      <td>Napoli made a great start to their Champions L...</td>\n",
              "      <td>1.44</td>\n",
              "      <td>W2</td>\n",
              "      <td>bet365</td>\n",
              "      <td>2019-10-02 16:55:00</td>\n",
              "      <td>Лига чемпионов УЕФА</td>\n",
              "      <td>Генк</td>\n",
              "      <td>Наполи</td>\n",
              "      <td>Genk</td>\n",
              "      <td>Napoli</td>\n",
              "      <td>UEFA Champions League</td>\n",
              "      <td>0.0</td>\n",
              "      <td>0.0</td>\n",
              "    </tr>\n",
              "    <tr>\n",
              "      <th>2</th>\n",
              "      <td>Fantastic game between two very attacking team...</td>\n",
              "      <td>22.00</td>\n",
              "      <td>2-3</td>\n",
              "      <td>bet365</td>\n",
              "      <td>2019-04-28 19:30:00</td>\n",
              "      <td>МЛС</td>\n",
              "      <td>Сиэтл Саундерз</td>\n",
              "      <td>ФК Лос-Анджелес</td>\n",
              "      <td>Seattle Saunders</td>\n",
              "      <td>FC Los Angeles</td>\n",
              "      <td>MLS</td>\n",
              "      <td>0.0</td>\n",
              "      <td>0.0</td>\n",
              "    </tr>\n",
              "    <tr>\n",
              "      <th>3</th>\n",
              "      <td>Mjondalen have won two and drawn two recently ...</td>\n",
              "      <td>2.90</td>\n",
              "      <td>W2</td>\n",
              "      <td>bet365</td>\n",
              "      <td>2019-06-30 16:00:00</td>\n",
              "      <td>Элитсерия</td>\n",
              "      <td>ФК Мьёндален</td>\n",
              "      <td>ФК Викинг</td>\n",
              "      <td>FC mjøndalen if</td>\n",
              "      <td>Viking FK</td>\n",
              "      <td>Elitserien</td>\n",
              "      <td>0.0</td>\n",
              "      <td>0.0</td>\n",
              "    </tr>\n",
              "    <tr>\n",
              "      <th>4</th>\n",
              "      <td>I. Perisic - two scored goals in last four mat...</td>\n",
              "      <td>6.00</td>\n",
              "      <td>First Goalscorer: Ivan Perisic</td>\n",
              "      <td>bet365</td>\n",
              "      <td>2019-09-09 16:00:00</td>\n",
              "      <td>Чемпионат Европы. Квалификация</td>\n",
              "      <td>Азербайджан</td>\n",
              "      <td>Хорватия</td>\n",
              "      <td>Azerbaijan</td>\n",
              "      <td>Croatia</td>\n",
              "      <td>Europe championship. Qualification</td>\n",
              "      <td>0.0</td>\n",
              "      <td>0.0</td>\n",
              "    </tr>\n",
              "  </tbody>\n",
              "</table>\n",
              "</div>"
            ],
            "text/plain": [
              "                                          result.tsv  ...  list_direct_match_for_teams2\n",
              "0  Morecambe scored twice in last home match and ...  ...                           0.0\n",
              "1  Napoli made a great start to their Champions L...  ...                           0.0\n",
              "2  Fantastic game between two very attacking team...  ...                           0.0\n",
              "3  Mjondalen have won two and drawn two recently ...  ...                           0.0\n",
              "4  I. Perisic - two scored goals in last four mat...  ...                           0.0\n",
              "\n",
              "[5 rows x 13 columns]"
            ]
          },
          "metadata": {
            "tags": []
          },
          "execution_count": 37
        }
      ]
    },
    {
      "cell_type": "markdown",
      "metadata": {
        "colab_type": "text",
        "id": "l1sMcPC_hMDE"
      },
      "source": [
        "Team 1:"
      ]
    },
    {
      "cell_type": "code",
      "metadata": {
        "colab_type": "code",
        "id": "145yP4M6hOMq",
        "colab": {
          "base_uri": "https://localhost:8080/",
          "height": 124
        },
        "outputId": "163458e4-998c-4fc3-efac-5b4861be6d71"
      },
      "source": [
        "for i, text in tqdm(enumerate(subset_english['result.tsv'].values)):\n",
        "    if subset_english['list_direct_match_for_teams1'][i] == 1:\n",
        "        continue\n",
        "    else:\n",
        "        #print(i)\n",
        "        capital_words_en = re.findall(r'([A-Z][a-z]+)', text)\n",
        "        quotes = re.findall(r'\\\"(.+?)\\\"', text)\n",
        "        quotes2 = re.findall(r'«(.+?)»', text)\n",
        "        quotes3 = re.findall(r'\\'(.+?)\\'', text)\n",
        "        search_words = capital_words_en + quotes + quotes2 + quotes3\n",
        "        search_words = set(search_words)\n",
        "        good_words = [word for word in search_words if word.lower() not in newlist_set] \n",
        "        #print(good_words)\n",
        "    \n",
        "        for word in good_words:\n",
        "            for team in unique_teams:\n",
        "                if fuzz.ratio(word, team) > 85:\n",
        "                    #print(english['team_of_season_2_name_in_russian'][i], word, team, fuzz.ratio(word, team))\n",
        "                    subset_english['list_direct_match_for_teams1'][i] = 1\n",
        "\n",
        "                    break"
      ],
      "execution_count": 38,
      "outputs": [
        {
          "output_type": "stream",
          "text": [
            "137it [00:15, 11.47it/s]/usr/local/lib/python3.6/dist-packages/ipykernel_launcher.py:19: SettingWithCopyWarning: \n",
            "A value is trying to be set on a copy of a slice from a DataFrame\n",
            "\n",
            "See the caveats in the documentation: https://pandas.pydata.org/pandas-docs/stable/user_guide/indexing.html#returning-a-view-versus-a-copy\n",
            "10000it [21:03,  7.92it/s]\n"
          ],
          "name": "stderr"
        }
      ]
    },
    {
      "cell_type": "code",
      "metadata": {
        "colab_type": "code",
        "id": "8BINa6Wwhosk",
        "colab": {
          "base_uri": "https://localhost:8080/",
          "height": 69
        },
        "outputId": "8e504bb8-5459-414e-fc5e-d4b91e1efc17"
      },
      "source": [
        "success = subset_english[subset_english['list_direct_match_for_teams1'] == 1].shape[0]\n",
        "print(success)\n",
        "all_vals = subset_english['list_direct_match_for_teams1'].shape[0]\n",
        "print(all_vals)\n",
        "baseline_team1 = success / all_vals\n",
        "print(baseline_team1)"
      ],
      "execution_count": 39,
      "outputs": [
        {
          "output_type": "stream",
          "text": [
            "58\n",
            "10000\n",
            "0.0058\n"
          ],
          "name": "stdout"
        }
      ]
    },
    {
      "cell_type": "code",
      "metadata": {
        "colab_type": "code",
        "id": "6bLZj15kh7pR",
        "colab": {
          "base_uri": "https://localhost:8080/",
          "height": 34
        },
        "outputId": "1c19f27d-4f27-4a26-d922-a8bf7b5e9301"
      },
      "source": [
        "for i, text in tqdm(enumerate(subset_english['result.tsv'].values)):\n",
        "    if subset_english['list_direct_match_for_teams1'][i] == 1:\n",
        "        continue\n",
        "    else:\n",
        "        #print(i)\n",
        "        capital_words_ru = re.findall(r'([A-Z][a-z]+)', text)\n",
        "        quotes = re.findall(r'\\\"(.+?)\\\"', text)\n",
        "        quotes2 = re.findall(r'«(.+?)»', text)\n",
        "        quotes3 = re.findall(r'\\'(.+?)\\'', text)\n",
        "        search_words = capital_words_en + quotes + quotes2 + quotes3\n",
        "        search_words = set(search_words)\n",
        "        good_words = [word for word in search_words if word.lower() not in newlist_set] \n",
        "#         print(i, good_words)\n",
        "#         print(subset_english['team_of_season_1_name_in_russian'][i])\n",
        "        \n",
        "    \n",
        "        for word in good_words:\n",
        "            for team in unique_teams:\n",
        "                if fuzz.ratio(word, team) > 65 and fuzz.ratio(word, subset_english['team_of_season_1_name_in_russian'][i]) > 65:\n",
        "#                     print(subset_english['team_of_season_1_name_in_russian'][i], word, team, fuzz.ratio(word, team))\n",
        "                    subset_english['list_direct_match_for_teams1'][i] = 1\n",
        "\n",
        "                    break"
      ],
      "execution_count": 40,
      "outputs": [
        {
          "output_type": "stream",
          "text": [
            "10000it [31:44,  5.25it/s]\n"
          ],
          "name": "stderr"
        }
      ]
    },
    {
      "cell_type": "code",
      "metadata": {
        "colab_type": "code",
        "id": "C-bRDe2finMD",
        "colab": {
          "base_uri": "https://localhost:8080/",
          "height": 69
        },
        "outputId": "1d4492c2-b82d-4dad-892c-feedea7870a1"
      },
      "source": [
        "success = subset_english[subset_english['list_direct_match_for_teams1'] == 1].shape[0]\n",
        "print(success)\n",
        "all_vals = subset_english['list_direct_match_for_teams1'].shape[0]\n",
        "print(all_vals)\n",
        "baseline_team1 = success / all_vals\n",
        "print(baseline_team1)"
      ],
      "execution_count": 41,
      "outputs": [
        {
          "output_type": "stream",
          "text": [
            "58\n",
            "10000\n",
            "0.0058\n"
          ],
          "name": "stdout"
        }
      ]
    },
    {
      "cell_type": "markdown",
      "metadata": {
        "colab_type": "text",
        "id": "SWHpoFqii5eO"
      },
      "source": [
        "Team2:"
      ]
    },
    {
      "cell_type": "code",
      "metadata": {
        "colab_type": "code",
        "id": "Fat54Iqpi7VJ",
        "colab": {
          "base_uri": "https://localhost:8080/",
          "height": 34
        },
        "outputId": "026f7191-a367-411b-99db-ff106fbe5ea9"
      },
      "source": [
        "for i, text in tqdm(enumerate(subset_english['result.tsv'].values)):\n",
        "    if subset_english['list_direct_match_for_teams2'][i] == 1:\n",
        "        continue\n",
        "    else:\n",
        "        #print(i)\n",
        "        capital_words_ru = re.findall(r'([A-Z][a-z]+)', text)\n",
        "        quotes = re.findall(r'\\\"(.+?)\\\"', text)\n",
        "        quotes2 = re.findall(r'«(.+?)»', text)\n",
        "        quotes3 = re.findall(r'\\'(.+?)\\'', text)\n",
        "        search_words = capital_words_en + quotes + quotes2 + quotes3\n",
        "        search_words = set(search_words)\n",
        "        good_words = [word for word in search_words if word.lower() not in newlist_set] \n",
        "        #print(good_words)\n",
        "    \n",
        "        for word in good_words:\n",
        "            for team in unique_teams:\n",
        "                if fuzz.ratio(word, team) > 85 and subset_russian['team_of_season_2_name_in_russian'][i] == word:\n",
        "                    #print(english['team_of_season_2_name_in_russian'][i], word, team, fuzz.ratio(word, team))\n",
        "                    subset_english['list_direct_match_for_teams2'][i] = 1\n",
        "\n",
        "                    break"
      ],
      "execution_count": 42,
      "outputs": [
        {
          "output_type": "stream",
          "text": [
            "10000it [31:58,  5.21it/s]\n"
          ],
          "name": "stderr"
        }
      ]
    },
    {
      "cell_type": "code",
      "metadata": {
        "colab_type": "code",
        "id": "SE_ijrG5jDug",
        "colab": {
          "base_uri": "https://localhost:8080/",
          "height": 69
        },
        "outputId": "09a29531-7f25-4a02-d951-929986ae60ad"
      },
      "source": [
        "success = subset_english[subset_english['list_direct_match_for_teams2'] == 1].shape[0]\n",
        "print(success)\n",
        "all_vals = subset_english['list_direct_match_for_teams2'].shape[0]\n",
        "print(all_vals)\n",
        "baseline_team2 = success / all_vals\n",
        "print(baseline_team2)"
      ],
      "execution_count": 43,
      "outputs": [
        {
          "output_type": "stream",
          "text": [
            "3\n",
            "10000\n",
            "0.0003\n"
          ],
          "name": "stdout"
        }
      ]
    },
    {
      "cell_type": "code",
      "metadata": {
        "colab_type": "code",
        "id": "tdH8hXmMjIQw",
        "colab": {
          "base_uri": "https://localhost:8080/",
          "height": 34
        },
        "outputId": "26cff30d-33af-4a46-a725-4c69dc08f865"
      },
      "source": [
        "for i, text in tqdm(enumerate(subset_english['result.tsv'].values)):\n",
        "    if subset_english['list_direct_match_for_teams2'][i] == 1:\n",
        "        continue\n",
        "    else:\n",
        "        #print(i)\n",
        "        capital_words_ru = re.findall(r'([A-Z][a-z]+)', text)\n",
        "        quotes = re.findall(r'\\\"(.+?)\\\"', text)\n",
        "        quotes2 = re.findall(r'«(.+?)»', text)\n",
        "        quotes3 = re.findall(r'\\'(.+?)\\'', text)\n",
        "        search_words = capital_words_en + quotes + quotes2 + quotes3\n",
        "        search_words = set(search_words)\n",
        "        good_words = [word for word in search_words if word.lower() not in newlist_set] \n",
        "        #print(good_words)\n",
        "    \n",
        "        for word in good_words:\n",
        "            for team in unique_teams:\n",
        "                if fuzz.ratio(word, team) > 65 and fuzz.ratio(word, subset_english['team_of_season_2_name_in_russian'][i]) > 65:                    #print(russian['team_of_season_2_name_in_russian'][i], word, team, fuzz.ratio(word, team))\n",
        "                    subset_english['list_direct_match_for_teams2'][i] = 1\n",
        "\n",
        "                    break"
      ],
      "execution_count": 44,
      "outputs": [
        {
          "output_type": "stream",
          "text": [
            "10000it [31:39,  5.27it/s]\n"
          ],
          "name": "stderr"
        }
      ]
    },
    {
      "cell_type": "code",
      "metadata": {
        "colab_type": "code",
        "id": "Sli9SLmrjOJe",
        "colab": {
          "base_uri": "https://localhost:8080/",
          "height": 69
        },
        "outputId": "3f7be65a-ca2e-43f1-df1e-f40a7f84af38"
      },
      "source": [
        "success = subset_english[subset_english['list_direct_match_for_teams2'] == 1].shape[0]\n",
        "print(success)\n",
        "all_vals = subset_english['list_direct_match_for_teams2'].shape[0]\n",
        "print(all_vals)\n",
        "baseline_team2 = success / all_vals\n",
        "print(baseline_team2)"
      ],
      "execution_count": 45,
      "outputs": [
        {
          "output_type": "stream",
          "text": [
            "3\n",
            "10000\n",
            "0.0003\n"
          ],
          "name": "stdout"
        }
      ]
    },
    {
      "cell_type": "code",
      "metadata": {
        "colab_type": "code",
        "id": "MEXwv01YjR_H",
        "colab": {}
      },
      "source": [
        "subset_english.to_csv('fuzzylistsnew20106.csv', index = False)"
      ],
      "execution_count": 0,
      "outputs": []
    },
    {
      "cell_type": "markdown",
      "metadata": {
        "colab_type": "text",
        "id": "uHhXTf4QjZ8l"
      },
      "source": [
        "League:"
      ]
    },
    {
      "cell_type": "code",
      "metadata": {
        "colab_type": "code",
        "id": "2Cy_fg_NjcCy",
        "colab": {}
      },
      "source": [
        "leagues_match = np.zeros(subset_english.shape[0])"
      ],
      "execution_count": 0,
      "outputs": []
    },
    {
      "cell_type": "code",
      "metadata": {
        "colab_type": "code",
        "id": "DsQrRp5CkyQG",
        "colab": {
          "base_uri": "https://localhost:8080/",
          "height": 34
        },
        "outputId": "2af1eba6-f3d6-4580-92a1-90ef8c30f70e"
      },
      "source": [
        "for i, text in tqdm(enumerate(subset_english['result.tsv'].values)):\n",
        "    #print(i)\n",
        "    capital_words_ru = re.findall(r'([A-Z][a-z]+)', text)\n",
        "    quotes = re.findall(r'\\\"(.+?)\\\"', text)\n",
        "    quotes2 = re.findall(r'«(.+?)»', text)\n",
        "    quotes3 = re.findall(r'\\'(.+?)\\'', text)\n",
        "    search_words = capital_words_en + quotes + quotes2 + quotes3\n",
        "    search_words = set(search_words)\n",
        "    good_words = [word for word in search_words if word.lower() not in newlist_set] \n",
        "    #print(good_words)\n",
        "    \n",
        "    for word in good_words:\n",
        "        for league in unique_leagues:\n",
        "            if fuzz.ratio(word, league) > 50 and fuzz.ratio(word, subset_english['league_name_in_russian'][i]) > 50:\n",
        "                print(subset_english['league_name_in_russian'][i], word, league, fuzz.ratio(word, league))\n",
        "                #print('yes')\n",
        "                leagues_match[i] = 1\n",
        "\n",
        "                break"
      ],
      "execution_count": 48,
      "outputs": [
        {
          "output_type": "stream",
          "text": [
            "10000it [01:13, 136.67it/s]\n"
          ],
          "name": "stderr"
        }
      ]
    },
    {
      "cell_type": "code",
      "metadata": {
        "colab_type": "code",
        "id": "sp3t2oYGk2pR",
        "colab": {}
      },
      "source": [
        "subset_english['list_fuzzy_match_for_league'] = leagues_match"
      ],
      "execution_count": 0,
      "outputs": []
    },
    {
      "cell_type": "code",
      "metadata": {
        "colab_type": "code",
        "id": "iZCdonuok6Xr",
        "colab": {
          "base_uri": "https://localhost:8080/",
          "height": 69
        },
        "outputId": "10abc4e4-982b-47f5-9981-4e9497a11bad"
      },
      "source": [
        "success = subset_english[subset_english['list_fuzzy_match_for_league'] == 1].shape[0]\n",
        "print(success)\n",
        "all_vals = subset_english['list_fuzzy_match_for_league'].shape[0]\n",
        "print(all_vals)\n",
        "baseline_league = success / all_vals\n",
        "print(baseline_league)"
      ],
      "execution_count": 50,
      "outputs": [
        {
          "output_type": "stream",
          "text": [
            "0\n",
            "10000\n",
            "0.0\n"
          ],
          "name": "stdout"
        }
      ]
    },
    {
      "cell_type": "code",
      "metadata": {
        "colab_type": "code",
        "id": "YGQoyr9Nk9ih",
        "colab": {}
      },
      "source": [
        "subset_english.to_csv('fuzzylists0306_withleagues.csv', index = False)"
      ],
      "execution_count": 0,
      "outputs": []
    },
    {
      "cell_type": "code",
      "metadata": {
        "id": "Z9ItUC8IdBQN",
        "colab_type": "code",
        "colab": {}
      },
      "source": [
        ""
      ],
      "execution_count": 0,
      "outputs": []
    }
  ]
}