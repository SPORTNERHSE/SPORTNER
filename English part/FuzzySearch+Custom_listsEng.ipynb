{
  "nbformat": 4,
  "nbformat_minor": 0,
  "metadata": {
    "colab": {
      "name": "**FuzzySearch+Custom listsEn.ipynb",
      "provenance": []
    },
    "kernelspec": {
      "name": "python3",
      "display_name": "Python 3"
    },
    "accelerator": "TPU"
  },
  "cells": [
    {
      "cell_type": "code",
      "metadata": {
        "colab_type": "code",
        "id": "znP0Nm7CljrK",
        "outputId": "e3274337-6ef6-47cb-c5e1-bbf4cd27be9a",
        "colab": {
          "base_uri": "https://localhost:8080/",
          "height": 551
        }
      },
      "source": [
        "!pip install fuzzywuzzy\n",
        "!pip install langdetect\n",
        "!pip install stop_words\n",
        "import pandas as pd\n",
        "import numpy as np\n",
        "from tqdm import tqdm\n",
        "from nltk import word_tokenize\n",
        "from collections import Counter\n",
        "from string import punctuation\n",
        "punct = punctuation+'©«»—…“”*№–'\n",
        "import nltk\n",
        "nltk.download('punkt')\n",
        "nltk.download('stopwords')\n",
        "import urllib.request\n",
        "from bs4 import BeautifulSoup\n",
        "import re\n",
        "from tqdm import tqdm\n",
        "from fuzzywuzzy import fuzz\n",
        "from string import digits\n",
        "from stop_words import get_stop_words\n",
        "from nltk.corpus import stopwords\n",
        "from fuzzywuzzy import process"
      ],
      "execution_count": 0,
      "outputs": [
        {
          "output_type": "stream",
          "text": [
            "Collecting fuzzywuzzy\n",
            "  Downloading https://files.pythonhosted.org/packages/43/ff/74f23998ad2f93b945c0309f825be92e04e0348e062026998b5eefef4c33/fuzzywuzzy-0.18.0-py2.py3-none-any.whl\n",
            "Installing collected packages: fuzzywuzzy\n",
            "Successfully installed fuzzywuzzy-0.18.0\n",
            "Collecting langdetect\n",
            "\u001b[?25l  Downloading https://files.pythonhosted.org/packages/56/a3/8407c1e62d5980188b4acc45ef3d94b933d14a2ebc9ef3505f22cf772570/langdetect-1.0.8.tar.gz (981kB)\n",
            "\u001b[K     |████████████████████████████████| 983kB 2.9MB/s \n",
            "\u001b[?25hRequirement already satisfied: six in /usr/local/lib/python3.6/dist-packages (from langdetect) (1.12.0)\n",
            "Building wheels for collected packages: langdetect\n",
            "  Building wheel for langdetect (setup.py) ... \u001b[?25l\u001b[?25hdone\n",
            "  Created wheel for langdetect: filename=langdetect-1.0.8-cp36-none-any.whl size=993193 sha256=5375a79c5c0c8c552b3869c22d3a6ee817c1e3a2d5b70af26dce942251a9e9fa\n",
            "  Stored in directory: /root/.cache/pip/wheels/8d/b3/aa/6d99de9f3841d7d3d40a60ea06e6d669e8e5012e6c8b947a57\n",
            "Successfully built langdetect\n",
            "Installing collected packages: langdetect\n",
            "Successfully installed langdetect-1.0.8\n",
            "Collecting stop_words\n",
            "  Downloading https://files.pythonhosted.org/packages/1c/cb/d58290804b7a4c5daa42abbbe2a93c477ae53e45541b1825e86f0dfaaf63/stop-words-2018.7.23.tar.gz\n",
            "Building wheels for collected packages: stop-words\n",
            "  Building wheel for stop-words (setup.py) ... \u001b[?25l\u001b[?25hdone\n",
            "  Created wheel for stop-words: filename=stop_words-2018.7.23-cp36-none-any.whl size=32917 sha256=9f6ee7319e4545db367073710ae7923e59f9da43e4a272ec8b5b30d7eb71c30e\n",
            "  Stored in directory: /root/.cache/pip/wheels/75/37/6a/2b295e03bd07290f0da95c3adb9a74ba95fbc333aa8b0c7c78\n",
            "Successfully built stop-words\n",
            "Installing collected packages: stop-words\n",
            "Successfully installed stop-words-2018.7.23\n",
            "[nltk_data] Downloading package punkt to /root/nltk_data...\n",
            "[nltk_data]   Unzipping tokenizers/punkt.zip.\n",
            "[nltk_data] Downloading package stopwords to /root/nltk_data...\n",
            "[nltk_data]   Unzipping corpora/stopwords.zip.\n"
          ],
          "name": "stdout"
        },
        {
          "output_type": "stream",
          "text": [
            "/usr/local/lib/python3.6/dist-packages/fuzzywuzzy/fuzz.py:11: UserWarning: Using slow pure-python SequenceMatcher. Install python-Levenshtein to remove this warning\n",
            "  warnings.warn('Using slow pure-python SequenceMatcher. Install python-Levenshtein to remove this warning')\n"
          ],
          "name": "stderr"
        }
      ]
    },
    {
      "cell_type": "code",
      "metadata": {
        "id": "I7Yy6DnqcHl1",
        "colab_type": "code",
        "colab": {}
      },
      "source": [
        "punct = punctuation+'©«»—…“”*№– ' + digits\n",
        "stop_words_list = get_stop_words('en')\n",
        "stop_words_list2 = stopwords.words('english')\n",
        "newlist = stop_words_list + stop_words_list2\n",
        "for word in [\"свой\"]:\n",
        "    newlist.append(word)\n",
        "newlist_set = set(newlist)"
      ],
      "execution_count": 0,
      "outputs": []
    },
    {
      "cell_type": "code",
      "metadata": {
        "colab_type": "code",
        "id": "TBcxI4187zJ0",
        "colab": {}
      },
      "source": [
        "def which_language (text):\n",
        "  import re\n",
        "  if bool(re.search('[\\u0400-\\u04FF]', text)) == True:\n",
        "    return 'russian'\n",
        "  else:\n",
        "    return 'english'"
      ],
      "execution_count": 0,
      "outputs": []
    },
    {
      "cell_type": "code",
      "metadata": {
        "id": "za58s9W9D8j3",
        "colab_type": "code",
        "colab": {}
      },
      "source": [
        "teams_names_in_russian_and_english_df = pd.read_csv(\"teams names in russian and english.csv\")\n",
        "leagues_names_in_russian_and_english_df = pd.read_csv(\"leagues names in russian and english.csv\")"
      ],
      "execution_count": 0,
      "outputs": []
    },
    {
      "cell_type": "code",
      "metadata": {
        "colab_type": "code",
        "id": "toZ24JbG714i",
        "outputId": "c59d38d5-3d41-483b-c219-563c807a905e",
        "colab": {
          "base_uri": "https://localhost:8080/",
          "height": 260
        }
      },
      "source": [
        "df = pd.read_csv('result.tar.gz', sep='\\t', error_bad_lines=False)"
      ],
      "execution_count": 0,
      "outputs": [
        {
          "output_type": "stream",
          "text": [
            "b'Skipping line 37039: expected 12 fields, saw 15\\nSkipping line 45611: expected 12 fields, saw 15\\n'\n",
            "b'Skipping line 354339: expected 12 fields, saw 18\\nSkipping line 360804: expected 12 fields, saw 102\\nSkipping line 360819: expected 12 fields, saw 78\\nSkipping line 379126: expected 12 fields, saw 14\\nSkipping line 444446: expected 12 fields, saw 16\\nSkipping line 449079: expected 12 fields, saw 16\\nSkipping line 450250: expected 12 fields, saw 15\\n'\n",
            "b'Skipping line 481374: expected 12 fields, saw 18\\nSkipping line 510619: expected 12 fields, saw 20\\nSkipping line 512271: expected 12 fields, saw 14\\nSkipping line 514317: expected 12 fields, saw 15\\nSkipping line 519707: expected 12 fields, saw 40\\n'\n",
            "b'Skipping line 538495: expected 12 fields, saw 13\\n'\n",
            "b'Skipping line 765901: expected 12 fields, saw 56\\nSkipping line 773310: expected 12 fields, saw 43\\n'\n",
            "b'Skipping line 805899: expected 12 fields, saw 13\\nSkipping line 868492: expected 12 fields, saw 21\\nSkipping line 871801: expected 12 fields, saw 16\\n'\n",
            "b'Skipping line 903099: expected 12 fields, saw 13\\nSkipping line 903150: expected 12 fields, saw 13\\nSkipping line 903155: expected 12 fields, saw 13\\nSkipping line 926112: expected 12 fields, saw 13\\n'\n",
            "b'Skipping line 952511: expected 12 fields, saw 14\\nSkipping line 954085: expected 12 fields, saw 13\\nSkipping line 956504: expected 12 fields, saw 40\\nSkipping line 981135: expected 12 fields, saw 13\\nSkipping line 983460: expected 12 fields, saw 16\\nSkipping line 985000: expected 12 fields, saw 15\\nSkipping line 986754: expected 12 fields, saw 13\\nSkipping line 986828: expected 12 fields, saw 13\\n'\n",
            "b'Skipping line 1334533: expected 12 fields, saw 13\\nSkipping line 1337066: expected 12 fields, saw 16\\nSkipping line 1343528: expected 12 fields, saw 13\\nSkipping line 1351606: expected 12 fields, saw 14\\n'\n",
            "b'Skipping line 1376142: expected 12 fields, saw 16\\nSkipping line 1376408: expected 12 fields, saw 15\\nSkipping line 1389213: expected 12 fields, saw 59\\nSkipping line 1401635: expected 12 fields, saw 23\\n'\n",
            "b'Skipping line 1762082: expected 12 fields, saw 13\\nSkipping line 1763155: expected 12 fields, saw 16\\n'\n",
            "/usr/local/lib/python3.6/dist-packages/IPython/core/interactiveshell.py:2718: DtypeWarning: Columns (3) have mixed types.Specify dtype option on import or set low_memory=False.\n",
            "  interactivity=interactivity, compiler=compiler, result=result)\n"
          ],
          "name": "stderr"
        }
      ]
    },
    {
      "cell_type": "code",
      "metadata": {
        "colab_type": "code",
        "id": "t3MM827m8BwJ",
        "colab": {}
      },
      "source": [
        "df = df.drop([\"url\", \"video_url\", \"source_name\", \"author_name\"], axis=1)"
      ],
      "execution_count": 0,
      "outputs": []
    },
    {
      "cell_type": "code",
      "metadata": {
        "id": "x6xSEBzhD8ky",
        "colab_type": "code",
        "colab": {}
      },
      "source": [
        "df['result.tsv'] = df['result.tsv'].replace(r'http\\S+', '', regex=True).replace(r'www\\S+', '', regex=True).replace(r'https\\S+', '', regex=True)\n",
        "df = df.replace('', np.NaN)\n",
        "df = df.replace('\\xa0', np.NaN)\n",
        "df = df.dropna()\n",
        "df =  df[df['result.tsv'].str.contains('[A-Za-z]')]\n",
        "df = df[df['result.tsv'].str.split().str.len().gt(1)]"
      ],
      "execution_count": 0,
      "outputs": []
    },
    {
      "cell_type": "code",
      "metadata": {
        "colab_type": "code",
        "id": "IIyWCBEq8EkD",
        "colab": {}
      },
      "source": [
        "df = df.dropna()"
      ],
      "execution_count": 0,
      "outputs": []
    },
    {
      "cell_type": "code",
      "metadata": {
        "colab_type": "code",
        "id": "xTXkiOcW8IKy",
        "colab": {}
      },
      "source": [
        "df = df.drop_duplicates()"
      ],
      "execution_count": 0,
      "outputs": []
    },
    {
      "cell_type": "code",
      "metadata": {
        "colab_type": "code",
        "id": "_jzYJuKp8LCk",
        "colab": {}
      },
      "source": [
        "df = df.reset_index(drop=True)"
      ],
      "execution_count": 0,
      "outputs": []
    },
    {
      "cell_type": "code",
      "metadata": {
        "colab_type": "code",
        "id": "O4URIes58NsG",
        "outputId": "63132692-5b00-4965-d296-555d9fbc8fa5",
        "colab": {
          "base_uri": "https://localhost:8080/",
          "height": 617
        }
      },
      "source": [
        "df.head(5)"
      ],
      "execution_count": 0,
      "outputs": [
        {
          "output_type": "execute_result",
          "data": {
            "text/html": [
              "<div>\n",
              "<style scoped>\n",
              "    .dataframe tbody tr th:only-of-type {\n",
              "        vertical-align: middle;\n",
              "    }\n",
              "\n",
              "    .dataframe tbody tr th {\n",
              "        vertical-align: top;\n",
              "    }\n",
              "\n",
              "    .dataframe thead th {\n",
              "        text-align: right;\n",
              "    }\n",
              "</style>\n",
              "<table border=\"1\" class=\"dataframe\">\n",
              "  <thead>\n",
              "    <tr style=\"text-align: right;\">\n",
              "      <th></th>\n",
              "      <th>result.tsv</th>\n",
              "      <th>odd</th>\n",
              "      <th>tip_name</th>\n",
              "      <th>bookmaker_name</th>\n",
              "      <th>match_date_time</th>\n",
              "      <th>league_name_in_russian</th>\n",
              "      <th>team_of_season_1_name_in_russian</th>\n",
              "      <th>team_of_season_2_name_in_russian</th>\n",
              "    </tr>\n",
              "  </thead>\n",
              "  <tbody>\n",
              "    <tr>\n",
              "      <th>0</th>\n",
              "      <td>Я предполагаю ничью в этом матче с забитыми мя...</td>\n",
              "      <td>5</td>\n",
              "      <td>Арсенал забьет первым и не выиграет</td>\n",
              "      <td>1xСтавка</td>\n",
              "      <td>2019-05-09 19:00:00</td>\n",
              "      <td>Лига Европы УЕФА</td>\n",
              "      <td>Валенсия</td>\n",
              "      <td>Арсенал</td>\n",
              "    </tr>\n",
              "    <tr>\n",
              "      <th>1</th>\n",
              "      <td>Беларусь – Эстония: прогноз и ставка на матч 1...</td>\n",
              "      <td>1.9</td>\n",
              "      <td>Беларусь индивидуальный тотал больше 1,5</td>\n",
              "      <td>Пари-Матч</td>\n",
              "      <td>2019-10-10 16:00:00</td>\n",
              "      <td>Чемпионат Европы. Квалификация</td>\n",
              "      <td>Беларусь</td>\n",
              "      <td>Эстония</td>\n",
              "    </tr>\n",
              "    <tr>\n",
              "      <th>2</th>\n",
              "      <td>Украинская команда имеет отличный шанс выйти в...</td>\n",
              "      <td>1.55</td>\n",
              "      <td>Заря забьет 1 или 2 гола: да</td>\n",
              "      <td>1xСтавка</td>\n",
              "      <td>2019-08-15 17:00:00</td>\n",
              "      <td>Лига Европы УЕФА</td>\n",
              "      <td>Заря</td>\n",
              "      <td>ЦСКА София</td>\n",
              "    </tr>\n",
              "    <tr>\n",
              "      <th>3</th>\n",
              "      <td>«Сент-Миррен» в родных стенах встретится с «Аб...</td>\n",
              "      <td>2.55</td>\n",
              "      <td>«Абердин» фора (-1)</td>\n",
              "      <td>BETCITY</td>\n",
              "      <td>2019-08-11 14:00:00</td>\n",
              "      <td>Премьершип</td>\n",
              "      <td>Сент-Миррен</td>\n",
              "      <td>Абердин</td>\n",
              "    </tr>\n",
              "    <tr>\n",
              "      <th>4</th>\n",
              "      <td>На стадионе «Айброкс» состоится встреча между ...</td>\n",
              "      <td>1.97</td>\n",
              "      <td>«Абердин» фора (+1,5)</td>\n",
              "      <td>Марафон</td>\n",
              "      <td>2019-09-28 14:00:00</td>\n",
              "      <td>Премьершип</td>\n",
              "      <td>Глазго Рейнджерс</td>\n",
              "      <td>Абердин</td>\n",
              "    </tr>\n",
              "  </tbody>\n",
              "</table>\n",
              "</div>"
            ],
            "text/plain": [
              "                                          result.tsv  ... team_of_season_2_name_in_russian\n",
              "0  Я предполагаю ничью в этом матче с забитыми мя...  ...                          Арсенал\n",
              "1  Беларусь – Эстония: прогноз и ставка на матч 1...  ...                          Эстония\n",
              "2  Украинская команда имеет отличный шанс выйти в...  ...                       ЦСКА София\n",
              "3  «Сент-Миррен» в родных стенах встретится с «Аб...  ...                          Абердин\n",
              "4  На стадионе «Айброкс» состоится встреча между ...  ...                          Абердин\n",
              "\n",
              "[5 rows x 8 columns]"
            ]
          },
          "metadata": {
            "tags": []
          },
          "execution_count": 12
        }
      ]
    },
    {
      "cell_type": "code",
      "metadata": {
        "colab_type": "code",
        "id": "-4WsVXPh8VBy",
        "colab": {}
      },
      "source": [
        "lang=[]\n",
        "for i,text in enumerate(df['result.tsv'].values): \n",
        "  lang.append(which_language(str(text)))"
      ],
      "execution_count": 0,
      "outputs": []
    },
    {
      "cell_type": "code",
      "metadata": {
        "colab_type": "code",
        "id": "qQf_zDj98jTz",
        "colab": {}
      },
      "source": [
        "df['Language'] = lang"
      ],
      "execution_count": 0,
      "outputs": []
    },
    {
      "cell_type": "code",
      "metadata": {
        "colab_type": "code",
        "id": "3qQE6vL88pJs",
        "colab": {}
      },
      "source": [
        "grouped=df.groupby('Language')"
      ],
      "execution_count": 0,
      "outputs": []
    },
    {
      "cell_type": "code",
      "metadata": {
        "colab_type": "code",
        "id": "qY-1sd5S8zJ-",
        "colab": {}
      },
      "source": [
        "for name, group in grouped: \n",
        "  if name == 'english': \n",
        "    english = group.drop('Language',axis=1) \n",
        "  else: \n",
        "    russian = group.drop('Language',axis=1)"
      ],
      "execution_count": 0,
      "outputs": []
    },
    {
      "cell_type": "code",
      "metadata": {
        "colab_type": "code",
        "id": "vthWgwW-mkt8",
        "colab": {}
      },
      "source": [
        "english = pd.merge(english, teams_names_in_russian_and_english_df,  how='left', left_on=['team_of_season_1_name_in_russian'], right_on = ['team name in Russian'])\n",
        "english.rename({'English': 'team_of_season_1_name_in_english'}, axis=1, inplace=True)\n",
        "\n",
        "english = pd.merge(english, teams_names_in_russian_and_english_df,  how='left', left_on=['team_of_season_2_name_in_russian'], right_on = ['team name in Russian'])\n",
        "english.rename({'English': 'team_of_season_2_name_in_english'}, axis=1, inplace=True)\n",
        "\n",
        "english = pd.merge(english, leagues_names_in_russian_and_english_df,  how='left', left_on=['league_name_in_russian'], right_on = ['leagues name in Russian'])\n",
        "english.rename({'unique_leagues_in_english': 'league_name_in_english'}, axis=1, inplace=True)\n"
      ],
      "execution_count": 0,
      "outputs": []
    },
    {
      "cell_type": "code",
      "metadata": {
        "colab_type": "code",
        "id": "BaSDZIwnmkuQ",
        "colab": {}
      },
      "source": [
        "english.drop(['team name in Russian_x' , 'team name in Russian_y' , 'leagues name in Russian' ] , axis=1 , inplace=True)"
      ],
      "execution_count": 0,
      "outputs": []
    },
    {
      "cell_type": "code",
      "metadata": {
        "colab_type": "code",
        "id": "ereYqA_Amkug",
        "colab": {}
      },
      "source": [
        "# Here we are just re-naming the columns so one check that what's in it and interpret the information easily \n",
        "english.rename({'team name in English_x': 'team_of_season_1_name_in_english'}, axis=1, inplace=True)\n",
        "english.rename({'team name in English_y': 'team_of_season_2_name_in_english'}, axis=1, inplace=True)\n",
        "english.rename({'leagues names in English': 'league_name_in_english'}, axis=1, inplace=True)"
      ],
      "execution_count": 0,
      "outputs": []
    },
    {
      "cell_type": "code",
      "metadata": {
        "colab_type": "code",
        "id": "32-kii7Kmku1",
        "colab": {}
      },
      "source": [
        "# Here we are just setting the correct data type that english names should be string\n",
        "english['team_of_season_1_name_in_english']=english['team_of_season_1_name_in_english'].astype(str)\n",
        "english['team_of_season_2_name_in_english']=english['team_of_season_2_name_in_english'].astype(str)\n",
        "english['league_name_in_english']=english['league_name_in_english'].astype(str)"
      ],
      "execution_count": 0,
      "outputs": []
    },
    {
      "cell_type": "code",
      "metadata": {
        "id": "lZkKHDbID8pH",
        "colab_type": "code",
        "outputId": "1d0a8d4a-b4fa-4eb4-906d-5417205697cf",
        "colab": {
          "base_uri": "https://localhost:8080/",
          "height": 233
        }
      },
      "source": [
        "english.head(2)"
      ],
      "execution_count": 0,
      "outputs": [
        {
          "output_type": "execute_result",
          "data": {
            "text/html": [
              "<div>\n",
              "<style scoped>\n",
              "    .dataframe tbody tr th:only-of-type {\n",
              "        vertical-align: middle;\n",
              "    }\n",
              "\n",
              "    .dataframe tbody tr th {\n",
              "        vertical-align: top;\n",
              "    }\n",
              "\n",
              "    .dataframe thead th {\n",
              "        text-align: right;\n",
              "    }\n",
              "</style>\n",
              "<table border=\"1\" class=\"dataframe\">\n",
              "  <thead>\n",
              "    <tr style=\"text-align: right;\">\n",
              "      <th></th>\n",
              "      <th>result.tsv</th>\n",
              "      <th>odd</th>\n",
              "      <th>tip_name</th>\n",
              "      <th>bookmaker_name</th>\n",
              "      <th>match_date_time</th>\n",
              "      <th>league_name_in_russian</th>\n",
              "      <th>team_of_season_1_name_in_russian</th>\n",
              "      <th>team_of_season_2_name_in_russian</th>\n",
              "      <th>team_of_season_1_name_in_english</th>\n",
              "      <th>team_of_season_2_name_in_english</th>\n",
              "      <th>league_name_in_english</th>\n",
              "    </tr>\n",
              "  </thead>\n",
              "  <tbody>\n",
              "    <tr>\n",
              "      <th>0</th>\n",
              "      <td>Middlesbrough have woken to good times in thei...</td>\n",
              "      <td>7</td>\n",
              "      <td>0-0</td>\n",
              "      <td>bet365</td>\n",
              "      <td>2019-04-19 14:00:00</td>\n",
              "      <td>Чемпионшип</td>\n",
              "      <td>Мидлсбро</td>\n",
              "      <td>Сток Сити</td>\n",
              "      <td>Middlesbrough</td>\n",
              "      <td>Stoke City</td>\n",
              "      <td>Championship</td>\n",
              "    </tr>\n",
              "    <tr>\n",
              "      <th>1</th>\n",
              "      <td>Wolves prefer to attack with pace on the count...</td>\n",
              "      <td>7.5</td>\n",
              "      <td>0-0</td>\n",
              "      <td>bet365</td>\n",
              "      <td>2019-04-20 14:00:00</td>\n",
              "      <td>Премьер-лига</td>\n",
              "      <td>Вулверхэмптон</td>\n",
              "      <td>Брайтон</td>\n",
              "      <td>Wolverhampton</td>\n",
              "      <td>Brighton</td>\n",
              "      <td>Premier League</td>\n",
              "    </tr>\n",
              "  </tbody>\n",
              "</table>\n",
              "</div>"
            ],
            "text/plain": [
              "                                          result.tsv  ... league_name_in_english\n",
              "0  Middlesbrough have woken to good times in thei...  ...           Championship\n",
              "1  Wolves prefer to attack with pace on the count...  ...         Premier League\n",
              "\n",
              "[2 rows x 11 columns]"
            ]
          },
          "metadata": {
            "tags": []
          },
          "execution_count": 21
        }
      ]
    },
    {
      "cell_type": "code",
      "metadata": {
        "id": "T9vCZg8Tf2qT",
        "colab_type": "code",
        "outputId": "a025a415-c8e1-47b5-a9fe-69cefcf9443f",
        "colab": {
          "base_uri": "https://localhost:8080/",
          "height": 34
        }
      },
      "source": [
        "unique_leagues = english['league_name_in_english'].unique().tolist()\n",
        "len(unique_leagues)"
      ],
      "execution_count": 0,
      "outputs": [
        {
          "output_type": "execute_result",
          "data": {
            "text/plain": [
              "78"
            ]
          },
          "metadata": {
            "tags": []
          },
          "execution_count": 22
        }
      ]
    },
    {
      "cell_type": "code",
      "metadata": {
        "id": "mkYWQb3of8wS",
        "colab_type": "code",
        "outputId": "e5e13fe4-f0a1-4822-ef66-a8fd22abd8dc",
        "colab": {
          "base_uri": "https://localhost:8080/",
          "height": 34
        }
      },
      "source": [
        "unique_teams1 = english['team_of_season_1_name_in_english'].unique().tolist()\n",
        "len(unique_teams1)"
      ],
      "execution_count": 0,
      "outputs": [
        {
          "output_type": "execute_result",
          "data": {
            "text/plain": [
              "1233"
            ]
          },
          "metadata": {
            "tags": []
          },
          "execution_count": 23
        }
      ]
    },
    {
      "cell_type": "code",
      "metadata": {
        "id": "8Qny2n3DgCAL",
        "colab_type": "code",
        "outputId": "976e2a1d-3f44-43fa-da92-d0b7b3773f14",
        "colab": {
          "base_uri": "https://localhost:8080/",
          "height": 34
        }
      },
      "source": [
        "unique_teams2 = english['team_of_season_2_name_in_english'].unique().tolist()\n",
        "len(unique_teams2)"
      ],
      "execution_count": 0,
      "outputs": [
        {
          "output_type": "execute_result",
          "data": {
            "text/plain": [
              "1126"
            ]
          },
          "metadata": {
            "tags": []
          },
          "execution_count": 24
        }
      ]
    },
    {
      "cell_type": "code",
      "metadata": {
        "id": "s4cojP_EgH5i",
        "colab_type": "code",
        "outputId": "58dbdc73-1dcb-4499-902a-57c65f0709a0",
        "colab": {
          "base_uri": "https://localhost:8080/",
          "height": 34
        }
      },
      "source": [
        "unique_teams = unique_teams1 + unique_teams2\n",
        "unique_teams_set = set(unique_teams)\n",
        "len(unique_teams_set)"
      ],
      "execution_count": 0,
      "outputs": [
        {
          "output_type": "execute_result",
          "data": {
            "text/plain": [
              "1233"
            ]
          },
          "metadata": {
            "tags": []
          },
          "execution_count": 25
        }
      ]
    },
    {
      "cell_type": "code",
      "metadata": {
        "id": "URm9W3hygMQY",
        "colab_type": "code",
        "colab": {}
      },
      "source": [
        "english = pd.read_csv('english_custom_lists_and_directmatch.csv')"
      ],
      "execution_count": 0,
      "outputs": []
    },
    {
      "cell_type": "code",
      "metadata": {
        "id": "WPlX8obhgVL4",
        "colab_type": "code",
        "colab": {}
      },
      "source": [
        "english = english[english['result.tsv'].map(len) > 30]"
      ],
      "execution_count": 0,
      "outputs": []
    },
    {
      "cell_type": "code",
      "metadata": {
        "id": "ukw7DqongeK9",
        "colab_type": "code",
        "colab": {}
      },
      "source": [
        "english = english.reset_index(drop=True)"
      ],
      "execution_count": 0,
      "outputs": []
    },
    {
      "cell_type": "code",
      "metadata": {
        "id": "iCTnmpG2gkgi",
        "colab_type": "code",
        "outputId": "71191e61-f7df-40c3-c373-45b9acedf7c2",
        "colab": {
          "base_uri": "https://localhost:8080/",
          "height": 34
        }
      },
      "source": [
        "english.shape"
      ],
      "execution_count": 0,
      "outputs": [
        {
          "output_type": "execute_result",
          "data": {
            "text/plain": [
              "(87756, 13)"
            ]
          },
          "metadata": {
            "tags": []
          },
          "execution_count": 29
        }
      ]
    },
    {
      "cell_type": "code",
      "metadata": {
        "id": "JqGiY9Jtgo3Z",
        "colab_type": "code",
        "outputId": "62134c2a-967d-4d4a-e702-0307fbbc7480",
        "colab": {
          "base_uri": "https://localhost:8080/",
          "height": 315
        }
      },
      "source": [
        "english.head(3)"
      ],
      "execution_count": 0,
      "outputs": [
        {
          "output_type": "execute_result",
          "data": {
            "text/html": [
              "<div>\n",
              "<style scoped>\n",
              "    .dataframe tbody tr th:only-of-type {\n",
              "        vertical-align: middle;\n",
              "    }\n",
              "\n",
              "    .dataframe tbody tr th {\n",
              "        vertical-align: top;\n",
              "    }\n",
              "\n",
              "    .dataframe thead th {\n",
              "        text-align: right;\n",
              "    }\n",
              "</style>\n",
              "<table border=\"1\" class=\"dataframe\">\n",
              "  <thead>\n",
              "    <tr style=\"text-align: right;\">\n",
              "      <th></th>\n",
              "      <th>result.tsv</th>\n",
              "      <th>odd</th>\n",
              "      <th>tip_name</th>\n",
              "      <th>bookmaker_name</th>\n",
              "      <th>match_date_time</th>\n",
              "      <th>league_name_in_russian</th>\n",
              "      <th>team_of_season_1_name_in_russian</th>\n",
              "      <th>team_of_season_2_name_in_russian</th>\n",
              "      <th>team_of_season_1_name_in_english</th>\n",
              "      <th>team_of_season_2_name_in_english</th>\n",
              "      <th>league_name_in_english</th>\n",
              "      <th>list_direct_match_for_teams1</th>\n",
              "      <th>list_direct_match_for_teams2</th>\n",
              "    </tr>\n",
              "  </thead>\n",
              "  <tbody>\n",
              "    <tr>\n",
              "      <th>0</th>\n",
              "      <td>Middlesbrough have woken to good times in thei...</td>\n",
              "      <td>7.0</td>\n",
              "      <td>0-0</td>\n",
              "      <td>bet365</td>\n",
              "      <td>2019-04-19 14:00:00</td>\n",
              "      <td>Чемпионшип</td>\n",
              "      <td>Мидлсбро</td>\n",
              "      <td>Сток Сити</td>\n",
              "      <td>Middlesbrough</td>\n",
              "      <td>Stoke City</td>\n",
              "      <td>Championship</td>\n",
              "      <td>0.0</td>\n",
              "      <td>0.0</td>\n",
              "    </tr>\n",
              "    <tr>\n",
              "      <th>1</th>\n",
              "      <td>Wolves prefer to attack with pace on the count...</td>\n",
              "      <td>7.5</td>\n",
              "      <td>0-0</td>\n",
              "      <td>bet365</td>\n",
              "      <td>2019-04-20 14:00:00</td>\n",
              "      <td>Премьер-лига</td>\n",
              "      <td>Вулверхэмптон</td>\n",
              "      <td>Брайтон</td>\n",
              "      <td>Wolverhampton</td>\n",
              "      <td>Brighton</td>\n",
              "      <td>Premier League</td>\n",
              "      <td>0.0</td>\n",
              "      <td>0.0</td>\n",
              "    </tr>\n",
              "    <tr>\n",
              "      <th>2</th>\n",
              "      <td>In my opinion a 0-0 draw is quite likely betwe...</td>\n",
              "      <td>13.0</td>\n",
              "      <td>0-0</td>\n",
              "      <td>bet365</td>\n",
              "      <td>2019-04-18 19:00:00</td>\n",
              "      <td>Лига Европы УЕФА</td>\n",
              "      <td>Валенсия</td>\n",
              "      <td>Вильярреал</td>\n",
              "      <td>Valencia</td>\n",
              "      <td>Villarreal</td>\n",
              "      <td>UEFA Europa League</td>\n",
              "      <td>0.0</td>\n",
              "      <td>0.0</td>\n",
              "    </tr>\n",
              "  </tbody>\n",
              "</table>\n",
              "</div>"
            ],
            "text/plain": [
              "                                          result.tsv  ...  list_direct_match_for_teams2\n",
              "0  Middlesbrough have woken to good times in thei...  ...                           0.0\n",
              "1  Wolves prefer to attack with pace on the count...  ...                           0.0\n",
              "2  In my opinion a 0-0 draw is quite likely betwe...  ...                           0.0\n",
              "\n",
              "[3 rows x 13 columns]"
            ]
          },
          "metadata": {
            "tags": []
          },
          "execution_count": 30
        }
      ]
    },
    {
      "cell_type": "code",
      "metadata": {
        "id": "AA4xNwOlgunp",
        "colab_type": "code",
        "outputId": "431a8197-1fc5-4b6d-9cf4-802eca65fac0",
        "colab": {
          "base_uri": "https://localhost:8080/",
          "height": 566
        }
      },
      "source": [
        "subset_english = english.sample(n=10000)\n",
        "subset_english.head(5)"
      ],
      "execution_count": 0,
      "outputs": [
        {
          "output_type": "execute_result",
          "data": {
            "text/html": [
              "<div>\n",
              "<style scoped>\n",
              "    .dataframe tbody tr th:only-of-type {\n",
              "        vertical-align: middle;\n",
              "    }\n",
              "\n",
              "    .dataframe tbody tr th {\n",
              "        vertical-align: top;\n",
              "    }\n",
              "\n",
              "    .dataframe thead th {\n",
              "        text-align: right;\n",
              "    }\n",
              "</style>\n",
              "<table border=\"1\" class=\"dataframe\">\n",
              "  <thead>\n",
              "    <tr style=\"text-align: right;\">\n",
              "      <th></th>\n",
              "      <th>result.tsv</th>\n",
              "      <th>odd</th>\n",
              "      <th>tip_name</th>\n",
              "      <th>bookmaker_name</th>\n",
              "      <th>match_date_time</th>\n",
              "      <th>league_name_in_russian</th>\n",
              "      <th>team_of_season_1_name_in_russian</th>\n",
              "      <th>team_of_season_2_name_in_russian</th>\n",
              "      <th>team_of_season_1_name_in_english</th>\n",
              "      <th>team_of_season_2_name_in_english</th>\n",
              "      <th>league_name_in_english</th>\n",
              "      <th>list_direct_match_for_teams1</th>\n",
              "      <th>list_direct_match_for_teams2</th>\n",
              "    </tr>\n",
              "  </thead>\n",
              "  <tbody>\n",
              "    <tr>\n",
              "      <th>2928</th>\n",
              "      <td>Burnley will not lose Manchester City. The las...</td>\n",
              "      <td>5.65</td>\n",
              "      <td>1X</td>\n",
              "      <td>bet365</td>\n",
              "      <td>2019-04-28 13:05:00</td>\n",
              "      <td>Премьер-лига</td>\n",
              "      <td>Бернли</td>\n",
              "      <td>Манчестер Сити</td>\n",
              "      <td>Burnley</td>\n",
              "      <td>Manchester city</td>\n",
              "      <td>Premier League</td>\n",
              "      <td>0.0</td>\n",
              "      <td>0.0</td>\n",
              "    </tr>\n",
              "    <tr>\n",
              "      <th>21674</th>\n",
              "      <td>Expecting derry city will win this match and s...</td>\n",
              "      <td>1.86</td>\n",
              "      <td>H1 (-2.25)</td>\n",
              "      <td>bet365</td>\n",
              "      <td>2019-07-12 18:45:00</td>\n",
              "      <td>Премьер-лига</td>\n",
              "      <td>Дерри Сити</td>\n",
              "      <td>ЮСД</td>\n",
              "      <td>Derry City</td>\n",
              "      <td>YUSD</td>\n",
              "      <td>Premier League</td>\n",
              "      <td>0.0</td>\n",
              "      <td>0.0</td>\n",
              "    </tr>\n",
              "    <tr>\n",
              "      <th>14599</th>\n",
              "      <td>Scored against Germany In a recent friendly in...</td>\n",
              "      <td>6.50</td>\n",
              "      <td>First Goalscorer: Dominic Solanke</td>\n",
              "      <td>bet365</td>\n",
              "      <td>2019-06-21 16:30:00</td>\n",
              "      <td>Чемпионат Европы U21</td>\n",
              "      <td>Англия U21</td>\n",
              "      <td>Румыния U21</td>\n",
              "      <td>England U21</td>\n",
              "      <td>Romania U21</td>\n",
              "      <td>U21 European Championship</td>\n",
              "      <td>0.0</td>\n",
              "      <td>0.0</td>\n",
              "    </tr>\n",
              "    <tr>\n",
              "      <th>62063</th>\n",
              "      <td>Esbjerg &amp; Yes appeals today as they have pulle...</td>\n",
              "      <td>5.50</td>\n",
              "      <td>W1 &amp; BTTS (yes)</td>\n",
              "      <td>bet365</td>\n",
              "      <td>2019-04-18 14:00:00</td>\n",
              "      <td>Суперлига</td>\n",
              "      <td>Эсбьерг ФБ</td>\n",
              "      <td>Брондбю</td>\n",
              "      <td>Esbjerg FB</td>\n",
              "      <td>Brondby</td>\n",
              "      <td>Super</td>\n",
              "      <td>0.0</td>\n",
              "      <td>0.0</td>\n",
              "    </tr>\n",
              "    <tr>\n",
              "      <th>86633</th>\n",
              "      <td>The match can be draw because both teams lost ...</td>\n",
              "      <td>4.50</td>\n",
              "      <td>X &amp; BTTS (yes)</td>\n",
              "      <td>bet365</td>\n",
              "      <td>2019-09-22 15:30:00</td>\n",
              "      <td>Премьер-лига</td>\n",
              "      <td>Челси</td>\n",
              "      <td>Ливерпуль</td>\n",
              "      <td>chelsea</td>\n",
              "      <td>Liverpool</td>\n",
              "      <td>Premier League</td>\n",
              "      <td>0.0</td>\n",
              "      <td>0.0</td>\n",
              "    </tr>\n",
              "  </tbody>\n",
              "</table>\n",
              "</div>"
            ],
            "text/plain": [
              "                                              result.tsv  ...  list_direct_match_for_teams2\n",
              "2928   Burnley will not lose Manchester City. The las...  ...                           0.0\n",
              "21674  Expecting derry city will win this match and s...  ...                           0.0\n",
              "14599  Scored against Germany In a recent friendly in...  ...                           0.0\n",
              "62063  Esbjerg & Yes appeals today as they have pulle...  ...                           0.0\n",
              "86633  The match can be draw because both teams lost ...  ...                           0.0\n",
              "\n",
              "[5 rows x 13 columns]"
            ]
          },
          "metadata": {
            "tags": []
          },
          "execution_count": 35
        }
      ]
    },
    {
      "cell_type": "code",
      "metadata": {
        "id": "vnRVbhX2g_PE",
        "colab_type": "code",
        "outputId": "2da588ac-d278-4880-dfda-95b9ed71cab3",
        "colab": {
          "base_uri": "https://localhost:8080/",
          "height": 566
        }
      },
      "source": [
        "subset_english = subset_english.reset_index(drop=True)\n",
        "subset_english.head(5)"
      ],
      "execution_count": 0,
      "outputs": [
        {
          "output_type": "execute_result",
          "data": {
            "text/html": [
              "<div>\n",
              "<style scoped>\n",
              "    .dataframe tbody tr th:only-of-type {\n",
              "        vertical-align: middle;\n",
              "    }\n",
              "\n",
              "    .dataframe tbody tr th {\n",
              "        vertical-align: top;\n",
              "    }\n",
              "\n",
              "    .dataframe thead th {\n",
              "        text-align: right;\n",
              "    }\n",
              "</style>\n",
              "<table border=\"1\" class=\"dataframe\">\n",
              "  <thead>\n",
              "    <tr style=\"text-align: right;\">\n",
              "      <th></th>\n",
              "      <th>result.tsv</th>\n",
              "      <th>odd</th>\n",
              "      <th>tip_name</th>\n",
              "      <th>bookmaker_name</th>\n",
              "      <th>match_date_time</th>\n",
              "      <th>league_name_in_russian</th>\n",
              "      <th>team_of_season_1_name_in_russian</th>\n",
              "      <th>team_of_season_2_name_in_russian</th>\n",
              "      <th>team_of_season_1_name_in_english</th>\n",
              "      <th>team_of_season_2_name_in_english</th>\n",
              "      <th>league_name_in_english</th>\n",
              "      <th>list_direct_match_for_teams1</th>\n",
              "      <th>list_direct_match_for_teams2</th>\n",
              "    </tr>\n",
              "  </thead>\n",
              "  <tbody>\n",
              "    <tr>\n",
              "      <th>0</th>\n",
              "      <td>Burnley will not lose Manchester City. The las...</td>\n",
              "      <td>5.65</td>\n",
              "      <td>1X</td>\n",
              "      <td>bet365</td>\n",
              "      <td>2019-04-28 13:05:00</td>\n",
              "      <td>Премьер-лига</td>\n",
              "      <td>Бернли</td>\n",
              "      <td>Манчестер Сити</td>\n",
              "      <td>Burnley</td>\n",
              "      <td>Manchester city</td>\n",
              "      <td>Premier League</td>\n",
              "      <td>0.0</td>\n",
              "      <td>0.0</td>\n",
              "    </tr>\n",
              "    <tr>\n",
              "      <th>1</th>\n",
              "      <td>Expecting derry city will win this match and s...</td>\n",
              "      <td>1.86</td>\n",
              "      <td>H1 (-2.25)</td>\n",
              "      <td>bet365</td>\n",
              "      <td>2019-07-12 18:45:00</td>\n",
              "      <td>Премьер-лига</td>\n",
              "      <td>Дерри Сити</td>\n",
              "      <td>ЮСД</td>\n",
              "      <td>Derry City</td>\n",
              "      <td>YUSD</td>\n",
              "      <td>Premier League</td>\n",
              "      <td>0.0</td>\n",
              "      <td>0.0</td>\n",
              "    </tr>\n",
              "    <tr>\n",
              "      <th>2</th>\n",
              "      <td>Scored against Germany In a recent friendly in...</td>\n",
              "      <td>6.50</td>\n",
              "      <td>First Goalscorer: Dominic Solanke</td>\n",
              "      <td>bet365</td>\n",
              "      <td>2019-06-21 16:30:00</td>\n",
              "      <td>Чемпионат Европы U21</td>\n",
              "      <td>Англия U21</td>\n",
              "      <td>Румыния U21</td>\n",
              "      <td>England U21</td>\n",
              "      <td>Romania U21</td>\n",
              "      <td>U21 European Championship</td>\n",
              "      <td>0.0</td>\n",
              "      <td>0.0</td>\n",
              "    </tr>\n",
              "    <tr>\n",
              "      <th>3</th>\n",
              "      <td>Esbjerg &amp; Yes appeals today as they have pulle...</td>\n",
              "      <td>5.50</td>\n",
              "      <td>W1 &amp; BTTS (yes)</td>\n",
              "      <td>bet365</td>\n",
              "      <td>2019-04-18 14:00:00</td>\n",
              "      <td>Суперлига</td>\n",
              "      <td>Эсбьерг ФБ</td>\n",
              "      <td>Брондбю</td>\n",
              "      <td>Esbjerg FB</td>\n",
              "      <td>Brondby</td>\n",
              "      <td>Super</td>\n",
              "      <td>0.0</td>\n",
              "      <td>0.0</td>\n",
              "    </tr>\n",
              "    <tr>\n",
              "      <th>4</th>\n",
              "      <td>The match can be draw because both teams lost ...</td>\n",
              "      <td>4.50</td>\n",
              "      <td>X &amp; BTTS (yes)</td>\n",
              "      <td>bet365</td>\n",
              "      <td>2019-09-22 15:30:00</td>\n",
              "      <td>Премьер-лига</td>\n",
              "      <td>Челси</td>\n",
              "      <td>Ливерпуль</td>\n",
              "      <td>chelsea</td>\n",
              "      <td>Liverpool</td>\n",
              "      <td>Premier League</td>\n",
              "      <td>0.0</td>\n",
              "      <td>0.0</td>\n",
              "    </tr>\n",
              "  </tbody>\n",
              "</table>\n",
              "</div>"
            ],
            "text/plain": [
              "                                          result.tsv  ...  list_direct_match_for_teams2\n",
              "0  Burnley will not lose Manchester City. The las...  ...                           0.0\n",
              "1  Expecting derry city will win this match and s...  ...                           0.0\n",
              "2  Scored against Germany In a recent friendly in...  ...                           0.0\n",
              "3  Esbjerg & Yes appeals today as they have pulle...  ...                           0.0\n",
              "4  The match can be draw because both teams lost ...  ...                           0.0\n",
              "\n",
              "[5 rows x 13 columns]"
            ]
          },
          "metadata": {
            "tags": []
          },
          "execution_count": 36
        }
      ]
    },
    {
      "cell_type": "markdown",
      "metadata": {
        "id": "l1sMcPC_hMDE",
        "colab_type": "text"
      },
      "source": [
        "Team 1:"
      ]
    },
    {
      "cell_type": "code",
      "metadata": {
        "id": "145yP4M6hOMq",
        "colab_type": "code",
        "outputId": "bf769759-ab25-4390-8927-72d0e4c41508",
        "colab": {
          "base_uri": "https://localhost:8080/",
          "height": 123
        }
      },
      "source": [
        "for i, text in tqdm(enumerate(subset_english['result.tsv'].values)):\n",
        "    if subset_english['list_direct_match_for_teams1'][i] == 1:\n",
        "        continue\n",
        "    else:\n",
        "        #print(i)\n",
        "        capital_words_en = re.findall(r'([A-Z][a-z]+)', text)\n",
        "        quotes = re.findall(r'\\\"(.+?)\\\"', text)\n",
        "        quotes2 = re.findall(r'«(.+?)»', text)\n",
        "        quotes3 = re.findall(r'\\'(.+?)\\'', text)\n",
        "        search_words = capital_words_en + quotes + quotes2 + quotes3\n",
        "        search_words = set(search_words)\n",
        "        good_words = [word for word in search_words if word.lower() not in newlist_set] \n",
        "        #print(good_words)\n",
        "    \n",
        "        for word in good_words:\n",
        "            for team in unique_teams:\n",
        "                if fuzz.ratio(word, team) > 85:\n",
        "                    #print(english['team_of_season_1_name_in_english'][i], word, team, fuzz.ratio(word, team))\n",
        "                    subset_english['list_direct_match_for_teams1'][i] = 1\n",
        "\n",
        "                    break"
      ],
      "execution_count": 0,
      "outputs": [
        {
          "output_type": "stream",
          "text": [
            "\r0it [00:00, ?it/s]/usr/local/lib/python3.6/dist-packages/ipykernel_launcher.py:19: SettingWithCopyWarning: \n",
            "A value is trying to be set on a copy of a slice from a DataFrame\n",
            "\n",
            "See the caveats in the documentation: https://pandas.pydata.org/pandas-docs/stable/user_guide/indexing.html#returning-a-view-versus-a-copy\n",
            "10000it [24:42,  6.74it/s]\n"
          ],
          "name": "stderr"
        }
      ]
    },
    {
      "cell_type": "code",
      "metadata": {
        "id": "8BINa6Wwhosk",
        "colab_type": "code",
        "outputId": "f8cc58dd-8db5-4245-d3d8-095047d3f148",
        "colab": {
          "base_uri": "https://localhost:8080/",
          "height": 68
        }
      },
      "source": [
        "success = subset_english[subset_english['list_direct_match_for_teams1'] == 1].shape[0]\n",
        "print(success)\n",
        "all_vals = subset_english['list_direct_match_for_teams1'].shape[0]\n",
        "print(all_vals)\n",
        "baseline_team1 = success / all_vals\n",
        "print(baseline_team1)"
      ],
      "execution_count": 0,
      "outputs": [
        {
          "output_type": "stream",
          "text": [
            "6492\n",
            "10000\n",
            "0.6492\n"
          ],
          "name": "stdout"
        }
      ]
    },
    {
      "cell_type": "code",
      "metadata": {
        "id": "6bLZj15kh7pR",
        "colab_type": "code",
        "outputId": "1c001fda-6787-48a5-af07-4e5dd088cdf1",
        "colab": {
          "base_uri": "https://localhost:8080/",
          "height": 123
        }
      },
      "source": [
        "for i, text in tqdm(enumerate(subset_english['result.tsv'].values)):\n",
        "    if subset_english['list_direct_match_for_teams1'][i] == 1:\n",
        "        continue\n",
        "    else:\n",
        "        #print(i)\n",
        "        capital_words_en = re.findall(r'([A-Z][a-z]+)', text)\n",
        "        quotes = re.findall(r'\\\"(.+?)\\\"', text)\n",
        "        quotes2 = re.findall(r'«(.+?)»', text)\n",
        "        quotes3 = re.findall(r'\\'(.+?)\\'', text)\n",
        "        search_words = capital_words_en + quotes + quotes2 + quotes3\n",
        "        search_words = set(search_words)\n",
        "        good_words = [word for word in search_words if word.lower() not in newlist_set] \n",
        "#         print(i, good_words)\n",
        "#         print(subset_english['team_of_season_1_name_in_english'][i])\n",
        "        \n",
        "    \n",
        "        for word in good_words:\n",
        "            for team in unique_teams:\n",
        "                if fuzz.ratio(word, team) > 65 and fuzz.ratio(word, subset_english['team_of_season_1_name_in_english'][i]) > 65:\n",
        "#                     print(subset_english['team_of_season_1_name_in_english'][i], word, team, fuzz.ratio(word, team))\n",
        "                    subset_english['list_direct_match_for_teams1'][i] = 1\n",
        "\n",
        "                    break"
      ],
      "execution_count": 0,
      "outputs": [
        {
          "output_type": "stream",
          "text": [
            "0it [00:00, ?it/s]/usr/local/lib/python3.6/dist-packages/ipykernel_launcher.py:21: SettingWithCopyWarning: \n",
            "A value is trying to be set on a copy of a slice from a DataFrame\n",
            "\n",
            "See the caveats in the documentation: https://pandas.pydata.org/pandas-docs/stable/user_guide/indexing.html#returning-a-view-versus-a-copy\n",
            "10000it [07:13, 23.07it/s]\n"
          ],
          "name": "stderr"
        }
      ]
    },
    {
      "cell_type": "code",
      "metadata": {
        "id": "C-bRDe2finMD",
        "colab_type": "code",
        "outputId": "3890603c-3df9-4895-eb29-cbffcaf3c986",
        "colab": {
          "base_uri": "https://localhost:8080/",
          "height": 68
        }
      },
      "source": [
        "success = subset_english[subset_english['list_direct_match_for_teams1'] == 1].shape[0]\n",
        "print(success)\n",
        "all_vals = subset_english['list_direct_match_for_teams1'].shape[0]\n",
        "print(all_vals)\n",
        "baseline_team1 = success / all_vals\n",
        "print(baseline_team1)"
      ],
      "execution_count": 0,
      "outputs": [
        {
          "output_type": "stream",
          "text": [
            "7401\n",
            "10000\n",
            "0.7401\n"
          ],
          "name": "stdout"
        }
      ]
    },
    {
      "cell_type": "markdown",
      "metadata": {
        "id": "SWHpoFqii5eO",
        "colab_type": "text"
      },
      "source": [
        "Team2:"
      ]
    },
    {
      "cell_type": "code",
      "metadata": {
        "id": "flS1F5i4Mpkd",
        "colab_type": "code",
        "outputId": "5bc4cdbc-65b5-4751-b194-87a640272300",
        "colab": {
          "base_uri": "https://localhost:8080/",
          "height": 123
        }
      },
      "source": [
        "for i, text in tqdm(enumerate(subset_english['result.tsv'].values)):\n",
        "    if subset_english['list_direct_match_for_teams2'][i] == 1:\n",
        "        continue\n",
        "    else:\n",
        "        #print(i)\n",
        "        capital_words_en = re.findall(r'([A-Z][a-z]+)', text)\n",
        "        quotes = re.findall(r'\\\"(.+?)\\\"', text)\n",
        "        quotes2 = re.findall(r'«(.+?)»', text)\n",
        "        quotes3 = re.findall(r'\\'(.+?)\\'', text)\n",
        "        search_words = capital_words_en + quotes + quotes2 + quotes3\n",
        "        search_words = set(search_words)\n",
        "        good_words = [word for word in search_words if word.lower() not in newlist_set] \n",
        "        #print(good_words)\n",
        "    \n",
        "        for word in good_words:\n",
        "            for team in unique_teams:\n",
        "                if fuzz.ratio(word, team) > 85 and subset_english['team_of_season_2_name_in_english'][i] == word:\n",
        "                    #print(english['team_of_season_2_name_in_english'][i], word, team, fuzz.ratio(word, team))\n",
        "                    subset_english['list_direct_match_for_teams2'][i] = 1\n",
        "\n",
        "                    break\n"
      ],
      "execution_count": 0,
      "outputs": [
        {
          "output_type": "stream",
          "text": [
            "3it [00:00,  3.22it/s]/usr/local/lib/python3.6/dist-packages/ipykernel_launcher.py:19: SettingWithCopyWarning: \n",
            "A value is trying to be set on a copy of a slice from a DataFrame\n",
            "\n",
            "See the caveats in the documentation: https://pandas.pydata.org/pandas-docs/stable/user_guide/indexing.html#returning-a-view-versus-a-copy\n",
            "10000it [31:32,  5.28it/s]\n"
          ],
          "name": "stderr"
        }
      ]
    },
    {
      "cell_type": "code",
      "metadata": {
        "id": "OZox49W8NO2a",
        "colab_type": "code",
        "outputId": "dddbfd85-58b0-4b4d-f73a-c4445a114deb",
        "colab": {
          "base_uri": "https://localhost:8080/",
          "height": 68
        }
      },
      "source": [
        "success = subset_english[subset_english['list_direct_match_for_teams2'] == 1].shape[0]\n",
        "print(success)\n",
        "all_vals = subset_english['list_direct_match_for_teams2'].shape[0]\n",
        "print(all_vals)\n",
        "baseline_team2 = success / all_vals\n",
        "print(baseline_team2)"
      ],
      "execution_count": 0,
      "outputs": [
        {
          "output_type": "stream",
          "text": [
            "3396\n",
            "10000\n",
            "0.3396\n"
          ],
          "name": "stdout"
        }
      ]
    },
    {
      "cell_type": "code",
      "metadata": {
        "id": "mbVxyt93NezT",
        "colab_type": "code",
        "outputId": "6ea19c80-f912-4d5f-fa6d-3e2218a60d83",
        "colab": {
          "base_uri": "https://localhost:8080/",
          "height": 123
        }
      },
      "source": [
        "for i, text in tqdm(enumerate(subset_english['result.tsv'].values)):\n",
        "    if subset_english['list_direct_match_for_teams2'][i] == 1:\n",
        "        continue\n",
        "    else:\n",
        "        #print(i)\n",
        "        capital_words_en = re.findall(r'([A-Z][a-z]+)', text)\n",
        "        quotes = re.findall(r'\\\"(.+?)\\\"', text)\n",
        "        quotes2 = re.findall(r'«(.+?)»', text)\n",
        "        quotes3 = re.findall(r'\\'(.+?)\\'', text)\n",
        "        search_words = capital_words_en + quotes + quotes2 + quotes3\n",
        "        search_words = set(search_words)\n",
        "        good_words = [word for word in search_words if word.lower() not in newlist_set] \n",
        "        \n",
        "\n",
        "        for word in good_words:\n",
        "            for team in unique_teams:\n",
        "                if (pd.isnull(subset_english['team_of_season_2_name_in_english'][i])==False):\n",
        "                  if fuzz.ratio(word, team) > 35 and fuzz.ratio(word, subset_english['team_of_season_2_name_in_english'][i]) > 35:                    #print(russian['team_of_season_2_name_in_russian'][i], word, team, fuzz.ratio(word, team))\n",
        "                      subset_english['list_direct_match_for_teams2'][i] = 1\n",
        "\n",
        "                      break"
      ],
      "execution_count": 0,
      "outputs": [
        {
          "output_type": "stream",
          "text": [
            "\r0it [00:00, ?it/s]/usr/local/lib/python3.6/dist-packages/ipykernel_launcher.py:19: SettingWithCopyWarning: \n",
            "A value is trying to be set on a copy of a slice from a DataFrame\n",
            "\n",
            "See the caveats in the documentation: https://pandas.pydata.org/pandas-docs/stable/user_guide/indexing.html#returning-a-view-versus-a-copy\n",
            "10000it [31:51,  5.23it/s]\n"
          ],
          "name": "stderr"
        }
      ]
    },
    {
      "cell_type": "code",
      "metadata": {
        "id": "Uq5fMN-uN1rx",
        "colab_type": "code",
        "outputId": "8fd270c8-68ca-4906-c7a6-e873924e607f",
        "colab": {
          "base_uri": "https://localhost:8080/",
          "height": 68
        }
      },
      "source": [
        "success = subset_english[subset_english['list_direct_match_for_teams2'] == 1].shape[0]\n",
        "print(success)\n",
        "all_vals = subset_english['list_direct_match_for_teams2'].shape[0]\n",
        "print(all_vals)\n",
        "baseline_team2 = success / all_vals\n",
        "print(baseline_team2)"
      ],
      "execution_count": 0,
      "outputs": [
        {
          "output_type": "stream",
          "text": [
            "7171\n",
            "10000\n",
            "0.7171\n"
          ],
          "name": "stdout"
        }
      ]
    },
    {
      "cell_type": "code",
      "metadata": {
        "id": "MEXwv01YjR_H",
        "colab_type": "code",
        "colab": {}
      },
      "source": [
        "subset_english.to_csv('fuzzylistsnew20106.csv', index = False)"
      ],
      "execution_count": 0,
      "outputs": []
    },
    {
      "cell_type": "markdown",
      "metadata": {
        "id": "uHhXTf4QjZ8l",
        "colab_type": "text"
      },
      "source": [
        "League:"
      ]
    },
    {
      "cell_type": "code",
      "metadata": {
        "id": "2Cy_fg_NjcCy",
        "colab_type": "code",
        "colab": {}
      },
      "source": [
        "leagues_match = np.zeros(subset_english.shape[0])"
      ],
      "execution_count": 0,
      "outputs": []
    },
    {
      "cell_type": "code",
      "metadata": {
        "id": "DsQrRp5CkyQG",
        "colab_type": "code",
        "outputId": "6145e823-86ea-4de2-c82f-14d51a5b4826",
        "colab": {
          "base_uri": "https://localhost:8080/",
          "height": 1000
        }
      },
      "source": [
        "for i, text in tqdm(enumerate(subset_english['result.tsv'].values)):\n",
        "    #print(i)\n",
        "    capital_words_en = re.findall(r'([A-Z][a-z]+)', text)\n",
        "    quotes = re.findall(r'\\\"(.+?)\\\"', text)\n",
        "    quotes2 = re.findall(r'«(.+?)»', text)\n",
        "    quotes3 = re.findall(r'\\'(.+?)\\'', text)\n",
        "    search_words = capital_words_en + quotes + quotes2 + quotes3\n",
        "    search_words = set(search_words)\n",
        "    good_words = [word for word in search_words if word.lower() not in newlist_set] \n",
        "    #print(good_words)\n",
        "    \n",
        "    for word in good_words:\n",
        "        for league in unique_leagues:\n",
        "            if fuzz.ratio(word, league) > 50 and fuzz.ratio(word, subset_english['league_name_in_english'][i]) > 50:\n",
        "                print(subset_english['league_name_in_english'][i], word, league, fuzz.ratio(word, league))\n",
        "                #print('yes')\n",
        "                leagues_match[i] = 1\n",
        "\n",
        "                break"
      ],
      "execution_count": 0,
      "outputs": [
        {
          "output_type": "stream",
          "text": [
            "24it [00:00, 114.78it/s]"
          ],
          "name": "stderr"
        },
        {
          "output_type": "stream",
          "text": [
            "example Camp example 55\n",
            "Premier League League Premier League 60\n"
          ],
          "name": "stdout"
        },
        {
          "output_type": "stream",
          "text": [
            "54it [00:00, 121.11it/s]"
          ],
          "name": "stderr"
        },
        {
          "output_type": "stream",
          "text": [
            "League One League Premier League 60\n"
          ],
          "name": "stdout"
        },
        {
          "output_type": "stream",
          "text": [
            "112it [00:00, 125.13it/s]"
          ],
          "name": "stderr"
        },
        {
          "output_type": "stream",
          "text": [
            "Primeyra League League Premier League 60\n",
            "Bundesliga Bundesliga Bundesliga 100\n",
            "Ligue 1 Ligue A-League 62\n"
          ],
          "name": "stdout"
        },
        {
          "output_type": "stream",
          "text": [
            "151it [00:01, 147.44it/s]"
          ],
          "name": "stderr"
        },
        {
          "output_type": "stream",
          "text": [
            "Championship Championship Championship 100\n",
            "UEFA Champions League Champions Championship 86\n",
            "Allsvenskan Allsvenaskan Allsvenskan 96\n",
            "Allsvenskan Allsvenskan Allsvenskan 100\n"
          ],
          "name": "stdout"
        },
        {
          "output_type": "stream",
          "text": [
            "182it [00:01, 123.37it/s]"
          ],
          "name": "stderr"
        },
        {
          "output_type": "stream",
          "text": [
            "example Real example 55\n",
            "Serie A Serie series B 62\n",
            "Championship Championship Championship 100\n",
            "Championship Premiership Championship 52\n",
            "example Real example 55\n"
          ],
          "name": "stdout"
        },
        {
          "output_type": "stream",
          "text": [
            "212it [00:01, 131.38it/s]"
          ],
          "name": "stderr"
        },
        {
          "output_type": "stream",
          "text": [
            "UEFA Champions League Champions Championship 86\n",
            "Premier League Premier Premier League 67\n",
            "Premier League League Premier League 60\n",
            "League 2 Ligue A-League 62\n"
          ],
          "name": "stdout"
        },
        {
          "output_type": "stream",
          "text": [
            "240it [00:01, 125.85it/s]"
          ],
          "name": "stderr"
        },
        {
          "output_type": "stream",
          "text": [
            "Bundesliga Bundesliga Bundesliga 100\n",
            "example Camp example 55\n",
            "UEFA Champions League Champions Championship 86\n"
          ],
          "name": "stdout"
        },
        {
          "output_type": "stream",
          "text": [
            "297it [00:02, 135.32it/s]"
          ],
          "name": "stderr"
        },
        {
          "output_type": "stream",
          "text": [
            "Premier League League Premier League 60\n",
            "League Two League Premier League 60\n"
          ],
          "name": "stdout"
        },
        {
          "output_type": "stream",
          "text": [
            "330it [00:02, 123.62it/s]"
          ],
          "name": "stderr"
        },
        {
          "output_type": "stream",
          "text": [
            "League Two League Premier League 60\n",
            "Bundesliga Bundesliga Bundesliga 100\n",
            "J-League League Premier League 60\n",
            "League Zhyupiler League Premier League 60\n",
            "League Zhyupiler Jupiler Super 67\n",
            "Championship Championship Championship 100\n"
          ],
          "name": "stdout"
        },
        {
          "output_type": "stream",
          "text": [
            "356it [00:02, 121.44it/s]"
          ],
          "name": "stderr"
        },
        {
          "output_type": "stream",
          "text": [
            "Premier League League Premier League 60\n",
            "Premier League League Premier League 60\n"
          ],
          "name": "stdout"
        },
        {
          "output_type": "stream",
          "text": [
            "414it [00:03, 124.47it/s]"
          ],
          "name": "stderr"
        },
        {
          "output_type": "stream",
          "text": [
            "Bundesliga Bundesliga Bundesliga 100\n",
            "Ligue 1 Lge A-League 55\n",
            "example Real example 55\n",
            "America's Cup America America's Cup 70\n"
          ],
          "name": "stdout"
        },
        {
          "output_type": "stream",
          "text": [
            "467it [00:03, 120.32it/s]"
          ],
          "name": "stderr"
        },
        {
          "output_type": "stream",
          "text": [
            "Premier League League Premier League 60\n",
            "Premier League Premier Premier League 67\n",
            "Premier League League Premier League 60\n",
            "Premier League Premier Premier League 67\n",
            "Premier League League Premier League 60\n"
          ],
          "name": "stdout"
        },
        {
          "output_type": "stream",
          "text": [
            "533it [00:03, 141.39it/s]"
          ],
          "name": "stderr"
        },
        {
          "output_type": "stream",
          "text": [
            "Bundesliga Bundesliga Bundesliga 100\n",
            "J-League League Premier League 60\n",
            "example Real example 55\n",
            "example Bale example 55\n",
            "Premier League Premiership Championship 52\n"
          ],
          "name": "stdout"
        },
        {
          "output_type": "stream",
          "text": [
            "582it [00:04, 148.37it/s]"
          ],
          "name": "stderr"
        },
        {
          "output_type": "stream",
          "text": [
            "J-League League Premier League 60\n",
            "Championship Championship Championship 100\n",
            "Veikkausliiga Veikkausliiga Bundesliga 52\n",
            "League One League Premier League 60\n"
          ],
          "name": "stdout"
        },
        {
          "output_type": "stream",
          "text": [
            "614it [00:04, 134.85it/s]"
          ],
          "name": "stderr"
        },
        {
          "output_type": "stream",
          "text": [
            "Bundesliga Borussia Bundesliga 56\n",
            "Championship Championship Championship 100\n",
            "Allsvenskan Allsvenskan Allsvenskan 100\n",
            "Premier League Premiership Championship 52\n",
            "League 2 Ligue A-League 62\n"
          ],
          "name": "stdout"
        },
        {
          "output_type": "stream",
          "text": [
            "656it [00:04, 126.39it/s]"
          ],
          "name": "stderr"
        },
        {
          "output_type": "stream",
          "text": [
            "Premier League Premier Premier League 67\n",
            "Premier League League Premier League 60\n",
            "Championship Championship Championship 100\n",
            "Championship Championship Championship 100\n"
          ],
          "name": "stdout"
        },
        {
          "output_type": "stream",
          "text": [
            "701it [00:05, 127.42it/s]"
          ],
          "name": "stderr"
        },
        {
          "output_type": "stream",
          "text": [
            "Premier League League Premier League 60\n",
            "Cup AFL Cup gold Cup 55\n",
            "Premier League Premier Premier League 67\n",
            "Premier League League Premier League 60\n",
            "Bundesliga Bundesliga Bundesliga 100\n"
          ],
          "name": "stdout"
        },
        {
          "output_type": "stream",
          "text": [
            "727it [00:05, 94.98it/s] "
          ],
          "name": "stderr"
        },
        {
          "output_type": "stream",
          "text": [
            "Serie A Serie series B 62\n",
            "Eredivisie Eredivisie Eredivisie 100\n"
          ],
          "name": "stdout"
        },
        {
          "output_type": "stream",
          "text": [
            "753it [00:05, 105.47it/s]"
          ],
          "name": "stderr"
        },
        {
          "output_type": "stream",
          "text": [
            "Premier League Premiership Championship 52\n",
            "example Real example 55\n",
            "UEFA Champions League Champions Championship 86\n"
          ],
          "name": "stdout"
        },
        {
          "output_type": "stream",
          "text": [
            "804it [00:06, 126.66it/s]"
          ],
          "name": "stderr"
        },
        {
          "output_type": "stream",
          "text": [
            "Super Luzern Super 55\n",
            "Premier League Premier Premier League 67\n",
            "Super Superleague Premier League 56\n",
            "Ligue 1 Ligue A-League 62\n"
          ],
          "name": "stdout"
        },
        {
          "output_type": "stream",
          "text": [
            "837it [00:06, 138.43it/s]"
          ],
          "name": "stderr"
        },
        {
          "output_type": "stream",
          "text": [
            "UEFA Champions League Champions Championship 86\n",
            "Elitserien Valerenga Elitserien 53\n",
            "UEFA Champions League Champions Championship 86\n"
          ],
          "name": "stdout"
        },
        {
          "output_type": "stream",
          "text": [
            "867it [00:06, 127.87it/s]"
          ],
          "name": "stderr"
        },
        {
          "output_type": "stream",
          "text": [
            "Serie A Serie series B 62\n",
            "Premier League League Premier League 60\n",
            "Allsvenskan Allsvenskan Allsvenskan 100\n"
          ],
          "name": "stdout"
        },
        {
          "output_type": "stream",
          "text": [
            "898it [00:06, 129.18it/s]"
          ],
          "name": "stderr"
        },
        {
          "output_type": "stream",
          "text": [
            "UEFA Champions League Champions Championship 86\n"
          ],
          "name": "stdout"
        },
        {
          "output_type": "stream",
          "text": [
            "929it [00:07, 128.54it/s]"
          ],
          "name": "stderr"
        },
        {
          "output_type": "stream",
          "text": [
            "Championship Championship Championship 100\n",
            "UEFA Europa League European UEFA Europa League 54\n",
            "A-League League Premier League 60\n",
            "Primeyra League Primeira Premier League 55\n"
          ],
          "name": "stdout"
        },
        {
          "output_type": "stream",
          "text": [
            "956it [00:07, 115.77it/s]"
          ],
          "name": "stderr"
        },
        {
          "output_type": "stream",
          "text": [
            "Premier League Premier Premier League 67\n",
            "Premier League League Premier League 60\n",
            "Bundesliga Borussia Bundesliga 56\n"
          ],
          "name": "stdout"
        },
        {
          "output_type": "stream",
          "text": [
            "1001it [00:07, 122.65it/s]"
          ],
          "name": "stderr"
        },
        {
          "output_type": "stream",
          "text": [
            "J-League League Premier League 60\n",
            "Bundesliga Bundesliga Bundesliga 100\n"
          ],
          "name": "stdout"
        },
        {
          "output_type": "stream",
          "text": [
            "1039it [00:07, 138.43it/s]"
          ],
          "name": "stderr"
        },
        {
          "output_type": "stream",
          "text": [
            "Championship Championship Championship 100\n",
            "Elitserien Valerenga Elitserien 53\n",
            "Elitserien Eliteserien series B 53\n",
            "League One League Premier League 60\n"
          ],
          "name": "stdout"
        },
        {
          "output_type": "stream",
          "text": [
            "1069it [00:08, 129.53it/s]"
          ],
          "name": "stderr"
        },
        {
          "output_type": "stream",
          "text": [
            "Bundesliga Borussia Bundesliga 56\n",
            "Premier League League Premier League 60\n",
            "League Two League Premier League 60\n",
            "Premier League Premiership Championship 52\n",
            "Elitserien Valerenga Elitserien 53\n"
          ],
          "name": "stdout"
        },
        {
          "output_type": "stream",
          "text": [
            "1097it [00:08, 131.76it/s]"
          ],
          "name": "stderr"
        },
        {
          "output_type": "stream",
          "text": [
            "Bundesliga Borussia Bundesliga 56\n",
            "Bundesliga Bundesliga Bundesliga 100\n",
            "Premier League Premier Premier League 67\n",
            "Premier League League Premier League 60\n"
          ],
          "name": "stdout"
        },
        {
          "output_type": "stream",
          "text": [
            "1139it [00:08, 109.27it/s]"
          ],
          "name": "stderr"
        },
        {
          "output_type": "stream",
          "text": [
            "Championship Championship Championship 100\n"
          ],
          "name": "stdout"
        },
        {
          "output_type": "stream",
          "text": [
            "1167it [00:09, 111.27it/s]"
          ],
          "name": "stderr"
        },
        {
          "output_type": "stream",
          "text": [
            "Allsvenskan Allsvenkan Allsvenskan 95\n",
            "Premier League Premier Premier League 67\n",
            "Premier League League Premier League 60\n",
            "League 2 League Premier League 60\n",
            "UEFA Europa League European UEFA Europa League 54\n"
          ],
          "name": "stdout"
        },
        {
          "output_type": "stream",
          "text": [
            "1192it [00:09, 114.24it/s]"
          ],
          "name": "stderr"
        },
        {
          "output_type": "stream",
          "text": [
            "Championship Championship Championship 100\n",
            "Premier League League Premier League 60\n",
            "Bundesliga Bundesliga Bundesliga 100\n"
          ],
          "name": "stdout"
        },
        {
          "output_type": "stream",
          "text": [
            "1247it [00:09, 129.57it/s]"
          ],
          "name": "stderr"
        },
        {
          "output_type": "stream",
          "text": [
            "Premier League League Premier League 60\n",
            "Premier League Premie Premier League 60\n",
            "Championship Championship Championship 100\n"
          ],
          "name": "stdout"
        },
        {
          "output_type": "stream",
          "text": [
            "1276it [00:09, 127.23it/s]"
          ],
          "name": "stderr"
        },
        {
          "output_type": "stream",
          "text": [
            "League One League Premier League 60\n",
            "UEFA Champions League Champions Championship 86\n",
            "Premier League Premier Premier League 67\n",
            "Premier League League Premier League 60\n"
          ],
          "name": "stdout"
        },
        {
          "output_type": "stream",
          "text": [
            "1305it [00:10, 121.15it/s]"
          ],
          "name": "stderr"
        },
        {
          "output_type": "stream",
          "text": [
            "UEFA Champions League Champions Championship 86\n",
            "America's Cup America America's Cup 70\n"
          ],
          "name": "stdout"
        },
        {
          "output_type": "stream",
          "text": [
            "1345it [00:10, 120.47it/s]"
          ],
          "name": "stderr"
        },
        {
          "output_type": "stream",
          "text": [
            "Segunda Segunda Segunda 100\n",
            "Bundesliga Bundesliga Bundesliga 100\n",
            "Segunda Segunda Segunda 100\n"
          ],
          "name": "stdout"
        },
        {
          "output_type": "stream",
          "text": [
            "1374it [00:10, 129.75it/s]"
          ],
          "name": "stderr"
        },
        {
          "output_type": "stream",
          "text": [
            "Serie A Serie series B 62\n",
            "Premier League League Premier League 60\n"
          ],
          "name": "stdout"
        },
        {
          "output_type": "stream",
          "text": [
            "1403it [00:10, 132.16it/s]"
          ],
          "name": "stderr"
        },
        {
          "output_type": "stream",
          "text": [
            "Bundesliga Bundesliga Bundesliga 100\n",
            "Premier League League Premier League 60\n",
            "Premier League League Premier League 60\n"
          ],
          "name": "stdout"
        },
        {
          "output_type": "stream",
          "text": [
            "1447it [00:11, 132.65it/s]"
          ],
          "name": "stderr"
        },
        {
          "output_type": "stream",
          "text": [
            "League Two League Premier League 60\n",
            "UEFA Champions League Champions Championship 86\n",
            "Premier League Premier Premier League 67\n",
            "Premier League League Premier League 60\n",
            "League Two League Premier League 60\n"
          ],
          "name": "stdout"
        },
        {
          "output_type": "stream",
          "text": [
            "1477it [00:11, 140.21it/s]"
          ],
          "name": "stderr"
        },
        {
          "output_type": "stream",
          "text": [
            "League One League Premier League 60\n",
            "Championship Championship Championship 100\n"
          ],
          "name": "stdout"
        },
        {
          "output_type": "stream",
          "text": [
            "1557it [00:11, 143.48it/s]"
          ],
          "name": "stderr"
        },
        {
          "output_type": "stream",
          "text": [
            "Premier League Premier Premier League 67\n",
            "Premier League League Premier League 60\n",
            "Serie A Serie series B 62\n",
            "Premier League Premiership Championship 52\n",
            "Premier League League Premier League 60\n",
            "Primeyra League League Premier League 60\n",
            "Premier League Premier Premier League "
          ],
          "name": "stdout"
        },
        {
          "output_type": "stream",
          "text": [
            "1586it [00:12, 125.22it/s]"
          ],
          "name": "stderr"
        },
        {
          "output_type": "stream",
          "text": [
            "67\n",
            "Premier League s five Premier League matches. He Premier League 60\n",
            "Premier League League Premier League 60\n",
            "Premier League Premier Premier League 67\n",
            "Premier League League Premier League 60\n",
            "Championship Championship Championship 100\n"
          ],
          "name": "stdout"
        },
        {
          "output_type": "stream",
          "text": [
            "1616it [00:12, 135.69it/s]"
          ],
          "name": "stderr"
        },
        {
          "output_type": "stream",
          "text": [
            "Premier League Premier Premier League 67\n",
            "Premier League League Premier League 60\n",
            "Premier League Premier Premier League 67\n",
            "Premier League League Premier League 60\n",
            "Premier League League Premier League 60\n",
            "Premier League League Premier League 60\n",
            "Premier League Premier Premier League 67\n",
            "Ligue 1 Ligue A-League 62\n",
            "Serie A Serie series B 62\n",
            "League One League Premier League 60\n"
          ],
          "name": "stdout"
        },
        {
          "output_type": "stream",
          "text": [
            "1666it [00:12, 141.77it/s]"
          ],
          "name": "stderr"
        },
        {
          "output_type": "stream",
          "text": [
            "League One League Premier League 60\n",
            "Premier League Premier Premier League 67\n",
            "example Real example 55\n",
            "A-League League Premier League 60\n",
            "Super Superliga Bundesliga 63\n"
          ],
          "name": "stdout"
        },
        {
          "output_type": "stream",
          "text": [
            "1701it [00:13, 146.16it/s]"
          ],
          "name": "stderr"
        },
        {
          "output_type": "stream",
          "text": [
            "Serie A Serie series B 62\n",
            "Bundesliga Bundesliga Bundesliga 100\n",
            "Premier League League Premier League 60\n",
            "UEFA Europa League European UEFA Europa League 54\n",
            "Veikkausliiga Veikkausliiga Bundesliga 52\n"
          ],
          "name": "stdout"
        },
        {
          "output_type": "stream",
          "text": [
            "1750it [00:13, 151.32it/s]"
          ],
          "name": "stderr"
        },
        {
          "output_type": "stream",
          "text": [
            "Bundesliga Bundesliga Bundesliga 100\n",
            "Championship Championship Championship 100\n",
            "African Cup of Nations Africans America's Cup 57\n",
            "Premier League League Premier League 60\n",
            "Premier League Premier Premier League 67\n",
            "Premier League Premiership Championship"
          ],
          "name": "stdout"
        },
        {
          "output_type": "stream",
          "text": [
            "1782it [00:13, 140.79it/s]"
          ],
          "name": "stderr"
        },
        {
          "output_type": "stream",
          "text": [
            " 52\n",
            "Cup AFL Cup gold Cup 55\n",
            "Premier League Premier Premier League 67\n",
            "Premier League League Premier League 60\n"
          ],
          "name": "stdout"
        },
        {
          "output_type": "stream",
          "text": [
            "1812it [00:13, 131.62it/s]"
          ],
          "name": "stderr"
        },
        {
          "output_type": "stream",
          "text": [
            "Ligue 1 Ligue A-League 62\n",
            "Ligue 1 Ligue A-League 62\n",
            "Premier League League Premier League 60\n",
            "Premier League Premiership Championship 52\n"
          ],
          "name": "stdout"
        },
        {
          "output_type": "stream",
          "text": [
            "1841it [00:14, 133.56it/s]"
          ],
          "name": "stderr"
        },
        {
          "output_type": "stream",
          "text": [
            "Elitserien Valerenga Elitserien 53\n",
            "Championship Championship Championship 100\n",
            "series B Serie series B 62\n"
          ],
          "name": "stdout"
        },
        {
          "output_type": "stream",
          "text": [
            "1876it [00:14, 149.27it/s]"
          ],
          "name": "stderr"
        },
        {
          "output_type": "stream",
          "text": [
            "Super Super Super 100\n",
            "Premier League Premier Premier League 67\n",
            "Premier League League Premier League 60\n"
          ],
          "name": "stdout"
        },
        {
          "output_type": "stream",
          "text": [
            "\r1892it [00:14, 147.03it/s]"
          ],
          "name": "stderr"
        },
        {
          "output_type": "stream",
          "text": [
            "National League National National League 70\n",
            "National League League Premier League 60\n"
          ],
          "name": "stdout"
        },
        {
          "output_type": "stream",
          "text": [
            "1925it [00:14, 115.67it/s]"
          ],
          "name": "stderr"
        },
        {
          "output_type": "stream",
          "text": [
            "Premier League League Premier League 60\n"
          ],
          "name": "stdout"
        },
        {
          "output_type": "stream",
          "text": [
            "1962it [00:14, 135.89it/s]"
          ],
          "name": "stderr"
        },
        {
          "output_type": "stream",
          "text": [
            "African Cup of Nations Africans America's Cup 57\n",
            "League One League Premier League 60\n",
            "Premier League League Premier League 60\n",
            "Super Super Super 100\n"
          ],
          "name": "stdout"
        },
        {
          "output_type": "stream",
          "text": [
            "2006it [00:15, 123.38it/s]"
          ],
          "name": "stderr"
        },
        {
          "output_type": "stream",
          "text": [
            "League Two League Premier League 60\n",
            "Premier League Premiership Championship 52\n",
            "Super Superleague Premier League 56\n"
          ],
          "name": "stdout"
        },
        {
          "output_type": "stream",
          "text": [
            "2032it [00:15, 125.14it/s]"
          ],
          "name": "stderr"
        },
        {
          "output_type": "stream",
          "text": [
            "America's Cup America America's Cup 70\n",
            "UEFA Europa League European UEFA Europa League 54\n",
            "Premier League Prmeier Premier League 57\n",
            "Premier League Premier Premier League 67\n",
            "Premier League League Premier League 60\n",
            "example Real example 55\n"
          ],
          "name": "stdout"
        },
        {
          "output_type": "stream",
          "text": [
            "2073it [00:15, 127.55it/s]"
          ],
          "name": "stderr"
        },
        {
          "output_type": "stream",
          "text": [
            "Championship Championship Championship 100\n",
            "Premier League League Premier League 60\n",
            "example Real example 55\n"
          ],
          "name": "stdout"
        },
        {
          "output_type": "stream",
          "text": [
            "2099it [00:16, 115.42it/s]"
          ],
          "name": "stderr"
        },
        {
          "output_type": "stream",
          "text": [
            "Premier League League Premier League 60\n",
            "Premier League League Premier League 60\n",
            "example Real example 55\n",
            "Premier League Premier Premier League 67\n",
            "Premier League League Premier League 60\n"
          ],
          "name": "stdout"
        },
        {
          "output_type": "stream",
          "text": [
            "2140it [00:16, 123.04it/s]"
          ],
          "name": "stderr"
        },
        {
          "output_type": "stream",
          "text": [
            "America's Cup America America's Cup 70\n"
          ],
          "name": "stdout"
        },
        {
          "output_type": "stream",
          "text": [
            "2181it [00:16, 123.97it/s]"
          ],
          "name": "stderr"
        },
        {
          "output_type": "stream",
          "text": [
            "UEFA Champions League Champions Championship 86\n",
            "Premier League Premier Premier League 67\n",
            "Premier League League Premier League 60\n",
            "Premier League League Premier League 60\n",
            "Premier League Premiership Championship 52\n"
          ],
          "name": "stdout"
        },
        {
          "output_type": "stream",
          "text": [
            "2221it [00:17, 118.59it/s]"
          ],
          "name": "stderr"
        },
        {
          "output_type": "stream",
          "text": [
            "Cup AFL Cup gold Cup 55\n",
            "Premier League Premiership Championship 52\n"
          ],
          "name": "stdout"
        },
        {
          "output_type": "stream",
          "text": [
            "2262it [00:17, 127.16it/s]"
          ],
          "name": "stderr"
        },
        {
          "output_type": "stream",
          "text": [
            "Eredivisie Eredivisie Eredivisie 100\n",
            "America's Cup America America's Cup 70\n",
            "Premier League League Premier League 60\n"
          ],
          "name": "stdout"
        },
        {
          "output_type": "stream",
          "text": [
            "2293it [00:17, 125.06it/s]"
          ],
          "name": "stderr"
        },
        {
          "output_type": "stream",
          "text": [
            "Ligue 1 Ligue A-League 62\n"
          ],
          "name": "stdout"
        },
        {
          "output_type": "stream",
          "text": [
            "2371it [00:18, 128.22it/s]"
          ],
          "name": "stderr"
        },
        {
          "output_type": "stream",
          "text": [
            "UEFA Champions League Champions Championship 86\n",
            "Ligue 1 League Premier League 60\n"
          ],
          "name": "stdout"
        },
        {
          "output_type": "stream",
          "text": [
            "2413it [00:18, 119.17it/s]"
          ],
          "name": "stderr"
        },
        {
          "output_type": "stream",
          "text": [
            "Premier League Premiership Championship 52\n",
            "League One League Premier League 60\n",
            "Premier League League Premier League 60\n"
          ],
          "name": "stdout"
        },
        {
          "output_type": "stream",
          "text": [
            "2442it [00:18, 121.91it/s]"
          ],
          "name": "stderr"
        },
        {
          "output_type": "stream",
          "text": [
            "Premier League League Premier League 60\n",
            "Bundesliga Bundesliga Bundesliga 100\n",
            "Premier League Trezeguet Premier League 52\n",
            "Premier League Premier Premier League 67\n",
            "Premier League League Premier League 60\n"
          ],
          "name": "stdout"
        },
        {
          "output_type": "stream",
          "text": [
            "2492it [00:19, 142.81it/s]"
          ],
          "name": "stderr"
        },
        {
          "output_type": "stream",
          "text": [
            "Championship Championship Championship 100\n",
            "Premier League Premier Premier League 67\n",
            "Premier League League Premier League 60\n",
            "Premier League League Premier League 60\n",
            "Premier League Premiership Championship 52\n"
          ],
          "name": "stdout"
        },
        {
          "output_type": "stream",
          "text": [
            "2543it [00:19, 150.15it/s]"
          ],
          "name": "stderr"
        },
        {
          "output_type": "stream",
          "text": [
            "UEFA Europa League European UEFA Europa League 54\n",
            "Bundesliga Bundesliga Bundesliga 100\n",
            "Championship Championship Championship 100\n",
            "Championship Championship Championship 100\n",
            "League One League Premier League 60\n",
            "Premier League Premier Premier League 67\n"
          ],
          "name": "stdout"
        },
        {
          "output_type": "stream",
          "text": [
            "2591it [00:19, 139.44it/s]"
          ],
          "name": "stderr"
        },
        {
          "output_type": "stream",
          "text": [
            "UEFA Champions League Champions Championship 86\n",
            "UEFA Champions League Champions Championship 86\n",
            "example Real example 55\n"
          ],
          "name": "stdout"
        },
        {
          "output_type": "stream",
          "text": [
            "2621it [00:20, 129.12it/s]"
          ],
          "name": "stderr"
        },
        {
          "output_type": "stream",
          "text": [
            "Bundesliga Bundesliga Bundesliga 100\n",
            "Premier League Premiership Championship 52\n",
            "Premier League Premier Premier League 67\n",
            "Premier League League Premier League 60\n"
          ],
          "name": "stdout"
        },
        {
          "output_type": "stream",
          "text": [
            "2649it [00:20, 119.06it/s]"
          ],
          "name": "stderr"
        },
        {
          "output_type": "stream",
          "text": [
            "Serie A Serie series B 62\n",
            "UEFA Europa League European UEFA Europa League 54\n",
            "Championship Championship Championship 100\n",
            "UEFA Champions League Champions Championship 86\n",
            "Championship Championship Championship 100\n"
          ],
          "name": "stdout"
        },
        {
          "output_type": "stream",
          "text": [
            "2698it [00:20, 137.48it/s]"
          ],
          "name": "stderr"
        },
        {
          "output_type": "stream",
          "text": [
            "Allsvenskan Allsvenskan Allsvenskan 100\n",
            "example Real example 55\n",
            "Serie A Serie series B 62\n",
            "Premier League Premier Premier League 67\n",
            "Premier League League Premier League 60\n"
          ],
          "name": "stdout"
        },
        {
          "output_type": "stream",
          "text": [
            "2728it [00:20, 133.15it/s]"
          ],
          "name": "stderr"
        },
        {
          "output_type": "stream",
          "text": [
            "League One League Premier League 60\n",
            "Championship Championship Championship 100\n"
          ],
          "name": "stdout"
        },
        {
          "output_type": "stream",
          "text": [
            "2756it [00:21, 127.92it/s]"
          ],
          "name": "stderr"
        },
        {
          "output_type": "stream",
          "text": [
            "Premier League League Premier League 60\n",
            "Premier League Premier Premier League 67\n",
            "Premier League League Premier League 60\n"
          ],
          "name": "stdout"
        },
        {
          "output_type": "stream",
          "text": [
            "2790it [00:21, 135.26it/s]"
          ],
          "name": "stderr"
        },
        {
          "output_type": "stream",
          "text": [
            "Ligue 1 Ligue A-League 62\n",
            "Premier League Premiership Championship 52\n",
            "U21 Ligi Lig Ligue 1 60\n",
            "UEFA Champions League Champions Championship 86\n"
          ],
          "name": "stdout"
        },
        {
          "output_type": "stream",
          "text": [
            "2824it [00:21, 142.27it/s]"
          ],
          "name": "stderr"
        },
        {
          "output_type": "stream",
          "text": [
            "Premier League Premier Premier League 67\n",
            "Premier League League Premier League 60\n",
            "Bundesliga Bundesliga Bundesliga 100\n",
            "Bundesliga Bundersliga Bundesliga 95\n"
          ],
          "name": "stdout"
        },
        {
          "output_type": "stream",
          "text": [
            "2853it [00:21, 134.53it/s]"
          ],
          "name": "stderr"
        },
        {
          "output_type": "stream",
          "text": [
            "Serie A Serie series B 62\n",
            "Premier League Prague Premier League 60\n",
            "UEFA Champions League Champions Championship 86\n",
            "Premier League Premiership "
          ],
          "name": "stdout"
        },
        {
          "output_type": "stream",
          "text": [
            "2885it [00:22, 144.15it/s]"
          ],
          "name": "stderr"
        },
        {
          "output_type": "stream",
          "text": [
            "Championship 52\n",
            "Premier League League Premier League 60\n",
            "Championship Championship Championship 100\n"
          ],
          "name": "stdout"
        },
        {
          "output_type": "stream",
          "text": [
            "2928it [00:22, 121.35it/s]"
          ],
          "name": "stderr"
        },
        {
          "output_type": "stream",
          "text": [
            "Segunda Segunda Segunda 100\n",
            "Ekstraklasa Ekstraklasa Ekstraklasa 100\n",
            "UEFA Europa League European UEFA Europa League 54\n",
            "example Real example 55\n",
            "Premier League League Premier League 60\n",
            "Premier League Premier Premier League 67\n"
          ],
          "name": "stdout"
        },
        {
          "output_type": "stream",
          "text": [
            "2958it [00:22, 130.64it/s]"
          ],
          "name": "stderr"
        },
        {
          "output_type": "stream",
          "text": [
            "UEFA Europa League European UEFA Europa League 54\n",
            "UEFA Champions League Champions Championship 86\n"
          ],
          "name": "stdout"
        },
        {
          "output_type": "stream",
          "text": [
            "3009it [00:22, 139.91it/s]"
          ],
          "name": "stderr"
        },
        {
          "output_type": "stream",
          "text": [
            "Serie A Serie series B 62\n",
            "J-League League Premier League 60\n",
            "Bundesliga Borussia Bundesliga 56\n",
            "Super Luzern Super 55\n"
          ],
          "name": "stdout"
        },
        {
          "output_type": "stream",
          "text": [
            "3061it [00:23, 156.30it/s]"
          ],
          "name": "stderr"
        },
        {
          "output_type": "stream",
          "text": [
            "Championship Premiership Championship 52\n",
            "example Real example 55\n"
          ],
          "name": "stdout"
        },
        {
          "output_type": "stream",
          "text": [
            "3093it [00:23, 146.21it/s]"
          ],
          "name": "stderr"
        },
        {
          "output_type": "stream",
          "text": [
            "League 2 Ligue A-League 62\n",
            "Premier League League Premier League 60\n"
          ],
          "name": "stdout"
        },
        {
          "output_type": "stream",
          "text": [
            "3126it [00:23, 147.73it/s]"
          ],
          "name": "stderr"
        },
        {
          "output_type": "stream",
          "text": [
            "Segunda Segunda Segunda 100\n",
            "Premier League League Premier League 60\n",
            "Premier League Premier Premier League 67\n",
            "Championship Championship Championship 100\n",
            "UEFA Champions League Champions Championship 86\n",
            "example Real example 55\n",
            "National League National National League 70\n",
            "National League League Premier League 60\n"
          ],
          "name": "stdout"
        },
        {
          "output_type": "stream",
          "text": [
            "3177it [00:24, 148.61it/s]"
          ],
          "name": "stderr"
        },
        {
          "output_type": "stream",
          "text": [
            "League One League Premier League 60\n",
            "Premier League League Premier League 60\n",
            "International Friendlies Friendlies International Friendlies 59\n",
            "Super Superleague Premier League 56\n",
            "Bundesliga Bundesliga Bundesliga 100\n",
            "UEFA Champions League Champions Championship 86\n"
          ],
          "name": "stdout"
        },
        {
          "output_type": "stream",
          "text": [
            "3209it [00:24, 148.08it/s]"
          ],
          "name": "stderr"
        },
        {
          "output_type": "stream",
          "text": [
            "Bundesliga Borrusia Bundesliga 56\n",
            "Premier League Premier Premier League 67\n",
            "Premier League League Premier League 60\n",
            "J-League League Premier League 60\n"
          ],
          "name": "stdout"
        },
        {
          "output_type": "stream",
          "text": [
            "3258it [00:24, 143.54it/s]"
          ],
          "name": "stderr"
        },
        {
          "output_type": "stream",
          "text": [
            "Championship Chalton Championship 53\n",
            "Super Superliga Bundesliga 63\n",
            "Premier League Premier Premier League 67\n",
            "Premier League League Premier League 60\n",
            "Premier League League Premier League 60\n"
          ],
          "name": "stdout"
        },
        {
          "output_type": "stream",
          "text": [
            "3302it [00:25, 124.89it/s]"
          ],
          "name": "stderr"
        },
        {
          "output_type": "stream",
          "text": [
            "Bundesliga Bundesliga Bundesliga 100\n",
            "Premier League Premiership Championship 52\n",
            "Premier League Premier Premier League 67\n",
            "Premier League League Premier League 60\n",
            "Premier League Premier Premier League 67\n",
            "Premier League League Premier League 60\n",
            "Championship Championship Championship 100\n",
            "League One League Premier League 60\n"
          ],
          "name": "stdout"
        },
        {
          "output_type": "stream",
          "text": [
            "3363it [00:25, 138.66it/s]"
          ],
          "name": "stderr"
        },
        {
          "output_type": "stream",
          "text": [
            "Premier League Premiership Championship 52\n",
            "Bundesliga Bundesliga Bundesliga 100\n",
            "Championship Championship Championship 100\n",
            "Ligue 1 League Premier League 60\n"
          ],
          "name": "stdout"
        },
        {
          "output_type": "stream",
          "text": [
            "3394it [00:25, 133.49it/s]"
          ],
          "name": "stderr"
        },
        {
          "output_type": "stream",
          "text": [
            "Championship Championship Championship 100\n",
            "Premier League League Premier League 60\n",
            "Premier League Premier Premier League 67\n",
            "Premier League League Premier League 60\n",
            "Premier League Premier Premier League 67\n",
            "Premier League League Premier League 60\n"
          ],
          "name": "stdout"
        },
        {
          "output_type": "stream",
          "text": [
            "3425it [00:25, 134.01it/s]"
          ],
          "name": "stderr"
        },
        {
          "output_type": "stream",
          "text": [
            "Premier League League Premier League 60\n",
            "League Two League Premier League 60\n",
            "Premier League Premiership Championship 52\n"
          ],
          "name": "stdout"
        },
        {
          "output_type": "stream",
          "text": [
            "3463it [00:26, 155.07it/s]"
          ],
          "name": "stderr"
        },
        {
          "output_type": "stream",
          "text": [
            "Bundesliga Borussia Bundesliga 56\n",
            "Championship Premiership Championship 52\n",
            "Championship Championship Championship 100\n",
            "League One League Premier League 60\n",
            "Premier League Premier Premier League 67\n",
            "Premier League League Premier League 60\n",
            "Championship Championship Championship 100\n",
            "Premier League Premier Premier League 67\n",
            "Premier League League Premier League 60\n"
          ],
          "name": "stdout"
        },
        {
          "output_type": "stream",
          "text": [
            "3496it [00:26, 131.98it/s]"
          ],
          "name": "stderr"
        },
        {
          "output_type": "stream",
          "text": [
            "League Two League Premier League 60\n",
            "Premier League Premier Premier League 67\n",
            "Premier League League Premier League 60\n",
            "Championship Championship Championship 100\n"
          ],
          "name": "stdout"
        },
        {
          "output_type": "stream",
          "text": [
            "3544it [00:26, 133.31it/s]"
          ],
          "name": "stderr"
        },
        {
          "output_type": "stream",
          "text": [
            "League One League Premier League 60\n",
            "America's Cup America America's Cup 70\n",
            "Premier League League Premier League 60\n",
            "League Two League Premier League 60\n"
          ],
          "name": "stdout"
        },
        {
          "output_type": "stream",
          "text": [
            "3574it [00:27, 123.87it/s]"
          ],
          "name": "stderr"
        },
        {
          "output_type": "stream",
          "text": [
            "Premier League Premier Premier League 67\n",
            "Premier League League Premier League 60\n",
            "Bundesliga Bundesliga Bundesliga 100\n",
            "Ligue 1 Ligue A-League 62\n"
          ],
          "name": "stdout"
        },
        {
          "output_type": "stream",
          "text": [
            "3614it [00:27, 142.20it/s]"
          ],
          "name": "stderr"
        },
        {
          "output_type": "stream",
          "text": [
            "Championship Championship Championship 100\n"
          ],
          "name": "stdout"
        },
        {
          "output_type": "stream",
          "text": [
            "3661it [00:27, 129.14it/s]"
          ],
          "name": "stderr"
        },
        {
          "output_type": "stream",
          "text": [
            "Premier League League Premier League 60\n"
          ],
          "name": "stdout"
        },
        {
          "output_type": "stream",
          "text": [
            "3690it [00:27, 118.39it/s]"
          ],
          "name": "stderr"
        },
        {
          "output_type": "stream",
          "text": [
            "Bundesliga Borussia Bundesliga 56\n",
            "Bundesliga Bundesliga Bundesliga 100\n",
            "UEFA Champions League Champions Championship 86\n",
            "Premier League Premier Premier League 67\n",
            "Premier League League Premier League 60\n"
          ],
          "name": "stdout"
        },
        {
          "output_type": "stream",
          "text": [
            "3720it [00:28, 127.16it/s]"
          ],
          "name": "stderr"
        },
        {
          "output_type": "stream",
          "text": [
            "example Real example 55\n",
            "example Bale example 55\n",
            "Primeyra League Primera Premier League 57\n",
            "Championship Championship Championship 100\n",
            "Premier League Premier Premier League 67\n"
          ],
          "name": "stdout"
        },
        {
          "output_type": "stream",
          "text": [
            "3760it [00:28, 117.74it/s]"
          ],
          "name": "stderr"
        },
        {
          "output_type": "stream",
          "text": [
            "example Real example 55\n",
            "Elitserien Valerenga Elitserien 53\n"
          ],
          "name": "stdout"
        },
        {
          "output_type": "stream",
          "text": [
            "3789it [00:28, 119.40it/s]"
          ],
          "name": "stderr"
        },
        {
          "output_type": "stream",
          "text": [
            "Bundesliga Bundesliga Bundesliga 100\n",
            "Championship Championship Championship 100\n",
            "Premier League Premier Premier League 67\n",
            "Premier League League Premier League 60\n",
            "African Cup of Nations Africans America's Cup 57\n"
          ],
          "name": "stdout"
        },
        {
          "output_type": "stream",
          "text": [
            "3848it [00:29, 131.08it/s]"
          ],
          "name": "stderr"
        },
        {
          "output_type": "stream",
          "text": [
            "League One League Premier League 60\n",
            "Premier League League Premier League 60\n",
            "Premier League Premiership Championship 52\n",
            "J-League League Premier League 60\n"
          ],
          "name": "stdout"
        },
        {
          "output_type": "stream",
          "text": [
            "3897it [00:29, 145.02it/s]"
          ],
          "name": "stderr"
        },
        {
          "output_type": "stream",
          "text": [
            "Championship Championship Championship 100\n",
            "Championship Championship Championship 100\n",
            "Championship Premiership Championship 52\n",
            "UEFA Europa League European UEFA Europa League 54\n",
            "UEFA Champions League Champions Championship 86\n",
            "Serie A Serie series B 62\n",
            "UEFA Champions League Champions Championship 86\n"
          ],
          "name": "stdout"
        },
        {
          "output_type": "stream",
          "text": [
            "3928it [00:29, 133.39it/s]"
          ],
          "name": "stderr"
        },
        {
          "output_type": "stream",
          "text": [
            "Premier League League Premier League 60\n",
            "Bundesliga Bundesliga Bundesliga 100\n",
            "America's Cup America America's Cup 70\n",
            "Championship Championship Championship 100\n",
            "Premier League Premier Premier League 67\n",
            "Premier League League Premier League 60\n"
          ],
          "name": "stdout"
        },
        {
          "output_type": "stream",
          "text": [
            "3960it [00:30, 126.00it/s]"
          ],
          "name": "stderr"
        },
        {
          "output_type": "stream",
          "text": [
            "Serie A Serie series B 62\n",
            "Premier League Premier Premier League 67\n",
            "Premier League League Premier League 60\n"
          ],
          "name": "stdout"
        },
        {
          "output_type": "stream",
          "text": [
            "\r3976it [00:30, 133.30it/s]"
          ],
          "name": "stderr"
        },
        {
          "output_type": "stream",
          "text": [
            "Premier League League Premier League 60\n",
            "Super Sered Serie A 67\n"
          ],
          "name": "stdout"
        },
        {
          "output_type": "stream",
          "text": [
            "4032it [00:30, 115.46it/s]"
          ],
          "name": "stderr"
        },
        {
          "output_type": "stream",
          "text": [
            "example Real example 55\n",
            "Premier League Premier Premier League 67\n",
            "Premier League League Premier League 60\n",
            "UEFA Champions League Champions Championship 86\n"
          ],
          "name": "stdout"
        },
        {
          "output_type": "stream",
          "text": [
            "4071it [00:30, 144.02it/s]"
          ],
          "name": "stderr"
        },
        {
          "output_type": "stream",
          "text": [
            "Premiership Premiership Championship 52\n",
            "Eredivisie Eredivisie Eredivisie 100\n",
            "example Real example 55\n"
          ],
          "name": "stdout"
        },
        {
          "output_type": "stream",
          "text": [
            "4150it [00:31, 145.26it/s]"
          ],
          "name": "stderr"
        },
        {
          "output_type": "stream",
          "text": [
            "Premier League League Premier League 60\n",
            "Premier League Premier Premier League 67\n",
            "Premier League League Premier League 60\n",
            "Bundesliga Borussia Bundesliga 56\n",
            "America's Cup America America's Cup 70\n"
          ],
          "name": "stdout"
        },
        {
          "output_type": "stream",
          "text": [
            "4184it [00:31, 148.08it/s]"
          ],
          "name": "stderr"
        },
        {
          "output_type": "stream",
          "text": [
            "Ligue 1 League Premier League 60\n",
            "example Camp example 55\n",
            "gold Cup Cup gold Cup 55\n",
            "1st Division Division 1st Division 80\n"
          ],
          "name": "stdout"
        },
        {
          "output_type": "stream",
          "text": [
            "4214it [00:31, 126.29it/s]"
          ],
          "name": "stderr"
        },
        {
          "output_type": "stream",
          "text": [
            "Bundesliga Borussia Bundesliga 56\n",
            "Bundesliga Bundesliga Bundesliga 100\n",
            "Premier League League Premier League 60\n",
            "UEFA Champions League Champions Championship 86\n",
            "Ligue 1 League Premier League 60\n"
          ],
          "name": "stdout"
        },
        {
          "output_type": "stream",
          "text": [
            "4312it [00:32, 152.21it/s]"
          ],
          "name": "stderr"
        },
        {
          "output_type": "stream",
          "text": [
            "Premier League League Premier League 60\n",
            "Premier League Premier Premier League 67\n",
            "Premier League League Premier League 60\n"
          ],
          "name": "stdout"
        },
        {
          "output_type": "stream",
          "text": [
            "4349it [00:32, 151.19it/s]"
          ],
          "name": "stderr"
        },
        {
          "output_type": "stream",
          "text": [
            "J-League League Premier League 60\n",
            "Serie A Serie series B 62\n"
          ],
          "name": "stdout"
        },
        {
          "output_type": "stream",
          "text": [
            "4385it [00:33, 148.63it/s]"
          ],
          "name": "stderr"
        },
        {
          "output_type": "stream",
          "text": [
            "Ekstraklasa Ekstraklasa Ekstraklasa 100\n"
          ],
          "name": "stdout"
        },
        {
          "output_type": "stream",
          "text": [
            "4431it [00:33, 102.22it/s]"
          ],
          "name": "stderr"
        },
        {
          "output_type": "stream",
          "text": [
            "Ligue 1 Lge A-League 55\n",
            "Premier League Premier Premier League 67\n",
            "Premier League League Premier League 60\n",
            "League Zhyupiler League Premier League 60\n",
            "Allsvenskan Allsvenskan Allsvenskan 100\n",
            "Serie A Serie series B 62\n"
          ],
          "name": "stdout"
        },
        {
          "output_type": "stream",
          "text": [
            "4474it [00:33, 119.13it/s]"
          ],
          "name": "stderr"
        },
        {
          "output_type": "stream",
          "text": [
            "example Real example 55\n",
            "Eredivisie Eredivisie Eredivisie 100\n",
            "America's Cup America America's Cup 70\n"
          ],
          "name": "stdout"
        },
        {
          "output_type": "stream",
          "text": [
            "4507it [00:34, 127.93it/s]"
          ],
          "name": "stderr"
        },
        {
          "output_type": "stream",
          "text": [
            "America's Cup America America's Cup 70\n",
            "Premier League Premier Premier League 67\n",
            "Premier League League Premier League 60\n",
            "Premier League League Premier League 60\n",
            "Premier League Premier Premier League 67\n",
            "UEFA Europa League European UEFA Europa League 54\n"
          ],
          "name": "stdout"
        },
        {
          "output_type": "stream",
          "text": [
            "4559it [00:34, 126.57it/s]"
          ],
          "name": "stderr"
        },
        {
          "output_type": "stream",
          "text": [
            "UEFA Champions League Chanpions Championship 76\n",
            "J-League League Premier League 60\n",
            "League Two Eague A-League 62\n"
          ],
          "name": "stdout"
        },
        {
          "output_type": "stream",
          "text": [
            "4589it [00:34, 129.65it/s]"
          ],
          "name": "stderr"
        },
        {
          "output_type": "stream",
          "text": [
            "America's Cup America America's Cup 70\n"
          ],
          "name": "stdout"
        },
        {
          "output_type": "stream",
          "text": [
            "4629it [00:35, 117.71it/s]"
          ],
          "name": "stderr"
        },
        {
          "output_type": "stream",
          "text": [
            "Premier League Premier Premier League 67\n",
            "Premier League Premier Premier League 67\n",
            "Premier League League Premier League 60\n",
            "Bundesliga Bundesliga Bundesliga 100\n",
            "Bundesliga Borussia Bundesliga 56\n"
          ],
          "name": "stdout"
        },
        {
          "output_type": "stream",
          "text": [
            "4660it [00:35, 129.86it/s]"
          ],
          "name": "stderr"
        },
        {
          "output_type": "stream",
          "text": [
            "Championship Championship Championship 100\n",
            "UEFA Champions League Champions Championship 86\n",
            "Elitserien Valerenga Elitserien 53\n"
          ],
          "name": "stdout"
        },
        {
          "output_type": "stream",
          "text": [
            "\r4674it [00:35, 129.40it/s]"
          ],
          "name": "stderr"
        },
        {
          "output_type": "stream",
          "text": [
            "Europe championship. Qualification Qualification Europe championship. Qualification 55\n",
            "America's Cup Africa America's Cup 53\n",
            "America's Cup America America's Cup 70\n",
            "example Real example 55\n"
          ],
          "name": "stdout"
        },
        {
          "output_type": "stream",
          "text": [
            "4708it [00:35, 115.16it/s]"
          ],
          "name": "stderr"
        },
        {
          "output_type": "stream",
          "text": [
            "Premier League Premiership Championship 52\n",
            "example Camp example 55\n"
          ],
          "name": "stdout"
        },
        {
          "output_type": "stream",
          "text": [
            "4765it [00:36, 137.42it/s]"
          ],
          "name": "stderr"
        },
        {
          "output_type": "stream",
          "text": [
            "Serie A Striker Serie A 57\n",
            "Serie A Serie series B 62\n",
            "Cup AFL Cup gold Cup 55\n"
          ],
          "name": "stdout"
        },
        {
          "output_type": "stream",
          "text": [
            "4796it [00:36, 129.89it/s]"
          ],
          "name": "stderr"
        },
        {
          "output_type": "stream",
          "text": [
            "Cup AFL Cup gold Cup 55\n",
            "League One League Premier League 60\n"
          ],
          "name": "stdout"
        },
        {
          "output_type": "stream",
          "text": [
            "4825it [00:36, 135.35it/s]"
          ],
          "name": "stderr"
        },
        {
          "output_type": "stream",
          "text": [
            "Cup AFL Cup gold Cup 55\n",
            "example Real example 55\n",
            "Serie A Serie series B 62\n",
            "Ligue 1 Liga Ligue 1 55\n"
          ],
          "name": "stdout"
        },
        {
          "output_type": "stream",
          "text": [
            "4876it [00:36, 150.47it/s]"
          ],
          "name": "stderr"
        },
        {
          "output_type": "stream",
          "text": [
            "League 2 Ligue A-League 62\n",
            "Championship Championship Championship 100\n",
            "UEFA Champions League Champions Championship 86\n",
            "UEFA Europa League European UEFA Europa League 54\n",
            "Premier League League Premier League 60\n",
            "Bundesliga Borussia Bundesliga 56\n",
            "Bundesliga Bundesliga Bundesliga 100\n"
          ],
          "name": "stdout"
        },
        {
          "output_type": "stream",
          "text": [
            "4921it [00:37, 127.61it/s]"
          ],
          "name": "stderr"
        },
        {
          "output_type": "stream",
          "text": [
            "Premier League League Premier League 60\n",
            "America's Cup America America's Cup 70\n",
            "Premier League League Premier League 60\n",
            "Premier League Premiership Championship 52\n",
            "Premier League Premier Premier League 67\n"
          ],
          "name": "stdout"
        },
        {
          "output_type": "stream",
          "text": [
            "4979it [00:37, 129.31it/s]"
          ],
          "name": "stderr"
        },
        {
          "output_type": "stream",
          "text": [
            "League One League Premier League 60\n",
            "Premier League Premier Premier League 67\n",
            "Premier League League Premier League 60\n",
            "UEFA Champions League Champions Championship 86\n",
            "Premier League Premier Premier League 67\n",
            "Premier League League Premier League 60\n"
          ],
          "name": "stdout"
        },
        {
          "output_type": "stream",
          "text": [
            "5012it [00:37, 141.74it/s]"
          ],
          "name": "stderr"
        },
        {
          "output_type": "stream",
          "text": [
            "Serie A Seria Serie A 67\n",
            "Serie A Serie series B 62\n",
            "Serie A Serie series B 62\n"
          ],
          "name": "stdout"
        },
        {
          "output_type": "stream",
          "text": [
            "5051it [00:38, 146.54it/s]"
          ],
          "name": "stderr"
        },
        {
          "output_type": "stream",
          "text": [
            "example Real example 55\n",
            "UEFA Champions League Champions Championship 86\n",
            "League Two League Premier League"
          ],
          "name": "stdout"
        },
        {
          "output_type": "stream",
          "text": [
            "5082it [00:38, 141.30it/s]"
          ],
          "name": "stderr"
        },
        {
          "output_type": "stream",
          "text": [
            " 60\n",
            "Championship Championship Championship 100\n"
          ],
          "name": "stdout"
        },
        {
          "output_type": "stream",
          "text": [
            "5127it [00:38, 117.77it/s]"
          ],
          "name": "stderr"
        },
        {
          "output_type": "stream",
          "text": [
            "Ligue 1 Lge A-League 55\n",
            "League Two League Premier League 60\n"
          ],
          "name": "stdout"
        },
        {
          "output_type": "stream",
          "text": [
            "5156it [00:39, 120.09it/s]"
          ],
          "name": "stderr"
        },
        {
          "output_type": "stream",
          "text": [
            "Premier League Premiership Championship 52\n",
            "Premier League Premier Premier League 67\n",
            "Premier League League Premier League 60\n",
            "UEFA Champions League Champions Championship 86\n"
          ],
          "name": "stdout"
        },
        {
          "output_type": "stream",
          "text": [
            "5190it [00:39, 122.18it/s]"
          ],
          "name": "stderr"
        },
        {
          "output_type": "stream",
          "text": [
            "Super Superliga Bundesliga 63\n"
          ],
          "name": "stdout"
        },
        {
          "output_type": "stream",
          "text": [
            "5218it [00:39, 112.40it/s]"
          ],
          "name": "stderr"
        },
        {
          "output_type": "stream",
          "text": [
            "Premier League League Premier League 60\n",
            "Eredivisie Eredivisie Eredivisie 100\n",
            "Ligue 1 Ligue A-League 62\n",
            "J-League League Premier League 60\n"
          ],
          "name": "stdout"
        },
        {
          "output_type": "stream",
          "text": [
            "5247it [00:39, 120.03it/s]"
          ],
          "name": "stderr"
        },
        {
          "output_type": "stream",
          "text": [
            "Championship Championship Championship 100\n",
            "League One League Premier League 60\n",
            "Bundesliga Borussia Bundesliga 56\n",
            "Bundesliga Bundesliga Bundesliga 100\n"
          ],
          "name": "stdout"
        },
        {
          "output_type": "stream",
          "text": [
            "5289it [00:40, 123.90it/s]"
          ],
          "name": "stderr"
        },
        {
          "output_type": "stream",
          "text": [
            "U21 European Championship Championships Championship 96\n",
            "J-League League Premier League 60\n"
          ],
          "name": "stdout"
        },
        {
          "output_type": "stream",
          "text": [
            "5324it [00:40, 138.11it/s]"
          ],
          "name": "stderr"
        },
        {
          "output_type": "stream",
          "text": [
            "Championship Championship Championship 100\n",
            "Elitserien Eliteserien series B 53\n",
            "example Real example 55\n"
          ],
          "name": "stdout"
        },
        {
          "output_type": "stream",
          "text": [
            "5354it [00:40, 128.35it/s]"
          ],
          "name": "stderr"
        },
        {
          "output_type": "stream",
          "text": [
            "Premier League League Premier League 60\n",
            "Premier League Premier Premier League 67\n",
            "Premier League League Premier League 60\n",
            "UEFA Champions League Champions Championship 86\n"
          ],
          "name": "stdout"
        },
        {
          "output_type": "stream",
          "text": [
            "5382it [00:40, 121.66it/s]"
          ],
          "name": "stderr"
        },
        {
          "output_type": "stream",
          "text": [
            "Premier League Premiership Championship 52\n"
          ],
          "name": "stdout"
        },
        {
          "output_type": "stream",
          "text": [
            "5411it [00:41, 127.71it/s]"
          ],
          "name": "stderr"
        },
        {
          "output_type": "stream",
          "text": [
            "UEFA Champions League Champions Championship 86\n",
            "Premier League Premier Premier League 67\n",
            "Premier League League Premier League 60\n",
            "Premier League League Premier League 60\n",
            "Premier League League Premier League 60\n",
            "Premier League Premier Premier League 67\n",
            "Premier League Leagues Premier League 57\n",
            "Bundesliga Borussia Bundesliga 56\n"
          ],
          "name": "stdout"
        },
        {
          "output_type": "stream",
          "text": [
            "5476it [00:41, 148.94it/s]"
          ],
          "name": "stderr"
        },
        {
          "output_type": "stream",
          "text": [
            "Premier League Premiership Championship 52\n"
          ],
          "name": "stdout"
        },
        {
          "output_type": "stream",
          "text": [
            "5514it [00:41, 151.41it/s]"
          ],
          "name": "stderr"
        },
        {
          "output_type": "stream",
          "text": [
            "example Real example 55\n",
            "Serie A Serie series B 62\n",
            "Championship Championship Championship 100\n",
            "Segunda Segunda Segunda 100\n"
          ],
          "name": "stdout"
        },
        {
          "output_type": "stream",
          "text": [
            "5568it [00:42, 143.66it/s]"
          ],
          "name": "stderr"
        },
        {
          "output_type": "stream",
          "text": [
            "Premier League Premier Premier League 67\n",
            "Premier League League Premier League 60\n",
            "Premier League Premier Premier League 67\n",
            "Premier League Premiership Championship 52\n",
            "Serie A Serie series B 62\n",
            "Ligue 1 Liga Ligue 1 55\n"
          ],
          "name": "stdout"
        },
        {
          "output_type": "stream",
          "text": [
            "5598it [00:42, 132.93it/s]"
          ],
          "name": "stderr"
        },
        {
          "output_type": "stream",
          "text": [
            "Premier League Premiership Championship 52\n",
            "Premier League Premier Premier League 67\n",
            "Premier League League Premier League 60\n",
            "Serie A Sure Serie A 55\n",
            "Serie A Serie series B 62\n",
            "Premier League Premier Premier League 67\n",
            "Premier League League Premier League 60\n",
            "UEFA Europa League European UEFA Europa League 54\n"
          ],
          "name": "stdout"
        },
        {
          "output_type": "stream",
          "text": [
            "5626it [00:42, 121.52it/s]"
          ],
          "name": "stderr"
        },
        {
          "output_type": "stream",
          "text": [
            "Super Superliga Bundesliga 63\n",
            "Championship Championship Championship 100\n"
          ],
          "name": "stdout"
        },
        {
          "output_type": "stream",
          "text": [
            "5670it [00:42, 133.57it/s]"
          ],
          "name": "stderr"
        },
        {
          "output_type": "stream",
          "text": [
            "Championship Championship Championship 100\n"
          ],
          "name": "stdout"
        },
        {
          "output_type": "stream",
          "text": [
            "5716it [00:43, 140.82it/s]"
          ],
          "name": "stderr"
        },
        {
          "output_type": "stream",
          "text": [
            "League Two League Premier League 60\n",
            "Championship Championship Championship 100\n",
            "Premier League League Premier League 60\n",
            "Premier League Premier Premier League 67\n"
          ],
          "name": "stdout"
        },
        {
          "output_type": "stream",
          "text": [
            "5764it [00:43, 141.40it/s]"
          ],
          "name": "stderr"
        },
        {
          "output_type": "stream",
          "text": [
            "UEFA Champions League Champions Championship 86\n",
            "Premier League Premier Premier League 67\n",
            "Premier League League Premier League 60\n",
            "UEFA Champions League Champions Championship 86\n",
            "J-League League Premier League 60\n"
          ],
          "name": "stdout"
        },
        {
          "output_type": "stream",
          "text": [
            "5813it [00:43, 144.56it/s]"
          ],
          "name": "stderr"
        },
        {
          "output_type": "stream",
          "text": [
            "League One League Premier League 60\n",
            "Bundesliga Borussia Bundesliga 56\n",
            "Premier League Premier Premier League 67\n",
            "Premier League League Premier League 60\n"
          ],
          "name": "stdout"
        },
        {
          "output_type": "stream",
          "text": [
            "5890it [00:44, 133.56it/s]"
          ],
          "name": "stderr"
        },
        {
          "output_type": "stream",
          "text": [
            "Championship Championship Championship 100\n",
            "Ligue 1 Ligue A-League 62\n",
            "Segunda Segunda Segunda 100\n",
            "Cup AFL Cup gold Cup 55\n"
          ],
          "name": "stdout"
        },
        {
          "output_type": "stream",
          "text": [
            "5938it [00:44, 139.17it/s]"
          ],
          "name": "stderr"
        },
        {
          "output_type": "stream",
          "text": [
            "Championship Premiership Championship 52\n",
            "Super Europe Super 55\n",
            "UEFA Champions League Champions Championship 86\n"
          ],
          "name": "stdout"
        },
        {
          "output_type": "stream",
          "text": [
            "5968it [00:44, 133.81it/s]"
          ],
          "name": "stderr"
        },
        {
          "output_type": "stream",
          "text": [
            "Premier League Premier Premier League 67\n",
            "Premier League League Premier League 60\n",
            "Premier League Premier Premier League 67\n",
            "Premier League League Premier League 60\n",
            "League Two League Premier League 60\n"
          ],
          "name": "stdout"
        },
        {
          "output_type": "stream",
          "text": [
            "6013it [00:45, 131.54it/s]"
          ],
          "name": "stderr"
        },
        {
          "output_type": "stream",
          "text": [
            "UEFA Champions League Champions Championship 86\n",
            "Bundesliga Borussia Bundesliga 56\n",
            "Bundesliga Bundesliga Bundesliga 100\n"
          ],
          "name": "stdout"
        },
        {
          "output_type": "stream",
          "text": [
            "6041it [00:45, 113.92it/s]"
          ],
          "name": "stderr"
        },
        {
          "output_type": "stream",
          "text": [
            "UEFA Champions League Champions Championship 86\n",
            "Championship Championship Championship 100\n",
            "Premier League League Premier League 60\n",
            "Premier League Premier Premier League 67\n",
            "UEFA Champions League Champions Championship 86\n",
            "Premier League Premiership Championship 52\n"
          ],
          "name": "stdout"
        },
        {
          "output_type": "stream",
          "text": [
            "6071it [00:45, 126.51it/s]"
          ],
          "name": "stderr"
        },
        {
          "output_type": "stream",
          "text": [
            "UEFA Europa League European UEFA Europa League 54\n",
            "Serie A Serie series B 62\n",
            "example Real example 55\n",
            "example Bale example 55\n",
            "Ligue 1 League Premier League 60\n",
            "Premier League Premiership Championship 52\n",
            "Bundesliga Bundesliga Bundesliga 100\n"
          ],
          "name": "stdout"
        },
        {
          "output_type": "stream",
          "text": [
            "6125it [00:46, 115.93it/s]"
          ],
          "name": "stderr"
        },
        {
          "output_type": "stream",
          "text": [
            "Bundesliga Bundesliga Bundesliga 100\n",
            "example Real example 55\n"
          ],
          "name": "stdout"
        },
        {
          "output_type": "stream",
          "text": [
            "6153it [00:46, 120.83it/s]"
          ],
          "name": "stderr"
        },
        {
          "output_type": "stream",
          "text": [
            "Serie A Serie series B 62\n",
            "UEFA Champions League Champions Championship 86\n",
            "League 2 Ligue A-League 62\n",
            "League Two League Premier League 60\n"
          ],
          "name": "stdout"
        },
        {
          "output_type": "stream",
          "text": [
            "6221it [00:47, 127.36it/s]"
          ],
          "name": "stderr"
        },
        {
          "output_type": "stream",
          "text": [
            "Primeyra League Primeira Premier League 55\n",
            "Championship Championship Championship 100\n"
          ],
          "name": "stdout"
        },
        {
          "output_type": "stream",
          "text": [
            "6260it [00:47, 149.34it/s]"
          ],
          "name": "stderr"
        },
        {
          "output_type": "stream",
          "text": [
            "Eredivisie Eredivisie Eredivisie 100\n"
          ],
          "name": "stdout"
        },
        {
          "output_type": "stream",
          "text": [
            "6291it [00:47, 128.98it/s]"
          ],
          "name": "stderr"
        },
        {
          "output_type": "stream",
          "text": [
            "Championship Championship Championship 100\n",
            "UEFA Champions League Champions Championship 86\n",
            "Cup AFL Cup gold Cup 55\n"
          ],
          "name": "stdout"
        },
        {
          "output_type": "stream",
          "text": [
            "6328it [00:47, 142.39it/s]"
          ],
          "name": "stderr"
        },
        {
          "output_type": "stream",
          "text": [
            "Premier League Premier Premier League 67\n",
            "Premier League League Premier League 60\n",
            "J-League League Premier League 60\n",
            "League Two League Premier League 60\n",
            "America's Cup American America's Cup 67\n",
            "J-League League Premier League 60\n"
          ],
          "name": "stdout"
        },
        {
          "output_type": "stream",
          "text": [
            "6374it [00:48, 142.27it/s]"
          ],
          "name": "stderr"
        },
        {
          "output_type": "stream",
          "text": [
            "Championship Championship Championship 100\n",
            "Championship Championship Championship 100\n",
            "Allsvenskan Allsvenskan Allsvenskan"
          ],
          "name": "stdout"
        },
        {
          "output_type": "stream",
          "text": [
            "6404it [00:48, 139.22it/s]"
          ],
          "name": "stderr"
        },
        {
          "output_type": "stream",
          "text": [
            " 100\n"
          ],
          "name": "stdout"
        },
        {
          "output_type": "stream",
          "text": [
            "6434it [00:48, 138.39it/s]"
          ],
          "name": "stderr"
        },
        {
          "output_type": "stream",
          "text": [
            "Ligue 1 League Premier League 60\n"
          ],
          "name": "stdout"
        },
        {
          "output_type": "stream",
          "text": [
            "6466it [00:48, 123.98it/s]"
          ],
          "name": "stderr"
        },
        {
          "output_type": "stream",
          "text": [
            "League One League Premier League 60\n",
            "America's Cup America America's Cup 70\n"
          ],
          "name": "stdout"
        },
        {
          "output_type": "stream",
          "text": [
            "6519it [00:49, 146.49it/s]"
          ],
          "name": "stderr"
        },
        {
          "output_type": "stream",
          "text": [
            "Serie A Serie series B 62\n",
            "Championship Championship Championship 100\n",
            "Championship Championship Championship 100\n",
            "Bundesliga Bundesliga Bundesliga 100\n",
            "Premier League Prague Premier League 60\n"
          ],
          "name": "stdout"
        },
        {
          "output_type": "stream",
          "text": [
            "6550it [00:49, 133.09it/s]"
          ],
          "name": "stderr"
        },
        {
          "output_type": "stream",
          "text": [
            "Championship Championship Championship 100\n",
            "UEFA Europa League European UEFA Europa League 54\n",
            "Premier League Premier Premier League 67\n",
            "Premier League League Premier League 60\n"
          ],
          "name": "stdout"
        },
        {
          "output_type": "stream",
          "text": [
            "6608it [00:49, 126.00it/s]"
          ],
          "name": "stderr"
        },
        {
          "output_type": "stream",
          "text": [
            "League 2 Ligue A-League 62\n",
            "example Real example 55\n",
            "Championship Charltons Championship 57\n"
          ],
          "name": "stdout"
        },
        {
          "output_type": "stream",
          "text": [
            "6637it [00:50, 133.18it/s]"
          ],
          "name": "stderr"
        },
        {
          "output_type": "stream",
          "text": [
            "America's Cup America America's Cup 70\n",
            "Premier League League Premier League 60\n"
          ],
          "name": "stdout"
        },
        {
          "output_type": "stream",
          "text": [
            "6679it [00:50, 126.32it/s]"
          ],
          "name": "stderr"
        },
        {
          "output_type": "stream",
          "text": [
            "UEFA Europa League European UEFA Europa League 54\n",
            "Elitserien Valerenga Elitserien 53\n",
            "Ligue 1 Ligue A-League 62\n",
            "Premier League League Premier League 60\n",
            "Premier League Premier Premier League 67\n",
            "Premier League League Premier League 60\n"
          ],
          "name": "stdout"
        },
        {
          "output_type": "stream",
          "text": [
            "6709it [00:50, 135.82it/s]"
          ],
          "name": "stderr"
        },
        {
          "output_type": "stream",
          "text": [
            "Bundesliga Borussia Bundesliga 56\n",
            "example Real example 55\n",
            "Premier League League Premier League 60\n",
            "example Real example 55\n"
          ],
          "name": "stdout"
        },
        {
          "output_type": "stream",
          "text": [
            "6737it [00:50, 127.96it/s]"
          ],
          "name": "stderr"
        },
        {
          "output_type": "stream",
          "text": [
            "Premier League Premier Premier League 67\n",
            "Premier League League Premier League 60\n",
            "UEFA Champions League Champions Championship 86\n",
            "UEFA Champions League Champions Championship 86\n",
            "Premier League Premiership Championship 52\n",
            "Premier League League Premier League 60\n"
          ],
          "name": "stdout"
        },
        {
          "output_type": "stream",
          "text": [
            "6776it [00:51, 117.40it/s]"
          ],
          "name": "stderr"
        },
        {
          "output_type": "stream",
          "text": [
            "Premier League Premiership Championship 52\n",
            "Serie A Serie series B 62\n",
            "Bundesliga Borussia Bundesliga 56\n"
          ],
          "name": "stdout"
        },
        {
          "output_type": "stream",
          "text": [
            "\r6788it [00:51, 99.90it/s] "
          ],
          "name": "stderr"
        },
        {
          "output_type": "stream",
          "text": [
            "Ligue 1 Ligue A-League 62\n",
            "Cup AFL Cup gold Cup 55\n"
          ],
          "name": "stdout"
        },
        {
          "output_type": "stream",
          "text": [
            "6831it [00:51, 121.21it/s]"
          ],
          "name": "stderr"
        },
        {
          "output_type": "stream",
          "text": [
            "example Real example 55\n",
            "UEFA Champions League Champions Championship 86\n",
            "Allsvenskan Allsvenskan Allsvenskan 100\n",
            "UEFA Champions League Champions Championship 86\n"
          ],
          "name": "stdout"
        },
        {
          "output_type": "stream",
          "text": [
            "6858it [00:51, 114.52it/s]"
          ],
          "name": "stderr"
        },
        {
          "output_type": "stream",
          "text": [
            "Premier League Premiership Championship 52\n",
            "Premiership Prem Premiership 53\n",
            "Ligue 1 Ligue A-League 62\n"
          ],
          "name": "stdout"
        },
        {
          "output_type": "stream",
          "text": [
            "6905it [00:52, 131.70it/s]"
          ],
          "name": "stderr"
        },
        {
          "output_type": "stream",
          "text": [
            "National League National National League 70\n",
            "National League League Premier League 60\n",
            "Bundesliga Bundesliga Bundesliga 100\n"
          ],
          "name": "stdout"
        },
        {
          "output_type": "stream",
          "text": [
            "6952it [00:52, 138.34it/s]"
          ],
          "name": "stderr"
        },
        {
          "output_type": "stream",
          "text": [
            "Premier League Premiership Championship 52\n"
          ],
          "name": "stdout"
        },
        {
          "output_type": "stream",
          "text": [
            "6982it [00:52, 136.79it/s]"
          ],
          "name": "stderr"
        },
        {
          "output_type": "stream",
          "text": [
            "Championship Championship Championship 100\n",
            "Championship Championship Championship 100\n",
            "Ligue 1 League Premier League 60\n"
          ],
          "name": "stdout"
        },
        {
          "output_type": "stream",
          "text": [
            "7028it [00:53, 139.20it/s]"
          ],
          "name": "stderr"
        },
        {
          "output_type": "stream",
          "text": [
            "Premier League Premiership Championship 52\n",
            "America's Cup America America's Cup 70\n",
            "League Two League Premier League 60\n",
            "Championship Championship Championship 100\n",
            "Premier League League Premier League 60\n"
          ],
          "name": "stdout"
        },
        {
          "output_type": "stream",
          "text": [
            "7057it [00:53, 126.39it/s]"
          ],
          "name": "stderr"
        },
        {
          "output_type": "stream",
          "text": [
            "Premier League Premier Premier League 67\n",
            "Premier League League Premier League 60\n",
            "Premier League Premiership Championship 52\n"
          ],
          "name": "stdout"
        },
        {
          "output_type": "stream",
          "text": [
            "7108it [00:53, 147.23it/s]"
          ],
          "name": "stderr"
        },
        {
          "output_type": "stream",
          "text": [
            "Ligue 1 Ligue A-League 62\n",
            "example Real example 55\n",
            "Championship Championship Championship 100\n"
          ],
          "name": "stdout"
        },
        {
          "output_type": "stream",
          "text": [
            "7159it [00:54, 150.37it/s]"
          ],
          "name": "stderr"
        },
        {
          "output_type": "stream",
          "text": [
            "Premier League Premiership Championship 52\n",
            "America's Cup America America's Cup 70\n"
          ],
          "name": "stdout"
        },
        {
          "output_type": "stream",
          "text": [
            "7190it [00:54, 130.70it/s]"
          ],
          "name": "stderr"
        },
        {
          "output_type": "stream",
          "text": [
            "Premier League Premier Premier League 67\n",
            "Premier League League Premier League 60\n",
            "Premier League League Premier League 60\n",
            "example Real example 55\n",
            "Championship Championship Championship 100\n",
            "Premier League League Premier League 60\n",
            "example Real example 55\n"
          ],
          "name": "stdout"
        },
        {
          "output_type": "stream",
          "text": [
            "\r7209it [00:54, 140.86it/s]"
          ],
          "name": "stderr"
        },
        {
          "output_type": "stream",
          "text": [
            "Serie A Serie series B 62\n",
            "FA Cup Cup gold Cup 55\n",
            "example Real example 55\n"
          ],
          "name": "stdout"
        },
        {
          "output_type": "stream",
          "text": [
            "7254it [00:54, 127.44it/s]"
          ],
          "name": "stderr"
        },
        {
          "output_type": "stream",
          "text": [
            "League 2 Ligue A-League 62\n",
            "Serie A Serie series B 62\n",
            "America's Cup America America's Cup 70\n",
            "UEFA Europa League European UEFA Europa League 54\n",
            "Premier League League Premier League 60\n"
          ],
          "name": "stdout"
        },
        {
          "output_type": "stream",
          "text": [
            "\r7268it [00:54, 110.12it/s]"
          ],
          "name": "stderr"
        },
        {
          "output_type": "stream",
          "text": [
            "UEFA Europa League European UEFA Europa League 54\n",
            "example Real example 55\n",
            "U21 Ligi Lig Ligue 1 60\n",
            "Premier League Premier Premier League 67\n",
            "Premier League League Premier League 60\n"
          ],
          "name": "stdout"
        },
        {
          "output_type": "stream",
          "text": [
            "7318it [00:55, 140.17it/s]"
          ],
          "name": "stderr"
        },
        {
          "output_type": "stream",
          "text": [
            "Premier League Premiership Championship 52\n"
          ],
          "name": "stdout"
        },
        {
          "output_type": "stream",
          "text": [
            "7378it [00:55, 133.55it/s]"
          ],
          "name": "stderr"
        },
        {
          "output_type": "stream",
          "text": [
            "Primeyra League League Premier League 60\n",
            "Premier League League Premier League 60\n",
            "Premier League Premier Premier League 67\n",
            "Super Super Super 100\n",
            "Championship Championship Championship 100\n"
          ],
          "name": "stdout"
        },
        {
          "output_type": "stream",
          "text": [
            "7408it [00:56, 118.75it/s]"
          ],
          "name": "stderr"
        },
        {
          "output_type": "stream",
          "text": [
            "UEFA Champions League Champions Championship 86\n"
          ],
          "name": "stdout"
        },
        {
          "output_type": "stream",
          "text": [
            "7438it [00:56, 124.31it/s]"
          ],
          "name": "stderr"
        },
        {
          "output_type": "stream",
          "text": [
            "UEFA Europa League European UEFA Europa League 54\n",
            "Super Super Super 100\n"
          ],
          "name": "stdout"
        },
        {
          "output_type": "stream",
          "text": [
            "7498it [00:56, 136.01it/s]"
          ],
          "name": "stderr"
        },
        {
          "output_type": "stream",
          "text": [
            "Primeyra League Primeira Premier League 55\n",
            "example Real example 55\n",
            "UEFA Champions League Champions Championship 86\n",
            "League One League Premier League 60\n",
            "gold Cup Cup gold Cup 55\n",
            "example Real example 55\n",
            "J-League League Premier League 60\n"
          ],
          "name": "stdout"
        },
        {
          "output_type": "stream",
          "text": [
            "7534it [00:56, 148.98it/s]"
          ],
          "name": "stderr"
        },
        {
          "output_type": "stream",
          "text": [
            "Allsvenskan Allsvenskan Allsvenskan 100\n",
            "Bundesliga Bundesliga Bundesliga 100\n",
            "America's Cup America America's Cup 70\n",
            "Premier League League Premier League 60\n",
            "example Camp example 55\n"
          ],
          "name": "stdout"
        },
        {
          "output_type": "stream",
          "text": [
            "7565it [00:57, 127.66it/s]"
          ],
          "name": "stderr"
        },
        {
          "output_type": "stream",
          "text": [
            "gold Cup Cup gold Cup 55\n",
            "example Real example 55\n"
          ],
          "name": "stdout"
        },
        {
          "output_type": "stream",
          "text": [
            "7593it [00:57, 123.54it/s]"
          ],
          "name": "stderr"
        },
        {
          "output_type": "stream",
          "text": [
            "America's Cup America America's Cup 70\n"
          ],
          "name": "stdout"
        },
        {
          "output_type": "stream",
          "text": [
            "7654it [00:57, 128.80it/s]"
          ],
          "name": "stderr"
        },
        {
          "output_type": "stream",
          "text": [
            "Premier League Premiership Championship 52\n",
            "Bundesliga Borussia Bundesliga 56\n",
            "America's Cup America America's Cup 70\n"
          ],
          "name": "stdout"
        },
        {
          "output_type": "stream",
          "text": [
            "7682it [00:58, 125.50it/s]"
          ],
          "name": "stderr"
        },
        {
          "output_type": "stream",
          "text": [
            "example Real example 55\n",
            "Championship Championship Championship 100\n",
            "Championship Premiership Championship 52\n",
            "Allsvenskan Allsvenskan Allsvenskan 100\n",
            "Serie A Serie series B 62\n",
            "Premier League Premier Premier League 67\n"
          ],
          "name": "stdout"
        },
        {
          "output_type": "stream",
          "text": [
            "7708it [00:58, 111.77it/s]"
          ],
          "name": "stderr"
        },
        {
          "output_type": "stream",
          "text": [
            "Premier League League Premier League 60\n",
            "Ligue 1 League Premier League 60\n",
            "Premier League Premier Premier League 67\n",
            "Premier League League Premier League 60\n",
            "International Friendlies Internationals International Friendlies 74\n"
          ],
          "name": "stdout"
        },
        {
          "output_type": "stream",
          "text": [
            "7736it [00:58, 115.58it/s]"
          ],
          "name": "stderr"
        },
        {
          "output_type": "stream",
          "text": [
            "example Real example 55\n",
            "UEFA Europa League European UEFA Europa League 54\n"
          ],
          "name": "stdout"
        },
        {
          "output_type": "stream",
          "text": [
            "7782it [00:58, 136.36it/s]"
          ],
          "name": "stderr"
        },
        {
          "output_type": "stream",
          "text": [
            "League One League Premier League 60\n",
            "Serie A Serie series B 62\n"
          ],
          "name": "stdout"
        },
        {
          "output_type": "stream",
          "text": [
            "7812it [00:59, 129.63it/s]"
          ],
          "name": "stderr"
        },
        {
          "output_type": "stream",
          "text": [
            "UEFA Europa League European UEFA Europa League 54\n",
            "Championship Championship Championship 100\n"
          ],
          "name": "stdout"
        },
        {
          "output_type": "stream",
          "text": [
            "7842it [00:59, 132.36it/s]"
          ],
          "name": "stderr"
        },
        {
          "output_type": "stream",
          "text": [
            "example Real example 55\n",
            "example Bale example 55\n",
            "Cup AFL Cup gold Cup 55\n",
            "Premier League Premier Premier League 67\n",
            "Premier League League Premier League 60\n",
            "UEFA Champions League Champions Championship 86\n"
          ],
          "name": "stdout"
        },
        {
          "output_type": "stream",
          "text": [
            "7870it [00:59, 126.70it/s]"
          ],
          "name": "stderr"
        },
        {
          "output_type": "stream",
          "text": [
            "Premier League Premiership Championship 52\n",
            "UEFA Champions League Champions Championship 86\n",
            "Bundesliga Bundesliga Bundesliga 100\n",
            "Premier League Premier Premier League 67\n",
            "Premier League League Premier League 60\n",
            "Bundesliga Bundesliga Bundesliga 100\n"
          ],
          "name": "stdout"
        },
        {
          "output_type": "stream",
          "text": [
            "7898it [00:59, 119.76it/s]"
          ],
          "name": "stderr"
        },
        {
          "output_type": "stream",
          "text": [
            "League Two League Premier League 60\n",
            "Premier League League Premier League 60\n",
            "Premier League Premier Premier League 67\n"
          ],
          "name": "stdout"
        },
        {
          "output_type": "stream",
          "text": [
            "7952it [01:00, 108.04it/s]"
          ],
          "name": "stderr"
        },
        {
          "output_type": "stream",
          "text": [
            "U21 European Championship Championship Championship 100\n",
            "League One League Premier League 60\n"
          ],
          "name": "stdout"
        },
        {
          "output_type": "stream",
          "text": [
            "7999it [01:00, 129.81it/s]"
          ],
          "name": "stderr"
        },
        {
          "output_type": "stream",
          "text": [
            "National League National National League 70\n",
            "National League League Premier League 60\n",
            "Premier League Premier Premier League 67\n",
            "Premier League League Premier League 60\n",
            "Premier League Premier Premier League 67\n",
            "Premier League League Premier League 60\n",
            "Veikkausliiga Veikkausliiga Bundesliga 52\n"
          ],
          "name": "stdout"
        },
        {
          "output_type": "stream",
          "text": [
            "8028it [01:00, 126.56it/s]"
          ],
          "name": "stderr"
        },
        {
          "output_type": "stream",
          "text": [
            "Eredivisie Eredivisie Eredivisie 100\n",
            "Ligue 1 Ligue A-League 62\n",
            "National League National National League 70\n",
            "National League League Premier League 60\n"
          ],
          "name": "stdout"
        },
        {
          "output_type": "stream",
          "text": [
            "8058it [01:01, 134.38it/s]"
          ],
          "name": "stderr"
        },
        {
          "output_type": "stream",
          "text": [
            "America's Cup America America's Cup 70\n"
          ],
          "name": "stdout"
        },
        {
          "output_type": "stream",
          "text": [
            "8134it [01:01, 140.08it/s]"
          ],
          "name": "stderr"
        },
        {
          "output_type": "stream",
          "text": [
            "example Real example 55\n",
            "Ligue 1 Ligue A-League 62\n",
            "Ligue 1 League Premier League 60\n",
            "gold Cup Cup gold Cup 55\n"
          ],
          "name": "stdout"
        },
        {
          "output_type": "stream",
          "text": [
            "8169it [01:01, 153.92it/s]"
          ],
          "name": "stderr"
        },
        {
          "output_type": "stream",
          "text": [
            "League Zhyupiler Jupiler Super 67\n",
            "League Zhyupiler League Premier League 60\n",
            "Premier League Premier Premier League 67\n",
            "Premier League League Premier League 60\n",
            "Allsvenskan Allsvenkan Allsvenskan 95\n",
            "UEFA Champions League Champions Championship 86\n"
          ],
          "name": "stdout"
        },
        {
          "output_type": "stream",
          "text": [
            "8219it [01:02, 153.29it/s]"
          ],
          "name": "stderr"
        },
        {
          "output_type": "stream",
          "text": [
            "UEFA Europa League European UEFA Europa League 54\n",
            "Championship Championship Championship 100\n",
            "Super Serie series B 62\n",
            "Serie A Serie series B 62\n",
            "example Real example 55\n"
          ],
          "name": "stdout"
        },
        {
          "output_type": "stream",
          "text": [
            "8295it [01:02, 127.65it/s]"
          ],
          "name": "stderr"
        },
        {
          "output_type": "stream",
          "text": [
            "Premier League Premier Premier League 67\n",
            "Premier League League Premier League 60\n"
          ],
          "name": "stdout"
        },
        {
          "output_type": "stream",
          "text": [
            "8327it [01:03, 133.64it/s]"
          ],
          "name": "stderr"
        },
        {
          "output_type": "stream",
          "text": [
            "Primeyra League League Premier League 60\n",
            "League Two League Premier League 60\n",
            "Championship Championshp Championship 96\n",
            "Premier League Premiership Championship 52\n"
          ],
          "name": "stdout"
        },
        {
          "output_type": "stream",
          "text": [
            "8355it [01:03, 126.25it/s]"
          ],
          "name": "stderr"
        },
        {
          "output_type": "stream",
          "text": [
            "Premier League Premiership Championship 52\n",
            "Bundesliga Bundesleague Bundesliga 73\n",
            "Premier League League Premier League 60\n",
            "J-League League Premier League 60\n",
            "Super September Super 57\n"
          ],
          "name": "stdout"
        },
        {
          "output_type": "stream",
          "text": [
            "8397it [01:03, 114.70it/s]"
          ],
          "name": "stderr"
        },
        {
          "output_type": "stream",
          "text": [
            "Bundesliga Bundesliga Bundesliga 100\n",
            "League Two League Premier League 60\n"
          ],
          "name": "stdout"
        },
        {
          "output_type": "stream",
          "text": [
            "8438it [01:03, 124.77it/s]"
          ],
          "name": "stderr"
        },
        {
          "output_type": "stream",
          "text": [
            "Bundesliga Borussia Bundesliga 56\n",
            "Bundesliga Bundesliga Bundesliga 100\n",
            "Elitserien Eliteserien series B 53\n",
            "Premier League League Premier League 60\n",
            "UEFA Champions League Champion Championship 80\n"
          ],
          "name": "stdout"
        },
        {
          "output_type": "stream",
          "text": [
            "8480it [01:04, 123.18it/s]"
          ],
          "name": "stderr"
        },
        {
          "output_type": "stream",
          "text": [
            "J-League League Premier League 60\n",
            "Bundesliga Borussia Bundesliga 56\n",
            "Championship Championship Championship 100\n"
          ],
          "name": "stdout"
        },
        {
          "output_type": "stream",
          "text": [
            "8509it [01:04, 132.53it/s]"
          ],
          "name": "stderr"
        },
        {
          "output_type": "stream",
          "text": [
            "Premier League League Premier League 60\n",
            "League 2 Ligue A-League 62\n",
            "Serie A Serie series B 62\n",
            "Serie A Side Serie A 55\n",
            "example Real example 55\n",
            "Premier League Premiership Championship 52\n"
          ],
          "name": "stdout"
        },
        {
          "output_type": "stream",
          "text": [
            "8551it [01:04, 121.92it/s]"
          ],
          "name": "stderr"
        },
        {
          "output_type": "stream",
          "text": [
            "Championship Championship Championship 100\n"
          ],
          "name": "stdout"
        },
        {
          "output_type": "stream",
          "text": [
            "8598it [01:05, 137.98it/s]"
          ],
          "name": "stderr"
        },
        {
          "output_type": "stream",
          "text": [
            "Allsvenskan Allsvenskan Allsvenskan 100\n",
            "Premier League Premier Premier League 67\n",
            "Premier League League Premier League 60\n",
            "example Real example 55\n"
          ],
          "name": "stdout"
        },
        {
          "output_type": "stream",
          "text": [
            "8631it [01:05, 139.29it/s]"
          ],
          "name": "stderr"
        },
        {
          "output_type": "stream",
          "text": [
            "Championship Championship Championship 100\n",
            "gold Cup Cup gold Cup 55\n",
            "League Zhyupiler Jupiler Super 67\n",
            "League Zhyupiler League Premier League 60\n"
          ],
          "name": "stdout"
        },
        {
          "output_type": "stream",
          "text": [
            "8664it [01:05, 149.82it/s]"
          ],
          "name": "stderr"
        },
        {
          "output_type": "stream",
          "text": [
            "J-League League Premier League 60\n",
            "UEFA Europa League European UEFA Europa League 54\n",
            "Premier League Premier Premier League 67\n",
            "Premier League League Premier League 60\n",
            "Premier League Premier Premier League 67\n",
            "Premier League League Premier League 60\n"
          ],
          "name": "stdout"
        },
        {
          "output_type": "stream",
          "text": [
            "8695it [01:05, 145.40it/s]"
          ],
          "name": "stderr"
        },
        {
          "output_type": "stream",
          "text": [
            "Ligue 1 Ligue A-League 62\n",
            "UEFA Champions League Champions Championship 86\n",
            "Serie A Serie series B 62\n",
            "Premier League Premier Premier League 67\n",
            "Premier League League Premier League 60\n",
            "Ligue 1 Ligue A-League 62\n",
            "UEFA Champions League Champions Championship 86\n"
          ],
          "name": "stdout"
        },
        {
          "output_type": "stream",
          "text": [
            "8757it [01:06, 128.77it/s]"
          ],
          "name": "stderr"
        },
        {
          "output_type": "stream",
          "text": [
            "example Real example 55\n",
            "UEFA Champions League Champions Championship 86\n",
            "Premier League Premier Premier League 67\n",
            "Premier League League Premier League 60\n"
          ],
          "name": "stdout"
        },
        {
          "output_type": "stream",
          "text": [
            "8817it [01:06, 129.23it/s]"
          ],
          "name": "stderr"
        },
        {
          "output_type": "stream",
          "text": [
            "Eredivisie Eredivisie Eredivisie 100\n",
            "Serie A Serie series B 62\n",
            "Premier League Premier Premier League 67\n",
            "Premier League League Premier League 60\n",
            "Super Super Super 100\n",
            "example Real example 55\n"
          ],
          "name": "stdout"
        },
        {
          "output_type": "stream",
          "text": [
            "8850it [01:07, 141.99it/s]"
          ],
          "name": "stderr"
        },
        {
          "output_type": "stream",
          "text": [
            "Bundesliga Borussia Bundesliga 56\n",
            "Premier League Premier Premier League 67\n",
            "Premier League League Premier League 60\n",
            "Bundesliga Borussia Bundesliga 56\n",
            "Premier League Premier Premier League 67\n",
            "Premier League League Premier League 60\n"
          ],
          "name": "stdout"
        },
        {
          "output_type": "stream",
          "text": [
            "\r8865it [01:07, 143.10it/s]"
          ],
          "name": "stderr"
        },
        {
          "output_type": "stream",
          "text": [
            "Serie A Serie series B 62\n",
            "America's Cup America America's Cup 70\n",
            "America's Cup America America's Cup 70\n",
            "Bundesliga Budesliga Bundesliga 95\n",
            "UEFA Champions League Champions Championship 86\n"
          ],
          "name": "stdout"
        },
        {
          "output_type": "stream",
          "text": [
            "8920it [01:07, 116.08it/s]"
          ],
          "name": "stderr"
        },
        {
          "output_type": "stream",
          "text": [
            "Ligue 1 Liga Ligue 1 55\n",
            "Premier League Premier Premier League 67\n",
            "Premier League League Premier League 60\n"
          ],
          "name": "stdout"
        },
        {
          "output_type": "stream",
          "text": [
            "8950it [01:07, 128.25it/s]"
          ],
          "name": "stderr"
        },
        {
          "output_type": "stream",
          "text": [
            "Premier League League Premier League 60\n"
          ],
          "name": "stdout"
        },
        {
          "output_type": "stream",
          "text": [
            "8995it [01:08, 139.71it/s]"
          ],
          "name": "stderr"
        },
        {
          "output_type": "stream",
          "text": [
            "League Two League Premier League 60\n",
            "League 2 Ligue A-League 62\n",
            "example Real example 55\n",
            "UEFA Champions League Champions Championship 86\n"
          ],
          "name": "stdout"
        },
        {
          "output_type": "stream",
          "text": [
            "9028it [01:08, 145.93it/s]"
          ],
          "name": "stderr"
        },
        {
          "output_type": "stream",
          "text": [
            "Championship Champions Championship 86\n",
            "Bundesliga Bundesliga Bundesliga 100\n",
            "League 2 Ligue A-League 62\n",
            "Bundesliga Bundesliga Bundesliga 100\n",
            "Championship Championship Championship 100\n"
          ],
          "name": "stdout"
        },
        {
          "output_type": "stream",
          "text": [
            "9097it [01:08, 152.67it/s]"
          ],
          "name": "stderr"
        },
        {
          "output_type": "stream",
          "text": [
            "Allsvenskan Allsvenskan Allsvenskan 100\n",
            "League One League Premier League 60\n"
          ],
          "name": "stdout"
        },
        {
          "output_type": "stream",
          "text": [
            "9129it [01:09, 147.43it/s]"
          ],
          "name": "stderr"
        },
        {
          "output_type": "stream",
          "text": [
            "Premiership Premiership Championship 52\n",
            "Premier League League Premier League 60\n",
            "Premier League Premier Premier League 67\n",
            "Ligue 1 Ligue A-League 62\n"
          ],
          "name": "stdout"
        },
        {
          "output_type": "stream",
          "text": [
            "9159it [01:09, 138.35it/s]"
          ],
          "name": "stderr"
        },
        {
          "output_type": "stream",
          "text": [
            "Serie A Serie series B 62\n",
            "League Two League Premier League 60\n",
            "Premier League League Premier League 60\n",
            "UEFA Champions League Champions Championship 86\n",
            "League One League Premier League 60\n"
          ],
          "name": "stdout"
        },
        {
          "output_type": "stream",
          "text": [
            "9210it [01:09, 132.79it/s]"
          ],
          "name": "stderr"
        },
        {
          "output_type": "stream",
          "text": [
            "Bundesliga Bundersliga Bundesliga 95\n"
          ],
          "name": "stdout"
        },
        {
          "output_type": "stream",
          "text": [
            "9267it [01:10, 126.93it/s]"
          ],
          "name": "stderr"
        },
        {
          "output_type": "stream",
          "text": [
            "Championship Championship Championship 100\n",
            "UEFA Europa League European UEFA Europa League 54\n",
            "League One League Premier League 60\n",
            "UEFA Champions League Champions Championship 86\n"
          ],
          "name": "stdout"
        },
        {
          "output_type": "stream",
          "text": [
            "9291it [01:10, 99.65it/s]"
          ],
          "name": "stderr"
        },
        {
          "output_type": "stream",
          "text": [
            "Premier League League Premier League 60\n",
            "Premier League Premier Premier League 67\n",
            "Premier League League Premier League 60\n"
          ],
          "name": "stdout"
        },
        {
          "output_type": "stream",
          "text": [
            "9326it [01:10, 98.80it/s] "
          ],
          "name": "stderr"
        },
        {
          "output_type": "stream",
          "text": [
            "Premier League League Premier League 60\n",
            "Premier League Premier Premier League 67\n",
            "Premier League League Premier League 60\n"
          ],
          "name": "stdout"
        },
        {
          "output_type": "stream",
          "text": [
            "9355it [01:10, 116.32it/s]"
          ],
          "name": "stderr"
        },
        {
          "output_type": "stream",
          "text": [
            "League One League Premier League 60\n",
            "National League National National League 70\n",
            "National League League Premier League 60\n",
            "America's Cup America America's Cup 70\n",
            "National League League Premier League 60\n",
            "Championship Championship Championship 100\n"
          ],
          "name": "stdout"
        },
        {
          "output_type": "stream",
          "text": [
            "9417it [01:11, 137.05it/s]"
          ],
          "name": "stderr"
        },
        {
          "output_type": "stream",
          "text": [
            "Segunda Segunda Segunda 100\n",
            "Elitserien Valerenga Elitserien 53\n",
            "National League National National League 70\n",
            "National League League Premier League 60\n",
            "UEFA Champions League Champions Championship 86\n"
          ],
          "name": "stdout"
        },
        {
          "output_type": "stream",
          "text": [
            "9448it [01:11, 121.41it/s]"
          ],
          "name": "stderr"
        },
        {
          "output_type": "stream",
          "text": [
            "Cup AFL Cup gold Cup 55\n",
            "Ligue 1 League Premier League 60\n",
            "UEFA Europa League European UEFA Europa League 54\n"
          ],
          "name": "stdout"
        },
        {
          "output_type": "stream",
          "text": [
            "9475it [01:11, 112.18it/s]"
          ],
          "name": "stderr"
        },
        {
          "output_type": "stream",
          "text": [
            "Premier League Premier Premier League 67\n",
            "Premier League League Premier League 60\n",
            "Ligue 1 Ligue A-League 62\n",
            "Ligue 1 League Premier League 60\n"
          ],
          "name": "stdout"
        },
        {
          "output_type": "stream",
          "text": [
            "9519it [01:12, 121.16it/s]"
          ],
          "name": "stderr"
        },
        {
          "output_type": "stream",
          "text": [
            "Serie A Serie series B 62\n",
            "Premier League League Premier League 60\n"
          ],
          "name": "stdout"
        },
        {
          "output_type": "stream",
          "text": [
            "9546it [01:12, 115.45it/s]"
          ],
          "name": "stderr"
        },
        {
          "output_type": "stream",
          "text": [
            "J-League League Premier League 60\n",
            "Premier League Premiership Championship 52\n",
            "League 2 League Premier League 60\n"
          ],
          "name": "stdout"
        },
        {
          "output_type": "stream",
          "text": [
            "9586it [01:12, 118.58it/s]"
          ],
          "name": "stderr"
        },
        {
          "output_type": "stream",
          "text": [
            "Premier League Premiership Championship 52\n",
            "Segunda Segunda Segunda 100\n",
            "UEFA Europa League European UEFA Europa League 54\n"
          ],
          "name": "stdout"
        },
        {
          "output_type": "stream",
          "text": [
            "9614it [01:13, 126.71it/s]"
          ],
          "name": "stderr"
        },
        {
          "output_type": "stream",
          "text": [
            "Serie A Serie series B 62\n",
            "League One League Premier League 60\n",
            "National League National National League 70\n",
            "National League League Premier League 60\n",
            "Ligue 1 Liga Ligue 1 55\n",
            "Europe championship. Qualification Qualifications Europe championship. Qualification 54\n"
          ],
          "name": "stdout"
        },
        {
          "output_type": "stream",
          "text": [
            "9671it [01:13, 134.79it/s]"
          ],
          "name": "stderr"
        },
        {
          "output_type": "stream",
          "text": [
            "Serie A Serie series B 62\n",
            "Premier League Premier Premier League 67\n",
            "Premier League League Premier League 60\n",
            "Premier League Premier Premier League 67\n",
            "Premier League League Premier League 60\n",
            "Eredivisie Eredivisie Eredivisie 100\n"
          ],
          "name": "stdout"
        },
        {
          "output_type": "stream",
          "text": [
            "9699it [01:13, 126.56it/s]"
          ],
          "name": "stderr"
        },
        {
          "output_type": "stream",
          "text": [
            "Premier League Premier Premier League 67\n",
            "Premier League League Premier League 60\n",
            "example Real example 55\n",
            "Premier League Premier Premier League 67\n",
            "Premier League League Premier League 60\n",
            "League One League Premier League 60\n",
            "UEFA Champions League Champions Championship 86\n"
          ],
          "name": "stdout"
        },
        {
          "output_type": "stream",
          "text": [
            "9739it [01:13, 152.29it/s]"
          ],
          "name": "stderr"
        },
        {
          "output_type": "stream",
          "text": [
            "UEFA Europa League European UEFA Europa League 54\n",
            "Bundesliga Bundesliga Bundesliga 100\n",
            "Bundesliga Borussia Bundesliga 56\n",
            "example Real example 55\n",
            "example Real example 55\n"
          ],
          "name": "stdout"
        },
        {
          "output_type": "stream",
          "text": [
            "9771it [01:14, 145.17it/s]"
          ],
          "name": "stderr"
        },
        {
          "output_type": "stream",
          "text": [
            "Premier League Premiership Championship 52\n",
            "Premier League Premier Premier League 67\n",
            "Premier League League Premier League 60\n",
            "League One League Premier League 60\n"
          ],
          "name": "stdout"
        },
        {
          "output_type": "stream",
          "text": [
            "9814it [01:14, 100.91it/s]"
          ],
          "name": "stderr"
        },
        {
          "output_type": "stream",
          "text": [
            "Championship Championship Championship 100\n",
            "Premier League League Premier League 60\n",
            "Premier League Premier Premier League 67\n",
            "Premier League League Premier League 60\n",
            "Premier League Premier Premier League 67\n",
            "Premier League League Premier League 60\n"
          ],
          "name": "stdout"
        },
        {
          "output_type": "stream",
          "text": [
            "9839it [01:14, 106.73it/s]"
          ],
          "name": "stderr"
        },
        {
          "output_type": "stream",
          "text": [
            "Premier League Premiership Championship 52\n",
            "Championship Championship Championship 100\n",
            "League Zhyupiler League Premier League 60\n",
            "League Zhyupiler Jupiler Super 67\n"
          ],
          "name": "stdout"
        },
        {
          "output_type": "stream",
          "text": [
            "9901it [01:15, 130.74it/s]"
          ],
          "name": "stderr"
        },
        {
          "output_type": "stream",
          "text": [
            "League One League Premier League 60\n",
            "Premier League League Premier League 60\n",
            "Ligue 1 Ligue A-League 62\n"
          ],
          "name": "stdout"
        },
        {
          "output_type": "stream",
          "text": [
            "9928it [01:15, 114.71it/s]"
          ],
          "name": "stderr"
        },
        {
          "output_type": "stream",
          "text": [
            "UEFA Champions League Champions Championship 86\n",
            "Premier League Premiership Championship 52\n"
          ],
          "name": "stdout"
        },
        {
          "output_type": "stream",
          "text": [
            "9954it [01:15, 121.77it/s]"
          ],
          "name": "stderr"
        },
        {
          "output_type": "stream",
          "text": [
            "Premier League Premier Premier League 67\n",
            "Premier League League Premier League 60\n",
            "Championship Championship Championship 100\n"
          ],
          "name": "stdout"
        },
        {
          "output_type": "stream",
          "text": [
            "9982it [01:16, 107.87it/s]"
          ],
          "name": "stderr"
        },
        {
          "output_type": "stream",
          "text": [
            "Premier League Premiership Championship 52\n",
            "Primeyra League Primeira Premier League 55\n",
            "Primeyra League Primera Premier League 57\n",
            "gold Cup Cup gold Cup 55\n"
          ],
          "name": "stdout"
        },
        {
          "output_type": "stream",
          "text": [
            "10000it [01:16, 131.21it/s]"
          ],
          "name": "stderr"
        },
        {
          "output_type": "stream",
          "text": [
            "gold Cup Cup gold Cup 55\n",
            "UEFA Europa League European UEFA Europa League 54\n"
          ],
          "name": "stdout"
        },
        {
          "output_type": "stream",
          "text": [
            "\n"
          ],
          "name": "stderr"
        }
      ]
    },
    {
      "cell_type": "code",
      "metadata": {
        "id": "sp3t2oYGk2pR",
        "colab_type": "code",
        "colab": {}
      },
      "source": [
        "subset_english['list_fuzzy_match_for_league'] = leagues_match"
      ],
      "execution_count": 0,
      "outputs": []
    },
    {
      "cell_type": "code",
      "metadata": {
        "id": "iZCdonuok6Xr",
        "colab_type": "code",
        "outputId": "2dd10d68-6604-471c-983a-a9217d7377c6",
        "colab": {
          "base_uri": "https://localhost:8080/",
          "height": 68
        }
      },
      "source": [
        "success = subset_english[subset_english['list_fuzzy_match_for_league'] == 1].shape[0]\n",
        "print(success)\n",
        "all_vals = subset_english['list_fuzzy_match_for_league'].shape[0]\n",
        "print(all_vals)\n",
        "baseline_league = success / all_vals\n",
        "print(baseline_league)"
      ],
      "execution_count": 0,
      "outputs": [
        {
          "output_type": "stream",
          "text": [
            "827\n",
            "10000\n",
            "0.0827\n"
          ],
          "name": "stdout"
        }
      ]
    },
    {
      "cell_type": "code",
      "metadata": {
        "id": "YGQoyr9Nk9ih",
        "colab_type": "code",
        "colab": {}
      },
      "source": [
        "subset_english.to_csv('fuzzylists0306_withleagues.csv', index = False)"
      ],
      "execution_count": 0,
      "outputs": []
    }
  ]
}