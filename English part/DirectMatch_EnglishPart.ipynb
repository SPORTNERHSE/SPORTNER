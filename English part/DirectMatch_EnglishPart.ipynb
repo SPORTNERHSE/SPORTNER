{
  "nbformat": 4,
  "nbformat_minor": 0,
  "metadata": {
    "colab": {
      "name": "DirectMatchEnglish.ipynb",
      "provenance": [],
      "machine_shape": "hm"
    },
    "kernelspec": {
      "name": "python3",
      "display_name": "Python 3"
    }
  },
  "cells": [
    {
      "cell_type": "markdown",
      "metadata": {
        "id": "3mtbNyW9P4Cg",
        "colab_type": "text"
      },
      "source": [
        "**Redefining everything from the beginning and separating the df by language of the description**"
      ]
    },
    {
      "cell_type": "markdown",
      "metadata": {
        "id": "w5OccSpLFydI",
        "colab_type": "text"
      },
      "source": [
        "Definition of a new function that check language"
      ]
    },
    {
      "cell_type": "code",
      "metadata": {
        "id": "k_nRJ1CcFZ3w",
        "colab_type": "code",
        "colab": {}
      },
      "source": [
        "def which_language (text):\n",
        "  import re\n",
        "  if bool(re.search('[\\u0400-\\u04FF]', text)) == True:\n",
        "    return 'russian'\n",
        "  else:\n",
        "    return 'english'"
      ],
      "execution_count": 0,
      "outputs": []
    },
    {
      "cell_type": "code",
      "metadata": {
        "id": "84P70pAJGA0p",
        "colab_type": "code",
        "colab": {}
      },
      "source": [
        "import pandas as pd\n",
        "import numpy as np"
      ],
      "execution_count": 0,
      "outputs": []
    },
    {
      "cell_type": "code",
      "metadata": {
        "id": "NuKhTbzUQR55",
        "colab_type": "code",
        "outputId": "82934519-a44d-4039-cf36-55334f4148f8",
        "colab": {
          "base_uri": "https://localhost:8080/",
          "height": 263
        }
      },
      "source": [
        "df = pd.read_csv('result.tar.gz', sep='\\t', error_bad_lines=False)"
      ],
      "execution_count": 0,
      "outputs": [
        {
          "output_type": "stream",
          "text": [
            "b'Skipping line 37039: expected 12 fields, saw 15\\nSkipping line 45611: expected 12 fields, saw 15\\n'\n",
            "b'Skipping line 354339: expected 12 fields, saw 18\\nSkipping line 360804: expected 12 fields, saw 102\\nSkipping line 360819: expected 12 fields, saw 78\\nSkipping line 379126: expected 12 fields, saw 14\\nSkipping line 444446: expected 12 fields, saw 16\\nSkipping line 449079: expected 12 fields, saw 16\\nSkipping line 450250: expected 12 fields, saw 15\\n'\n",
            "b'Skipping line 481374: expected 12 fields, saw 18\\nSkipping line 510619: expected 12 fields, saw 20\\nSkipping line 512271: expected 12 fields, saw 14\\nSkipping line 514317: expected 12 fields, saw 15\\nSkipping line 519707: expected 12 fields, saw 40\\n'\n",
            "b'Skipping line 538495: expected 12 fields, saw 13\\n'\n",
            "b'Skipping line 765901: expected 12 fields, saw 56\\nSkipping line 773310: expected 12 fields, saw 43\\n'\n",
            "b'Skipping line 805899: expected 12 fields, saw 13\\nSkipping line 868492: expected 12 fields, saw 21\\nSkipping line 871801: expected 12 fields, saw 16\\n'\n",
            "b'Skipping line 903099: expected 12 fields, saw 13\\nSkipping line 903150: expected 12 fields, saw 13\\nSkipping line 903155: expected 12 fields, saw 13\\nSkipping line 926112: expected 12 fields, saw 13\\n'\n",
            "b'Skipping line 952511: expected 12 fields, saw 14\\nSkipping line 954085: expected 12 fields, saw 13\\nSkipping line 956504: expected 12 fields, saw 40\\nSkipping line 981135: expected 12 fields, saw 13\\nSkipping line 983460: expected 12 fields, saw 16\\nSkipping line 985000: expected 12 fields, saw 15\\nSkipping line 986754: expected 12 fields, saw 13\\nSkipping line 986828: expected 12 fields, saw 13\\n'\n",
            "b'Skipping line 1334533: expected 12 fields, saw 13\\nSkipping line 1337066: expected 12 fields, saw 16\\nSkipping line 1343528: expected 12 fields, saw 13\\nSkipping line 1351606: expected 12 fields, saw 14\\n'\n",
            "b'Skipping line 1376142: expected 12 fields, saw 16\\nSkipping line 1376408: expected 12 fields, saw 15\\nSkipping line 1389213: expected 12 fields, saw 59\\nSkipping line 1401635: expected 12 fields, saw 23\\n'\n",
            "b'Skipping line 1762082: expected 12 fields, saw 13\\nSkipping line 1763155: expected 12 fields, saw 16\\n'\n",
            "/usr/local/lib/python3.6/dist-packages/IPython/core/interactiveshell.py:2718: DtypeWarning: Columns (3) have mixed types.Specify dtype option on import or set low_memory=False.\n",
            "  interactivity=interactivity, compiler=compiler, result=result)\n"
          ],
          "name": "stderr"
        }
      ]
    },
    {
      "cell_type": "code",
      "metadata": {
        "id": "4bLht9RvQVPG",
        "colab_type": "code",
        "colab": {}
      },
      "source": [
        "df = df.drop([\"url\", \"video_url\", \"source_name\", \"author_name\"], axis=1)"
      ],
      "execution_count": 0,
      "outputs": []
    },
    {
      "cell_type": "code",
      "metadata": {
        "id": "rCYQD8yWQWD-",
        "colab_type": "code",
        "colab": {}
      },
      "source": [
        "df = df.dropna()"
      ],
      "execution_count": 0,
      "outputs": []
    },
    {
      "cell_type": "code",
      "metadata": {
        "id": "x29rrbolQYbM",
        "colab_type": "code",
        "colab": {}
      },
      "source": [
        "df = df.drop_duplicates()"
      ],
      "execution_count": 0,
      "outputs": []
    },
    {
      "cell_type": "code",
      "metadata": {
        "id": "ZE4paDVDQbNd",
        "colab_type": "code",
        "colab": {}
      },
      "source": [
        "df = df.reset_index(drop=True)"
      ],
      "execution_count": 0,
      "outputs": []
    },
    {
      "cell_type": "code",
      "metadata": {
        "id": "_6OSU3PEge9C",
        "colab_type": "code",
        "outputId": "b1c18712-71c9-49a5-85e5-c7ac07c3e95a",
        "colab": {
          "base_uri": "https://localhost:8080/",
          "height": 1000
        }
      },
      "source": [
        "df.head(10)"
      ],
      "execution_count": 0,
      "outputs": [
        {
          "output_type": "execute_result",
          "data": {
            "text/html": [
              "<div>\n",
              "<style scoped>\n",
              "    .dataframe tbody tr th:only-of-type {\n",
              "        vertical-align: middle;\n",
              "    }\n",
              "\n",
              "    .dataframe tbody tr th {\n",
              "        vertical-align: top;\n",
              "    }\n",
              "\n",
              "    .dataframe thead th {\n",
              "        text-align: right;\n",
              "    }\n",
              "</style>\n",
              "<table border=\"1\" class=\"dataframe\">\n",
              "  <thead>\n",
              "    <tr style=\"text-align: right;\">\n",
              "      <th></th>\n",
              "      <th>result.tsv</th>\n",
              "      <th>odd</th>\n",
              "      <th>tip_name</th>\n",
              "      <th>bookmaker_name</th>\n",
              "      <th>match_date_time</th>\n",
              "      <th>league_name_in_russian</th>\n",
              "      <th>team_of_season_1_name_in_russian</th>\n",
              "      <th>team_of_season_2_name_in_russian</th>\n",
              "    </tr>\n",
              "  </thead>\n",
              "  <tbody>\n",
              "    <tr>\n",
              "      <th>0</th>\n",
              "      <td>Сборная Турции продолжает свою дорогу на Чемпи...</td>\n",
              "      <td>1.65</td>\n",
              "      <td>- 1,5</td>\n",
              "      <td>Олимп</td>\n",
              "      <td>2019-06-02 18:00:00</td>\n",
              "      <td>Международные товарищеские матчи</td>\n",
              "      <td>Турция</td>\n",
              "      <td>Узбекистан</td>\n",
              "    </tr>\n",
              "    <tr>\n",
              "      <th>1</th>\n",
              "      <td>Двадцать девятого числа состоится один весьма ...</td>\n",
              "      <td>1.52</td>\n",
              "      <td>– тотал меньше 2,5</td>\n",
              "      <td>Winline</td>\n",
              "      <td>2019-06-28 23:20:00</td>\n",
              "      <td>Кубок Америки</td>\n",
              "      <td>Колумбия</td>\n",
              "      <td>Чили</td>\n",
              "    </tr>\n",
              "    <tr>\n",
              "      <th>2</th>\n",
              "      <td>АЗ Алкмар В первом матче голландский клуб созд...</td>\n",
              "      <td>1.85</td>\n",
              "      <td>АЗ Алкмар забьет в обоих таймах</td>\n",
              "      <td>Лига Ставок</td>\n",
              "      <td>2019-08-15 18:30:00</td>\n",
              "      <td>Лига Европы УЕФА</td>\n",
              "      <td>АЗ Алкмаар</td>\n",
              "      <td>Мариуполь</td>\n",
              "    </tr>\n",
              "    <tr>\n",
              "      <th>3</th>\n",
              "      <td>«Сачхере» — «Абердин» И тот, и другой клуб оде...</td>\n",
              "      <td>1.45</td>\n",
              "      <td>Айнтрахт - 3 и более гола</td>\n",
              "      <td>Лига Ставок</td>\n",
              "      <td>2019-07-25 17:00:00</td>\n",
              "      <td>Лига Европы УЕФА</td>\n",
              "      <td>Флора</td>\n",
              "      <td>Айнтрахт Франкфурт</td>\n",
              "    </tr>\n",
              "    <tr>\n",
              "      <th>4</th>\n",
              "      <td>Я предполагаю ничью в этом матче с забитыми мя...</td>\n",
              "      <td>5</td>\n",
              "      <td>Арсенал забьет первым и не выиграет</td>\n",
              "      <td>1xСтавка</td>\n",
              "      <td>2019-05-09 19:00:00</td>\n",
              "      <td>Лига Европы УЕФА</td>\n",
              "      <td>Валенсия</td>\n",
              "      <td>Арсенал</td>\n",
              "    </tr>\n",
              "    <tr>\n",
              "      <th>5</th>\n",
              "      <td>Июль подходит к концу. Скоро мадридское дерби ...</td>\n",
              "      <td>1.62</td>\n",
              "      <td>Атлетико забьет 1 или 2 гола: да</td>\n",
              "      <td>Фонбет</td>\n",
              "      <td>2019-07-27 00:06:00</td>\n",
              "      <td>Международный Кубок чемпионов</td>\n",
              "      <td>Реал Мадрид</td>\n",
              "      <td>Атлетико Мадрид</td>\n",
              "    </tr>\n",
              "    <tr>\n",
              "      <th>6</th>\n",
              "      <td>«Ахмат», который доставил много проблем команд...</td>\n",
              "      <td>1.71</td>\n",
              "      <td>Ахмат забьет 1 или 2 гола: да</td>\n",
              "      <td>Пари-Матч</td>\n",
              "      <td>2019-07-14 18:30:00</td>\n",
              "      <td>Премьер-Лига</td>\n",
              "      <td>Ахмат</td>\n",
              "      <td>Краснодар</td>\n",
              "    </tr>\n",
              "    <tr>\n",
              "      <th>7</th>\n",
              "      <td>Никто толком не представляет, в каких составах...</td>\n",
              "      <td>2.45</td>\n",
              "      <td>Бавария забьет в обоих таймах</td>\n",
              "      <td>Лига Ставок</td>\n",
              "      <td>2019-07-18 03:00:00</td>\n",
              "      <td>Международный Кубок чемпионов</td>\n",
              "      <td>Арсенал</td>\n",
              "      <td>Бавария</td>\n",
              "    </tr>\n",
              "    <tr>\n",
              "      <th>8</th>\n",
              "      <td>Матч вроде бы товарищеский, но - это и репутац...</td>\n",
              "      <td>3.25</td>\n",
              "      <td>Барселона забьет в каждом тайме</td>\n",
              "      <td>Лига Ставок</td>\n",
              "      <td>2019-07-23 10:30:00</td>\n",
              "      <td>Клубные товарищеские матчи</td>\n",
              "      <td>Барселона</td>\n",
              "      <td>Челси</td>\n",
              "    </tr>\n",
              "    <tr>\n",
              "      <th>9</th>\n",
              "      <td>Беларусь – Эстония: прогноз и ставка на матч 1...</td>\n",
              "      <td>1.9</td>\n",
              "      <td>Беларусь индивидуальный тотал больше 1,5</td>\n",
              "      <td>Пари-Матч</td>\n",
              "      <td>2019-10-10 16:00:00</td>\n",
              "      <td>Чемпионат Европы. Квалификация</td>\n",
              "      <td>Беларусь</td>\n",
              "      <td>Эстония</td>\n",
              "    </tr>\n",
              "  </tbody>\n",
              "</table>\n",
              "</div>"
            ],
            "text/plain": [
              "                                          result.tsv  ... team_of_season_2_name_in_russian\n",
              "0  Сборная Турции продолжает свою дорогу на Чемпи...  ...                       Узбекистан\n",
              "1  Двадцать девятого числа состоится один весьма ...  ...                             Чили\n",
              "2  АЗ Алкмар В первом матче голландский клуб созд...  ...                        Мариуполь\n",
              "3  «Сачхере» — «Абердин» И тот, и другой клуб оде...  ...               Айнтрахт Франкфурт\n",
              "4  Я предполагаю ничью в этом матче с забитыми мя...  ...                          Арсенал\n",
              "5  Июль подходит к концу. Скоро мадридское дерби ...  ...                  Атлетико Мадрид\n",
              "6  «Ахмат», который доставил много проблем команд...  ...                        Краснодар\n",
              "7  Никто толком не представляет, в каких составах...  ...                          Бавария\n",
              "8  Матч вроде бы товарищеский, но - это и репутац...  ...                            Челси\n",
              "9  Беларусь – Эстония: прогноз и ставка на матч 1...  ...                          Эстония\n",
              "\n",
              "[10 rows x 8 columns]"
            ]
          },
          "metadata": {
            "tags": []
          },
          "execution_count": 8
        }
      ]
    },
    {
      "cell_type": "markdown",
      "metadata": {
        "id": "DWNWvm16RW7V",
        "colab_type": "text"
      },
      "source": [
        "Loop to create a list of languages of each description"
      ]
    },
    {
      "cell_type": "code",
      "metadata": {
        "id": "QBMIYrusQntx",
        "colab_type": "code",
        "colab": {}
      },
      "source": [
        "lang=[]\n",
        "for i,text in enumerate(df['result.tsv'].values): \n",
        "  lang.append(which_language(str(text)))"
      ],
      "execution_count": 0,
      "outputs": []
    },
    {
      "cell_type": "markdown",
      "metadata": {
        "id": "QQoxC1Q6RiAZ",
        "colab_type": "text"
      },
      "source": [
        "Based on the language list, we add a new column to the dataframe that contain the language of the description"
      ]
    },
    {
      "cell_type": "code",
      "metadata": {
        "id": "T2PhG_kvQrRh",
        "colab_type": "code",
        "colab": {}
      },
      "source": [
        "df['Language'] = lang "
      ],
      "execution_count": 0,
      "outputs": []
    },
    {
      "cell_type": "markdown",
      "metadata": {
        "id": "aXRV3IhZRr_6",
        "colab_type": "text"
      },
      "source": [
        "Split the dataframe based on the language column"
      ]
    },
    {
      "cell_type": "code",
      "metadata": {
        "id": "flTm8TLWQu3c",
        "colab_type": "code",
        "colab": {}
      },
      "source": [
        "grouped=df.groupby('Language')"
      ],
      "execution_count": 0,
      "outputs": []
    },
    {
      "cell_type": "markdown",
      "metadata": {
        "id": "LsS_v54IRwuT",
        "colab_type": "text"
      },
      "source": [
        "**Create two new dataframe, each contain just one language, those groups do not contain the language column**"
      ]
    },
    {
      "cell_type": "code",
      "metadata": {
        "id": "xCbpxUJMQ55U",
        "colab_type": "code",
        "colab": {}
      },
      "source": [
        "for name, group in grouped: \n",
        "  if name == 'english': \n",
        "    english = group.drop('Language',axis=1) \n",
        "  else: \n",
        "    russian = group.drop('Language',axis=1)"
      ],
      "execution_count": 0,
      "outputs": []
    },
    {
      "cell_type": "markdown",
      "metadata": {
        "id": "Kg3K_t6gSXq_",
        "colab_type": "text"
      },
      "source": [
        "**Direct_matching the new datasetes:**\n",
        "\n",
        "\n",
        "\n"
      ]
    },
    {
      "cell_type": "markdown",
      "metadata": {
        "id": "929Ia5dcemX5",
        "colab_type": "text"
      },
      "source": [
        "**Match on team1**"
      ]
    },
    {
      "cell_type": "code",
      "metadata": {
        "id": "on7Whgl2ShcI",
        "colab_type": "code",
        "colab": {}
      },
      "source": [
        "teams1_match = np.zeros(english.shape[0])"
      ],
      "execution_count": 0,
      "outputs": []
    },
    {
      "cell_type": "code",
      "metadata": {
        "id": "6L_4hGqjSlPC",
        "colab_type": "code",
        "colab": {}
      },
      "source": [
        "for i, team1 in enumerate(english['team_of_season_1_name_in_russian']):\n",
        "  if team1 in english['result.tsv'].values[i] :\n",
        "    teams1_match[i] = 1 \n",
        "  else: \n",
        "    teams1_match[i] = 0"
      ],
      "execution_count": 0,
      "outputs": []
    },
    {
      "cell_type": "code",
      "metadata": {
        "id": "vLm74UhIS84n",
        "colab_type": "code",
        "colab": {}
      },
      "source": [
        "english['direct_match_for_teams1'] = teams1_match"
      ],
      "execution_count": 0,
      "outputs": []
    },
    {
      "cell_type": "code",
      "metadata": {
        "id": "Lq25IFY1TATe",
        "colab_type": "code",
        "outputId": "65ee0de3-9e8b-4e87-d4c4-1b2a96ba17c6",
        "colab": {
          "base_uri": "https://localhost:8080/",
          "height": 69
        }
      },
      "source": [
        "english['direct_match_for_teams1'].value_counts()"
      ],
      "execution_count": 0,
      "outputs": [
        {
          "output_type": "execute_result",
          "data": {
            "text/plain": [
              "0.0    106940\n",
              "1.0        37\n",
              "Name: direct_match_for_teams1, dtype: int64"
            ]
          },
          "metadata": {
            "tags": []
          },
          "execution_count": 16
        }
      ]
    },
    {
      "cell_type": "code",
      "metadata": {
        "id": "t0dctbJsTGyg",
        "colab_type": "code",
        "outputId": "a60bb6ad-6dd6-42cc-8125-a67b69369b93",
        "colab": {
          "base_uri": "https://localhost:8080/",
          "height": 34
        }
      },
      "source": [
        "success = english[english['direct_match_for_teams1'] == 1].shape[0]\n",
        "print(success)"
      ],
      "execution_count": 0,
      "outputs": [
        {
          "output_type": "stream",
          "text": [
            "37\n"
          ],
          "name": "stdout"
        }
      ]
    },
    {
      "cell_type": "code",
      "metadata": {
        "id": "8HPfx7KtTM8N",
        "colab_type": "code",
        "outputId": "356c82cb-75fe-412a-9161-7da9da55d184",
        "colab": {
          "base_uri": "https://localhost:8080/",
          "height": 34
        }
      },
      "source": [
        "all_vals = english['direct_match_for_teams1'].shape[0]\n",
        "print(all_vals)"
      ],
      "execution_count": 0,
      "outputs": [
        {
          "output_type": "stream",
          "text": [
            "106977\n"
          ],
          "name": "stdout"
        }
      ]
    },
    {
      "cell_type": "code",
      "metadata": {
        "id": "-S3jJhcZTR_A",
        "colab_type": "code",
        "outputId": "d24b9d4c-a1bd-4786-9a90-56ad81e689db",
        "colab": {
          "base_uri": "https://localhost:8080/",
          "height": 34
        }
      },
      "source": [
        "baseline_team1 = success / all_vals\n",
        "print(baseline_team1)"
      ],
      "execution_count": 0,
      "outputs": [
        {
          "output_type": "stream",
          "text": [
            "0.000345868738139974\n"
          ],
          "name": "stdout"
        }
      ]
    },
    {
      "cell_type": "markdown",
      "metadata": {
        "id": "aKwchTDHwvEe",
        "colab_type": "text"
      },
      "source": [
        "**Match on team2**"
      ]
    },
    {
      "cell_type": "code",
      "metadata": {
        "id": "RNRDURhmwyeI",
        "colab_type": "code",
        "colab": {}
      },
      "source": [
        "teams2_match = np.zeros(english.shape[0])"
      ],
      "execution_count": 0,
      "outputs": []
    },
    {
      "cell_type": "code",
      "metadata": {
        "id": "_ghkqZGHxk7U",
        "colab_type": "code",
        "colab": {}
      },
      "source": [
        "for i, team2 in enumerate(english['team_of_season_2_name_in_russian']):\n",
        "  if team2 in english['result.tsv'].values[i] :\n",
        "    teams2_match[i] = 1 \n",
        "  else: \n",
        "    teams2_match[i] = 0"
      ],
      "execution_count": 0,
      "outputs": []
    },
    {
      "cell_type": "code",
      "metadata": {
        "id": "W9S2tGKHxrav",
        "colab_type": "code",
        "colab": {}
      },
      "source": [
        "english['direct_match_for_teams2'] = teams2_match"
      ],
      "execution_count": 0,
      "outputs": []
    },
    {
      "cell_type": "code",
      "metadata": {
        "id": "1GJFNJwTxvC2",
        "colab_type": "code",
        "outputId": "e4a87d86-6e8f-4b68-d4c8-355fc811bccd",
        "colab": {
          "base_uri": "https://localhost:8080/",
          "height": 69
        }
      },
      "source": [
        "english['direct_match_for_teams2'].value_counts()"
      ],
      "execution_count": 0,
      "outputs": [
        {
          "output_type": "execute_result",
          "data": {
            "text/plain": [
              "0.0    106937\n",
              "1.0        40\n",
              "Name: direct_match_for_teams2, dtype: int64"
            ]
          },
          "metadata": {
            "tags": []
          },
          "execution_count": 23
        }
      ]
    },
    {
      "cell_type": "code",
      "metadata": {
        "id": "ZphBxTBXxyQk",
        "colab_type": "code",
        "outputId": "9255a45a-8e1d-4a34-ca34-9809b0e17843",
        "colab": {
          "base_uri": "https://localhost:8080/",
          "height": 34
        }
      },
      "source": [
        "success2 = english[english['direct_match_for_teams2'] == 1].shape[0]\n",
        "print(success2)"
      ],
      "execution_count": 0,
      "outputs": [
        {
          "output_type": "stream",
          "text": [
            "40\n"
          ],
          "name": "stdout"
        }
      ]
    },
    {
      "cell_type": "code",
      "metadata": {
        "id": "etYAAEGnx3aw",
        "colab_type": "code",
        "outputId": "65dac5bc-1ccc-4f5f-9247-83c2920fb98a",
        "colab": {
          "base_uri": "https://localhost:8080/",
          "height": 34
        }
      },
      "source": [
        "baseline_team2 = success2 / all_vals\n",
        "print(baseline_team2)"
      ],
      "execution_count": 0,
      "outputs": [
        {
          "output_type": "stream",
          "text": [
            "0.00037391214934051246\n"
          ],
          "name": "stdout"
        }
      ]
    },
    {
      "cell_type": "markdown",
      "metadata": {
        "id": "qBSVVDpvyHP6",
        "colab_type": "text"
      },
      "source": [
        "**Match by league**"
      ]
    },
    {
      "cell_type": "code",
      "metadata": {
        "id": "SYGtopLZx67-",
        "colab_type": "code",
        "colab": {}
      },
      "source": [
        "leagues_match = np.zeros(english.shape[0])"
      ],
      "execution_count": 0,
      "outputs": []
    },
    {
      "cell_type": "code",
      "metadata": {
        "id": "AIFNjM-khP5Z",
        "colab_type": "code",
        "colab": {}
      },
      "source": [
        "for i, league in enumerate(english['league_name_in_russian']):\n",
        "  if league in english['result.tsv'].values[i] :\n",
        "    leagues_match[i] = 1 \n",
        "  else: \n",
        "    leagues_match[i] = 0"
      ],
      "execution_count": 0,
      "outputs": []
    },
    {
      "cell_type": "code",
      "metadata": {
        "id": "-rfBigXqyRWR",
        "colab_type": "code",
        "colab": {}
      },
      "source": [
        "english['direct_match_for_leagues'] = leagues_match"
      ],
      "execution_count": 0,
      "outputs": []
    },
    {
      "cell_type": "code",
      "metadata": {
        "id": "6iRf99gnyWxw",
        "colab_type": "code",
        "outputId": "1ff9db40-9072-4d42-925a-22390c6a03c4",
        "colab": {
          "base_uri": "https://localhost:8080/",
          "height": 52
        }
      },
      "source": [
        "english['direct_match_for_leagues'].value_counts()"
      ],
      "execution_count": 0,
      "outputs": [
        {
          "output_type": "execute_result",
          "data": {
            "text/plain": [
              "0.0    106977\n",
              "Name: direct_match_for_leagues, dtype: int64"
            ]
          },
          "metadata": {
            "tags": []
          },
          "execution_count": 29
        }
      ]
    },
    {
      "cell_type": "code",
      "metadata": {
        "id": "dKPercKGya3q",
        "colab_type": "code",
        "outputId": "77b8a675-5de9-41d3-be9a-daf0fa286e35",
        "colab": {
          "base_uri": "https://localhost:8080/",
          "height": 34
        }
      },
      "source": [
        "success_l = english[english['direct_match_for_leagues'] == 1].shape[0]\n",
        "print(success_l)"
      ],
      "execution_count": 0,
      "outputs": [
        {
          "output_type": "stream",
          "text": [
            "0\n"
          ],
          "name": "stdout"
        }
      ]
    },
    {
      "cell_type": "code",
      "metadata": {
        "id": "xQ7o0MvZyd5g",
        "colab_type": "code",
        "outputId": "8a0afbff-991f-4bf0-9841-f80bbb173d36",
        "colab": {
          "base_uri": "https://localhost:8080/",
          "height": 34
        }
      },
      "source": [
        "baseline_league = success_l / all_vals\n",
        "print(baseline_league)"
      ],
      "execution_count": 0,
      "outputs": [
        {
          "output_type": "stream",
          "text": [
            "0.0\n"
          ],
          "name": "stdout"
        }
      ]
    },
    {
      "cell_type": "markdown",
      "metadata": {
        "id": "vbziW2b3yn7h",
        "colab_type": "text"
      },
      "source": [
        "**Match by Bookmaker**"
      ]
    },
    {
      "cell_type": "code",
      "metadata": {
        "id": "tIUzU68oy1JS",
        "colab_type": "code",
        "colab": {}
      },
      "source": [
        "bookmaker_match = np.zeros(english.shape[0])"
      ],
      "execution_count": 0,
      "outputs": []
    },
    {
      "cell_type": "code",
      "metadata": {
        "id": "haU8Ww5qhmK6",
        "colab_type": "code",
        "colab": {}
      },
      "source": [
        "for i, bookmaker in enumerate(english['bookmaker_name']):\n",
        "  if bookmaker in english['result.tsv'].values[i] :\n",
        "    bookmaker_match[i] = 1 \n",
        "  else: \n",
        "    bookmaker_match[i] = 0"
      ],
      "execution_count": 0,
      "outputs": []
    },
    {
      "cell_type": "code",
      "metadata": {
        "id": "Bt_CMPldzAML",
        "colab_type": "code",
        "colab": {}
      },
      "source": [
        "english['direct_match_for_bookmakers'] = bookmaker_match"
      ],
      "execution_count": 0,
      "outputs": []
    },
    {
      "cell_type": "code",
      "metadata": {
        "id": "z8RveSmuzFcV",
        "colab_type": "code",
        "outputId": "b5b48f88-baf8-42ea-cbd0-33ee5a9a35f6",
        "colab": {
          "base_uri": "https://localhost:8080/",
          "height": 69
        }
      },
      "source": [
        "english['direct_match_for_bookmakers'].value_counts()"
      ],
      "execution_count": 0,
      "outputs": [
        {
          "output_type": "execute_result",
          "data": {
            "text/plain": [
              "0.0    106973\n",
              "1.0         4\n",
              "Name: direct_match_for_bookmakers, dtype: int64"
            ]
          },
          "metadata": {
            "tags": []
          },
          "execution_count": 35
        }
      ]
    },
    {
      "cell_type": "code",
      "metadata": {
        "id": "um7m8ZDtzGoQ",
        "colab_type": "code",
        "outputId": "ea5cde7c-e06e-4983-f8a6-d2ce8dd8b8ac",
        "colab": {
          "base_uri": "https://localhost:8080/",
          "height": 34
        }
      },
      "source": [
        "success_b = english[english['direct_match_for_bookmakers'] == 1].shape[0]\n",
        "print(success_b)"
      ],
      "execution_count": 0,
      "outputs": [
        {
          "output_type": "stream",
          "text": [
            "4\n"
          ],
          "name": "stdout"
        }
      ]
    },
    {
      "cell_type": "code",
      "metadata": {
        "id": "4NKdVURbzKSW",
        "colab_type": "code",
        "outputId": "ecf25b14-4026-4b4d-e05f-e41158b755de",
        "colab": {
          "base_uri": "https://localhost:8080/",
          "height": 34
        }
      },
      "source": [
        "baseline_bookmaker = success_b / all_vals\n",
        "print(baseline_bookmaker)"
      ],
      "execution_count": 0,
      "outputs": [
        {
          "output_type": "stream",
          "text": [
            "3.7391214934051244e-05\n"
          ],
          "name": "stdout"
        }
      ]
    },
    {
      "cell_type": "markdown",
      "metadata": {
        "id": "YoQxovoFzO6Z",
        "colab_type": "text"
      },
      "source": [
        "**Match by coefficients (odd):**"
      ]
    },
    {
      "cell_type": "code",
      "metadata": {
        "id": "8VGhaxAwzWfh",
        "colab_type": "code",
        "colab": {}
      },
      "source": [
        "odd_match = np.zeros(english.shape[0])\n"
      ],
      "execution_count": 0,
      "outputs": []
    },
    {
      "cell_type": "code",
      "metadata": {
        "id": "BVBXkjOCiYxx",
        "colab_type": "code",
        "colab": {}
      },
      "source": [
        "for i, odd in enumerate(english['odd']):\n",
        "  if str(odd) in english['result.tsv'].values[i]:\n",
        "    odd_match[i] = int(1) \n",
        "  else: \n",
        "    odd_match[i] = int(0)"
      ],
      "execution_count": 0,
      "outputs": []
    },
    {
      "cell_type": "code",
      "metadata": {
        "id": "zV4elfWGEZSt",
        "colab_type": "code",
        "colab": {}
      },
      "source": [
        "english['direct_match_for_odds'] = odd_match\n"
      ],
      "execution_count": 0,
      "outputs": []
    },
    {
      "cell_type": "code",
      "metadata": {
        "id": "40-o_Py9Ebg6",
        "colab_type": "code",
        "outputId": "75582f73-a04f-409d-8c39-c99c906937a9",
        "colab": {
          "base_uri": "https://localhost:8080/",
          "height": 69
        }
      },
      "source": [
        "english['direct_match_for_odds'].value_counts()\n"
      ],
      "execution_count": 0,
      "outputs": [
        {
          "output_type": "execute_result",
          "data": {
            "text/plain": [
              "0.0    105074\n",
              "1.0      1903\n",
              "Name: direct_match_for_odds, dtype: int64"
            ]
          },
          "metadata": {
            "tags": []
          },
          "execution_count": 41
        }
      ]
    },
    {
      "cell_type": "code",
      "metadata": {
        "id": "2j5Ixa7-Edhy",
        "colab_type": "code",
        "outputId": "af2b2929-2b3c-4040-ff1f-f712f0c1f5f4",
        "colab": {
          "base_uri": "https://localhost:8080/",
          "height": 34
        }
      },
      "source": [
        "success_c = english[english['direct_match_for_odds'] == 1].shape[0]\n",
        "print(success_c)"
      ],
      "execution_count": 0,
      "outputs": [
        {
          "output_type": "stream",
          "text": [
            "1903\n"
          ],
          "name": "stdout"
        }
      ]
    },
    {
      "cell_type": "code",
      "metadata": {
        "id": "4Yx8R-a9EhaJ",
        "colab_type": "code",
        "outputId": "96fced4a-53ec-4ea4-e70b-28dd90f41240",
        "colab": {
          "base_uri": "https://localhost:8080/",
          "height": 34
        }
      },
      "source": [
        "baseline_odds = success_c / all_vals\n",
        "print(baseline_odds)"
      ],
      "execution_count": 0,
      "outputs": [
        {
          "output_type": "stream",
          "text": [
            "0.01778887050487488\n"
          ],
          "name": "stdout"
        }
      ]
    },
    {
      "cell_type": "markdown",
      "metadata": {
        "id": "_JjewcInEtDy",
        "colab_type": "text"
      },
      "source": [
        "**Match on tip-name (betting text):**"
      ]
    },
    {
      "cell_type": "code",
      "metadata": {
        "id": "rqVoS7psEuwq",
        "colab_type": "code",
        "colab": {}
      },
      "source": [
        "tip_match = np.zeros(english.shape[0])\n"
      ],
      "execution_count": 0,
      "outputs": []
    },
    {
      "cell_type": "code",
      "metadata": {
        "id": "SdVG6tA_l1ii",
        "colab_type": "code",
        "colab": {}
      },
      "source": [
        "for i, tip in enumerate(english['tip_name']):\n",
        "  if tip in english['result.tsv'].values[i] :\n",
        "    tip_match[i] = 1 \n",
        "  else: \n",
        "    tip_match[i] = 0"
      ],
      "execution_count": 0,
      "outputs": []
    },
    {
      "cell_type": "code",
      "metadata": {
        "id": "mxrqHEVnE5CH",
        "colab_type": "code",
        "colab": {}
      },
      "source": [
        "english['direct_match_for_tips'] = tip_match\n"
      ],
      "execution_count": 0,
      "outputs": []
    },
    {
      "cell_type": "code",
      "metadata": {
        "id": "cutTc_fmE7PK",
        "colab_type": "code",
        "outputId": "f25d8246-9a73-44b6-8bf5-94082f30790a",
        "colab": {
          "base_uri": "https://localhost:8080/",
          "height": 69
        }
      },
      "source": [
        "english['direct_match_for_tips'].value_counts()\n"
      ],
      "execution_count": 0,
      "outputs": [
        {
          "output_type": "execute_result",
          "data": {
            "text/plain": [
              "0.0    104647\n",
              "1.0      2330\n",
              "Name: direct_match_for_tips, dtype: int64"
            ]
          },
          "metadata": {
            "tags": []
          },
          "execution_count": 47
        }
      ]
    },
    {
      "cell_type": "code",
      "metadata": {
        "id": "xc-3JSCwlWTk",
        "colab_type": "code",
        "outputId": "77b57406-bdf4-4f47-83e3-ba10e89f2aad",
        "colab": {
          "base_uri": "https://localhost:8080/",
          "height": 34
        }
      },
      "source": [
        "success_t = english[english['direct_match_for_tips'] == 1].shape[0]\n",
        "print(success_t)"
      ],
      "execution_count": 0,
      "outputs": [
        {
          "output_type": "stream",
          "text": [
            "2330\n"
          ],
          "name": "stdout"
        }
      ]
    },
    {
      "cell_type": "code",
      "metadata": {
        "id": "B3aqJlHLFBAi",
        "colab_type": "code",
        "outputId": "9d727189-8531-4b1d-bfa4-ef56b27218c6",
        "colab": {
          "base_uri": "https://localhost:8080/",
          "height": 34
        }
      },
      "source": [
        "baseline_tips = success_t / all_vals\n",
        "print(baseline_tips)"
      ],
      "execution_count": 0,
      "outputs": [
        {
          "output_type": "stream",
          "text": [
            "0.02178038269908485\n"
          ],
          "name": "stdout"
        }
      ]
    },
    {
      "cell_type": "markdown",
      "metadata": {
        "id": "-7wDb-SDFEgo",
        "colab_type": "text"
      },
      "source": [
        "**`Match` by date**"
      ]
    },
    {
      "cell_type": "code",
      "metadata": {
        "id": "TculmKwxFIdC",
        "colab_type": "code",
        "colab": {}
      },
      "source": [
        "date_match = np.zeros(english.shape[0])\n"
      ],
      "execution_count": 0,
      "outputs": []
    },
    {
      "cell_type": "code",
      "metadata": {
        "id": "JV1MKRm4mq-Q",
        "colab_type": "code",
        "colab": {}
      },
      "source": [
        "for i, date in enumerate(english['match_date_time']):\n",
        "  if date in english['result.tsv'].values[i] :\n",
        "    date_match[i] = 1 \n",
        "  else: \n",
        "    date_match[i] = 0"
      ],
      "execution_count": 0,
      "outputs": []
    },
    {
      "cell_type": "code",
      "metadata": {
        "id": "p9Gay8orFRF6",
        "colab_type": "code",
        "colab": {}
      },
      "source": [
        "english['direct_match_for_date'] = date_match\n"
      ],
      "execution_count": 0,
      "outputs": []
    },
    {
      "cell_type": "code",
      "metadata": {
        "id": "1YOe9n-vFTzL",
        "colab_type": "code",
        "outputId": "8266ffa0-0bb3-4c68-9117-17acd4a9f01b",
        "colab": {
          "base_uri": "https://localhost:8080/",
          "height": 52
        }
      },
      "source": [
        "english['direct_match_for_date'].value_counts()\n"
      ],
      "execution_count": 0,
      "outputs": [
        {
          "output_type": "execute_result",
          "data": {
            "text/plain": [
              "0.0    106977\n",
              "Name: direct_match_for_date, dtype: int64"
            ]
          },
          "metadata": {
            "tags": []
          },
          "execution_count": 53
        }
      ]
    },
    {
      "cell_type": "code",
      "metadata": {
        "id": "FpOo6eVmFW3U",
        "colab_type": "code",
        "outputId": "8c1800a1-14fc-48fc-a3a5-f9f54b5fd53e",
        "colab": {
          "base_uri": "https://localhost:8080/",
          "height": 34
        }
      },
      "source": [
        "success_d = english[english['direct_match_for_date'] == 1].shape[0]\n",
        "print(success_d)"
      ],
      "execution_count": 0,
      "outputs": [
        {
          "output_type": "stream",
          "text": [
            "0\n"
          ],
          "name": "stdout"
        }
      ]
    },
    {
      "cell_type": "code",
      "metadata": {
        "id": "GjA6QvgOGECL",
        "colab_type": "code",
        "outputId": "26a2657c-a843-4983-fbe8-ef4ece00ca9b",
        "colab": {
          "base_uri": "https://localhost:8080/",
          "height": 34
        }
      },
      "source": [
        "baseline_date = success_d / all_vals\n",
        "print(baseline_date)"
      ],
      "execution_count": 0,
      "outputs": [
        {
          "output_type": "stream",
          "text": [
            "0.0\n"
          ],
          "name": "stdout"
        }
      ]
    },
    {
      "cell_type": "markdown",
      "metadata": {
        "id": "UZTDh8dDFZfz",
        "colab_type": "text"
      },
      "source": [
        "**Dataset with new columns**"
      ]
    },
    {
      "cell_type": "code",
      "metadata": {
        "colab_type": "code",
        "id": "GFlvM_5uFBPM",
        "cellView": "code",
        "outputId": "aac6ed88-e489-46bf-8b79-e211db4a7a45",
        "colab": {
          "base_uri": "https://localhost:8080/",
          "height": 887
        }
      },
      "source": [
        "english.head(10)\n"
      ],
      "execution_count": 0,
      "outputs": [
        {
          "output_type": "execute_result",
          "data": {
            "text/html": [
              "<div>\n",
              "<style scoped>\n",
              "    .dataframe tbody tr th:only-of-type {\n",
              "        vertical-align: middle;\n",
              "    }\n",
              "\n",
              "    .dataframe tbody tr th {\n",
              "        vertical-align: top;\n",
              "    }\n",
              "\n",
              "    .dataframe thead th {\n",
              "        text-align: right;\n",
              "    }\n",
              "</style>\n",
              "<table border=\"1\" class=\"dataframe\">\n",
              "  <thead>\n",
              "    <tr style=\"text-align: right;\">\n",
              "      <th></th>\n",
              "      <th>result.tsv</th>\n",
              "      <th>odd</th>\n",
              "      <th>tip_name</th>\n",
              "      <th>bookmaker_name</th>\n",
              "      <th>match_date_time</th>\n",
              "      <th>league_name_in_russian</th>\n",
              "      <th>team_of_season_1_name_in_russian</th>\n",
              "      <th>team_of_season_2_name_in_russian</th>\n",
              "      <th>direct_match_for_teams1</th>\n",
              "      <th>direct_match_for_teams2</th>\n",
              "      <th>direct_match_for_leagues</th>\n",
              "      <th>direct_match_for_bookmakers</th>\n",
              "      <th>direct_match_for_odds</th>\n",
              "      <th>direct_match_for_tips</th>\n",
              "      <th>direct_match_for_date</th>\n",
              "    </tr>\n",
              "  </thead>\n",
              "  <tbody>\n",
              "    <tr>\n",
              "      <th>18</th>\n",
              "      <td></td>\n",
              "      <td>1.68</td>\n",
              "      <td>Карабах забьет в обоих таймах</td>\n",
              "      <td>Фонбет</td>\n",
              "      <td>2019-08-29 16:00:00</td>\n",
              "      <td>Лига Европы УЕФА</td>\n",
              "      <td>Карабах</td>\n",
              "      <td>Линфилд</td>\n",
              "      <td>0.0</td>\n",
              "      <td>0.0</td>\n",
              "      <td>0.0</td>\n",
              "      <td>0.0</td>\n",
              "      <td>0.0</td>\n",
              "      <td>0.0</td>\n",
              "      <td>0.0</td>\n",
              "    </tr>\n",
              "    <tr>\n",
              "      <th>27</th>\n",
              "      <td></td>\n",
              "      <td>1.73</td>\n",
              "      <td>Обе забьют - да</td>\n",
              "      <td>Фонбет</td>\n",
              "      <td>2019-08-29 17:15:00</td>\n",
              "      <td>Лига Европы УЕФА</td>\n",
              "      <td>Спартак</td>\n",
              "      <td>Брага</td>\n",
              "      <td>0.0</td>\n",
              "      <td>0.0</td>\n",
              "      <td>0.0</td>\n",
              "      <td>0.0</td>\n",
              "      <td>0.0</td>\n",
              "      <td>0.0</td>\n",
              "      <td>0.0</td>\n",
              "    </tr>\n",
              "    <tr>\n",
              "      <th>28</th>\n",
              "      <td></td>\n",
              "      <td>1.85</td>\n",
              "      <td>Обе забьют - да</td>\n",
              "      <td>Winline</td>\n",
              "      <td>2019-08-30 19:00:00</td>\n",
              "      <td>Серия B</td>\n",
              "      <td>Кьево Верона</td>\n",
              "      <td>Эмполи</td>\n",
              "      <td>0.0</td>\n",
              "      <td>0.0</td>\n",
              "      <td>0.0</td>\n",
              "      <td>0.0</td>\n",
              "      <td>0.0</td>\n",
              "      <td>0.0</td>\n",
              "      <td>0.0</td>\n",
              "    </tr>\n",
              "    <tr>\n",
              "      <th>34</th>\n",
              "      <td></td>\n",
              "      <td>1.62</td>\n",
              "      <td>Оренбург забьет - да</td>\n",
              "      <td>Winline</td>\n",
              "      <td>2019-08-31 08:30:00</td>\n",
              "      <td>Премьер-Лига</td>\n",
              "      <td>Уфа</td>\n",
              "      <td>Оренбург</td>\n",
              "      <td>0.0</td>\n",
              "      <td>0.0</td>\n",
              "      <td>0.0</td>\n",
              "      <td>0.0</td>\n",
              "      <td>0.0</td>\n",
              "      <td>0.0</td>\n",
              "      <td>0.0</td>\n",
              "    </tr>\n",
              "    <tr>\n",
              "      <th>41</th>\n",
              "      <td></td>\n",
              "      <td>2.25</td>\n",
              "      <td>Хорсенс забьет в 1-м тайме - да</td>\n",
              "      <td>Фонбет</td>\n",
              "      <td>2019-08-26 17:00:00</td>\n",
              "      <td>Суперлига</td>\n",
              "      <td>Хорсенс</td>\n",
              "      <td>Ольборг</td>\n",
              "      <td>0.0</td>\n",
              "      <td>0.0</td>\n",
              "      <td>0.0</td>\n",
              "      <td>0.0</td>\n",
              "      <td>0.0</td>\n",
              "      <td>0.0</td>\n",
              "      <td>0.0</td>\n",
              "    </tr>\n",
              "    <tr>\n",
              "      <th>618</th>\n",
              "      <td>Middlesbrough have woken to good times in thei...</td>\n",
              "      <td>7</td>\n",
              "      <td>0-0</td>\n",
              "      <td>bet365</td>\n",
              "      <td>2019-04-19 14:00:00</td>\n",
              "      <td>Чемпионшип</td>\n",
              "      <td>Мидлсбро</td>\n",
              "      <td>Сток Сити</td>\n",
              "      <td>0.0</td>\n",
              "      <td>0.0</td>\n",
              "      <td>0.0</td>\n",
              "      <td>0.0</td>\n",
              "      <td>0.0</td>\n",
              "      <td>0.0</td>\n",
              "      <td>0.0</td>\n",
              "    </tr>\n",
              "    <tr>\n",
              "      <th>619</th>\n",
              "      <td>Wolves prefer to attack with pace on the count...</td>\n",
              "      <td>7.5</td>\n",
              "      <td>0-0</td>\n",
              "      <td>bet365</td>\n",
              "      <td>2019-04-20 14:00:00</td>\n",
              "      <td>Премьер-лига</td>\n",
              "      <td>Вулверхэмптон</td>\n",
              "      <td>Брайтон</td>\n",
              "      <td>0.0</td>\n",
              "      <td>0.0</td>\n",
              "      <td>0.0</td>\n",
              "      <td>0.0</td>\n",
              "      <td>0.0</td>\n",
              "      <td>0.0</td>\n",
              "      <td>0.0</td>\n",
              "    </tr>\n",
              "    <tr>\n",
              "      <th>620</th>\n",
              "      <td>In my opinion a 0-0 draw is quite likely betwe...</td>\n",
              "      <td>13</td>\n",
              "      <td>0-0</td>\n",
              "      <td>bet365</td>\n",
              "      <td>2019-04-18 19:00:00</td>\n",
              "      <td>Лига Европы УЕФА</td>\n",
              "      <td>Валенсия</td>\n",
              "      <td>Вильярреал</td>\n",
              "      <td>0.0</td>\n",
              "      <td>0.0</td>\n",
              "      <td>0.0</td>\n",
              "      <td>0.0</td>\n",
              "      <td>0.0</td>\n",
              "      <td>1.0</td>\n",
              "      <td>0.0</td>\n",
              "    </tr>\n",
              "    <tr>\n",
              "      <th>621</th>\n",
              "      <td>with home side Valencia having a massive advan...</td>\n",
              "      <td>13</td>\n",
              "      <td>0-0</td>\n",
              "      <td>bet365</td>\n",
              "      <td>2019-04-18 19:00:00</td>\n",
              "      <td>Лига Европы УЕФА</td>\n",
              "      <td>Валенсия</td>\n",
              "      <td>Вильярреал</td>\n",
              "      <td>0.0</td>\n",
              "      <td>0.0</td>\n",
              "      <td>0.0</td>\n",
              "      <td>0.0</td>\n",
              "      <td>0.0</td>\n",
              "      <td>0.0</td>\n",
              "      <td>0.0</td>\n",
              "    </tr>\n",
              "    <tr>\n",
              "      <th>622</th>\n",
              "      <td>tow side who fill the bottom two places in the...</td>\n",
              "      <td>17</td>\n",
              "      <td>0-0</td>\n",
              "      <td>bet365</td>\n",
              "      <td>2019-04-20 16:30:00</td>\n",
              "      <td>Примера</td>\n",
              "      <td>Райо Валлекано</td>\n",
              "      <td>Уэска</td>\n",
              "      <td>0.0</td>\n",
              "      <td>0.0</td>\n",
              "      <td>0.0</td>\n",
              "      <td>0.0</td>\n",
              "      <td>0.0</td>\n",
              "      <td>0.0</td>\n",
              "      <td>0.0</td>\n",
              "    </tr>\n",
              "  </tbody>\n",
              "</table>\n",
              "</div>"
            ],
            "text/plain": [
              "                                            result.tsv  ... direct_match_for_date\n",
              "18                                                      ...                   0.0\n",
              "27                                                      ...                   0.0\n",
              "28                                                      ...                   0.0\n",
              "34                                                      ...                   0.0\n",
              "41                                                      ...                   0.0\n",
              "618  Middlesbrough have woken to good times in thei...  ...                   0.0\n",
              "619  Wolves prefer to attack with pace on the count...  ...                   0.0\n",
              "620  In my opinion a 0-0 draw is quite likely betwe...  ...                   0.0\n",
              "621  with home side Valencia having a massive advan...  ...                   0.0\n",
              "622  tow side who fill the bottom two places in the...  ...                   0.0\n",
              "\n",
              "[10 rows x 15 columns]"
            ]
          },
          "metadata": {
            "tags": []
          },
          "execution_count": 56
        }
      ]
    }
  ]
}