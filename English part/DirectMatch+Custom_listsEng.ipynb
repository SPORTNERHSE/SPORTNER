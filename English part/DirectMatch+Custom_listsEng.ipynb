{
  "nbformat": 4,
  "nbformat_minor": 0,
  "metadata": {
    "colab": {
      "name": "**DirectMatch+Custom listsEn.ipynb",
      "provenance": []
    },
    "kernelspec": {
      "name": "python3",
      "display_name": "Python 3"
    }
  },
  "cells": [
    {
      "cell_type": "code",
      "metadata": {
        "colab_type": "code",
        "id": "znP0Nm7CljrK",
        "outputId": "9680f28e-efd9-48fc-c00e-7f69e83b8bea",
        "colab": {
          "base_uri": "https://localhost:8080/",
          "height": 52
        }
      },
      "source": [
        "import pandas as pd\n",
        "import numpy as np\n",
        "from tqdm import tqdm\n",
        "from nltk import word_tokenize\n",
        "from collections import Counter\n",
        "from string import punctuation\n",
        "punct = punctuation+'©«»—…“”*№–'\n",
        "import nltk\n",
        "nltk.download('punkt')\n",
        "import urllib.request\n",
        "from bs4 import BeautifulSoup\n",
        "import re\n",
        "from tqdm import tqdm"
      ],
      "execution_count": 17,
      "outputs": [
        {
          "output_type": "stream",
          "text": [
            "[nltk_data] Downloading package punkt to /root/nltk_data...\n",
            "[nltk_data]   Package punkt is already up-to-date!\n"
          ],
          "name": "stdout"
        }
      ]
    },
    {
      "cell_type": "code",
      "metadata": {
        "colab_type": "code",
        "id": "TBcxI4187zJ0",
        "colab": {}
      },
      "source": [
        "def which_language (text):\n",
        "  import re\n",
        "  if bool(re.search('[\\u0400-\\u04FF]', text)) == True:\n",
        "    return 'russian'\n",
        "  else:\n",
        "    return 'english'"
      ],
      "execution_count": 0,
      "outputs": []
    },
    {
      "cell_type": "code",
      "metadata": {
        "id": "za58s9W9D8j3",
        "colab_type": "code",
        "colab": {}
      },
      "source": [
        "teams_names_in_russian_and_english_df = pd.read_csv(\"teams names in russian and english.csv\")\n",
        "leagues_names_in_russian_and_english_df = pd.read_csv(\"leagues names in russian and english.csv\")"
      ],
      "execution_count": 0,
      "outputs": []
    },
    {
      "cell_type": "code",
      "metadata": {
        "colab_type": "code",
        "id": "toZ24JbG714i",
        "outputId": "8509dc00-0023-4720-b513-9f28bce0c164",
        "colab": {
          "base_uri": "https://localhost:8080/",
          "height": 263
        }
      },
      "source": [
        "df = pd.read_csv('result.tar.gz', sep='\\t', error_bad_lines=False)"
      ],
      "execution_count": 20,
      "outputs": [
        {
          "output_type": "stream",
          "text": [
            "b'Skipping line 37039: expected 12 fields, saw 15\\nSkipping line 45611: expected 12 fields, saw 15\\n'\n",
            "b'Skipping line 354339: expected 12 fields, saw 18\\nSkipping line 360804: expected 12 fields, saw 102\\nSkipping line 360819: expected 12 fields, saw 78\\nSkipping line 379126: expected 12 fields, saw 14\\nSkipping line 444446: expected 12 fields, saw 16\\nSkipping line 449079: expected 12 fields, saw 16\\nSkipping line 450250: expected 12 fields, saw 15\\n'\n",
            "b'Skipping line 481374: expected 12 fields, saw 18\\nSkipping line 510619: expected 12 fields, saw 20\\nSkipping line 512271: expected 12 fields, saw 14\\nSkipping line 514317: expected 12 fields, saw 15\\nSkipping line 519707: expected 12 fields, saw 40\\n'\n",
            "b'Skipping line 538495: expected 12 fields, saw 13\\n'\n",
            "b'Skipping line 765901: expected 12 fields, saw 56\\nSkipping line 773310: expected 12 fields, saw 43\\n'\n",
            "b'Skipping line 805899: expected 12 fields, saw 13\\nSkipping line 868492: expected 12 fields, saw 21\\nSkipping line 871801: expected 12 fields, saw 16\\n'\n",
            "b'Skipping line 903099: expected 12 fields, saw 13\\nSkipping line 903150: expected 12 fields, saw 13\\nSkipping line 903155: expected 12 fields, saw 13\\nSkipping line 926112: expected 12 fields, saw 13\\n'\n",
            "b'Skipping line 952511: expected 12 fields, saw 14\\nSkipping line 954085: expected 12 fields, saw 13\\nSkipping line 956504: expected 12 fields, saw 40\\nSkipping line 981135: expected 12 fields, saw 13\\nSkipping line 983460: expected 12 fields, saw 16\\nSkipping line 985000: expected 12 fields, saw 15\\nSkipping line 986754: expected 12 fields, saw 13\\nSkipping line 986828: expected 12 fields, saw 13\\n'\n",
            "b'Skipping line 1334533: expected 12 fields, saw 13\\nSkipping line 1337066: expected 12 fields, saw 16\\nSkipping line 1343528: expected 12 fields, saw 13\\nSkipping line 1351606: expected 12 fields, saw 14\\n'\n",
            "b'Skipping line 1376142: expected 12 fields, saw 16\\nSkipping line 1376408: expected 12 fields, saw 15\\nSkipping line 1389213: expected 12 fields, saw 59\\nSkipping line 1401635: expected 12 fields, saw 23\\n'\n",
            "b'Skipping line 1762082: expected 12 fields, saw 13\\nSkipping line 1763155: expected 12 fields, saw 16\\n'\n",
            "/usr/local/lib/python3.6/dist-packages/IPython/core/interactiveshell.py:2718: DtypeWarning: Columns (3) have mixed types.Specify dtype option on import or set low_memory=False.\n",
            "  interactivity=interactivity, compiler=compiler, result=result)\n"
          ],
          "name": "stderr"
        }
      ]
    },
    {
      "cell_type": "code",
      "metadata": {
        "colab_type": "code",
        "id": "t3MM827m8BwJ",
        "colab": {}
      },
      "source": [
        "df = df.drop([\"url\", \"video_url\", \"source_name\", \"author_name\"], axis=1)"
      ],
      "execution_count": 0,
      "outputs": []
    },
    {
      "cell_type": "code",
      "metadata": {
        "id": "x6xSEBzhD8ky",
        "colab_type": "code",
        "colab": {}
      },
      "source": [
        "df['result.tsv'] = df['result.tsv'].replace(r'http\\S+', '', regex=True).replace(r'www\\S+', '', regex=True).replace(r'https\\S+', '', regex=True)\n",
        "df = df.replace('', np.NaN)\n",
        "df = df.replace('\\xa0', np.NaN)\n",
        "df = df.dropna()\n",
        "df =  df[df['result.tsv'].str.contains('[A-Za-z]')]\n",
        "df = df[df['result.tsv'].str.split().str.len().gt(1)]"
      ],
      "execution_count": 0,
      "outputs": []
    },
    {
      "cell_type": "code",
      "metadata": {
        "colab_type": "code",
        "id": "IIyWCBEq8EkD",
        "colab": {}
      },
      "source": [
        "df = df.dropna()"
      ],
      "execution_count": 0,
      "outputs": []
    },
    {
      "cell_type": "code",
      "metadata": {
        "colab_type": "code",
        "id": "xTXkiOcW8IKy",
        "colab": {}
      },
      "source": [
        "df = df.drop_duplicates()"
      ],
      "execution_count": 0,
      "outputs": []
    },
    {
      "cell_type": "code",
      "metadata": {
        "colab_type": "code",
        "id": "_jzYJuKp8LCk",
        "colab": {}
      },
      "source": [
        "df = df.reset_index(drop=True)"
      ],
      "execution_count": 0,
      "outputs": []
    },
    {
      "cell_type": "code",
      "metadata": {
        "colab_type": "code",
        "id": "O4URIes58NsG",
        "outputId": "d3d88492-87b0-4bdc-e016-36ff7e0738b3",
        "colab": {
          "base_uri": "https://localhost:8080/",
          "height": 626
        }
      },
      "source": [
        "df.head(5)"
      ],
      "execution_count": 26,
      "outputs": [
        {
          "output_type": "execute_result",
          "data": {
            "text/html": [
              "<div>\n",
              "<style scoped>\n",
              "    .dataframe tbody tr th:only-of-type {\n",
              "        vertical-align: middle;\n",
              "    }\n",
              "\n",
              "    .dataframe tbody tr th {\n",
              "        vertical-align: top;\n",
              "    }\n",
              "\n",
              "    .dataframe thead th {\n",
              "        text-align: right;\n",
              "    }\n",
              "</style>\n",
              "<table border=\"1\" class=\"dataframe\">\n",
              "  <thead>\n",
              "    <tr style=\"text-align: right;\">\n",
              "      <th></th>\n",
              "      <th>result.tsv</th>\n",
              "      <th>odd</th>\n",
              "      <th>tip_name</th>\n",
              "      <th>bookmaker_name</th>\n",
              "      <th>match_date_time</th>\n",
              "      <th>league_name_in_russian</th>\n",
              "      <th>team_of_season_1_name_in_russian</th>\n",
              "      <th>team_of_season_2_name_in_russian</th>\n",
              "    </tr>\n",
              "  </thead>\n",
              "  <tbody>\n",
              "    <tr>\n",
              "      <th>0</th>\n",
              "      <td>Я предполагаю ничью в этом матче с забитыми мя...</td>\n",
              "      <td>5</td>\n",
              "      <td>Арсенал забьет первым и не выиграет</td>\n",
              "      <td>1xСтавка</td>\n",
              "      <td>2019-05-09 19:00:00</td>\n",
              "      <td>Лига Европы УЕФА</td>\n",
              "      <td>Валенсия</td>\n",
              "      <td>Арсенал</td>\n",
              "    </tr>\n",
              "    <tr>\n",
              "      <th>1</th>\n",
              "      <td>Беларусь – Эстония: прогноз и ставка на матч 1...</td>\n",
              "      <td>1.9</td>\n",
              "      <td>Беларусь индивидуальный тотал больше 1,5</td>\n",
              "      <td>Пари-Матч</td>\n",
              "      <td>2019-10-10 16:00:00</td>\n",
              "      <td>Чемпионат Европы. Квалификация</td>\n",
              "      <td>Беларусь</td>\n",
              "      <td>Эстония</td>\n",
              "    </tr>\n",
              "    <tr>\n",
              "      <th>2</th>\n",
              "      <td>Украинская команда имеет отличный шанс выйти в...</td>\n",
              "      <td>1.55</td>\n",
              "      <td>Заря забьет 1 или 2 гола: да</td>\n",
              "      <td>1xСтавка</td>\n",
              "      <td>2019-08-15 17:00:00</td>\n",
              "      <td>Лига Европы УЕФА</td>\n",
              "      <td>Заря</td>\n",
              "      <td>ЦСКА София</td>\n",
              "    </tr>\n",
              "    <tr>\n",
              "      <th>3</th>\n",
              "      <td>«Сент-Миррен» в родных стенах встретится с «Аб...</td>\n",
              "      <td>2.55</td>\n",
              "      <td>«Абердин» фора (-1)</td>\n",
              "      <td>BETCITY</td>\n",
              "      <td>2019-08-11 14:00:00</td>\n",
              "      <td>Премьершип</td>\n",
              "      <td>Сент-Миррен</td>\n",
              "      <td>Абердин</td>\n",
              "    </tr>\n",
              "    <tr>\n",
              "      <th>4</th>\n",
              "      <td>На стадионе «Айброкс» состоится встреча между ...</td>\n",
              "      <td>1.97</td>\n",
              "      <td>«Абердин» фора (+1,5)</td>\n",
              "      <td>Марафон</td>\n",
              "      <td>2019-09-28 14:00:00</td>\n",
              "      <td>Премьершип</td>\n",
              "      <td>Глазго Рейнджерс</td>\n",
              "      <td>Абердин</td>\n",
              "    </tr>\n",
              "  </tbody>\n",
              "</table>\n",
              "</div>"
            ],
            "text/plain": [
              "                                          result.tsv  ... team_of_season_2_name_in_russian\n",
              "0  Я предполагаю ничью в этом матче с забитыми мя...  ...                          Арсенал\n",
              "1  Беларусь – Эстония: прогноз и ставка на матч 1...  ...                          Эстония\n",
              "2  Украинская команда имеет отличный шанс выйти в...  ...                       ЦСКА София\n",
              "3  «Сент-Миррен» в родных стенах встретится с «Аб...  ...                          Абердин\n",
              "4  На стадионе «Айброкс» состоится встреча между ...  ...                          Абердин\n",
              "\n",
              "[5 rows x 8 columns]"
            ]
          },
          "metadata": {
            "tags": []
          },
          "execution_count": 26
        }
      ]
    },
    {
      "cell_type": "code",
      "metadata": {
        "colab_type": "code",
        "id": "-4WsVXPh8VBy",
        "colab": {}
      },
      "source": [
        "lang=[]\n",
        "for i,text in enumerate(df['result.tsv'].values): \n",
        "  lang.append(which_language(str(text)))"
      ],
      "execution_count": 0,
      "outputs": []
    },
    {
      "cell_type": "code",
      "metadata": {
        "colab_type": "code",
        "id": "qQf_zDj98jTz",
        "colab": {}
      },
      "source": [
        "df['Language'] = lang"
      ],
      "execution_count": 0,
      "outputs": []
    },
    {
      "cell_type": "code",
      "metadata": {
        "colab_type": "code",
        "id": "3qQE6vL88pJs",
        "colab": {}
      },
      "source": [
        "grouped=df.groupby('Language')"
      ],
      "execution_count": 0,
      "outputs": []
    },
    {
      "cell_type": "code",
      "metadata": {
        "colab_type": "code",
        "id": "qY-1sd5S8zJ-",
        "colab": {}
      },
      "source": [
        "for name, group in grouped: \n",
        "  if name == 'english': \n",
        "    english = group.drop('Language',axis=1) \n",
        "  else: \n",
        "    russian = group.drop('Language',axis=1)"
      ],
      "execution_count": 0,
      "outputs": []
    },
    {
      "cell_type": "code",
      "metadata": {
        "colab_type": "code",
        "id": "vthWgwW-mkt8",
        "colab": {}
      },
      "source": [
        "english = pd.merge(english, teams_names_in_russian_and_english_df,  how='left', left_on=['team_of_season_1_name_in_russian'], right_on = ['team name in Russian'])\n",
        "english.rename({'English': 'team_of_season_1_name_in_english'}, axis=1, inplace=True)\n",
        "\n",
        "english = pd.merge(english, teams_names_in_russian_and_english_df,  how='left', left_on=['team_of_season_2_name_in_russian'], right_on = ['team name in Russian'])\n",
        "english.rename({'English': 'team_of_season_2_name_in_english'}, axis=1, inplace=True)\n",
        "\n",
        "english = pd.merge(english, leagues_names_in_russian_and_english_df,  how='left', left_on=['league_name_in_russian'], right_on = ['leagues name in Russian'])\n",
        "english.rename({'unique_leagues_in_english': 'league_name_in_english'}, axis=1, inplace=True)\n"
      ],
      "execution_count": 0,
      "outputs": []
    },
    {
      "cell_type": "code",
      "metadata": {
        "colab_type": "code",
        "id": "BaSDZIwnmkuQ",
        "colab": {}
      },
      "source": [
        "english.drop(['team name in Russian_x' , 'team name in Russian_y' , 'leagues name in Russian' ] , axis=1 , inplace=True)"
      ],
      "execution_count": 0,
      "outputs": []
    },
    {
      "cell_type": "code",
      "metadata": {
        "colab_type": "code",
        "id": "ereYqA_Amkug",
        "colab": {}
      },
      "source": [
        "# Here we are just re-naming the columns so one check that what's in it and interpret the information easily \n",
        "english.rename({'team name in English_x': 'team_of_season_1_name_in_english'}, axis=1, inplace=True)\n",
        "english.rename({'team name in English_y': 'team_of_season_2_name_in_english'}, axis=1, inplace=True)\n",
        "english.rename({'leagues names in English': 'league_name_in_english'}, axis=1, inplace=True)"
      ],
      "execution_count": 0,
      "outputs": []
    },
    {
      "cell_type": "code",
      "metadata": {
        "colab_type": "code",
        "id": "32-kii7Kmku1",
        "colab": {}
      },
      "source": [
        "# Here we are just setting the correct data type that english names should be string\n",
        "english['team_of_season_1_name_in_english']=english['team_of_season_1_name_in_english'].astype(str)\n",
        "english['team_of_season_2_name_in_english']=english['team_of_season_2_name_in_english'].astype(str)\n",
        "english['league_name_in_english']=english['league_name_in_english'].astype(str)"
      ],
      "execution_count": 0,
      "outputs": []
    },
    {
      "cell_type": "code",
      "metadata": {
        "id": "lZkKHDbID8pH",
        "colab_type": "code",
        "outputId": "7b2b4d49-64d8-413d-dd06-18360dce4a28",
        "colab": {
          "base_uri": "https://localhost:8080/",
          "height": 236
        }
      },
      "source": [
        "english.head(2)"
      ],
      "execution_count": 35,
      "outputs": [
        {
          "output_type": "execute_result",
          "data": {
            "text/html": [
              "<div>\n",
              "<style scoped>\n",
              "    .dataframe tbody tr th:only-of-type {\n",
              "        vertical-align: middle;\n",
              "    }\n",
              "\n",
              "    .dataframe tbody tr th {\n",
              "        vertical-align: top;\n",
              "    }\n",
              "\n",
              "    .dataframe thead th {\n",
              "        text-align: right;\n",
              "    }\n",
              "</style>\n",
              "<table border=\"1\" class=\"dataframe\">\n",
              "  <thead>\n",
              "    <tr style=\"text-align: right;\">\n",
              "      <th></th>\n",
              "      <th>result.tsv</th>\n",
              "      <th>odd</th>\n",
              "      <th>tip_name</th>\n",
              "      <th>bookmaker_name</th>\n",
              "      <th>match_date_time</th>\n",
              "      <th>league_name_in_russian</th>\n",
              "      <th>team_of_season_1_name_in_russian</th>\n",
              "      <th>team_of_season_2_name_in_russian</th>\n",
              "      <th>team_of_season_1_name_in_english</th>\n",
              "      <th>team_of_season_2_name_in_english</th>\n",
              "      <th>league_name_in_english</th>\n",
              "    </tr>\n",
              "  </thead>\n",
              "  <tbody>\n",
              "    <tr>\n",
              "      <th>0</th>\n",
              "      <td>Middlesbrough have woken to good times in thei...</td>\n",
              "      <td>7</td>\n",
              "      <td>0-0</td>\n",
              "      <td>bet365</td>\n",
              "      <td>2019-04-19 14:00:00</td>\n",
              "      <td>Чемпионшип</td>\n",
              "      <td>Мидлсбро</td>\n",
              "      <td>Сток Сити</td>\n",
              "      <td>Middlesbrough</td>\n",
              "      <td>Stoke City</td>\n",
              "      <td>Championship</td>\n",
              "    </tr>\n",
              "    <tr>\n",
              "      <th>1</th>\n",
              "      <td>Wolves prefer to attack with pace on the count...</td>\n",
              "      <td>7.5</td>\n",
              "      <td>0-0</td>\n",
              "      <td>bet365</td>\n",
              "      <td>2019-04-20 14:00:00</td>\n",
              "      <td>Премьер-лига</td>\n",
              "      <td>Вулверхэмптон</td>\n",
              "      <td>Брайтон</td>\n",
              "      <td>Wolverhampton</td>\n",
              "      <td>Brighton</td>\n",
              "      <td>Premier League</td>\n",
              "    </tr>\n",
              "  </tbody>\n",
              "</table>\n",
              "</div>"
            ],
            "text/plain": [
              "                                          result.tsv  ... league_name_in_english\n",
              "0  Middlesbrough have woken to good times in thei...  ...           Championship\n",
              "1  Wolves prefer to attack with pace on the count...  ...         Premier League\n",
              "\n",
              "[2 rows x 11 columns]"
            ]
          },
          "metadata": {
            "tags": []
          },
          "execution_count": 35
        }
      ]
    },
    {
      "cell_type": "markdown",
      "metadata": {
        "id": "2pqDeRccK9Rr",
        "colab_type": "text"
      },
      "source": [
        "\n",
        "**Home page link with football clubs by country**\n"
      ]
    },
    {
      "cell_type": "code",
      "metadata": {
        "id": "AHBTnDICLEaj",
        "colab_type": "code",
        "colab": {}
      },
      "source": [
        "r = urllib.request.urlopen('https://en.wikipedia.org/wiki/Category:Association_football_clubs_by_country')"
      ],
      "execution_count": 0,
      "outputs": []
    },
    {
      "cell_type": "code",
      "metadata": {
        "id": "6fLnT1Z-LSEl",
        "colab_type": "code",
        "colab": {}
      },
      "source": [
        "result = r.read()"
      ],
      "execution_count": 0,
      "outputs": []
    },
    {
      "cell_type": "code",
      "metadata": {
        "id": "0IQKN083LVXD",
        "colab_type": "code",
        "colab": {}
      },
      "source": [
        "content = result.decode('utf-8')"
      ],
      "execution_count": 0,
      "outputs": []
    },
    {
      "cell_type": "code",
      "metadata": {
        "id": "44FJA79xLY7X",
        "colab_type": "code",
        "colab": {}
      },
      "source": [
        "soup = BeautifulSoup(content, 'lxml') "
      ],
      "execution_count": 0,
      "outputs": []
    },
    {
      "cell_type": "code",
      "metadata": {
        "id": "bhYNZawpLdc2",
        "colab_type": "code",
        "colab": {}
      },
      "source": [
        "links = []"
      ],
      "execution_count": 0,
      "outputs": []
    },
    {
      "cell_type": "markdown",
      "metadata": {
        "id": "9e0HPzEmLpFA",
        "colab_type": "text"
      },
      "source": [
        "\n",
        "We parse it and get links to individual countries.\n"
      ]
    },
    {
      "cell_type": "code",
      "metadata": {
        "id": "Fkg9IuGDLtBz",
        "colab_type": "code",
        "colab": {}
      },
      "source": [
        "for div in soup.find_all('div', attrs={'class':'CategoryTreeItem'}):\n",
        "    link = div.find('a').get('href')\n",
        "    links.append(link)\n"
      ],
      "execution_count": 0,
      "outputs": []
    },
    {
      "cell_type": "code",
      "metadata": {
        "id": "-6gpf5KsLxqf",
        "colab_type": "code",
        "outputId": "ed9e6a8a-5ef3-4b9b-d82b-077553a91bfd",
        "colab": {
          "base_uri": "https://localhost:8080/",
          "height": 34
        }
      },
      "source": [
        "len(links)"
      ],
      "execution_count": 42,
      "outputs": [
        {
          "output_type": "execute_result",
          "data": {
            "text/plain": [
              "200"
            ]
          },
          "metadata": {
            "tags": []
          },
          "execution_count": 42
        }
      ]
    },
    {
      "cell_type": "markdown",
      "metadata": {
        "id": "ZgBeMUuuL9qg",
        "colab_type": "text"
      },
      "source": [
        "**Per country**\n"
      ]
    },
    {
      "cell_type": "code",
      "metadata": {
        "id": "z17bdCCxMXrh",
        "colab_type": "code",
        "outputId": "0645f5f8-ccc0-4da4-ae8f-92686e92b9bb",
        "colab": {
          "base_uri": "https://localhost:8080/",
          "height": 34
        }
      },
      "source": [
        "teams_dict = {}\n",
        "empty_team_lists = [] #list for country teams with a different page structure\n",
        "empty_team_lists_links = []\n",
        "\n",
        "for link in tqdm(links):\n",
        "    page = urllib.request.urlopen('https://en.wikipedia.org/' + link) #follow every link\n",
        "    result = page.read()\n",
        "    content = result.decode('utf-8')\n",
        "    soup = BeautifulSoup(content, 'lxml')\n",
        "    for h1 in soup.find_all('h1', attrs={'class':'firstHeading'}): #find the right item in html\n",
        "        name = h1.get_text() #we take the name, e.g.: Football Clubs of England\n",
        "        if name.startswith('Category:'):\n",
        "            norm_name = name.replace('Category:', '')\n",
        "            \n",
        "    teams_list = []  \n",
        "    for div in soup.find_all('div', attrs={'class':'mw-category-group'}): #we find all the teams in this country\n",
        "        team_links = div.find_all('a')\n",
        "        for team_link in team_links:\n",
        "            team = team_link.get('title')\n",
        "            #print(team)\n",
        "            if team.startswith('Category:FC'):\n",
        "                norm_team = team.replace('Category:FC', '')\n",
        "                norm_team = re.sub(r'[«»]','', norm_team)\n",
        "                norm_team = norm_team.strip(' ')\n",
        "                norm_team = re.sub(r'\\(football club.+\\)','', norm_team)\n",
        "                norm_team = re.sub(r'\\(football club\\)','', norm_team)\n",
        "                norm_team = re.sub(r'\\(sports community\\)','', norm_team)\n",
        "                norm_team = re.sub(r'\\(women football club\\)','', norm_team)\n",
        "                norm_team = re.sub(r'\\(women football club.+\\)','', norm_team)\n",
        "                norm_team = norm_team.strip(' ')\n",
        "                #norm_team = norm_team.strip(punctuation)\n",
        "            \n",
        "            elif team.startswith('Category:') or team.startswith('List'):\n",
        "                    continue\n",
        "                \n",
        "            elif team.endswith('(football club)'):\n",
        "                norm_team = team.replace('(football club)', '')\n",
        "                norm_team = re.sub(r'[«»]','', norm_team)\n",
        "                norm_team = norm_team.strip(' ')\n",
        "                norm_team = re.sub(r'\\(football club.+\\)','', norm_team)\n",
        "                norm_team = re.sub(r'\\(football club\\)','', norm_team)\n",
        "                norm_team = re.sub(r'\\(sports community\\)','', norm_team)\n",
        "                norm_team = re.sub(r'\\(women football club\\)','', norm_team)\n",
        "                norm_team = re.sub(r'\\(women football club.+\\)','', norm_team)\n",
        "                norm_team = norm_team.strip(' ')\n",
        "                #norm_team = norm_team.strip(punctuation)\n",
        "            else:\n",
        "                norm_team = team\n",
        "                norm_team = re.sub(r'[«»]','', norm_team)\n",
        "                norm_team = norm_team.strip(' ')\n",
        "                norm_team = re.sub(r'\\(football club.+\\)','', norm_team)\n",
        "                norm_team = re.sub(r'\\(football club\\)','', norm_team)\n",
        "                norm_team = re.sub(r'\\(sports community\\)','', norm_team)\n",
        "                norm_team = re.sub(r'\\(women football club\\)','', norm_team)\n",
        "                norm_team = re.sub(r'\\(women football club.+\\)','', norm_team)\n",
        "                norm_team = norm_team.strip(' ')\n",
        "                #norm_team = norm_team.strip(punctuation)\n",
        "            \n",
        "            teams_list.append(norm_team)\n",
        "    teams_list1 = teams_list\n",
        "    \n",
        "    teams_list2 = []\n",
        "    second_page_div = soup.find('div', attrs={'id':'mw-pages'})\n",
        "    if second_page_div:\n",
        "        a = second_page_div.find('a')\n",
        "        if a.get_text() == 'Next page':\n",
        "            second_page = a.get('href')\n",
        "            link = 'https://en.wikipedia.org'+second_page\n",
        "            page2 = urllib.request.urlopen(link)\n",
        "            result2 = page2.read()\n",
        "            content2 = result2.decode('utf-8')\n",
        "            soup2 = BeautifulSoup(content2, 'lxml')\n",
        "            h2 = soup2.find('div', attrs={'id':'mw-pages'})\n",
        "            for a in h2.find_all('a'):\n",
        "                team2 = a.get('title')\n",
        "                #print(team2)\n",
        "                if team2.startswith('Category:FC'):\n",
        "                    norm_team2 = team2.replace('Category:FC', '')\n",
        "                    norm_team2 = re.sub(r'[«»]','', norm_team2)\n",
        "                    norm_team2 = norm_team2.strip(' ')\n",
        "                    norm_team2 = re.sub(r'\\(football club.+\\)','', norm_team2)\n",
        "                    norm_team2 = re.sub(r'\\(football club\\)','', norm_team2)\n",
        "                    norm_team2 = re.sub(r'\\(sports community\\)','', norm_team2)\n",
        "                    norm_team2 = re.sub(r'\\(women football club\\)','', norm_team2)\n",
        "                    norm_team2 = re.sub(r'\\(women football club.+\\)','', norm_team2)\n",
        "                    norm_team2 = norm_team2.strip(' ')\n",
        "                    #norm_team2 = norm_team2.strip(punctuation)\n",
        "                elif team2.startswith('Category:') or team2.startswith('Список'):\n",
        "                    continue    \n",
        "                elif team.endswith('(football club)'):\n",
        "                    norm_team2 = team2.replace('(football club)', '')\n",
        "                    norm_team2 = re.sub(r'[«»]','', norm_team2)\n",
        "                    norm_team2 = norm_team2.strip(' ')\n",
        "                    norm_team2 = re.sub(r'\\(football club.+\\)','', norm_team2)\n",
        "                    norm_team2 = re.sub(r'\\(football club\\)','', norm_team2)\n",
        "                    norm_team2 = re.sub(r'\\(sports community\\)','', norm_team2)\n",
        "                    norm_team2 = re.sub(r'\\(women football club\\)','', norm_team2)\n",
        "                    norm_team2 = re.sub(r'\\(women football club.+\\)','', norm_team2)\n",
        "                    norm_team2 = norm_team2.strip(' ')\n",
        "                    #norm_team2 = norm_team2.strip(punctuation)\n",
        "                else:\n",
        "                    norm_team2 = team2\n",
        "                    norm_team2 = re.sub(r'[«»]','', norm_team2)\n",
        "                    norm_team2 = norm_team2.strip(' ')\n",
        "                    norm_team2 = re.sub(r'\\(football club.+\\)','', norm_team2)\n",
        "                    norm_team2 = re.sub(r'\\(football club\\)','', norm_team2)\n",
        "                    norm_team2 = re.sub(r'\\(sports community\\)','', norm_team2)\n",
        "                    norm_team2 = re.sub(r'\\(women football club\\)','', norm_team2)\n",
        "                    norm_team2 = re.sub(r'\\(women football club.+\\)','', norm_team2)\n",
        "                    norm_team2 = norm_team2.strip(' ')\n",
        "                    #norm_team2 = norm_team2.strip(punctuation)\n",
        "                #print(norm_team2)\n",
        "                \n",
        "                teams_list2.append(norm_team2)\n",
        "            #print(teams_list2)\n",
        "    \n",
        "    if teams_list2:\n",
        "        full_teams_list = set(teams_list1 + teams_list2)\n",
        "    else:\n",
        "        full_teams_list = set(teams_list1)\n",
        "                \n",
        "\n",
        "    if full_teams_list: #if the command list is not empty, we add it to the dictionary.\n",
        "        teams_dict[norm_name] = full_teams_list\n",
        "    else:\n",
        "        empty_team_lists.append(norm_name) #If the command list is empty, we add it to the list with the same countries.\n",
        "        empty_team_lists_links.append(link)\n",
        "    "
      ],
      "execution_count": 43,
      "outputs": [
        {
          "output_type": "stream",
          "text": [
            "100%|██████████| 200/200 [01:00<00:00,  3.30it/s]\n"
          ],
          "name": "stderr"
        }
      ]
    },
    {
      "cell_type": "markdown",
      "metadata": {
        "id": "ywECQ6IEerOw",
        "colab_type": "text"
      },
      "source": [
        "**Adding remaining clubs to the dictionary**"
      ]
    },
    {
      "cell_type": "code",
      "metadata": {
        "id": "THBuYBFkhSrI",
        "colab_type": "code",
        "outputId": "cb49b888-a8e0-4093-883a-8fc7dcaea623",
        "colab": {
          "base_uri": "https://localhost:8080/",
          "height": 34
        }
      },
      "source": [
        "bad_links = []\n",
        "\n",
        "for link in tqdm(empty_team_lists_links):\n",
        "    #print('https://en.wikipedia.org' + link)\n",
        "    page = urllib.request.urlopen('https://en.wikipedia.org' + link) \n",
        "    result = page.read()\n",
        "    content = result.decode('utf-8')\n",
        "    soup = BeautifulSoup(content, 'lxml')\n",
        "    for h1 in soup.find_all('h1', attrs={'class':'firstHeading'}): #find the right item in html \n",
        "        name = h1.get_text() #we take the name, e.g.: Football Clubs of England.\n",
        "        if name.startswith('Category:'):\n",
        "            norm_name = name.replace('Category:', '')\n",
        "    \n",
        "    teams_list = []    \n",
        "    for div in soup.find_all('div', attrs={'class':'mw-category-generated'}): #we find all the teams in this country\n",
        "        #print(div)\n",
        "        team_links = div.find_all('a')\n",
        "        #print(team_links)\n",
        "        for team_link in team_links:\n",
        "            team = team_link.get('title')\n",
        "            if team.startswith('Category:FC'):\n",
        "                norm_team = team.replace('Category:FC', '') \n",
        "                norm_team = re.sub(r'[«»]','', norm_team)\n",
        "                norm_team = norm_team.strip(' ')\n",
        "                norm_team = re.sub(r'\\(football club.+\\)','', norm_team)\n",
        "                norm_team = re.sub(r'\\(football club\\)','', norm_team)\n",
        "                norm_team = re.sub(r'\\(sports community\\)','', norm_team)\n",
        "                norm_team = re.sub(r'\\(women football club\\)','', norm_team)\n",
        "                norm_team = re.sub(r'\\(women football club.+\\)','', norm_team)\n",
        "                norm_team = norm_team.strip(' ')\n",
        "                \n",
        "            elif team.endswith('(football club)'):\n",
        "                norm_team = team.replace('(football club)', '')\n",
        "                norm_team = re.sub(r'[«»]','', norm_team)\n",
        "                norm_team = norm_team.strip(' ')\n",
        "                norm_team = re.sub(r'\\(football club.+\\)','', norm_team)\n",
        "                norm_team = re.sub(r'\\(football club\\)','', norm_team)\n",
        "                norm_team = re.sub(r'\\(sports community\\)','', norm_team)\n",
        "                norm_team = re.sub(r'\\(women football club\\)','', norm_team)\n",
        "                norm_team = re.sub(r'\\(women football club.+\\)','', norm_team)\n",
        "                norm_team = norm_team.strip(' ')\n",
        "                \n",
        "            elif team.startswith('Category:'):\n",
        "                bad_links.append(team_link.get('href'))\n",
        "                #norm_team = norm_team.strip(' ')\n",
        "                \n",
        "            else:\n",
        "                norm_team = team\n",
        "                norm_team = re.sub(r'[«»]','', norm_team)\n",
        "                norm_team = norm_team.strip(' ')\n",
        "                norm_team = re.sub(r'\\(football club.+\\)','', norm_team)\n",
        "                norm_team = re.sub(r'\\(football club\\)','', norm_team)\n",
        "                norm_team = re.sub(r'\\(sports community\\)','', norm_team)\n",
        "                norm_team = re.sub(r'\\(women football club\\)','', norm_team)\n",
        "                norm_team = re.sub(r'\\(women football club.+\\)','', norm_team)\n",
        "                norm_team = norm_team.strip(' ')\n",
        "                    \n",
        "            teams_list.append(norm_team)\n",
        "    teams_list = set(teams_list)\n",
        "    teams_dict[norm_name] = teams_list"
      ],
      "execution_count": 44,
      "outputs": [
        {
          "output_type": "stream",
          "text": [
            "100%|██████████| 18/18 [00:02<00:00,  6.04it/s]\n"
          ],
          "name": "stderr"
        }
      ]
    },
    {
      "cell_type": "markdown",
      "metadata": {
        "id": "yBVqkQG5hiD9",
        "colab_type": "text"
      },
      "source": [
        "\n",
        "**Remaining bad references**"
      ]
    },
    {
      "cell_type": "code",
      "metadata": {
        "id": "7BiBkd9lhpC8",
        "colab_type": "code",
        "outputId": "89d5df7a-41f4-48bb-eec2-ffbda58f3201",
        "colab": {
          "base_uri": "https://localhost:8080/",
          "height": 69
        }
      },
      "source": [
        "for link in bad_links[:3]:\n",
        "    print('https://en.wikipedia.org' + link)"
      ],
      "execution_count": 45,
      "outputs": [
        {
          "output_type": "stream",
          "text": [
            "https://en.wikipedia.org/wiki/Category:Lists_of_football_clubs_in_China\n",
            "https://en.wikipedia.org/wiki/Category:Lists_of_football_clubs_in_Finland\n",
            "https://en.wikipedia.org/wiki/Category:Lists_of_football_clubs_in_Germany\n"
          ],
          "name": "stdout"
        }
      ]
    },
    {
      "cell_type": "markdown",
      "metadata": {
        "id": "rntocYxJh1gI",
        "colab_type": "text"
      },
      "source": [
        "\n",
        "**Parsing clubs of a particular country/city by link**\n"
      ]
    },
    {
      "cell_type": "code",
      "metadata": {
        "id": "BTGuA0LUiGPB",
        "colab_type": "code",
        "colab": {}
      },
      "source": [
        "link = 'https://en.wikipedia.org/wiki/Category:Football_clubs_in_Kiev'\n",
        "page = urllib.request.urlopen(link) \n",
        "result = page.read()\n",
        "content = result.decode('utf-8')\n",
        "soup = BeautifulSoup(content, 'lxml')\n",
        "for h1 in soup.find_all('h1', attrs={'class':'firstHeading'}): #find the right item in html \n",
        "        name = h1.get_text() #we take the name, e.g.: Football Clubs of England.\n",
        "        if name.startswith('Category:'):\n",
        "            norm_name = name.replace('Category:', '')\n",
        "            \n",
        "teams_list = []    \n",
        "for div in soup.find_all('div', attrs={'class':'mw-category-generated'}): #we find all the teams in this country\n",
        "    #print(div)\n",
        "    team_links = div.find_all('a')\n",
        "    #print(team_links)\n",
        "    for team_link in team_links:\n",
        "        team = team_link.get('title')\n",
        "        if team.startswith('Category:FC'):\n",
        "            norm_team = team.replace('Category:FC', '') \n",
        "            norm_team = re.sub(r'[«»]','', norm_team)\n",
        "            norm_team = norm_team.strip(' ')\n",
        "            norm_team = re.sub(r'\\(football club.+\\)','', norm_team)\n",
        "            norm_team = re.sub(r'\\(football club\\)','', norm_team)\n",
        "            norm_team = re.sub(r'\\(sports community\\)','', norm_team)\n",
        "            norm_team = re.sub(r'\\(women football club\\)','', norm_team)\n",
        "            norm_team = re.sub(r'\\(women football club.+\\)','', norm_team)\n",
        "            norm_team = norm_team.strip(' ')\n",
        "                \n",
        "        elif team.endswith('(football club)'):\n",
        "            norm_team = team.replace('(football club)', '')\n",
        "            norm_team = re.sub(r'[«»]','', norm_team)\n",
        "            norm_team = norm_team.strip(' ')\n",
        "            norm_team = re.sub(r'\\(football club.+\\)','', norm_team)\n",
        "            norm_team = re.sub(r'\\(football club\\)','', norm_team)\n",
        "            norm_team = re.sub(r'\\(sports community\\)','', norm_team)\n",
        "            norm_team = re.sub(r'\\(women football club\\)','', norm_team)\n",
        "            norm_team = re.sub(r'\\(women football club.+\\)','', norm_team)\n",
        "            norm_team = norm_team.strip(' ')\n",
        "                \n",
        "        elif team.startswith('Category:'):\n",
        "            bad_links.append(team_link.get('href'))\n",
        "            #norm_team = norm_team.strip(' ')\n",
        "                \n",
        "        else:\n",
        "            norm_team = team\n",
        "            norm_team = re.sub(r'[«»]','', norm_team)\n",
        "            norm_team = norm_team.strip(' ')\n",
        "            norm_team = re.sub(r'\\(football club.+\\)','', norm_team)\n",
        "            norm_team = re.sub(r'\\(football club\\)','', norm_team)\n",
        "            norm_team = re.sub(r'\\(sports community\\)','', norm_team)\n",
        "            norm_team = re.sub(r'\\(женский футбольный клуб\\)','', norm_team)\n",
        "            norm_team = re.sub(r'\\(женский футбольный клуб.+\\)','', norm_team)\n",
        "            norm_team = norm_team.strip(' ')\n",
        "                    \n",
        "        teams_list.append(norm_team)\n",
        "teams_list = set(teams_list)\n",
        "teams_dict[norm_name] = teams_list"
      ],
      "execution_count": 0,
      "outputs": []
    },
    {
      "cell_type": "code",
      "metadata": {
        "id": "pQFPex6Bco_Y",
        "colab_type": "code",
        "colab": {}
      },
      "source": [
        "list_teams = [*teams_dict.values()]"
      ],
      "execution_count": 0,
      "outputs": []
    },
    {
      "cell_type": "code",
      "metadata": {
        "id": "KnE9r0AScr1-",
        "colab_type": "code",
        "colab": {}
      },
      "source": [
        "count_teams = []\n",
        "for team_set in list_teams:\n",
        "    for team in team_set:\n",
        "        count_teams.append(team)"
      ],
      "execution_count": 0,
      "outputs": []
    },
    {
      "cell_type": "code",
      "metadata": {
        "id": "v9kHG0t-cvpv",
        "colab_type": "code",
        "colab": {}
      },
      "source": [
        "uniq_teams = set(count_teams)"
      ],
      "execution_count": 0,
      "outputs": []
    },
    {
      "cell_type": "markdown",
      "metadata": {
        "id": "5SDJSX6ic67y",
        "colab_type": "text"
      },
      "source": [
        "\n",
        "Match on the list of teams"
      ]
    },
    {
      "cell_type": "code",
      "metadata": {
        "id": "XoWspcEJeHh-",
        "colab_type": "code",
        "colab": {}
      },
      "source": [
        "teams1_match = np.zeros(english.shape[0])\n",
        "teams2_match = np.zeros(english.shape[0])"
      ],
      "execution_count": 0,
      "outputs": []
    },
    {
      "cell_type": "code",
      "metadata": {
        "id": "-pSo2MTReWPD",
        "colab_type": "code",
        "colab": {}
      },
      "source": [
        "for i, text in enumerate(english['result.tsv'].values):\n",
        "    txt_tokens = []\n",
        "    txt_tokens.append(word_tokenize(text))\n",
        "    for txt in txt_tokens:\n",
        "        count_tokens = []\n",
        "        for token in txt:\n",
        "            token = token.strip(punct)\n",
        "            if token in uniq_teams:\n",
        "                count_tokens.append(token)\n",
        "        c = Counter(count_tokens)\n",
        "        \n",
        "        try: \n",
        "            max_w1 = sorted(c, key=c.get)[-1]\n",
        "        except:\n",
        "            continue\n",
        "        \n",
        "        try:\n",
        "            max_w2 = sorted(c, key=c.get)[-2]\n",
        "\n",
        "        except:\n",
        "            continue\n",
        "        \n",
        "        if english['team_of_season_1_name_in_english'][i] == max_w1 or english['team_of_season_1_name_in_english'][i] == max_w2:\n",
        "            teams1_match[i] = 1\n",
        "\n",
        "        \n",
        "        if english['team_of_season_2_name_in_english'][i] == max_w1 or english['team_of_season_2_name_in_english'][i] == max_w2:\n",
        "            teams2_match[i] = 1\n"
      ],
      "execution_count": 0,
      "outputs": []
    },
    {
      "cell_type": "code",
      "metadata": {
        "id": "jv2OhXOqedWe",
        "colab_type": "code",
        "colab": {}
      },
      "source": [
        "english['list_direct_match_for_teams1'] = teams1_match\n",
        "english['list_direct_match_for_teams2'] = teams2_match"
      ],
      "execution_count": 0,
      "outputs": []
    },
    {
      "cell_type": "code",
      "metadata": {
        "id": "IXMKI3oAehZ1",
        "colab_type": "code",
        "outputId": "8599bc71-6778-4ad1-f483-124127fd0cdd",
        "colab": {
          "base_uri": "https://localhost:8080/",
          "height": 52
        }
      },
      "source": [
        "success1 = english[english['list_direct_match_for_teams1'] == 1].shape[0]\n",
        "success2 = english[english['list_direct_match_for_teams2'] == 1].shape[0]\n",
        "\n",
        "all_vals = english['list_direct_match_for_teams1'].shape[0]\n",
        "\n",
        "result_team1 = success1 / all_vals\n",
        "print(result_team1)\n",
        "\n",
        "result_team2 = success2 / all_vals\n",
        "print(result_team2)"
      ],
      "execution_count": 53,
      "outputs": [
        {
          "output_type": "stream",
          "text": [
            "0.0015235534644037416\n",
            "0.0009522209152523386\n"
          ],
          "name": "stdout"
        }
      ]
    },
    {
      "cell_type": "code",
      "metadata": {
        "id": "XC2_YDL1ekmU",
        "colab_type": "code",
        "colab": {}
      },
      "source": [
        "english.to_csv('english_custom_lists_and_directmatch.csv', index = False)"
      ],
      "execution_count": 0,
      "outputs": []
    }
  ]
}